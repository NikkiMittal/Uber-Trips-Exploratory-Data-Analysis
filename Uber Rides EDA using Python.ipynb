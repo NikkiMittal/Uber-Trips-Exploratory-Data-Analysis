{
 "cells": [
  {
   "cell_type": "markdown",
   "id": "41a015ac",
   "metadata": {},
   "source": [
    "# Uber Rides Exploratory Data Analysis "
   ]
  },
  {
   "cell_type": "code",
   "execution_count": 135,
   "id": "228f0572",
   "metadata": {},
   "outputs": [],
   "source": [
    "#Importing required libraries:\n",
    "\n",
    "import pandas as pd               #for analyzing data             \n",
    "import seaborn as sns             #for visualizing data          \n",
    "import matplotlib.pyplot as plt   #for visualizing data \n",
    "%matplotlib inline  \n",
    "\n",
    "import warnings \n",
    "warnings.filterwarnings(action= 'ignore')"
   ]
  },
  {
   "cell_type": "code",
   "execution_count": 136,
   "id": "4850c640",
   "metadata": {},
   "outputs": [
    {
     "name": "stdout",
     "output_type": "stream",
     "text": [
      "(1155, 7)\n"
     ]
    },
    {
     "data": {
      "text/html": [
       "<div>\n",
       "<style scoped>\n",
       "    .dataframe tbody tr th:only-of-type {\n",
       "        vertical-align: middle;\n",
       "    }\n",
       "\n",
       "    .dataframe tbody tr th {\n",
       "        vertical-align: top;\n",
       "    }\n",
       "\n",
       "    .dataframe thead th {\n",
       "        text-align: right;\n",
       "    }\n",
       "</style>\n",
       "<table border=\"1\" class=\"dataframe\">\n",
       "  <thead>\n",
       "    <tr style=\"text-align: right;\">\n",
       "      <th></th>\n",
       "      <th>START_DATE*</th>\n",
       "      <th>END_DATE*</th>\n",
       "      <th>CATEGORY*</th>\n",
       "      <th>START*</th>\n",
       "      <th>STOP*</th>\n",
       "      <th>MILES*</th>\n",
       "      <th>PURPOSE*</th>\n",
       "    </tr>\n",
       "  </thead>\n",
       "  <tbody>\n",
       "    <tr>\n",
       "      <th>0</th>\n",
       "      <td>01-01-2016 21:11</td>\n",
       "      <td>01-01-2016 21:17</td>\n",
       "      <td>Business</td>\n",
       "      <td>Fort Pierce</td>\n",
       "      <td>Fort Pierce</td>\n",
       "      <td>5.1</td>\n",
       "      <td>Meal/Entertain</td>\n",
       "    </tr>\n",
       "    <tr>\n",
       "      <th>1</th>\n",
       "      <td>01-02-2016 01:25</td>\n",
       "      <td>01-02-2016 01:37</td>\n",
       "      <td>Business</td>\n",
       "      <td>Fort Pierce</td>\n",
       "      <td>Fort Pierce</td>\n",
       "      <td>5.0</td>\n",
       "      <td>NaN</td>\n",
       "    </tr>\n",
       "    <tr>\n",
       "      <th>2</th>\n",
       "      <td>01-02-2016 20:25</td>\n",
       "      <td>01-02-2016 20:38</td>\n",
       "      <td>Business</td>\n",
       "      <td>Fort Pierce</td>\n",
       "      <td>Fort Pierce</td>\n",
       "      <td>4.8</td>\n",
       "      <td>Errand/Supplies</td>\n",
       "    </tr>\n",
       "    <tr>\n",
       "      <th>3</th>\n",
       "      <td>01-05-2016 17:31</td>\n",
       "      <td>01-05-2016 17:45</td>\n",
       "      <td>Business</td>\n",
       "      <td>Fort Pierce</td>\n",
       "      <td>Fort Pierce</td>\n",
       "      <td>4.7</td>\n",
       "      <td>Meeting</td>\n",
       "    </tr>\n",
       "    <tr>\n",
       "      <th>4</th>\n",
       "      <td>01-06-2016 14:42</td>\n",
       "      <td>01-06-2016 15:49</td>\n",
       "      <td>Business</td>\n",
       "      <td>Fort Pierce</td>\n",
       "      <td>West Palm Beach</td>\n",
       "      <td>63.7</td>\n",
       "      <td>Customer Visit</td>\n",
       "    </tr>\n",
       "  </tbody>\n",
       "</table>\n",
       "</div>"
      ],
      "text/plain": [
       "        START_DATE*         END_DATE* CATEGORY*       START*            STOP*  \\\n",
       "0  01-01-2016 21:11  01-01-2016 21:17  Business  Fort Pierce      Fort Pierce   \n",
       "1  01-02-2016 01:25  01-02-2016 01:37  Business  Fort Pierce      Fort Pierce   \n",
       "2  01-02-2016 20:25  01-02-2016 20:38  Business  Fort Pierce      Fort Pierce   \n",
       "3  01-05-2016 17:31  01-05-2016 17:45  Business  Fort Pierce      Fort Pierce   \n",
       "4  01-06-2016 14:42  01-06-2016 15:49  Business  Fort Pierce  West Palm Beach   \n",
       "\n",
       "   MILES*         PURPOSE*  \n",
       "0     5.1   Meal/Entertain  \n",
       "1     5.0              NaN  \n",
       "2     4.8  Errand/Supplies  \n",
       "3     4.7          Meeting  \n",
       "4    63.7   Customer Visit  "
      ]
     },
     "execution_count": 136,
     "metadata": {},
     "output_type": "execute_result"
    }
   ],
   "source": [
    "#Reading data:\n",
    "\n",
    "data = pd.read_csv('Uber_drives_data.csv')\n",
    "print(data.shape)                  #printing the number of rows and columns respectively\n",
    "data.head(5)                       #printing the top 5 rows"
   ]
  },
  {
   "cell_type": "markdown",
   "id": "89ec001a",
   "metadata": {},
   "source": [
    "The dataset has 1155 rows and 7 columns."
   ]
  },
  {
   "cell_type": "code",
   "execution_count": 137,
   "id": "8ba736b9",
   "metadata": {},
   "outputs": [
    {
     "data": {
      "text/html": [
       "<div>\n",
       "<style scoped>\n",
       "    .dataframe tbody tr th:only-of-type {\n",
       "        vertical-align: middle;\n",
       "    }\n",
       "\n",
       "    .dataframe tbody tr th {\n",
       "        vertical-align: top;\n",
       "    }\n",
       "\n",
       "    .dataframe thead th {\n",
       "        text-align: right;\n",
       "    }\n",
       "</style>\n",
       "<table border=\"1\" class=\"dataframe\">\n",
       "  <thead>\n",
       "    <tr style=\"text-align: right;\">\n",
       "      <th></th>\n",
       "      <th>Start_Date</th>\n",
       "      <th>End_Date</th>\n",
       "      <th>Category</th>\n",
       "      <th>Start_Point</th>\n",
       "      <th>Stop_Point</th>\n",
       "      <th>Miles</th>\n",
       "      <th>Purpose</th>\n",
       "    </tr>\n",
       "  </thead>\n",
       "  <tbody>\n",
       "    <tr>\n",
       "      <th>0</th>\n",
       "      <td>01-01-2016 21:11</td>\n",
       "      <td>01-01-2016 21:17</td>\n",
       "      <td>Business</td>\n",
       "      <td>Fort Pierce</td>\n",
       "      <td>Fort Pierce</td>\n",
       "      <td>5.1</td>\n",
       "      <td>Meal/Entertain</td>\n",
       "    </tr>\n",
       "    <tr>\n",
       "      <th>1</th>\n",
       "      <td>01-02-2016 01:25</td>\n",
       "      <td>01-02-2016 01:37</td>\n",
       "      <td>Business</td>\n",
       "      <td>Fort Pierce</td>\n",
       "      <td>Fort Pierce</td>\n",
       "      <td>5.0</td>\n",
       "      <td>NaN</td>\n",
       "    </tr>\n",
       "    <tr>\n",
       "      <th>2</th>\n",
       "      <td>01-02-2016 20:25</td>\n",
       "      <td>01-02-2016 20:38</td>\n",
       "      <td>Business</td>\n",
       "      <td>Fort Pierce</td>\n",
       "      <td>Fort Pierce</td>\n",
       "      <td>4.8</td>\n",
       "      <td>Errand/Supplies</td>\n",
       "    </tr>\n",
       "    <tr>\n",
       "      <th>3</th>\n",
       "      <td>01-05-2016 17:31</td>\n",
       "      <td>01-05-2016 17:45</td>\n",
       "      <td>Business</td>\n",
       "      <td>Fort Pierce</td>\n",
       "      <td>Fort Pierce</td>\n",
       "      <td>4.7</td>\n",
       "      <td>Meeting</td>\n",
       "    </tr>\n",
       "    <tr>\n",
       "      <th>4</th>\n",
       "      <td>01-06-2016 14:42</td>\n",
       "      <td>01-06-2016 15:49</td>\n",
       "      <td>Business</td>\n",
       "      <td>Fort Pierce</td>\n",
       "      <td>West Palm Beach</td>\n",
       "      <td>63.7</td>\n",
       "      <td>Customer Visit</td>\n",
       "    </tr>\n",
       "  </tbody>\n",
       "</table>\n",
       "</div>"
      ],
      "text/plain": [
       "         Start_Date          End_Date  Category  Start_Point       Stop_Point  \\\n",
       "0  01-01-2016 21:11  01-01-2016 21:17  Business  Fort Pierce      Fort Pierce   \n",
       "1  01-02-2016 01:25  01-02-2016 01:37  Business  Fort Pierce      Fort Pierce   \n",
       "2  01-02-2016 20:25  01-02-2016 20:38  Business  Fort Pierce      Fort Pierce   \n",
       "3  01-05-2016 17:31  01-05-2016 17:45  Business  Fort Pierce      Fort Pierce   \n",
       "4  01-06-2016 14:42  01-06-2016 15:49  Business  Fort Pierce  West Palm Beach   \n",
       "\n",
       "   Miles          Purpose  \n",
       "0    5.1   Meal/Entertain  \n",
       "1    5.0              NaN  \n",
       "2    4.8  Errand/Supplies  \n",
       "3    4.7          Meeting  \n",
       "4   63.7   Customer Visit  "
      ]
     },
     "execution_count": 137,
     "metadata": {},
     "output_type": "execute_result"
    }
   ],
   "source": [
    "#Renaming column names for clarity:\n",
    "\n",
    "data.columns = ['Start_Date','End_Date','Category','Start_Point','Stop_Point','Miles','Purpose']\n",
    "data.head(5)    #printing top 5 rows"
   ]
  },
  {
   "cell_type": "markdown",
   "id": "14841c11",
   "metadata": {},
   "source": [
    "The given dataset has 1155 rows and 7 columns, containing all the information about the Uber rides. The user has booked 1155 rides over the year."
   ]
  },
  {
   "cell_type": "code",
   "execution_count": 138,
   "id": "841cbb0c",
   "metadata": {},
   "outputs": [
    {
     "data": {
      "text/html": [
       "<div>\n",
       "<style scoped>\n",
       "    .dataframe tbody tr th:only-of-type {\n",
       "        vertical-align: middle;\n",
       "    }\n",
       "\n",
       "    .dataframe tbody tr th {\n",
       "        vertical-align: top;\n",
       "    }\n",
       "\n",
       "    .dataframe thead th {\n",
       "        text-align: right;\n",
       "    }\n",
       "</style>\n",
       "<table border=\"1\" class=\"dataframe\">\n",
       "  <thead>\n",
       "    <tr style=\"text-align: right;\">\n",
       "      <th></th>\n",
       "      <th>Miles</th>\n",
       "    </tr>\n",
       "  </thead>\n",
       "  <tbody>\n",
       "    <tr>\n",
       "      <th>count</th>\n",
       "      <td>1155.000000</td>\n",
       "    </tr>\n",
       "    <tr>\n",
       "      <th>mean</th>\n",
       "      <td>10.566840</td>\n",
       "    </tr>\n",
       "    <tr>\n",
       "      <th>std</th>\n",
       "      <td>21.579106</td>\n",
       "    </tr>\n",
       "    <tr>\n",
       "      <th>min</th>\n",
       "      <td>0.500000</td>\n",
       "    </tr>\n",
       "    <tr>\n",
       "      <th>25%</th>\n",
       "      <td>2.900000</td>\n",
       "    </tr>\n",
       "    <tr>\n",
       "      <th>50%</th>\n",
       "      <td>6.000000</td>\n",
       "    </tr>\n",
       "    <tr>\n",
       "      <th>75%</th>\n",
       "      <td>10.400000</td>\n",
       "    </tr>\n",
       "    <tr>\n",
       "      <th>max</th>\n",
       "      <td>310.300000</td>\n",
       "    </tr>\n",
       "  </tbody>\n",
       "</table>\n",
       "</div>"
      ],
      "text/plain": [
       "             Miles\n",
       "count  1155.000000\n",
       "mean     10.566840\n",
       "std      21.579106\n",
       "min       0.500000\n",
       "25%       2.900000\n",
       "50%       6.000000\n",
       "75%      10.400000\n",
       "max     310.300000"
      ]
     },
     "execution_count": 138,
     "metadata": {},
     "output_type": "execute_result"
    }
   ],
   "source": [
    "#Understanding the data more:\n",
    "\n",
    "data.describe()    #for statistical description of data"
   ]
  },
  {
   "cell_type": "markdown",
   "id": "f1e88c35",
   "metadata": {},
   "source": [
    "Here, as maximum miles is more than (mean + 3*standard deviation) value, it seems that the dataset has outliers present in it."
   ]
  },
  {
   "cell_type": "code",
   "execution_count": 139,
   "id": "ec77611e",
   "metadata": {},
   "outputs": [
    {
     "name": "stdout",
     "output_type": "stream",
     "text": [
      "<class 'pandas.core.frame.DataFrame'>\n",
      "RangeIndex: 1155 entries, 0 to 1154\n",
      "Data columns (total 7 columns):\n",
      " #   Column       Non-Null Count  Dtype  \n",
      "---  ------       --------------  -----  \n",
      " 0   Start_Date   1155 non-null   object \n",
      " 1   End_Date     1155 non-null   object \n",
      " 2   Category     1155 non-null   object \n",
      " 3   Start_Point  1155 non-null   object \n",
      " 4   Stop_Point   1155 non-null   object \n",
      " 5   Miles        1155 non-null   float64\n",
      " 6   Purpose      653 non-null    object \n",
      "dtypes: float64(1), object(6)\n",
      "memory usage: 63.3+ KB\n"
     ]
    }
   ],
   "source": [
    "#Checking the need for data cleaning:\n",
    "\n",
    "data.info()      #gathering information about the non null count and data type"
   ]
  },
  {
   "cell_type": "markdown",
   "id": "dd54a234",
   "metadata": {},
   "source": [
    "Out of 1155 values in Purpose column, only 653 have some values. Rest have null values."
   ]
  },
  {
   "cell_type": "code",
   "execution_count": 140,
   "id": "d029bcc3",
   "metadata": {},
   "outputs": [
    {
     "data": {
      "text/plain": [
       "0       False\n",
       "1       False\n",
       "2       False\n",
       "3       False\n",
       "4       False\n",
       "        ...  \n",
       "1150    False\n",
       "1151    False\n",
       "1152    False\n",
       "1153    False\n",
       "1154    False\n",
       "Length: 1155, dtype: bool"
      ]
     },
     "execution_count": 140,
     "metadata": {},
     "output_type": "execute_result"
    }
   ],
   "source": [
    "#Checking if there is any duplicate value:\n",
    "\n",
    "data.duplicated()"
   ]
  },
  {
   "cell_type": "markdown",
   "id": "2ef428a5",
   "metadata": {},
   "source": [
    "The dataset does not have any duplicate values."
   ]
  },
  {
   "cell_type": "code",
   "execution_count": 141,
   "id": "ef5a1662",
   "metadata": {},
   "outputs": [
    {
     "data": {
      "text/plain": [
       "Start_Date       0\n",
       "End_Date         0\n",
       "Category         0\n",
       "Start_Point      0\n",
       "Stop_Point       0\n",
       "Miles            0\n",
       "Purpose        502\n",
       "dtype: int64"
      ]
     },
     "execution_count": 141,
     "metadata": {},
     "output_type": "execute_result"
    }
   ],
   "source": [
    "data.isnull().sum()     #Counting number of null values"
   ]
  },
  {
   "cell_type": "markdown",
   "id": "46e266bb",
   "metadata": {},
   "source": [
    "Clearly, the dataset does have null values. The data needs to be cleaned in order to do its analysis and visualization."
   ]
  },
  {
   "cell_type": "code",
   "execution_count": 142,
   "id": "d6985d3c",
   "metadata": {},
   "outputs": [
    {
     "data": {
      "text/plain": [
       "<AxesSubplot:>"
      ]
     },
     "execution_count": 142,
     "metadata": {},
     "output_type": "execute_result"
    },
    {
     "data": {
      "image/png": "[encoded data removed]",
      "text/plain": [
       "<Figure size 432x288 with 2 Axes>"
      ]
     },
     "metadata": {
      "needs_background": "light"
     },
     "output_type": "display_data"
    }
   ],
   "source": [
    "sns.heatmap(data.isnull(), yticklabels = False)   #Visualization of null values"
   ]
  },
  {
   "cell_type": "markdown",
   "id": "f86af4ac",
   "metadata": {},
   "source": [
    "Clearly, the 'Purpose' column contains a lot of null values. The null values in Purpose column can't be dropped as doing this leads to working with approximately half of the data. "
   ]
  },
  {
   "cell_type": "code",
   "execution_count": 143,
   "id": "f582cf71",
   "metadata": {},
   "outputs": [
    {
     "data": {
      "text/html": [
       "<div>\n",
       "<style scoped>\n",
       "    .dataframe tbody tr th:only-of-type {\n",
       "        vertical-align: middle;\n",
       "    }\n",
       "\n",
       "    .dataframe tbody tr th {\n",
       "        vertical-align: top;\n",
       "    }\n",
       "\n",
       "    .dataframe thead th {\n",
       "        text-align: right;\n",
       "    }\n",
       "</style>\n",
       "<table border=\"1\" class=\"dataframe\">\n",
       "  <thead>\n",
       "    <tr style=\"text-align: right;\">\n",
       "      <th></th>\n",
       "      <th>Start_Date</th>\n",
       "      <th>End_Date</th>\n",
       "      <th>Category</th>\n",
       "      <th>Start_Point</th>\n",
       "      <th>Stop_Point</th>\n",
       "      <th>Miles</th>\n",
       "      <th>Purpose</th>\n",
       "    </tr>\n",
       "  </thead>\n",
       "  <tbody>\n",
       "    <tr>\n",
       "      <th>0</th>\n",
       "      <td>01-01-2016 21:11</td>\n",
       "      <td>01-01-2016 21:17</td>\n",
       "      <td>Business</td>\n",
       "      <td>Fort Pierce</td>\n",
       "      <td>Fort Pierce</td>\n",
       "      <td>5.1</td>\n",
       "      <td>Meal/Entertain</td>\n",
       "    </tr>\n",
       "    <tr>\n",
       "      <th>1</th>\n",
       "      <td>01-02-2016 01:25</td>\n",
       "      <td>01-02-2016 01:37</td>\n",
       "      <td>Business</td>\n",
       "      <td>Fort Pierce</td>\n",
       "      <td>Fort Pierce</td>\n",
       "      <td>5.0</td>\n",
       "      <td>Unknown</td>\n",
       "    </tr>\n",
       "    <tr>\n",
       "      <th>2</th>\n",
       "      <td>01-02-2016 20:25</td>\n",
       "      <td>01-02-2016 20:38</td>\n",
       "      <td>Business</td>\n",
       "      <td>Fort Pierce</td>\n",
       "      <td>Fort Pierce</td>\n",
       "      <td>4.8</td>\n",
       "      <td>Errand/Supplies</td>\n",
       "    </tr>\n",
       "    <tr>\n",
       "      <th>3</th>\n",
       "      <td>01-05-2016 17:31</td>\n",
       "      <td>01-05-2016 17:45</td>\n",
       "      <td>Business</td>\n",
       "      <td>Fort Pierce</td>\n",
       "      <td>Fort Pierce</td>\n",
       "      <td>4.7</td>\n",
       "      <td>Meeting</td>\n",
       "    </tr>\n",
       "    <tr>\n",
       "      <th>4</th>\n",
       "      <td>01-06-2016 14:42</td>\n",
       "      <td>01-06-2016 15:49</td>\n",
       "      <td>Business</td>\n",
       "      <td>Fort Pierce</td>\n",
       "      <td>West Palm Beach</td>\n",
       "      <td>63.7</td>\n",
       "      <td>Customer Visit</td>\n",
       "    </tr>\n",
       "  </tbody>\n",
       "</table>\n",
       "</div>"
      ],
      "text/plain": [
       "         Start_Date          End_Date  Category  Start_Point       Stop_Point  \\\n",
       "0  01-01-2016 21:11  01-01-2016 21:17  Business  Fort Pierce      Fort Pierce   \n",
       "1  01-02-2016 01:25  01-02-2016 01:37  Business  Fort Pierce      Fort Pierce   \n",
       "2  01-02-2016 20:25  01-02-2016 20:38  Business  Fort Pierce      Fort Pierce   \n",
       "3  01-05-2016 17:31  01-05-2016 17:45  Business  Fort Pierce      Fort Pierce   \n",
       "4  01-06-2016 14:42  01-06-2016 15:49  Business  Fort Pierce  West Palm Beach   \n",
       "\n",
       "   Miles          Purpose  \n",
       "0    5.1   Meal/Entertain  \n",
       "1    5.0          Unknown  \n",
       "2    4.8  Errand/Supplies  \n",
       "3    4.7          Meeting  \n",
       "4   63.7   Customer Visit  "
      ]
     },
     "execution_count": 143,
     "metadata": {},
     "output_type": "execute_result"
    }
   ],
   "source": [
    "#Setting null values in the Purpose column to 'Unknown' as the purpose is not mentioned for them\n",
    "\n",
    "data['Purpose'] = data['Purpose'].fillna('Unknown')\n",
    "data.head()\n"
   ]
  },
  {
   "cell_type": "code",
   "execution_count": 144,
   "id": "78aac93d",
   "metadata": {},
   "outputs": [
    {
     "data": {
      "text/plain": [
       "Start_Date     0\n",
       "End_Date       0\n",
       "Category       0\n",
       "Start_Point    0\n",
       "Stop_Point     0\n",
       "Miles          0\n",
       "Purpose        0\n",
       "dtype: int64"
      ]
     },
     "execution_count": 144,
     "metadata": {},
     "output_type": "execute_result"
    }
   ],
   "source": [
    "#Checking if data is cleaned or not:\n",
    "\n",
    "data.isnull().sum()"
   ]
  },
  {
   "cell_type": "markdown",
   "id": "47f29f48",
   "metadata": {},
   "source": [
    "Clearly, there are no null values left."
   ]
  },
  {
   "cell_type": "code",
   "execution_count": 145,
   "id": "de387b57",
   "metadata": {},
   "outputs": [
    {
     "data": {
      "text/plain": [
       "<AxesSubplot:>"
      ]
     },
     "execution_count": 145,
     "metadata": {},
     "output_type": "execute_result"
    },
    {
     "data": {
      "image/png": "[encoded data removed]",
      "text/plain": [
       "<Figure size 432x288 with 2 Axes>"
      ]
     },
     "metadata": {
      "needs_background": "light"
     },
     "output_type": "display_data"
    }
   ],
   "source": [
    "sns.heatmap(data.isnull(), yticklabels = False)"
   ]
  },
  {
   "cell_type": "markdown",
   "id": "55c78525",
   "metadata": {},
   "source": [
    "Clearly, there are no null values left."
   ]
  },
  {
   "cell_type": "code",
   "execution_count": 146,
   "id": "0a1f5b3f",
   "metadata": {},
   "outputs": [
    {
     "data": {
      "text/plain": [
       "<AxesSubplot:>"
      ]
     },
     "execution_count": 146,
     "metadata": {},
     "output_type": "execute_result"
    },
    {
     "data": {
      "image/png": "[encoded data removed]",
      "text/plain": [
       "<Figure size 432x288 with 1 Axes>"
      ]
     },
     "metadata": {
      "needs_background": "light"
     },
     "output_type": "display_data"
    }
   ],
   "source": [
    "#Identifying outliers in data\n",
    "\n",
    "data[['Miles']].boxplot()"
   ]
  },
  {
   "cell_type": "markdown",
   "id": "da113beb",
   "metadata": {},
   "source": [
    "Clearly, the miles column has a lot of outliers which need to be removed."
   ]
  },
  {
   "cell_type": "code",
   "execution_count": 147,
   "id": "3ebf4fae",
   "metadata": {},
   "outputs": [
    {
     "data": {
      "text/plain": [
       "Text(0.5, 1.0, 'Distribution of Miles')"
      ]
     },
     "execution_count": 147,
     "metadata": {},
     "output_type": "execute_result"
    },
    {
     "data": {
      "image/png": "[encoded data removed]",
      "text/plain": [
       "<Figure size 720x360 with 1 Axes>"
      ]
     },
     "metadata": {
      "needs_background": "light"
     },
     "output_type": "display_data"
    }
   ],
   "source": [
    "#Checking the distribution of miles of the Uber rides:\n",
    "\n",
    "plt.figure(figsize=(10,5))\n",
    "sns.distplot(data.Miles)\n",
    "plt.title(\"Distribution of Miles\")"
   ]
  },
  {
   "cell_type": "markdown",
   "id": "e5eaea91",
   "metadata": {},
   "source": [
    "The distribution plot clearly shows that outliers are present and the data is positively skewed."
   ]
  },
  {
   "cell_type": "code",
   "execution_count": 148,
   "id": "47c168ab",
   "metadata": {},
   "outputs": [
    {
     "data": {
      "text/plain": [
       "7.221969847564774"
      ]
     },
     "execution_count": 148,
     "metadata": {},
     "output_type": "execute_result"
    }
   ],
   "source": [
    "#Skewness of Miles column values\n",
    "data.Miles.skew()"
   ]
  },
  {
   "cell_type": "markdown",
   "id": "dfc72f5e",
   "metadata": {},
   "source": [
    "The distribution of Miles column values is highly skewed towards right. This means the outliers are present towards the right. A positive skew indicates that the dataset has many values much greater than the mean and it has very less values lesser than the mean. "
   ]
  },
  {
   "cell_type": "code",
   "execution_count": 149,
   "id": "a3ce1c1f",
   "metadata": {},
   "outputs": [
    {
     "name": "stdout",
     "output_type": "stream",
     "text": [
      "10.566839826839812\n",
      "21.579105610060115\n",
      "75.30415665702016\n",
      "-54.17047700334054\n"
     ]
    },
    {
     "data": {
      "text/html": [
       "<div>\n",
       "<style scoped>\n",
       "    .dataframe tbody tr th:only-of-type {\n",
       "        vertical-align: middle;\n",
       "    }\n",
       "\n",
       "    .dataframe tbody tr th {\n",
       "        vertical-align: top;\n",
       "    }\n",
       "\n",
       "    .dataframe thead th {\n",
       "        text-align: right;\n",
       "    }\n",
       "</style>\n",
       "<table border=\"1\" class=\"dataframe\">\n",
       "  <thead>\n",
       "    <tr style=\"text-align: right;\">\n",
       "      <th></th>\n",
       "      <th>Start_Date</th>\n",
       "      <th>End_Date</th>\n",
       "      <th>Category</th>\n",
       "      <th>Start_Point</th>\n",
       "      <th>Stop_Point</th>\n",
       "      <th>Miles</th>\n",
       "      <th>Purpose</th>\n",
       "    </tr>\n",
       "  </thead>\n",
       "  <tbody>\n",
       "    <tr>\n",
       "      <th>232</th>\n",
       "      <td>3/17/2016 12:52</td>\n",
       "      <td>3/17/2016 15:11</td>\n",
       "      <td>Business</td>\n",
       "      <td>Austin</td>\n",
       "      <td>Katy</td>\n",
       "      <td>136.0</td>\n",
       "      <td>Customer Visit</td>\n",
       "    </tr>\n",
       "    <tr>\n",
       "      <th>268</th>\n",
       "      <td>3/25/2016 13:24</td>\n",
       "      <td>3/25/2016 16:22</td>\n",
       "      <td>Business</td>\n",
       "      <td>Cary</td>\n",
       "      <td>Latta</td>\n",
       "      <td>144.0</td>\n",
       "      <td>Customer Visit</td>\n",
       "    </tr>\n",
       "    <tr>\n",
       "      <th>269</th>\n",
       "      <td>3/25/2016 16:52</td>\n",
       "      <td>3/25/2016 22:22</td>\n",
       "      <td>Business</td>\n",
       "      <td>Latta</td>\n",
       "      <td>Jacksonville</td>\n",
       "      <td>310.3</td>\n",
       "      <td>Customer Visit</td>\n",
       "    </tr>\n",
       "    <tr>\n",
       "      <th>270</th>\n",
       "      <td>3/25/2016 22:54</td>\n",
       "      <td>3/26/2016 1:39</td>\n",
       "      <td>Business</td>\n",
       "      <td>Jacksonville</td>\n",
       "      <td>Kissimmee</td>\n",
       "      <td>201.0</td>\n",
       "      <td>Meeting</td>\n",
       "    </tr>\n",
       "    <tr>\n",
       "      <th>295</th>\n",
       "      <td>04-02-2016 12:21</td>\n",
       "      <td>04-02-2016 14:47</td>\n",
       "      <td>Business</td>\n",
       "      <td>Kissimmee</td>\n",
       "      <td>Daytona Beach</td>\n",
       "      <td>77.3</td>\n",
       "      <td>Customer Visit</td>\n",
       "    </tr>\n",
       "    <tr>\n",
       "      <th>296</th>\n",
       "      <td>04-02-2016 16:57</td>\n",
       "      <td>04-02-2016 18:09</td>\n",
       "      <td>Business</td>\n",
       "      <td>Daytona Beach</td>\n",
       "      <td>Jacksonville</td>\n",
       "      <td>80.5</td>\n",
       "      <td>Customer Visit</td>\n",
       "    </tr>\n",
       "    <tr>\n",
       "      <th>297</th>\n",
       "      <td>04-02-2016 19:38</td>\n",
       "      <td>04-02-2016 22:36</td>\n",
       "      <td>Business</td>\n",
       "      <td>Jacksonville</td>\n",
       "      <td>Ridgeland</td>\n",
       "      <td>174.2</td>\n",
       "      <td>Customer Visit</td>\n",
       "    </tr>\n",
       "    <tr>\n",
       "      <th>298</th>\n",
       "      <td>04-02-2016 23:11</td>\n",
       "      <td>04-03-2016 01:34</td>\n",
       "      <td>Business</td>\n",
       "      <td>Ridgeland</td>\n",
       "      <td>Florence</td>\n",
       "      <td>144.0</td>\n",
       "      <td>Meeting</td>\n",
       "    </tr>\n",
       "    <tr>\n",
       "      <th>299</th>\n",
       "      <td>04-03-2016 02:00</td>\n",
       "      <td>04-03-2016 04:16</td>\n",
       "      <td>Business</td>\n",
       "      <td>Florence</td>\n",
       "      <td>Cary</td>\n",
       "      <td>159.3</td>\n",
       "      <td>Meeting</td>\n",
       "    </tr>\n",
       "    <tr>\n",
       "      <th>546</th>\n",
       "      <td>7/14/2016 16:39</td>\n",
       "      <td>7/14/2016 20:05</td>\n",
       "      <td>Business</td>\n",
       "      <td>Morrisville</td>\n",
       "      <td>Banner Elk</td>\n",
       "      <td>195.3</td>\n",
       "      <td>Unknown</td>\n",
       "    </tr>\n",
       "    <tr>\n",
       "      <th>559</th>\n",
       "      <td>7/17/2016 12:20</td>\n",
       "      <td>7/17/2016 15:25</td>\n",
       "      <td>Personal</td>\n",
       "      <td>Boone</td>\n",
       "      <td>Cary</td>\n",
       "      <td>180.2</td>\n",
       "      <td>Commute</td>\n",
       "    </tr>\n",
       "    <tr>\n",
       "      <th>707</th>\n",
       "      <td>8/24/2016 13:01</td>\n",
       "      <td>8/24/2016 15:25</td>\n",
       "      <td>Business</td>\n",
       "      <td>Unknown Location</td>\n",
       "      <td>Unknown Location</td>\n",
       "      <td>96.2</td>\n",
       "      <td>Unknown</td>\n",
       "    </tr>\n",
       "    <tr>\n",
       "      <th>726</th>\n",
       "      <td>8/27/2016 14:01</td>\n",
       "      <td>8/27/2016 15:44</td>\n",
       "      <td>Business</td>\n",
       "      <td>Lahore</td>\n",
       "      <td>Unknown Location</td>\n",
       "      <td>86.6</td>\n",
       "      <td>Unknown</td>\n",
       "    </tr>\n",
       "    <tr>\n",
       "      <th>727</th>\n",
       "      <td>8/27/2016 16:15</td>\n",
       "      <td>8/27/2016 19:13</td>\n",
       "      <td>Business</td>\n",
       "      <td>Unknown Location</td>\n",
       "      <td>Unknown Location</td>\n",
       "      <td>156.9</td>\n",
       "      <td>Unknown</td>\n",
       "    </tr>\n",
       "    <tr>\n",
       "      <th>776</th>\n",
       "      <td>9/27/2016 21:01</td>\n",
       "      <td>9/28/2016 2:37</td>\n",
       "      <td>Business</td>\n",
       "      <td>Unknown Location</td>\n",
       "      <td>Unknown Location</td>\n",
       "      <td>195.6</td>\n",
       "      <td>Unknown</td>\n",
       "    </tr>\n",
       "    <tr>\n",
       "      <th>788</th>\n",
       "      <td>10-06-2016 17:23</td>\n",
       "      <td>10-06-2016 17:40</td>\n",
       "      <td>Business</td>\n",
       "      <td>R?walpindi</td>\n",
       "      <td>Unknown Location</td>\n",
       "      <td>112.6</td>\n",
       "      <td>Unknown</td>\n",
       "    </tr>\n",
       "    <tr>\n",
       "      <th>869</th>\n",
       "      <td>10/28/2016 15:53</td>\n",
       "      <td>10/28/2016 17:59</td>\n",
       "      <td>Business</td>\n",
       "      <td>Cary</td>\n",
       "      <td>Winston Salem</td>\n",
       "      <td>107.0</td>\n",
       "      <td>Meeting</td>\n",
       "    </tr>\n",
       "    <tr>\n",
       "      <th>870</th>\n",
       "      <td>10/28/2016 18:13</td>\n",
       "      <td>10/28/2016 20:07</td>\n",
       "      <td>Business</td>\n",
       "      <td>Winston Salem</td>\n",
       "      <td>Asheville</td>\n",
       "      <td>133.6</td>\n",
       "      <td>Meeting</td>\n",
       "    </tr>\n",
       "    <tr>\n",
       "      <th>871</th>\n",
       "      <td>10/28/2016 20:13</td>\n",
       "      <td>10/28/2016 22:00</td>\n",
       "      <td>Business</td>\n",
       "      <td>Asheville</td>\n",
       "      <td>Topton</td>\n",
       "      <td>91.8</td>\n",
       "      <td>Meeting</td>\n",
       "    </tr>\n",
       "    <tr>\n",
       "      <th>873</th>\n",
       "      <td>10/29/2016 17:13</td>\n",
       "      <td>10/29/2016 19:19</td>\n",
       "      <td>Business</td>\n",
       "      <td>Hayesville</td>\n",
       "      <td>Topton</td>\n",
       "      <td>75.7</td>\n",
       "      <td>Unknown</td>\n",
       "    </tr>\n",
       "    <tr>\n",
       "      <th>881</th>\n",
       "      <td>10/30/2016 15:22</td>\n",
       "      <td>10/30/2016 18:23</td>\n",
       "      <td>Business</td>\n",
       "      <td>Asheville</td>\n",
       "      <td>Mebane</td>\n",
       "      <td>195.9</td>\n",
       "      <td>Unknown</td>\n",
       "    </tr>\n",
       "    <tr>\n",
       "      <th>1088</th>\n",
       "      <td>12/21/2016 20:56</td>\n",
       "      <td>12/21/2016 23:42</td>\n",
       "      <td>Business</td>\n",
       "      <td>Rawalpindi</td>\n",
       "      <td>Unknown Location</td>\n",
       "      <td>103.0</td>\n",
       "      <td>Meeting</td>\n",
       "    </tr>\n",
       "  </tbody>\n",
       "</table>\n",
       "</div>"
      ],
      "text/plain": [
       "            Start_Date          End_Date  Category       Start_Point  \\\n",
       "232    3/17/2016 12:52   3/17/2016 15:11  Business            Austin   \n",
       "268    3/25/2016 13:24   3/25/2016 16:22  Business              Cary   \n",
       "269    3/25/2016 16:52   3/25/2016 22:22  Business             Latta   \n",
       "270    3/25/2016 22:54    3/26/2016 1:39  Business      Jacksonville   \n",
       "295   04-02-2016 12:21  04-02-2016 14:47  Business         Kissimmee   \n",
       "296   04-02-2016 16:57  04-02-2016 18:09  Business     Daytona Beach   \n",
       "297   04-02-2016 19:38  04-02-2016 22:36  Business      Jacksonville   \n",
       "298   04-02-2016 23:11  04-03-2016 01:34  Business         Ridgeland   \n",
       "299   04-03-2016 02:00  04-03-2016 04:16  Business          Florence   \n",
       "546    7/14/2016 16:39   7/14/2016 20:05  Business       Morrisville   \n",
       "559    7/17/2016 12:20   7/17/2016 15:25  Personal             Boone   \n",
       "707    8/24/2016 13:01   8/24/2016 15:25  Business  Unknown Location   \n",
       "726    8/27/2016 14:01   8/27/2016 15:44  Business            Lahore   \n",
       "727    8/27/2016 16:15   8/27/2016 19:13  Business  Unknown Location   \n",
       "776    9/27/2016 21:01    9/28/2016 2:37  Business  Unknown Location   \n",
       "788   10-06-2016 17:23  10-06-2016 17:40  Business        R?walpindi   \n",
       "869   10/28/2016 15:53  10/28/2016 17:59  Business              Cary   \n",
       "870   10/28/2016 18:13  10/28/2016 20:07  Business     Winston Salem   \n",
       "871   10/28/2016 20:13  10/28/2016 22:00  Business         Asheville   \n",
       "873   10/29/2016 17:13  10/29/2016 19:19  Business        Hayesville   \n",
       "881   10/30/2016 15:22  10/30/2016 18:23  Business         Asheville   \n",
       "1088  12/21/2016 20:56  12/21/2016 23:42  Business        Rawalpindi   \n",
       "\n",
       "            Stop_Point  Miles         Purpose  \n",
       "232               Katy  136.0  Customer Visit  \n",
       "268              Latta  144.0  Customer Visit  \n",
       "269       Jacksonville  310.3  Customer Visit  \n",
       "270          Kissimmee  201.0         Meeting  \n",
       "295      Daytona Beach   77.3  Customer Visit  \n",
       "296       Jacksonville   80.5  Customer Visit  \n",
       "297          Ridgeland  174.2  Customer Visit  \n",
       "298           Florence  144.0         Meeting  \n",
       "299               Cary  159.3         Meeting  \n",
       "546         Banner Elk  195.3         Unknown  \n",
       "559               Cary  180.2         Commute  \n",
       "707   Unknown Location   96.2         Unknown  \n",
       "726   Unknown Location   86.6         Unknown  \n",
       "727   Unknown Location  156.9         Unknown  \n",
       "776   Unknown Location  195.6         Unknown  \n",
       "788   Unknown Location  112.6         Unknown  \n",
       "869      Winston Salem  107.0         Meeting  \n",
       "870          Asheville  133.6         Meeting  \n",
       "871             Topton   91.8         Meeting  \n",
       "873             Topton   75.7         Unknown  \n",
       "881             Mebane  195.9         Unknown  \n",
       "1088  Unknown Location  103.0         Meeting  "
      ]
     },
     "execution_count": 149,
     "metadata": {},
     "output_type": "execute_result"
    }
   ],
   "source": [
    "#Identifying outliers from the Miles column\n",
    "\n",
    "Miles_mean = data.Miles.mean()\n",
    "print(Miles_mean)\n",
    "\n",
    "Miles_std_dev = data.Miles.std()\n",
    "print(Miles_std_dev)\n",
    "\n",
    "print(Miles_mean+3*Miles_std_dev)\n",
    "print(Miles_mean-3*Miles_std_dev)\n",
    "\n",
    "data [(data.Miles> Miles_mean+3*Miles_std_dev) | (data.Miles < Miles_mean-3*Miles_std_dev)]\n"
   ]
  },
  {
   "cell_type": "markdown",
   "id": "56005a58",
   "metadata": {},
   "source": [
    "These are the values in the dataset which are outliers."
   ]
  },
  {
   "cell_type": "code",
   "execution_count": 150,
   "id": "6edef619",
   "metadata": {},
   "outputs": [
    {
     "data": {
      "text/html": [
       "<div>\n",
       "<style scoped>\n",
       "    .dataframe tbody tr th:only-of-type {\n",
       "        vertical-align: middle;\n",
       "    }\n",
       "\n",
       "    .dataframe tbody tr th {\n",
       "        vertical-align: top;\n",
       "    }\n",
       "\n",
       "    .dataframe thead th {\n",
       "        text-align: right;\n",
       "    }\n",
       "</style>\n",
       "<table border=\"1\" class=\"dataframe\">\n",
       "  <thead>\n",
       "    <tr style=\"text-align: right;\">\n",
       "      <th></th>\n",
       "      <th>Start_Date</th>\n",
       "      <th>End_Date</th>\n",
       "      <th>Category</th>\n",
       "      <th>Start_Point</th>\n",
       "      <th>Stop_Point</th>\n",
       "      <th>Miles</th>\n",
       "      <th>Purpose</th>\n",
       "    </tr>\n",
       "  </thead>\n",
       "  <tbody>\n",
       "    <tr>\n",
       "      <th>0</th>\n",
       "      <td>01-01-2016 21:11</td>\n",
       "      <td>01-01-2016 21:17</td>\n",
       "      <td>Business</td>\n",
       "      <td>Fort Pierce</td>\n",
       "      <td>Fort Pierce</td>\n",
       "      <td>5.1</td>\n",
       "      <td>Meal/Entertain</td>\n",
       "    </tr>\n",
       "    <tr>\n",
       "      <th>1</th>\n",
       "      <td>01-02-2016 01:25</td>\n",
       "      <td>01-02-2016 01:37</td>\n",
       "      <td>Business</td>\n",
       "      <td>Fort Pierce</td>\n",
       "      <td>Fort Pierce</td>\n",
       "      <td>5.0</td>\n",
       "      <td>Unknown</td>\n",
       "    </tr>\n",
       "    <tr>\n",
       "      <th>2</th>\n",
       "      <td>01-02-2016 20:25</td>\n",
       "      <td>01-02-2016 20:38</td>\n",
       "      <td>Business</td>\n",
       "      <td>Fort Pierce</td>\n",
       "      <td>Fort Pierce</td>\n",
       "      <td>4.8</td>\n",
       "      <td>Errand/Supplies</td>\n",
       "    </tr>\n",
       "    <tr>\n",
       "      <th>3</th>\n",
       "      <td>01-05-2016 17:31</td>\n",
       "      <td>01-05-2016 17:45</td>\n",
       "      <td>Business</td>\n",
       "      <td>Fort Pierce</td>\n",
       "      <td>Fort Pierce</td>\n",
       "      <td>4.7</td>\n",
       "      <td>Meeting</td>\n",
       "    </tr>\n",
       "    <tr>\n",
       "      <th>4</th>\n",
       "      <td>01-06-2016 14:42</td>\n",
       "      <td>01-06-2016 15:49</td>\n",
       "      <td>Business</td>\n",
       "      <td>Fort Pierce</td>\n",
       "      <td>West Palm Beach</td>\n",
       "      <td>63.7</td>\n",
       "      <td>Customer Visit</td>\n",
       "    </tr>\n",
       "    <tr>\n",
       "      <th>...</th>\n",
       "      <td>...</td>\n",
       "      <td>...</td>\n",
       "      <td>...</td>\n",
       "      <td>...</td>\n",
       "      <td>...</td>\n",
       "      <td>...</td>\n",
       "      <td>...</td>\n",
       "    </tr>\n",
       "    <tr>\n",
       "      <th>1150</th>\n",
       "      <td>12/31/2016 1:07</td>\n",
       "      <td>12/31/2016 1:14</td>\n",
       "      <td>Business</td>\n",
       "      <td>Kar?chi</td>\n",
       "      <td>Kar?chi</td>\n",
       "      <td>0.7</td>\n",
       "      <td>Meeting</td>\n",
       "    </tr>\n",
       "    <tr>\n",
       "      <th>1151</th>\n",
       "      <td>12/31/2016 13:24</td>\n",
       "      <td>12/31/2016 13:42</td>\n",
       "      <td>Business</td>\n",
       "      <td>Kar?chi</td>\n",
       "      <td>Unknown Location</td>\n",
       "      <td>3.9</td>\n",
       "      <td>Temporary Site</td>\n",
       "    </tr>\n",
       "    <tr>\n",
       "      <th>1152</th>\n",
       "      <td>12/31/2016 15:03</td>\n",
       "      <td>12/31/2016 15:38</td>\n",
       "      <td>Business</td>\n",
       "      <td>Unknown Location</td>\n",
       "      <td>Unknown Location</td>\n",
       "      <td>16.2</td>\n",
       "      <td>Meeting</td>\n",
       "    </tr>\n",
       "    <tr>\n",
       "      <th>1153</th>\n",
       "      <td>12/31/2016 21:32</td>\n",
       "      <td>12/31/2016 21:50</td>\n",
       "      <td>Business</td>\n",
       "      <td>Katunayake</td>\n",
       "      <td>Gampaha</td>\n",
       "      <td>6.4</td>\n",
       "      <td>Temporary Site</td>\n",
       "    </tr>\n",
       "    <tr>\n",
       "      <th>1154</th>\n",
       "      <td>12/31/2016 22:08</td>\n",
       "      <td>12/31/2016 23:51</td>\n",
       "      <td>Business</td>\n",
       "      <td>Gampaha</td>\n",
       "      <td>Ilukwatta</td>\n",
       "      <td>48.2</td>\n",
       "      <td>Temporary Site</td>\n",
       "    </tr>\n",
       "  </tbody>\n",
       "</table>\n",
       "<p>1133 rows × 7 columns</p>\n",
       "</div>"
      ],
      "text/plain": [
       "            Start_Date          End_Date  Category       Start_Point  \\\n",
       "0     01-01-2016 21:11  01-01-2016 21:17  Business       Fort Pierce   \n",
       "1     01-02-2016 01:25  01-02-2016 01:37  Business       Fort Pierce   \n",
       "2     01-02-2016 20:25  01-02-2016 20:38  Business       Fort Pierce   \n",
       "3     01-05-2016 17:31  01-05-2016 17:45  Business       Fort Pierce   \n",
       "4     01-06-2016 14:42  01-06-2016 15:49  Business       Fort Pierce   \n",
       "...                ...               ...       ...               ...   \n",
       "1150   12/31/2016 1:07   12/31/2016 1:14  Business           Kar?chi   \n",
       "1151  12/31/2016 13:24  12/31/2016 13:42  Business           Kar?chi   \n",
       "1152  12/31/2016 15:03  12/31/2016 15:38  Business  Unknown Location   \n",
       "1153  12/31/2016 21:32  12/31/2016 21:50  Business        Katunayake   \n",
       "1154  12/31/2016 22:08  12/31/2016 23:51  Business           Gampaha   \n",
       "\n",
       "            Stop_Point  Miles          Purpose  \n",
       "0          Fort Pierce    5.1   Meal/Entertain  \n",
       "1          Fort Pierce    5.0          Unknown  \n",
       "2          Fort Pierce    4.8  Errand/Supplies  \n",
       "3          Fort Pierce    4.7          Meeting  \n",
       "4      West Palm Beach   63.7   Customer Visit  \n",
       "...                ...    ...              ...  \n",
       "1150           Kar?chi    0.7          Meeting  \n",
       "1151  Unknown Location    3.9   Temporary Site  \n",
       "1152  Unknown Location   16.2          Meeting  \n",
       "1153           Gampaha    6.4   Temporary Site  \n",
       "1154         Ilukwatta   48.2   Temporary Site  \n",
       "\n",
       "[1133 rows x 7 columns]"
      ]
     },
     "execution_count": 150,
     "metadata": {},
     "output_type": "execute_result"
    }
   ],
   "source": [
    "#Removing outliers from the dataset\n",
    "\n",
    "data1 = data [(data.Miles < Miles_mean+3*Miles_std_dev) & (data.Miles > Miles_mean-3*Miles_std_dev)]\n",
    "data1\n"
   ]
  },
  {
   "cell_type": "markdown",
   "id": "c96b77e5",
   "metadata": {},
   "source": [
    "The dataset reduced from 1155 to 1133 rows."
   ]
  },
  {
   "cell_type": "code",
   "execution_count": 151,
   "id": "e33a4167",
   "metadata": {},
   "outputs": [
    {
     "data": {
      "text/plain": [
       "<AxesSubplot:>"
      ]
     },
     "execution_count": 151,
     "metadata": {},
     "output_type": "execute_result"
    },
    {
     "data": {
      "image/png": "[encoded data removed]",
      "text/plain": [
       "<Figure size 432x288 with 1 Axes>"
      ]
     },
     "metadata": {
      "needs_background": "light"
     },
     "output_type": "display_data"
    }
   ],
   "source": [
    "#Checking if outliers are removed or not \n",
    "\n",
    "data1[['Miles']].boxplot()"
   ]
  },
  {
   "cell_type": "code",
   "execution_count": 152,
   "id": "f719addd",
   "metadata": {},
   "outputs": [
    {
     "data": {
      "text/plain": [
       "Text(0.5, 1.0, 'Distribution of Miles')"
      ]
     },
     "execution_count": 152,
     "metadata": {},
     "output_type": "execute_result"
    },
    {
     "data": {
      "image/png": "[encoded data removed]",
      "text/plain": [
       "<Figure size 720x360 with 1 Axes>"
      ]
     },
     "metadata": {
      "needs_background": "light"
     },
     "output_type": "display_data"
    }
   ],
   "source": [
    "#Checking the distribution of miles of the Uber rides after removing outliers:\n",
    "\n",
    "plt.figure(figsize=(10,5))\n",
    "sns.distplot(data1.Miles)\n",
    "plt.title(\"Distribution of Miles\")"
   ]
  },
  {
   "cell_type": "code",
   "execution_count": 153,
   "id": "794b7a7b",
   "metadata": {},
   "outputs": [
    {
     "data": {
      "text/plain": [
       "3.0401544881339007"
      ]
     },
     "execution_count": 153,
     "metadata": {},
     "output_type": "execute_result"
    }
   ],
   "source": [
    "data1.Miles.skew()"
   ]
  },
  {
   "cell_type": "markdown",
   "id": "02c35d4b",
   "metadata": {},
   "source": [
    "The distribution of the Miles column values is rightly skewed and the skewness has decreased after removing the outliers.. "
   ]
  },
  {
   "cell_type": "code",
   "execution_count": 154,
   "id": "a8ccaea7",
   "metadata": {},
   "outputs": [
    {
     "data": {
      "text/html": [
       "<div>\n",
       "<style scoped>\n",
       "    .dataframe tbody tr th:only-of-type {\n",
       "        vertical-align: middle;\n",
       "    }\n",
       "\n",
       "    .dataframe tbody tr th {\n",
       "        vertical-align: top;\n",
       "    }\n",
       "\n",
       "    .dataframe thead th {\n",
       "        text-align: right;\n",
       "    }\n",
       "</style>\n",
       "<table border=\"1\" class=\"dataframe\">\n",
       "  <thead>\n",
       "    <tr style=\"text-align: right;\">\n",
       "      <th></th>\n",
       "      <th>Miles</th>\n",
       "    </tr>\n",
       "  </thead>\n",
       "  <tbody>\n",
       "    <tr>\n",
       "      <th>count</th>\n",
       "      <td>1133.000000</td>\n",
       "    </tr>\n",
       "    <tr>\n",
       "      <th>mean</th>\n",
       "      <td>7.985613</td>\n",
       "    </tr>\n",
       "    <tr>\n",
       "      <th>std</th>\n",
       "      <td>8.078931</td>\n",
       "    </tr>\n",
       "    <tr>\n",
       "      <th>min</th>\n",
       "      <td>0.500000</td>\n",
       "    </tr>\n",
       "    <tr>\n",
       "      <th>25%</th>\n",
       "      <td>2.800000</td>\n",
       "    </tr>\n",
       "    <tr>\n",
       "      <th>50%</th>\n",
       "      <td>5.800000</td>\n",
       "    </tr>\n",
       "    <tr>\n",
       "      <th>75%</th>\n",
       "      <td>10.300000</td>\n",
       "    </tr>\n",
       "    <tr>\n",
       "      <th>max</th>\n",
       "      <td>69.100000</td>\n",
       "    </tr>\n",
       "  </tbody>\n",
       "</table>\n",
       "</div>"
      ],
      "text/plain": [
       "             Miles\n",
       "count  1133.000000\n",
       "mean      7.985613\n",
       "std       8.078931\n",
       "min       0.500000\n",
       "25%       2.800000\n",
       "50%       5.800000\n",
       "75%      10.300000\n",
       "max      69.100000"
      ]
     },
     "execution_count": 154,
     "metadata": {},
     "output_type": "execute_result"
    }
   ],
   "source": [
    "data1.describe()    #for statistical description of data"
   ]
  },
  {
   "cell_type": "markdown",
   "id": "0bc91adb",
   "metadata": {},
   "source": [
    "The dataset after the removal of Miles outliers indicates that the average miles that the user covers is around 8 miles. The minimum distance of the ride is 0.5 miles while the maximum distance of the ride is 69.1 miles."
   ]
  },
  {
   "cell_type": "markdown",
   "id": "ea60d391",
   "metadata": {},
   "source": [
    "At this stage, in the data, the start and end dates are given, but not the duration of the rides. The duration is needed in order to know how much time did the rides took. For this, it is needed to convert the Start Date and End Date data objects into datetime objects."
   ]
  },
  {
   "cell_type": "code",
   "execution_count": 155,
   "id": "20200f18",
   "metadata": {},
   "outputs": [
    {
     "data": {
      "text/html": [
       "<div>\n",
       "<style scoped>\n",
       "    .dataframe tbody tr th:only-of-type {\n",
       "        vertical-align: middle;\n",
       "    }\n",
       "\n",
       "    .dataframe tbody tr th {\n",
       "        vertical-align: top;\n",
       "    }\n",
       "\n",
       "    .dataframe thead th {\n",
       "        text-align: right;\n",
       "    }\n",
       "</style>\n",
       "<table border=\"1\" class=\"dataframe\">\n",
       "  <thead>\n",
       "    <tr style=\"text-align: right;\">\n",
       "      <th></th>\n",
       "      <th>Start_Date</th>\n",
       "      <th>End_Date</th>\n",
       "      <th>Category</th>\n",
       "      <th>Start_Point</th>\n",
       "      <th>Stop_Point</th>\n",
       "      <th>Miles</th>\n",
       "      <th>Purpose</th>\n",
       "    </tr>\n",
       "  </thead>\n",
       "  <tbody>\n",
       "    <tr>\n",
       "      <th>0</th>\n",
       "      <td>2016-01-01 21:11:00</td>\n",
       "      <td>2016-01-01 21:17:00</td>\n",
       "      <td>Business</td>\n",
       "      <td>Fort Pierce</td>\n",
       "      <td>Fort Pierce</td>\n",
       "      <td>5.1</td>\n",
       "      <td>Meal/Entertain</td>\n",
       "    </tr>\n",
       "    <tr>\n",
       "      <th>1</th>\n",
       "      <td>2016-01-02 01:25:00</td>\n",
       "      <td>2016-01-02 01:37:00</td>\n",
       "      <td>Business</td>\n",
       "      <td>Fort Pierce</td>\n",
       "      <td>Fort Pierce</td>\n",
       "      <td>5.0</td>\n",
       "      <td>Unknown</td>\n",
       "    </tr>\n",
       "    <tr>\n",
       "      <th>2</th>\n",
       "      <td>2016-01-02 20:25:00</td>\n",
       "      <td>2016-01-02 20:38:00</td>\n",
       "      <td>Business</td>\n",
       "      <td>Fort Pierce</td>\n",
       "      <td>Fort Pierce</td>\n",
       "      <td>4.8</td>\n",
       "      <td>Errand/Supplies</td>\n",
       "    </tr>\n",
       "    <tr>\n",
       "      <th>3</th>\n",
       "      <td>2016-01-05 17:31:00</td>\n",
       "      <td>2016-01-05 17:45:00</td>\n",
       "      <td>Business</td>\n",
       "      <td>Fort Pierce</td>\n",
       "      <td>Fort Pierce</td>\n",
       "      <td>4.7</td>\n",
       "      <td>Meeting</td>\n",
       "    </tr>\n",
       "    <tr>\n",
       "      <th>4</th>\n",
       "      <td>2016-01-06 14:42:00</td>\n",
       "      <td>2016-01-06 15:49:00</td>\n",
       "      <td>Business</td>\n",
       "      <td>Fort Pierce</td>\n",
       "      <td>West Palm Beach</td>\n",
       "      <td>63.7</td>\n",
       "      <td>Customer Visit</td>\n",
       "    </tr>\n",
       "  </tbody>\n",
       "</table>\n",
       "</div>"
      ],
      "text/plain": [
       "           Start_Date            End_Date  Category  Start_Point  \\\n",
       "0 2016-01-01 21:11:00 2016-01-01 21:17:00  Business  Fort Pierce   \n",
       "1 2016-01-02 01:25:00 2016-01-02 01:37:00  Business  Fort Pierce   \n",
       "2 2016-01-02 20:25:00 2016-01-02 20:38:00  Business  Fort Pierce   \n",
       "3 2016-01-05 17:31:00 2016-01-05 17:45:00  Business  Fort Pierce   \n",
       "4 2016-01-06 14:42:00 2016-01-06 15:49:00  Business  Fort Pierce   \n",
       "\n",
       "        Stop_Point  Miles          Purpose  \n",
       "0      Fort Pierce    5.1   Meal/Entertain  \n",
       "1      Fort Pierce    5.0          Unknown  \n",
       "2      Fort Pierce    4.8  Errand/Supplies  \n",
       "3      Fort Pierce    4.7          Meeting  \n",
       "4  West Palm Beach   63.7   Customer Visit  "
      ]
     },
     "execution_count": 155,
     "metadata": {},
     "output_type": "execute_result"
    }
   ],
   "source": [
    "#Converting the Start_Date and End_Date date objects into datetime objects to get duration (Conversion to datetime object will lead to transformation of timing to HH:MM:DD format which will help in calculating the ride duration later):\n",
    "#Using Pandas library\n",
    "\n",
    "data1['Start_Date'] = pd.to_datetime(data1['Start_Date'])\n",
    "data1['End_Date'] = pd.to_datetime(data1['End_Date'])\n",
    "\n",
    "data1.head(5)"
   ]
  },
  {
   "cell_type": "code",
   "execution_count": 156,
   "id": "4f2032b9",
   "metadata": {},
   "outputs": [
    {
     "data": {
      "text/html": [
       "<div>\n",
       "<style scoped>\n",
       "    .dataframe tbody tr th:only-of-type {\n",
       "        vertical-align: middle;\n",
       "    }\n",
       "\n",
       "    .dataframe tbody tr th {\n",
       "        vertical-align: top;\n",
       "    }\n",
       "\n",
       "    .dataframe thead th {\n",
       "        text-align: right;\n",
       "    }\n",
       "</style>\n",
       "<table border=\"1\" class=\"dataframe\">\n",
       "  <thead>\n",
       "    <tr style=\"text-align: right;\">\n",
       "      <th></th>\n",
       "      <th>Start_Date</th>\n",
       "      <th>End_Date</th>\n",
       "      <th>Category</th>\n",
       "      <th>Start_Point</th>\n",
       "      <th>Stop_Point</th>\n",
       "      <th>Miles</th>\n",
       "      <th>Purpose</th>\n",
       "      <th>Ride_Duration</th>\n",
       "    </tr>\n",
       "  </thead>\n",
       "  <tbody>\n",
       "    <tr>\n",
       "      <th>0</th>\n",
       "      <td>2016-01-01 21:11:00</td>\n",
       "      <td>2016-01-01 21:17:00</td>\n",
       "      <td>Business</td>\n",
       "      <td>Fort Pierce</td>\n",
       "      <td>Fort Pierce</td>\n",
       "      <td>5.1</td>\n",
       "      <td>Meal/Entertain</td>\n",
       "      <td>0 days 00:06:00</td>\n",
       "    </tr>\n",
       "    <tr>\n",
       "      <th>1</th>\n",
       "      <td>2016-01-02 01:25:00</td>\n",
       "      <td>2016-01-02 01:37:00</td>\n",
       "      <td>Business</td>\n",
       "      <td>Fort Pierce</td>\n",
       "      <td>Fort Pierce</td>\n",
       "      <td>5.0</td>\n",
       "      <td>Unknown</td>\n",
       "      <td>0 days 00:12:00</td>\n",
       "    </tr>\n",
       "    <tr>\n",
       "      <th>2</th>\n",
       "      <td>2016-01-02 20:25:00</td>\n",
       "      <td>2016-01-02 20:38:00</td>\n",
       "      <td>Business</td>\n",
       "      <td>Fort Pierce</td>\n",
       "      <td>Fort Pierce</td>\n",
       "      <td>4.8</td>\n",
       "      <td>Errand/Supplies</td>\n",
       "      <td>0 days 00:13:00</td>\n",
       "    </tr>\n",
       "    <tr>\n",
       "      <th>3</th>\n",
       "      <td>2016-01-05 17:31:00</td>\n",
       "      <td>2016-01-05 17:45:00</td>\n",
       "      <td>Business</td>\n",
       "      <td>Fort Pierce</td>\n",
       "      <td>Fort Pierce</td>\n",
       "      <td>4.7</td>\n",
       "      <td>Meeting</td>\n",
       "      <td>0 days 00:14:00</td>\n",
       "    </tr>\n",
       "    <tr>\n",
       "      <th>4</th>\n",
       "      <td>2016-01-06 14:42:00</td>\n",
       "      <td>2016-01-06 15:49:00</td>\n",
       "      <td>Business</td>\n",
       "      <td>Fort Pierce</td>\n",
       "      <td>West Palm Beach</td>\n",
       "      <td>63.7</td>\n",
       "      <td>Customer Visit</td>\n",
       "      <td>0 days 01:07:00</td>\n",
       "    </tr>\n",
       "  </tbody>\n",
       "</table>\n",
       "</div>"
      ],
      "text/plain": [
       "           Start_Date            End_Date  Category  Start_Point  \\\n",
       "0 2016-01-01 21:11:00 2016-01-01 21:17:00  Business  Fort Pierce   \n",
       "1 2016-01-02 01:25:00 2016-01-02 01:37:00  Business  Fort Pierce   \n",
       "2 2016-01-02 20:25:00 2016-01-02 20:38:00  Business  Fort Pierce   \n",
       "3 2016-01-05 17:31:00 2016-01-05 17:45:00  Business  Fort Pierce   \n",
       "4 2016-01-06 14:42:00 2016-01-06 15:49:00  Business  Fort Pierce   \n",
       "\n",
       "        Stop_Point  Miles          Purpose   Ride_Duration  \n",
       "0      Fort Pierce    5.1   Meal/Entertain 0 days 00:06:00  \n",
       "1      Fort Pierce    5.0          Unknown 0 days 00:12:00  \n",
       "2      Fort Pierce    4.8  Errand/Supplies 0 days 00:13:00  \n",
       "3      Fort Pierce    4.7          Meeting 0 days 00:14:00  \n",
       "4  West Palm Beach   63.7   Customer Visit 0 days 01:07:00  "
      ]
     },
     "execution_count": 156,
     "metadata": {},
     "output_type": "execute_result"
    }
   ],
   "source": [
    "#Calculating duration of the rides:\n",
    "\n",
    "data1['Ride_Duration'] = data1['End_Date'] - data1['Start_Date']\n",
    "\n",
    "data1.head()"
   ]
  },
  {
   "cell_type": "markdown",
   "id": "61a3e135",
   "metadata": {},
   "source": [
    "In the dataset, the ride_duration is given in terms of days and time. Days need to be removed from the duration."
   ]
  },
  {
   "cell_type": "code",
   "execution_count": 157,
   "id": "6579d14b",
   "metadata": {},
   "outputs": [
    {
     "data": {
      "text/html": [
       "<div>\n",
       "<style scoped>\n",
       "    .dataframe tbody tr th:only-of-type {\n",
       "        vertical-align: middle;\n",
       "    }\n",
       "\n",
       "    .dataframe tbody tr th {\n",
       "        vertical-align: top;\n",
       "    }\n",
       "\n",
       "    .dataframe thead th {\n",
       "        text-align: right;\n",
       "    }\n",
       "</style>\n",
       "<table border=\"1\" class=\"dataframe\">\n",
       "  <thead>\n",
       "    <tr style=\"text-align: right;\">\n",
       "      <th></th>\n",
       "      <th>Start_Date</th>\n",
       "      <th>End_Date</th>\n",
       "      <th>Category</th>\n",
       "      <th>Start_Point</th>\n",
       "      <th>Stop_Point</th>\n",
       "      <th>Miles</th>\n",
       "      <th>Purpose</th>\n",
       "      <th>Ride_Duration</th>\n",
       "    </tr>\n",
       "  </thead>\n",
       "  <tbody>\n",
       "    <tr>\n",
       "      <th>0</th>\n",
       "      <td>2016-01-01 21:11:00</td>\n",
       "      <td>2016-01-01 21:17:00</td>\n",
       "      <td>Business</td>\n",
       "      <td>Fort Pierce</td>\n",
       "      <td>Fort Pierce</td>\n",
       "      <td>5.1</td>\n",
       "      <td>Meal/Entertain</td>\n",
       "      <td>00:06:00</td>\n",
       "    </tr>\n",
       "    <tr>\n",
       "      <th>1</th>\n",
       "      <td>2016-01-02 01:25:00</td>\n",
       "      <td>2016-01-02 01:37:00</td>\n",
       "      <td>Business</td>\n",
       "      <td>Fort Pierce</td>\n",
       "      <td>Fort Pierce</td>\n",
       "      <td>5.0</td>\n",
       "      <td>Unknown</td>\n",
       "      <td>00:12:00</td>\n",
       "    </tr>\n",
       "    <tr>\n",
       "      <th>2</th>\n",
       "      <td>2016-01-02 20:25:00</td>\n",
       "      <td>2016-01-02 20:38:00</td>\n",
       "      <td>Business</td>\n",
       "      <td>Fort Pierce</td>\n",
       "      <td>Fort Pierce</td>\n",
       "      <td>4.8</td>\n",
       "      <td>Errand/Supplies</td>\n",
       "      <td>00:13:00</td>\n",
       "    </tr>\n",
       "    <tr>\n",
       "      <th>3</th>\n",
       "      <td>2016-01-05 17:31:00</td>\n",
       "      <td>2016-01-05 17:45:00</td>\n",
       "      <td>Business</td>\n",
       "      <td>Fort Pierce</td>\n",
       "      <td>Fort Pierce</td>\n",
       "      <td>4.7</td>\n",
       "      <td>Meeting</td>\n",
       "      <td>00:14:00</td>\n",
       "    </tr>\n",
       "    <tr>\n",
       "      <th>4</th>\n",
       "      <td>2016-01-06 14:42:00</td>\n",
       "      <td>2016-01-06 15:49:00</td>\n",
       "      <td>Business</td>\n",
       "      <td>Fort Pierce</td>\n",
       "      <td>West Palm Beach</td>\n",
       "      <td>63.7</td>\n",
       "      <td>Customer Visit</td>\n",
       "      <td>01:07:00</td>\n",
       "    </tr>\n",
       "  </tbody>\n",
       "</table>\n",
       "</div>"
      ],
      "text/plain": [
       "           Start_Date            End_Date  Category  Start_Point  \\\n",
       "0 2016-01-01 21:11:00 2016-01-01 21:17:00  Business  Fort Pierce   \n",
       "1 2016-01-02 01:25:00 2016-01-02 01:37:00  Business  Fort Pierce   \n",
       "2 2016-01-02 20:25:00 2016-01-02 20:38:00  Business  Fort Pierce   \n",
       "3 2016-01-05 17:31:00 2016-01-05 17:45:00  Business  Fort Pierce   \n",
       "4 2016-01-06 14:42:00 2016-01-06 15:49:00  Business  Fort Pierce   \n",
       "\n",
       "        Stop_Point  Miles          Purpose Ride_Duration  \n",
       "0      Fort Pierce    5.1   Meal/Entertain      00:06:00  \n",
       "1      Fort Pierce    5.0          Unknown      00:12:00  \n",
       "2      Fort Pierce    4.8  Errand/Supplies      00:13:00  \n",
       "3      Fort Pierce    4.7          Meeting      00:14:00  \n",
       "4  West Palm Beach   63.7   Customer Visit      01:07:00  "
      ]
     },
     "execution_count": 157,
     "metadata": {},
     "output_type": "execute_result"
    }
   ],
   "source": [
    "#Removing days from the Ride_Duration: (First converting the Ride_Duration into string type and then slicing the remaining part after days)\n",
    "\n",
    "data1['Ride_Duration'] = data1['Ride_Duration'].astype(str).map(lambda x: x[7:])\n",
    "\n",
    "data1.head(5)"
   ]
  },
  {
   "cell_type": "markdown",
   "id": "58e15f56",
   "metadata": {},
   "source": [
    "Segregating year, month, week day and day hour to get more information about the rides is needed."
   ]
  },
  {
   "cell_type": "code",
   "execution_count": 158,
   "id": "15512e85",
   "metadata": {},
   "outputs": [
    {
     "data": {
      "text/html": [
       "<div>\n",
       "<style scoped>\n",
       "    .dataframe tbody tr th:only-of-type {\n",
       "        vertical-align: middle;\n",
       "    }\n",
       "\n",
       "    .dataframe tbody tr th {\n",
       "        vertical-align: top;\n",
       "    }\n",
       "\n",
       "    .dataframe thead th {\n",
       "        text-align: right;\n",
       "    }\n",
       "</style>\n",
       "<table border=\"1\" class=\"dataframe\">\n",
       "  <thead>\n",
       "    <tr style=\"text-align: right;\">\n",
       "      <th></th>\n",
       "      <th>Start_Date</th>\n",
       "      <th>End_Date</th>\n",
       "      <th>Category</th>\n",
       "      <th>Start_Point</th>\n",
       "      <th>Stop_Point</th>\n",
       "      <th>Miles</th>\n",
       "      <th>Purpose</th>\n",
       "      <th>Ride_Duration</th>\n",
       "      <th>Year</th>\n",
       "      <th>Month</th>\n",
       "      <th>Day</th>\n",
       "      <th>Hour</th>\n",
       "    </tr>\n",
       "  </thead>\n",
       "  <tbody>\n",
       "    <tr>\n",
       "      <th>0</th>\n",
       "      <td>2016-01-01 21:11:00</td>\n",
       "      <td>2016-01-01 21:17:00</td>\n",
       "      <td>Business</td>\n",
       "      <td>Fort Pierce</td>\n",
       "      <td>Fort Pierce</td>\n",
       "      <td>5.1</td>\n",
       "      <td>Meal/Entertain</td>\n",
       "      <td>00:06:00</td>\n",
       "      <td>2016</td>\n",
       "      <td>1</td>\n",
       "      <td>4</td>\n",
       "      <td>21</td>\n",
       "    </tr>\n",
       "    <tr>\n",
       "      <th>1</th>\n",
       "      <td>2016-01-02 01:25:00</td>\n",
       "      <td>2016-01-02 01:37:00</td>\n",
       "      <td>Business</td>\n",
       "      <td>Fort Pierce</td>\n",
       "      <td>Fort Pierce</td>\n",
       "      <td>5.0</td>\n",
       "      <td>Unknown</td>\n",
       "      <td>00:12:00</td>\n",
       "      <td>2016</td>\n",
       "      <td>1</td>\n",
       "      <td>5</td>\n",
       "      <td>1</td>\n",
       "    </tr>\n",
       "    <tr>\n",
       "      <th>2</th>\n",
       "      <td>2016-01-02 20:25:00</td>\n",
       "      <td>2016-01-02 20:38:00</td>\n",
       "      <td>Business</td>\n",
       "      <td>Fort Pierce</td>\n",
       "      <td>Fort Pierce</td>\n",
       "      <td>4.8</td>\n",
       "      <td>Errand/Supplies</td>\n",
       "      <td>00:13:00</td>\n",
       "      <td>2016</td>\n",
       "      <td>1</td>\n",
       "      <td>5</td>\n",
       "      <td>20</td>\n",
       "    </tr>\n",
       "    <tr>\n",
       "      <th>3</th>\n",
       "      <td>2016-01-05 17:31:00</td>\n",
       "      <td>2016-01-05 17:45:00</td>\n",
       "      <td>Business</td>\n",
       "      <td>Fort Pierce</td>\n",
       "      <td>Fort Pierce</td>\n",
       "      <td>4.7</td>\n",
       "      <td>Meeting</td>\n",
       "      <td>00:14:00</td>\n",
       "      <td>2016</td>\n",
       "      <td>1</td>\n",
       "      <td>1</td>\n",
       "      <td>17</td>\n",
       "    </tr>\n",
       "    <tr>\n",
       "      <th>4</th>\n",
       "      <td>2016-01-06 14:42:00</td>\n",
       "      <td>2016-01-06 15:49:00</td>\n",
       "      <td>Business</td>\n",
       "      <td>Fort Pierce</td>\n",
       "      <td>West Palm Beach</td>\n",
       "      <td>63.7</td>\n",
       "      <td>Customer Visit</td>\n",
       "      <td>01:07:00</td>\n",
       "      <td>2016</td>\n",
       "      <td>1</td>\n",
       "      <td>2</td>\n",
       "      <td>14</td>\n",
       "    </tr>\n",
       "  </tbody>\n",
       "</table>\n",
       "</div>"
      ],
      "text/plain": [
       "           Start_Date            End_Date  Category  Start_Point  \\\n",
       "0 2016-01-01 21:11:00 2016-01-01 21:17:00  Business  Fort Pierce   \n",
       "1 2016-01-02 01:25:00 2016-01-02 01:37:00  Business  Fort Pierce   \n",
       "2 2016-01-02 20:25:00 2016-01-02 20:38:00  Business  Fort Pierce   \n",
       "3 2016-01-05 17:31:00 2016-01-05 17:45:00  Business  Fort Pierce   \n",
       "4 2016-01-06 14:42:00 2016-01-06 15:49:00  Business  Fort Pierce   \n",
       "\n",
       "        Stop_Point  Miles          Purpose Ride_Duration  Year  Month  Day  \\\n",
       "0      Fort Pierce    5.1   Meal/Entertain      00:06:00  2016      1    4   \n",
       "1      Fort Pierce    5.0          Unknown      00:12:00  2016      1    5   \n",
       "2      Fort Pierce    4.8  Errand/Supplies      00:13:00  2016      1    5   \n",
       "3      Fort Pierce    4.7          Meeting      00:14:00  2016      1    1   \n",
       "4  West Palm Beach   63.7   Customer Visit      01:07:00  2016      1    2   \n",
       "\n",
       "   Hour  \n",
       "0    21  \n",
       "1     1  \n",
       "2    20  \n",
       "3    17  \n",
       "4    14  "
      ]
     },
     "execution_count": 158,
     "metadata": {},
     "output_type": "execute_result"
    }
   ],
   "source": [
    "#Creating new columns of year, month, day of the week and day hour:\n",
    "#Converting the datetime format of the Start Date into different columns:\n",
    "\n",
    "data1['Year'] = data1['Start_Date'].apply(lambda conversion: conversion.year)\n",
    "data1['Month'] = data1['Start_Date'].apply(lambda conversion: conversion.month)\n",
    "data1['Day'] = data1['Start_Date'].apply(lambda conversion: conversion.dayofweek)\n",
    "data1['Hour'] = data1['Start_Date'].apply(lambda conversion: conversion.hour)\n",
    "\n",
    "data1.head()"
   ]
  },
  {
   "cell_type": "markdown",
   "id": "57809bc8",
   "metadata": {},
   "source": [
    "For proper analysis, the Month and Day columns need to be in words, for example, 0 means Monday, 1 means Tuesday etc. in Day of the week column while in month column, 1 means January, 2 means February etc."
   ]
  },
  {
   "cell_type": "code",
   "execution_count": 159,
   "id": "d52674b3",
   "metadata": {},
   "outputs": [
    {
     "data": {
      "text/html": [
       "<div>\n",
       "<style scoped>\n",
       "    .dataframe tbody tr th:only-of-type {\n",
       "        vertical-align: middle;\n",
       "    }\n",
       "\n",
       "    .dataframe tbody tr th {\n",
       "        vertical-align: top;\n",
       "    }\n",
       "\n",
       "    .dataframe thead th {\n",
       "        text-align: right;\n",
       "    }\n",
       "</style>\n",
       "<table border=\"1\" class=\"dataframe\">\n",
       "  <thead>\n",
       "    <tr style=\"text-align: right;\">\n",
       "      <th></th>\n",
       "      <th>Start_Date</th>\n",
       "      <th>End_Date</th>\n",
       "      <th>Category</th>\n",
       "      <th>Start_Point</th>\n",
       "      <th>Stop_Point</th>\n",
       "      <th>Miles</th>\n",
       "      <th>Purpose</th>\n",
       "      <th>Ride_Duration</th>\n",
       "      <th>Year</th>\n",
       "      <th>Month</th>\n",
       "      <th>Day</th>\n",
       "      <th>Hour</th>\n",
       "    </tr>\n",
       "  </thead>\n",
       "  <tbody>\n",
       "    <tr>\n",
       "      <th>0</th>\n",
       "      <td>2016-01-01 21:11:00</td>\n",
       "      <td>2016-01-01 21:17:00</td>\n",
       "      <td>Business</td>\n",
       "      <td>Fort Pierce</td>\n",
       "      <td>Fort Pierce</td>\n",
       "      <td>5.1</td>\n",
       "      <td>Meal/Entertain</td>\n",
       "      <td>00:06:00</td>\n",
       "      <td>2016</td>\n",
       "      <td>January</td>\n",
       "      <td>4</td>\n",
       "      <td>21</td>\n",
       "    </tr>\n",
       "    <tr>\n",
       "      <th>1</th>\n",
       "      <td>2016-01-02 01:25:00</td>\n",
       "      <td>2016-01-02 01:37:00</td>\n",
       "      <td>Business</td>\n",
       "      <td>Fort Pierce</td>\n",
       "      <td>Fort Pierce</td>\n",
       "      <td>5.0</td>\n",
       "      <td>Unknown</td>\n",
       "      <td>00:12:00</td>\n",
       "      <td>2016</td>\n",
       "      <td>January</td>\n",
       "      <td>5</td>\n",
       "      <td>1</td>\n",
       "    </tr>\n",
       "    <tr>\n",
       "      <th>2</th>\n",
       "      <td>2016-01-02 20:25:00</td>\n",
       "      <td>2016-01-02 20:38:00</td>\n",
       "      <td>Business</td>\n",
       "      <td>Fort Pierce</td>\n",
       "      <td>Fort Pierce</td>\n",
       "      <td>4.8</td>\n",
       "      <td>Errand/Supplies</td>\n",
       "      <td>00:13:00</td>\n",
       "      <td>2016</td>\n",
       "      <td>January</td>\n",
       "      <td>5</td>\n",
       "      <td>20</td>\n",
       "    </tr>\n",
       "    <tr>\n",
       "      <th>3</th>\n",
       "      <td>2016-01-05 17:31:00</td>\n",
       "      <td>2016-01-05 17:45:00</td>\n",
       "      <td>Business</td>\n",
       "      <td>Fort Pierce</td>\n",
       "      <td>Fort Pierce</td>\n",
       "      <td>4.7</td>\n",
       "      <td>Meeting</td>\n",
       "      <td>00:14:00</td>\n",
       "      <td>2016</td>\n",
       "      <td>January</td>\n",
       "      <td>1</td>\n",
       "      <td>17</td>\n",
       "    </tr>\n",
       "    <tr>\n",
       "      <th>4</th>\n",
       "      <td>2016-01-06 14:42:00</td>\n",
       "      <td>2016-01-06 15:49:00</td>\n",
       "      <td>Business</td>\n",
       "      <td>Fort Pierce</td>\n",
       "      <td>West Palm Beach</td>\n",
       "      <td>63.7</td>\n",
       "      <td>Customer Visit</td>\n",
       "      <td>01:07:00</td>\n",
       "      <td>2016</td>\n",
       "      <td>January</td>\n",
       "      <td>2</td>\n",
       "      <td>14</td>\n",
       "    </tr>\n",
       "  </tbody>\n",
       "</table>\n",
       "</div>"
      ],
      "text/plain": [
       "           Start_Date            End_Date  Category  Start_Point  \\\n",
       "0 2016-01-01 21:11:00 2016-01-01 21:17:00  Business  Fort Pierce   \n",
       "1 2016-01-02 01:25:00 2016-01-02 01:37:00  Business  Fort Pierce   \n",
       "2 2016-01-02 20:25:00 2016-01-02 20:38:00  Business  Fort Pierce   \n",
       "3 2016-01-05 17:31:00 2016-01-05 17:45:00  Business  Fort Pierce   \n",
       "4 2016-01-06 14:42:00 2016-01-06 15:49:00  Business  Fort Pierce   \n",
       "\n",
       "        Stop_Point  Miles          Purpose Ride_Duration  Year    Month  Day  \\\n",
       "0      Fort Pierce    5.1   Meal/Entertain      00:06:00  2016  January    4   \n",
       "1      Fort Pierce    5.0          Unknown      00:12:00  2016  January    5   \n",
       "2      Fort Pierce    4.8  Errand/Supplies      00:13:00  2016  January    5   \n",
       "3      Fort Pierce    4.7          Meeting      00:14:00  2016  January    1   \n",
       "4  West Palm Beach   63.7   Customer Visit      01:07:00  2016  January    2   \n",
       "\n",
       "   Hour  \n",
       "0    21  \n",
       "1     1  \n",
       "2    20  \n",
       "3    17  \n",
       "4    14  "
      ]
     },
     "execution_count": 159,
     "metadata": {},
     "output_type": "execute_result"
    }
   ],
   "source": [
    "#Creating a dictionary for Month column:\n",
    "\n",
    "A = {1:'January', 2:'February', 3:'March', 4:'April', 5:'May', 6:'June', 7:'July', 8:'August', 9:'September', 10:'October', 11:'November', 12:'December'}\n",
    "data1['Month'] = data1['Month'].map(A)\n",
    "\n",
    "data1.head(5)"
   ]
  },
  {
   "cell_type": "code",
   "execution_count": 160,
   "id": "3b99a0f1",
   "metadata": {},
   "outputs": [
    {
     "data": {
      "text/html": [
       "<div>\n",
       "<style scoped>\n",
       "    .dataframe tbody tr th:only-of-type {\n",
       "        vertical-align: middle;\n",
       "    }\n",
       "\n",
       "    .dataframe tbody tr th {\n",
       "        vertical-align: top;\n",
       "    }\n",
       "\n",
       "    .dataframe thead th {\n",
       "        text-align: right;\n",
       "    }\n",
       "</style>\n",
       "<table border=\"1\" class=\"dataframe\">\n",
       "  <thead>\n",
       "    <tr style=\"text-align: right;\">\n",
       "      <th></th>\n",
       "      <th>Start_Date</th>\n",
       "      <th>End_Date</th>\n",
       "      <th>Category</th>\n",
       "      <th>Start_Point</th>\n",
       "      <th>Stop_Point</th>\n",
       "      <th>Miles</th>\n",
       "      <th>Purpose</th>\n",
       "      <th>Ride_Duration</th>\n",
       "      <th>Year</th>\n",
       "      <th>Month</th>\n",
       "      <th>Day</th>\n",
       "      <th>Hour</th>\n",
       "    </tr>\n",
       "  </thead>\n",
       "  <tbody>\n",
       "    <tr>\n",
       "      <th>0</th>\n",
       "      <td>2016-01-01 21:11:00</td>\n",
       "      <td>2016-01-01 21:17:00</td>\n",
       "      <td>Business</td>\n",
       "      <td>Fort Pierce</td>\n",
       "      <td>Fort Pierce</td>\n",
       "      <td>5.1</td>\n",
       "      <td>Meal/Entertain</td>\n",
       "      <td>00:06:00</td>\n",
       "      <td>2016</td>\n",
       "      <td>January</td>\n",
       "      <td>Friday</td>\n",
       "      <td>21</td>\n",
       "    </tr>\n",
       "    <tr>\n",
       "      <th>1</th>\n",
       "      <td>2016-01-02 01:25:00</td>\n",
       "      <td>2016-01-02 01:37:00</td>\n",
       "      <td>Business</td>\n",
       "      <td>Fort Pierce</td>\n",
       "      <td>Fort Pierce</td>\n",
       "      <td>5.0</td>\n",
       "      <td>Unknown</td>\n",
       "      <td>00:12:00</td>\n",
       "      <td>2016</td>\n",
       "      <td>January</td>\n",
       "      <td>Saturday</td>\n",
       "      <td>1</td>\n",
       "    </tr>\n",
       "    <tr>\n",
       "      <th>2</th>\n",
       "      <td>2016-01-02 20:25:00</td>\n",
       "      <td>2016-01-02 20:38:00</td>\n",
       "      <td>Business</td>\n",
       "      <td>Fort Pierce</td>\n",
       "      <td>Fort Pierce</td>\n",
       "      <td>4.8</td>\n",
       "      <td>Errand/Supplies</td>\n",
       "      <td>00:13:00</td>\n",
       "      <td>2016</td>\n",
       "      <td>January</td>\n",
       "      <td>Saturday</td>\n",
       "      <td>20</td>\n",
       "    </tr>\n",
       "    <tr>\n",
       "      <th>3</th>\n",
       "      <td>2016-01-05 17:31:00</td>\n",
       "      <td>2016-01-05 17:45:00</td>\n",
       "      <td>Business</td>\n",
       "      <td>Fort Pierce</td>\n",
       "      <td>Fort Pierce</td>\n",
       "      <td>4.7</td>\n",
       "      <td>Meeting</td>\n",
       "      <td>00:14:00</td>\n",
       "      <td>2016</td>\n",
       "      <td>January</td>\n",
       "      <td>Tuesday</td>\n",
       "      <td>17</td>\n",
       "    </tr>\n",
       "    <tr>\n",
       "      <th>4</th>\n",
       "      <td>2016-01-06 14:42:00</td>\n",
       "      <td>2016-01-06 15:49:00</td>\n",
       "      <td>Business</td>\n",
       "      <td>Fort Pierce</td>\n",
       "      <td>West Palm Beach</td>\n",
       "      <td>63.7</td>\n",
       "      <td>Customer Visit</td>\n",
       "      <td>01:07:00</td>\n",
       "      <td>2016</td>\n",
       "      <td>January</td>\n",
       "      <td>Wednesday</td>\n",
       "      <td>14</td>\n",
       "    </tr>\n",
       "  </tbody>\n",
       "</table>\n",
       "</div>"
      ],
      "text/plain": [
       "           Start_Date            End_Date  Category  Start_Point  \\\n",
       "0 2016-01-01 21:11:00 2016-01-01 21:17:00  Business  Fort Pierce   \n",
       "1 2016-01-02 01:25:00 2016-01-02 01:37:00  Business  Fort Pierce   \n",
       "2 2016-01-02 20:25:00 2016-01-02 20:38:00  Business  Fort Pierce   \n",
       "3 2016-01-05 17:31:00 2016-01-05 17:45:00  Business  Fort Pierce   \n",
       "4 2016-01-06 14:42:00 2016-01-06 15:49:00  Business  Fort Pierce   \n",
       "\n",
       "        Stop_Point  Miles          Purpose Ride_Duration  Year    Month  \\\n",
       "0      Fort Pierce    5.1   Meal/Entertain      00:06:00  2016  January   \n",
       "1      Fort Pierce    5.0          Unknown      00:12:00  2016  January   \n",
       "2      Fort Pierce    4.8  Errand/Supplies      00:13:00  2016  January   \n",
       "3      Fort Pierce    4.7          Meeting      00:14:00  2016  January   \n",
       "4  West Palm Beach   63.7   Customer Visit      01:07:00  2016  January   \n",
       "\n",
       "         Day  Hour  \n",
       "0     Friday    21  \n",
       "1   Saturday     1  \n",
       "2   Saturday    20  \n",
       "3    Tuesday    17  \n",
       "4  Wednesday    14  "
      ]
     },
     "execution_count": 160,
     "metadata": {},
     "output_type": "execute_result"
    }
   ],
   "source": [
    "#Creating a dictionary for Day of the week column:\n",
    "B = {0:'Monday', 1:'Tuesday', 2:'Wednesday', 3:'Thursday', 4:'Friday', 5:'Saturday', 6:'Sunday'}\n",
    "data1['Day'] = data1['Day'].map(B)\n",
    "\n",
    "data1.head(5)"
   ]
  },
  {
   "cell_type": "markdown",
   "id": "704677a6",
   "metadata": {},
   "source": [
    "Here, 00:06:00 means 6 minutes duration while 01:07:00 means 1 hour, 7 minutes duration. \n",
    "The dataset is now ready for visualization."
   ]
  },
  {
   "cell_type": "code",
   "execution_count": 161,
   "id": "b59f453c",
   "metadata": {},
   "outputs": [
    {
     "data": {
      "text/html": [
       "<div>\n",
       "<style scoped>\n",
       "    .dataframe tbody tr th:only-of-type {\n",
       "        vertical-align: middle;\n",
       "    }\n",
       "\n",
       "    .dataframe tbody tr th {\n",
       "        vertical-align: top;\n",
       "    }\n",
       "\n",
       "    .dataframe thead th {\n",
       "        text-align: right;\n",
       "    }\n",
       "</style>\n",
       "<table border=\"1\" class=\"dataframe\">\n",
       "  <thead>\n",
       "    <tr style=\"text-align: right;\">\n",
       "      <th></th>\n",
       "      <th>Miles</th>\n",
       "      <th>Year</th>\n",
       "      <th>Hour</th>\n",
       "    </tr>\n",
       "  </thead>\n",
       "  <tbody>\n",
       "    <tr>\n",
       "      <th>count</th>\n",
       "      <td>1133.000000</td>\n",
       "      <td>1133.0</td>\n",
       "      <td>1133.000000</td>\n",
       "    </tr>\n",
       "    <tr>\n",
       "      <th>mean</th>\n",
       "      <td>7.985613</td>\n",
       "      <td>2016.0</td>\n",
       "      <td>14.673433</td>\n",
       "    </tr>\n",
       "    <tr>\n",
       "      <th>std</th>\n",
       "      <td>8.078931</td>\n",
       "      <td>0.0</td>\n",
       "      <td>4.575744</td>\n",
       "    </tr>\n",
       "    <tr>\n",
       "      <th>min</th>\n",
       "      <td>0.500000</td>\n",
       "      <td>2016.0</td>\n",
       "      <td>0.000000</td>\n",
       "    </tr>\n",
       "    <tr>\n",
       "      <th>25%</th>\n",
       "      <td>2.800000</td>\n",
       "      <td>2016.0</td>\n",
       "      <td>12.000000</td>\n",
       "    </tr>\n",
       "    <tr>\n",
       "      <th>50%</th>\n",
       "      <td>5.800000</td>\n",
       "      <td>2016.0</td>\n",
       "      <td>15.000000</td>\n",
       "    </tr>\n",
       "    <tr>\n",
       "      <th>75%</th>\n",
       "      <td>10.300000</td>\n",
       "      <td>2016.0</td>\n",
       "      <td>18.000000</td>\n",
       "    </tr>\n",
       "    <tr>\n",
       "      <th>max</th>\n",
       "      <td>69.100000</td>\n",
       "      <td>2016.0</td>\n",
       "      <td>23.000000</td>\n",
       "    </tr>\n",
       "  </tbody>\n",
       "</table>\n",
       "</div>"
      ],
      "text/plain": [
       "             Miles    Year         Hour\n",
       "count  1133.000000  1133.0  1133.000000\n",
       "mean      7.985613  2016.0    14.673433\n",
       "std       8.078931     0.0     4.575744\n",
       "min       0.500000  2016.0     0.000000\n",
       "25%       2.800000  2016.0    12.000000\n",
       "50%       5.800000  2016.0    15.000000\n",
       "75%      10.300000  2016.0    18.000000\n",
       "max      69.100000  2016.0    23.000000"
      ]
     },
     "execution_count": 161,
     "metadata": {},
     "output_type": "execute_result"
    }
   ],
   "source": [
    "data1.describe()"
   ]
  },
  {
   "cell_type": "code",
   "execution_count": 162,
   "id": "1784876e",
   "metadata": {},
   "outputs": [
    {
     "data": {
      "text/plain": [
       "<AxesSubplot:>"
      ]
     },
     "execution_count": 162,
     "metadata": {},
     "output_type": "execute_result"
    },
    {
     "data": {
      "image/png": "[encoded data removed]",
      "text/plain": [
       "<Figure size 432x288 with 1 Axes>"
      ]
     },
     "metadata": {
      "needs_background": "light"
     },
     "output_type": "display_data"
    }
   ],
   "source": [
    "#Identifying outliers in the Hour column\n",
    "\n",
    "data1[[\"Hour\"]].boxplot()"
   ]
  },
  {
   "cell_type": "markdown",
   "id": "526e0dff",
   "metadata": {},
   "source": [
    "It seems that the Hour column has some outliers."
   ]
  },
  {
   "cell_type": "code",
   "execution_count": 163,
   "id": "c79eb137",
   "metadata": {},
   "outputs": [
    {
     "data": {
      "text/plain": [
       "Text(0.5, 1.0, 'Distribution of Hours')"
      ]
     },
     "execution_count": 163,
     "metadata": {},
     "output_type": "execute_result"
    },
    {
     "data": {
      "image/png": "[encoded data removed]",
      "text/plain": [
       "<Figure size 720x360 with 1 Axes>"
      ]
     },
     "metadata": {
      "needs_background": "light"
     },
     "output_type": "display_data"
    }
   ],
   "source": [
    "#Checking the distribution of hours of the Uber rides:\n",
    "\n",
    "plt.figure(figsize=(10,5))\n",
    "sns.distplot(data1.Hour)\n",
    "plt.title(\"Distribution of Hours\")"
   ]
  },
  {
   "cell_type": "markdown",
   "id": "27c54470",
   "metadata": {},
   "source": [
    "The distribution of hours seems to be a normal distribution and very slightly left skewed."
   ]
  },
  {
   "cell_type": "code",
   "execution_count": 164,
   "id": "daf3d76b",
   "metadata": {},
   "outputs": [
    {
     "data": {
      "text/plain": [
       "-0.5909206930122288"
      ]
     },
     "execution_count": 164,
     "metadata": {},
     "output_type": "execute_result"
    }
   ],
   "source": [
    "#Skewness of Hour column values:\n",
    "\n",
    "data1.Hour.skew()"
   ]
  },
  {
   "cell_type": "markdown",
   "id": "8729a553",
   "metadata": {},
   "source": [
    "The distribution of hours is very slightly left skewed."
   ]
  },
  {
   "cell_type": "code",
   "execution_count": 165,
   "id": "3eb1024f",
   "metadata": {},
   "outputs": [
    {
     "name": "stdout",
     "output_type": "stream",
     "text": [
      "14.673433362753752\n",
      "4.575743615271999\n",
      "28.400664208569747\n",
      "0.9462025169377561\n"
     ]
    },
    {
     "data": {
      "text/html": [
       "<div>\n",
       "<style scoped>\n",
       "    .dataframe tbody tr th:only-of-type {\n",
       "        vertical-align: middle;\n",
       "    }\n",
       "\n",
       "    .dataframe tbody tr th {\n",
       "        vertical-align: top;\n",
       "    }\n",
       "\n",
       "    .dataframe thead th {\n",
       "        text-align: right;\n",
       "    }\n",
       "</style>\n",
       "<table border=\"1\" class=\"dataframe\">\n",
       "  <thead>\n",
       "    <tr style=\"text-align: right;\">\n",
       "      <th></th>\n",
       "      <th>Start_Date</th>\n",
       "      <th>End_Date</th>\n",
       "      <th>Category</th>\n",
       "      <th>Start_Point</th>\n",
       "      <th>Stop_Point</th>\n",
       "      <th>Miles</th>\n",
       "      <th>Purpose</th>\n",
       "      <th>Ride_Duration</th>\n",
       "      <th>Year</th>\n",
       "      <th>Month</th>\n",
       "      <th>Day</th>\n",
       "      <th>Hour</th>\n",
       "    </tr>\n",
       "  </thead>\n",
       "  <tbody>\n",
       "    <tr>\n",
       "      <th>27</th>\n",
       "      <td>2016-01-15 00:41:00</td>\n",
       "      <td>2016-01-15 01:01:00</td>\n",
       "      <td>Business</td>\n",
       "      <td>Morrisville</td>\n",
       "      <td>Cary</td>\n",
       "      <td>8.0</td>\n",
       "      <td>Errand/Supplies</td>\n",
       "      <td>00:20:00</td>\n",
       "      <td>2016</td>\n",
       "      <td>January</td>\n",
       "      <td>Friday</td>\n",
       "      <td>0</td>\n",
       "    </tr>\n",
       "    <tr>\n",
       "      <th>103</th>\n",
       "      <td>2016-02-14 00:50:00</td>\n",
       "      <td>2016-02-14 01:00:00</td>\n",
       "      <td>Personal</td>\n",
       "      <td>Jackson Heights</td>\n",
       "      <td>East Elmhurst</td>\n",
       "      <td>1.8</td>\n",
       "      <td>Unknown</td>\n",
       "      <td>00:10:00</td>\n",
       "      <td>2016</td>\n",
       "      <td>February</td>\n",
       "      <td>Sunday</td>\n",
       "      <td>0</td>\n",
       "    </tr>\n",
       "    <tr>\n",
       "      <th>231</th>\n",
       "      <td>2016-03-17 00:33:00</td>\n",
       "      <td>2016-03-17 00:44:00</td>\n",
       "      <td>Personal</td>\n",
       "      <td>Downtown</td>\n",
       "      <td>The Drag</td>\n",
       "      <td>1.7</td>\n",
       "      <td>Unknown</td>\n",
       "      <td>00:11:00</td>\n",
       "      <td>2016</td>\n",
       "      <td>March</td>\n",
       "      <td>Thursday</td>\n",
       "      <td>0</td>\n",
       "    </tr>\n",
       "    <tr>\n",
       "      <th>274</th>\n",
       "      <td>2016-03-27 00:31:00</td>\n",
       "      <td>2016-03-27 00:40:00</td>\n",
       "      <td>Business</td>\n",
       "      <td>Lake Reams</td>\n",
       "      <td>Lake Reams</td>\n",
       "      <td>2.1</td>\n",
       "      <td>Errand/Supplies</td>\n",
       "      <td>00:09:00</td>\n",
       "      <td>2016</td>\n",
       "      <td>March</td>\n",
       "      <td>Sunday</td>\n",
       "      <td>0</td>\n",
       "    </tr>\n",
       "    <tr>\n",
       "      <th>301</th>\n",
       "      <td>2016-04-06 00:19:00</td>\n",
       "      <td>2016-04-06 00:39:00</td>\n",
       "      <td>Business</td>\n",
       "      <td>Wayne Ridge</td>\n",
       "      <td>Whitebridge</td>\n",
       "      <td>8.0</td>\n",
       "      <td>Meal/Entertain</td>\n",
       "      <td>00:20:00</td>\n",
       "      <td>2016</td>\n",
       "      <td>April</td>\n",
       "      <td>Wednesday</td>\n",
       "      <td>0</td>\n",
       "    </tr>\n",
       "    <tr>\n",
       "      <th>386</th>\n",
       "      <td>2016-05-28 00:15:00</td>\n",
       "      <td>2016-05-28 00:21:00</td>\n",
       "      <td>Business</td>\n",
       "      <td>Kilarney Woods</td>\n",
       "      <td>Whitebridge</td>\n",
       "      <td>4.7</td>\n",
       "      <td>Errand/Supplies</td>\n",
       "      <td>00:06:00</td>\n",
       "      <td>2016</td>\n",
       "      <td>May</td>\n",
       "      <td>Saturday</td>\n",
       "      <td>0</td>\n",
       "    </tr>\n",
       "    <tr>\n",
       "      <th>454</th>\n",
       "      <td>2016-06-18 00:29:00</td>\n",
       "      <td>2016-06-18 00:51:00</td>\n",
       "      <td>Business</td>\n",
       "      <td>Morrisville</td>\n",
       "      <td>Cary</td>\n",
       "      <td>8.7</td>\n",
       "      <td>Unknown</td>\n",
       "      <td>00:22:00</td>\n",
       "      <td>2016</td>\n",
       "      <td>June</td>\n",
       "      <td>Saturday</td>\n",
       "      <td>0</td>\n",
       "    </tr>\n",
       "    <tr>\n",
       "      <th>489</th>\n",
       "      <td>2016-06-28 00:48:00</td>\n",
       "      <td>2016-06-28 01:05:00</td>\n",
       "      <td>Business</td>\n",
       "      <td>Morrisville</td>\n",
       "      <td>Cary</td>\n",
       "      <td>8.2</td>\n",
       "      <td>Customer Visit</td>\n",
       "      <td>00:17:00</td>\n",
       "      <td>2016</td>\n",
       "      <td>June</td>\n",
       "      <td>Tuesday</td>\n",
       "      <td>0</td>\n",
       "    </tr>\n",
       "    <tr>\n",
       "      <th>500</th>\n",
       "      <td>2016-07-01 00:00:00</td>\n",
       "      <td>2016-07-01 00:25:00</td>\n",
       "      <td>Business</td>\n",
       "      <td>Durham</td>\n",
       "      <td>Cary</td>\n",
       "      <td>9.9</td>\n",
       "      <td>Meeting</td>\n",
       "      <td>00:25:00</td>\n",
       "      <td>2016</td>\n",
       "      <td>July</td>\n",
       "      <td>Friday</td>\n",
       "      <td>0</td>\n",
       "    </tr>\n",
       "    <tr>\n",
       "      <th>507</th>\n",
       "      <td>2016-07-03 00:28:00</td>\n",
       "      <td>2016-07-03 00:38:00</td>\n",
       "      <td>Business</td>\n",
       "      <td>Cary</td>\n",
       "      <td>Morrisville</td>\n",
       "      <td>3.1</td>\n",
       "      <td>Errand/Supplies</td>\n",
       "      <td>00:10:00</td>\n",
       "      <td>2016</td>\n",
       "      <td>July</td>\n",
       "      <td>Sunday</td>\n",
       "      <td>0</td>\n",
       "    </tr>\n",
       "    <tr>\n",
       "      <th>510</th>\n",
       "      <td>2016-07-04 00:32:00</td>\n",
       "      <td>2016-07-04 00:47:00</td>\n",
       "      <td>Business</td>\n",
       "      <td>Durham</td>\n",
       "      <td>Cary</td>\n",
       "      <td>9.9</td>\n",
       "      <td>Meeting</td>\n",
       "      <td>00:15:00</td>\n",
       "      <td>2016</td>\n",
       "      <td>July</td>\n",
       "      <td>Monday</td>\n",
       "      <td>0</td>\n",
       "    </tr>\n",
       "    <tr>\n",
       "      <th>514</th>\n",
       "      <td>2016-07-05 00:00:00</td>\n",
       "      <td>2016-07-05 00:05:00</td>\n",
       "      <td>Business</td>\n",
       "      <td>Parkwood</td>\n",
       "      <td>Parkwood</td>\n",
       "      <td>1.2</td>\n",
       "      <td>Errand/Supplies</td>\n",
       "      <td>00:05:00</td>\n",
       "      <td>2016</td>\n",
       "      <td>July</td>\n",
       "      <td>Tuesday</td>\n",
       "      <td>0</td>\n",
       "    </tr>\n",
       "    <tr>\n",
       "      <th>515</th>\n",
       "      <td>2016-07-05 00:08:00</td>\n",
       "      <td>2016-07-05 00:28:00</td>\n",
       "      <td>Business</td>\n",
       "      <td>Durham</td>\n",
       "      <td>Cary</td>\n",
       "      <td>9.9</td>\n",
       "      <td>Meeting</td>\n",
       "      <td>00:20:00</td>\n",
       "      <td>2016</td>\n",
       "      <td>July</td>\n",
       "      <td>Tuesday</td>\n",
       "      <td>0</td>\n",
       "    </tr>\n",
       "    <tr>\n",
       "      <th>519</th>\n",
       "      <td>2016-07-06 00:33:00</td>\n",
       "      <td>2016-07-06 00:53:00</td>\n",
       "      <td>Business</td>\n",
       "      <td>Morrisville</td>\n",
       "      <td>Cary</td>\n",
       "      <td>6.3</td>\n",
       "      <td>Meal/Entertain</td>\n",
       "      <td>00:20:00</td>\n",
       "      <td>2016</td>\n",
       "      <td>July</td>\n",
       "      <td>Wednesday</td>\n",
       "      <td>0</td>\n",
       "    </tr>\n",
       "    <tr>\n",
       "      <th>606</th>\n",
       "      <td>2016-07-28 00:04:00</td>\n",
       "      <td>2016-07-28 00:09:00</td>\n",
       "      <td>Business</td>\n",
       "      <td>Morrisville</td>\n",
       "      <td>Cary</td>\n",
       "      <td>2.3</td>\n",
       "      <td>Unknown</td>\n",
       "      <td>00:05:00</td>\n",
       "      <td>2016</td>\n",
       "      <td>July</td>\n",
       "      <td>Thursday</td>\n",
       "      <td>0</td>\n",
       "    </tr>\n",
       "    <tr>\n",
       "      <th>815</th>\n",
       "      <td>2016-10-16 00:01:00</td>\n",
       "      <td>2016-10-16 00:14:00</td>\n",
       "      <td>Business</td>\n",
       "      <td>Morrisville</td>\n",
       "      <td>Cary</td>\n",
       "      <td>3.1</td>\n",
       "      <td>Unknown</td>\n",
       "      <td>00:13:00</td>\n",
       "      <td>2016</td>\n",
       "      <td>October</td>\n",
       "      <td>Sunday</td>\n",
       "      <td>0</td>\n",
       "    </tr>\n",
       "    <tr>\n",
       "      <th>844</th>\n",
       "      <td>2016-10-22 00:54:00</td>\n",
       "      <td>2016-10-22 01:09:00</td>\n",
       "      <td>Business</td>\n",
       "      <td>Morrisville</td>\n",
       "      <td>Cary</td>\n",
       "      <td>8.7</td>\n",
       "      <td>Unknown</td>\n",
       "      <td>00:15:00</td>\n",
       "      <td>2016</td>\n",
       "      <td>October</td>\n",
       "      <td>Saturday</td>\n",
       "      <td>0</td>\n",
       "    </tr>\n",
       "    <tr>\n",
       "      <th>1111</th>\n",
       "      <td>2016-12-25 00:10:00</td>\n",
       "      <td>2016-12-25 00:14:00</td>\n",
       "      <td>Business</td>\n",
       "      <td>Lahore</td>\n",
       "      <td>Lahore</td>\n",
       "      <td>0.6</td>\n",
       "      <td>Errand/Supplies</td>\n",
       "      <td>00:04:00</td>\n",
       "      <td>2016</td>\n",
       "      <td>December</td>\n",
       "      <td>Sunday</td>\n",
       "      <td>0</td>\n",
       "    </tr>\n",
       "    <tr>\n",
       "      <th>1132</th>\n",
       "      <td>2016-12-29 00:49:00</td>\n",
       "      <td>2016-12-29 01:06:00</td>\n",
       "      <td>Business</td>\n",
       "      <td>Kar?chi</td>\n",
       "      <td>Kar?chi</td>\n",
       "      <td>3.8</td>\n",
       "      <td>Errand/Supplies</td>\n",
       "      <td>00:17:00</td>\n",
       "      <td>2016</td>\n",
       "      <td>December</td>\n",
       "      <td>Thursday</td>\n",
       "      <td>0</td>\n",
       "    </tr>\n",
       "  </tbody>\n",
       "</table>\n",
       "</div>"
      ],
      "text/plain": [
       "              Start_Date            End_Date  Category      Start_Point  \\\n",
       "27   2016-01-15 00:41:00 2016-01-15 01:01:00  Business      Morrisville   \n",
       "103  2016-02-14 00:50:00 2016-02-14 01:00:00  Personal  Jackson Heights   \n",
       "231  2016-03-17 00:33:00 2016-03-17 00:44:00  Personal         Downtown   \n",
       "274  2016-03-27 00:31:00 2016-03-27 00:40:00  Business       Lake Reams   \n",
       "301  2016-04-06 00:19:00 2016-04-06 00:39:00  Business      Wayne Ridge   \n",
       "386  2016-05-28 00:15:00 2016-05-28 00:21:00  Business   Kilarney Woods   \n",
       "454  2016-06-18 00:29:00 2016-06-18 00:51:00  Business      Morrisville   \n",
       "489  2016-06-28 00:48:00 2016-06-28 01:05:00  Business      Morrisville   \n",
       "500  2016-07-01 00:00:00 2016-07-01 00:25:00  Business           Durham   \n",
       "507  2016-07-03 00:28:00 2016-07-03 00:38:00  Business             Cary   \n",
       "510  2016-07-04 00:32:00 2016-07-04 00:47:00  Business           Durham   \n",
       "514  2016-07-05 00:00:00 2016-07-05 00:05:00  Business         Parkwood   \n",
       "515  2016-07-05 00:08:00 2016-07-05 00:28:00  Business           Durham   \n",
       "519  2016-07-06 00:33:00 2016-07-06 00:53:00  Business      Morrisville   \n",
       "606  2016-07-28 00:04:00 2016-07-28 00:09:00  Business      Morrisville   \n",
       "815  2016-10-16 00:01:00 2016-10-16 00:14:00  Business      Morrisville   \n",
       "844  2016-10-22 00:54:00 2016-10-22 01:09:00  Business      Morrisville   \n",
       "1111 2016-12-25 00:10:00 2016-12-25 00:14:00  Business           Lahore   \n",
       "1132 2016-12-29 00:49:00 2016-12-29 01:06:00  Business          Kar?chi   \n",
       "\n",
       "         Stop_Point  Miles          Purpose Ride_Duration  Year     Month  \\\n",
       "27             Cary    8.0  Errand/Supplies      00:20:00  2016   January   \n",
       "103   East Elmhurst    1.8          Unknown      00:10:00  2016  February   \n",
       "231        The Drag    1.7          Unknown      00:11:00  2016     March   \n",
       "274      Lake Reams    2.1  Errand/Supplies      00:09:00  2016     March   \n",
       "301     Whitebridge    8.0   Meal/Entertain      00:20:00  2016     April   \n",
       "386     Whitebridge    4.7  Errand/Supplies      00:06:00  2016       May   \n",
       "454            Cary    8.7          Unknown      00:22:00  2016      June   \n",
       "489            Cary    8.2   Customer Visit      00:17:00  2016      June   \n",
       "500            Cary    9.9          Meeting      00:25:00  2016      July   \n",
       "507     Morrisville    3.1  Errand/Supplies      00:10:00  2016      July   \n",
       "510            Cary    9.9          Meeting      00:15:00  2016      July   \n",
       "514        Parkwood    1.2  Errand/Supplies      00:05:00  2016      July   \n",
       "515            Cary    9.9          Meeting      00:20:00  2016      July   \n",
       "519            Cary    6.3   Meal/Entertain      00:20:00  2016      July   \n",
       "606            Cary    2.3          Unknown      00:05:00  2016      July   \n",
       "815            Cary    3.1          Unknown      00:13:00  2016   October   \n",
       "844            Cary    8.7          Unknown      00:15:00  2016   October   \n",
       "1111         Lahore    0.6  Errand/Supplies      00:04:00  2016  December   \n",
       "1132        Kar?chi    3.8  Errand/Supplies      00:17:00  2016  December   \n",
       "\n",
       "            Day  Hour  \n",
       "27       Friday     0  \n",
       "103      Sunday     0  \n",
       "231    Thursday     0  \n",
       "274      Sunday     0  \n",
       "301   Wednesday     0  \n",
       "386    Saturday     0  \n",
       "454    Saturday     0  \n",
       "489     Tuesday     0  \n",
       "500      Friday     0  \n",
       "507      Sunday     0  \n",
       "510      Monday     0  \n",
       "514     Tuesday     0  \n",
       "515     Tuesday     0  \n",
       "519   Wednesday     0  \n",
       "606    Thursday     0  \n",
       "815      Sunday     0  \n",
       "844    Saturday     0  \n",
       "1111     Sunday     0  \n",
       "1132   Thursday     0  "
      ]
     },
     "execution_count": 165,
     "metadata": {},
     "output_type": "execute_result"
    }
   ],
   "source": [
    "#Identifying outliers from the Hour column\n",
    "\n",
    "Hour_mean = data1.Hour.mean()\n",
    "print(Hour_mean)\n",
    "\n",
    "Hour_std_dev = data1.Hour.std()\n",
    "print(Hour_std_dev)\n",
    "\n",
    "print(Hour_mean+3*Hour_std_dev)\n",
    "print(Hour_mean-3*Hour_std_dev)\n",
    "\n",
    "data1 [(data1.Hour> Miles_mean+3*Hour_std_dev) | (data1.Hour < Hour_mean-3*Hour_std_dev)]"
   ]
  },
  {
   "cell_type": "markdown",
   "id": "b285ce68",
   "metadata": {},
   "source": [
    "These are the outliers present in the Hour column which need to be removed."
   ]
  },
  {
   "cell_type": "code",
   "execution_count": 166,
   "id": "a46dbe16",
   "metadata": {},
   "outputs": [
    {
     "data": {
      "text/html": [
       "<div>\n",
       "<style scoped>\n",
       "    .dataframe tbody tr th:only-of-type {\n",
       "        vertical-align: middle;\n",
       "    }\n",
       "\n",
       "    .dataframe tbody tr th {\n",
       "        vertical-align: top;\n",
       "    }\n",
       "\n",
       "    .dataframe thead th {\n",
       "        text-align: right;\n",
       "    }\n",
       "</style>\n",
       "<table border=\"1\" class=\"dataframe\">\n",
       "  <thead>\n",
       "    <tr style=\"text-align: right;\">\n",
       "      <th></th>\n",
       "      <th>Start_Date</th>\n",
       "      <th>End_Date</th>\n",
       "      <th>Category</th>\n",
       "      <th>Start_Point</th>\n",
       "      <th>Stop_Point</th>\n",
       "      <th>Miles</th>\n",
       "      <th>Purpose</th>\n",
       "      <th>Ride_Duration</th>\n",
       "      <th>Year</th>\n",
       "      <th>Month</th>\n",
       "      <th>Day</th>\n",
       "      <th>Hour</th>\n",
       "    </tr>\n",
       "  </thead>\n",
       "  <tbody>\n",
       "    <tr>\n",
       "      <th>0</th>\n",
       "      <td>2016-01-01 21:11:00</td>\n",
       "      <td>2016-01-01 21:17:00</td>\n",
       "      <td>Business</td>\n",
       "      <td>Fort Pierce</td>\n",
       "      <td>Fort Pierce</td>\n",
       "      <td>5.1</td>\n",
       "      <td>Meal/Entertain</td>\n",
       "      <td>00:06:00</td>\n",
       "      <td>2016</td>\n",
       "      <td>January</td>\n",
       "      <td>Friday</td>\n",
       "      <td>21</td>\n",
       "    </tr>\n",
       "    <tr>\n",
       "      <th>1</th>\n",
       "      <td>2016-01-02 01:25:00</td>\n",
       "      <td>2016-01-02 01:37:00</td>\n",
       "      <td>Business</td>\n",
       "      <td>Fort Pierce</td>\n",
       "      <td>Fort Pierce</td>\n",
       "      <td>5.0</td>\n",
       "      <td>Unknown</td>\n",
       "      <td>00:12:00</td>\n",
       "      <td>2016</td>\n",
       "      <td>January</td>\n",
       "      <td>Saturday</td>\n",
       "      <td>1</td>\n",
       "    </tr>\n",
       "    <tr>\n",
       "      <th>2</th>\n",
       "      <td>2016-01-02 20:25:00</td>\n",
       "      <td>2016-01-02 20:38:00</td>\n",
       "      <td>Business</td>\n",
       "      <td>Fort Pierce</td>\n",
       "      <td>Fort Pierce</td>\n",
       "      <td>4.8</td>\n",
       "      <td>Errand/Supplies</td>\n",
       "      <td>00:13:00</td>\n",
       "      <td>2016</td>\n",
       "      <td>January</td>\n",
       "      <td>Saturday</td>\n",
       "      <td>20</td>\n",
       "    </tr>\n",
       "    <tr>\n",
       "      <th>3</th>\n",
       "      <td>2016-01-05 17:31:00</td>\n",
       "      <td>2016-01-05 17:45:00</td>\n",
       "      <td>Business</td>\n",
       "      <td>Fort Pierce</td>\n",
       "      <td>Fort Pierce</td>\n",
       "      <td>4.7</td>\n",
       "      <td>Meeting</td>\n",
       "      <td>00:14:00</td>\n",
       "      <td>2016</td>\n",
       "      <td>January</td>\n",
       "      <td>Tuesday</td>\n",
       "      <td>17</td>\n",
       "    </tr>\n",
       "    <tr>\n",
       "      <th>4</th>\n",
       "      <td>2016-01-06 14:42:00</td>\n",
       "      <td>2016-01-06 15:49:00</td>\n",
       "      <td>Business</td>\n",
       "      <td>Fort Pierce</td>\n",
       "      <td>West Palm Beach</td>\n",
       "      <td>63.7</td>\n",
       "      <td>Customer Visit</td>\n",
       "      <td>01:07:00</td>\n",
       "      <td>2016</td>\n",
       "      <td>January</td>\n",
       "      <td>Wednesday</td>\n",
       "      <td>14</td>\n",
       "    </tr>\n",
       "    <tr>\n",
       "      <th>...</th>\n",
       "      <td>...</td>\n",
       "      <td>...</td>\n",
       "      <td>...</td>\n",
       "      <td>...</td>\n",
       "      <td>...</td>\n",
       "      <td>...</td>\n",
       "      <td>...</td>\n",
       "      <td>...</td>\n",
       "      <td>...</td>\n",
       "      <td>...</td>\n",
       "      <td>...</td>\n",
       "      <td>...</td>\n",
       "    </tr>\n",
       "    <tr>\n",
       "      <th>1150</th>\n",
       "      <td>2016-12-31 01:07:00</td>\n",
       "      <td>2016-12-31 01:14:00</td>\n",
       "      <td>Business</td>\n",
       "      <td>Kar?chi</td>\n",
       "      <td>Kar?chi</td>\n",
       "      <td>0.7</td>\n",
       "      <td>Meeting</td>\n",
       "      <td>00:07:00</td>\n",
       "      <td>2016</td>\n",
       "      <td>December</td>\n",
       "      <td>Saturday</td>\n",
       "      <td>1</td>\n",
       "    </tr>\n",
       "    <tr>\n",
       "      <th>1151</th>\n",
       "      <td>2016-12-31 13:24:00</td>\n",
       "      <td>2016-12-31 13:42:00</td>\n",
       "      <td>Business</td>\n",
       "      <td>Kar?chi</td>\n",
       "      <td>Unknown Location</td>\n",
       "      <td>3.9</td>\n",
       "      <td>Temporary Site</td>\n",
       "      <td>00:18:00</td>\n",
       "      <td>2016</td>\n",
       "      <td>December</td>\n",
       "      <td>Saturday</td>\n",
       "      <td>13</td>\n",
       "    </tr>\n",
       "    <tr>\n",
       "      <th>1152</th>\n",
       "      <td>2016-12-31 15:03:00</td>\n",
       "      <td>2016-12-31 15:38:00</td>\n",
       "      <td>Business</td>\n",
       "      <td>Unknown Location</td>\n",
       "      <td>Unknown Location</td>\n",
       "      <td>16.2</td>\n",
       "      <td>Meeting</td>\n",
       "      <td>00:35:00</td>\n",
       "      <td>2016</td>\n",
       "      <td>December</td>\n",
       "      <td>Saturday</td>\n",
       "      <td>15</td>\n",
       "    </tr>\n",
       "    <tr>\n",
       "      <th>1153</th>\n",
       "      <td>2016-12-31 21:32:00</td>\n",
       "      <td>2016-12-31 21:50:00</td>\n",
       "      <td>Business</td>\n",
       "      <td>Katunayake</td>\n",
       "      <td>Gampaha</td>\n",
       "      <td>6.4</td>\n",
       "      <td>Temporary Site</td>\n",
       "      <td>00:18:00</td>\n",
       "      <td>2016</td>\n",
       "      <td>December</td>\n",
       "      <td>Saturday</td>\n",
       "      <td>21</td>\n",
       "    </tr>\n",
       "    <tr>\n",
       "      <th>1154</th>\n",
       "      <td>2016-12-31 22:08:00</td>\n",
       "      <td>2016-12-31 23:51:00</td>\n",
       "      <td>Business</td>\n",
       "      <td>Gampaha</td>\n",
       "      <td>Ilukwatta</td>\n",
       "      <td>48.2</td>\n",
       "      <td>Temporary Site</td>\n",
       "      <td>01:43:00</td>\n",
       "      <td>2016</td>\n",
       "      <td>December</td>\n",
       "      <td>Saturday</td>\n",
       "      <td>22</td>\n",
       "    </tr>\n",
       "  </tbody>\n",
       "</table>\n",
       "<p>1114 rows × 12 columns</p>\n",
       "</div>"
      ],
      "text/plain": [
       "              Start_Date            End_Date  Category       Start_Point  \\\n",
       "0    2016-01-01 21:11:00 2016-01-01 21:17:00  Business       Fort Pierce   \n",
       "1    2016-01-02 01:25:00 2016-01-02 01:37:00  Business       Fort Pierce   \n",
       "2    2016-01-02 20:25:00 2016-01-02 20:38:00  Business       Fort Pierce   \n",
       "3    2016-01-05 17:31:00 2016-01-05 17:45:00  Business       Fort Pierce   \n",
       "4    2016-01-06 14:42:00 2016-01-06 15:49:00  Business       Fort Pierce   \n",
       "...                  ...                 ...       ...               ...   \n",
       "1150 2016-12-31 01:07:00 2016-12-31 01:14:00  Business           Kar?chi   \n",
       "1151 2016-12-31 13:24:00 2016-12-31 13:42:00  Business           Kar?chi   \n",
       "1152 2016-12-31 15:03:00 2016-12-31 15:38:00  Business  Unknown Location   \n",
       "1153 2016-12-31 21:32:00 2016-12-31 21:50:00  Business        Katunayake   \n",
       "1154 2016-12-31 22:08:00 2016-12-31 23:51:00  Business           Gampaha   \n",
       "\n",
       "            Stop_Point  Miles          Purpose Ride_Duration  Year     Month  \\\n",
       "0          Fort Pierce    5.1   Meal/Entertain      00:06:00  2016   January   \n",
       "1          Fort Pierce    5.0          Unknown      00:12:00  2016   January   \n",
       "2          Fort Pierce    4.8  Errand/Supplies      00:13:00  2016   January   \n",
       "3          Fort Pierce    4.7          Meeting      00:14:00  2016   January   \n",
       "4      West Palm Beach   63.7   Customer Visit      01:07:00  2016   January   \n",
       "...                ...    ...              ...           ...   ...       ...   \n",
       "1150           Kar?chi    0.7          Meeting      00:07:00  2016  December   \n",
       "1151  Unknown Location    3.9   Temporary Site      00:18:00  2016  December   \n",
       "1152  Unknown Location   16.2          Meeting      00:35:00  2016  December   \n",
       "1153           Gampaha    6.4   Temporary Site      00:18:00  2016  December   \n",
       "1154         Ilukwatta   48.2   Temporary Site      01:43:00  2016  December   \n",
       "\n",
       "            Day  Hour  \n",
       "0        Friday    21  \n",
       "1      Saturday     1  \n",
       "2      Saturday    20  \n",
       "3       Tuesday    17  \n",
       "4     Wednesday    14  \n",
       "...         ...   ...  \n",
       "1150   Saturday     1  \n",
       "1151   Saturday    13  \n",
       "1152   Saturday    15  \n",
       "1153   Saturday    21  \n",
       "1154   Saturday    22  \n",
       "\n",
       "[1114 rows x 12 columns]"
      ]
     },
     "execution_count": 166,
     "metadata": {},
     "output_type": "execute_result"
    }
   ],
   "source": [
    "#Removing outliers from the Hour column in the dataset\n",
    "\n",
    "data2 = data1 [(data1.Hour < Hour_mean+3*Hour_std_dev) & (data1.Hour > Hour_mean-3*Hour_std_dev)]\n",
    "data2\n"
   ]
  },
  {
   "cell_type": "markdown",
   "id": "a764dc7e",
   "metadata": {},
   "source": [
    "The final dataset has reduced to 1114 rows. This is the dataset which will be visualized for analysis."
   ]
  },
  {
   "cell_type": "code",
   "execution_count": 167,
   "id": "f4c11850",
   "metadata": {},
   "outputs": [
    {
     "data": {
      "text/plain": [
       "Text(0.5, 1.0, 'Distribution of Hours')"
      ]
     },
     "execution_count": 167,
     "metadata": {},
     "output_type": "execute_result"
    },
    {
     "data": {
      "image/png": "[encoded data removed]",
      "text/plain": [
       "<Figure size 720x360 with 1 Axes>"
      ]
     },
     "metadata": {
      "needs_background": "light"
     },
     "output_type": "display_data"
    }
   ],
   "source": [
    "#Checking the distribution of the Hours after removing outliers:\n",
    "\n",
    "plt.figure(figsize=(10,5))\n",
    "sns.distplot(data2.Hour)\n",
    "plt.title(\"Distribution of Hours\")"
   ]
  },
  {
   "cell_type": "code",
   "execution_count": 168,
   "id": "e26fa5fd",
   "metadata": {},
   "outputs": [
    {
     "data": {
      "text/plain": [
       "-0.2279924452895587"
      ]
     },
     "execution_count": 168,
     "metadata": {},
     "output_type": "execute_result"
    }
   ],
   "source": [
    "data2.Hour.skew()"
   ]
  },
  {
   "cell_type": "markdown",
   "id": "1214adbf",
   "metadata": {},
   "source": [
    "The skewness of the hours distribution decreases slightly."
   ]
  },
  {
   "cell_type": "code",
   "execution_count": 169,
   "id": "a91bdb13",
   "metadata": {},
   "outputs": [
    {
     "data": {
      "text/plain": [
       "<AxesSubplot:>"
      ]
     },
     "execution_count": 169,
     "metadata": {},
     "output_type": "execute_result"
    },
    {
     "data": {
      "image/png": "[encoded data removed]",
      "text/plain": [
       "<Figure size 432x288 with 1 Axes>"
      ]
     },
     "metadata": {
      "needs_background": "light"
     },
     "output_type": "display_data"
    }
   ],
   "source": [
    "data2[[\"Hour\"]].boxplot()"
   ]
  },
  {
   "cell_type": "markdown",
   "id": "c46494a3",
   "metadata": {},
   "source": [
    "The dataset is now outliers free and can be used for visualization."
   ]
  },
  {
   "cell_type": "markdown",
   "id": "f34f39cf",
   "metadata": {},
   "source": [
    "### Visualizing the data"
   ]
  },
  {
   "cell_type": "code",
   "execution_count": 170,
   "id": "ddb4b0b3",
   "metadata": {},
   "outputs": [
    {
     "name": "stdout",
     "output_type": "stream",
     "text": [
      "Average number of rides per day is 3.0437158469945356\n"
     ]
    }
   ],
   "source": [
    "#Average number of rides per day\n",
    "\n",
    "ride_count = data2['Miles'].count() \n",
    "Average_ride_per_day = ride_count/366    #Year is 2016 which is a leap year\n",
    "print('Average number of rides per day is' , Average_ride_per_day)"
   ]
  },
  {
   "cell_type": "markdown",
   "id": "95968e33",
   "metadata": {},
   "source": [
    "The user covers an average of 3 rides per day. He seems to be a potential customer for Uber."
   ]
  },
  {
   "cell_type": "code",
   "execution_count": 221,
   "id": "2a1e8884",
   "metadata": {},
   "outputs": [
    {
     "data": {
      "text/plain": [
       "Text(0, 0.5, 'Number of rides')"
      ]
     },
     "execution_count": 221,
     "metadata": {},
     "output_type": "execute_result"
    },
    {
     "data": {
      "image/png": "[encoded data removed]",
      "text/plain": [
       "<Figure size 1296x576 with 1 Axes>"
      ]
     },
     "metadata": {
      "needs_background": "light"
     },
     "output_type": "display_data"
    }
   ],
   "source": [
    "#Checking the most common pickup points of the Uber rides:\n",
    "\n",
    "a = data2.Start_Point.value_counts().nlargest(65)\n",
    "a.plot(kind='bar', figsize=(18,8),color=['pink'])\n",
    "plt.title('Number of rides per Pickup Point')\n",
    "plt.xlabel('Pickup Point')\n",
    "plt.ylabel('Number of rides')"
   ]
  },
  {
   "cell_type": "markdown",
   "id": "8583ff76",
   "metadata": {},
   "source": [
    "Most of the Uber rides have started from Cary and mostly pickup points are unknown."
   ]
  },
  {
   "cell_type": "code",
   "execution_count": 222,
   "id": "535f9671",
   "metadata": {},
   "outputs": [
    {
     "data": {
      "text/plain": [
       "Text(0, 0.5, 'Number of rides')"
      ]
     },
     "execution_count": 222,
     "metadata": {},
     "output_type": "execute_result"
    },
    {
     "data": {
      "image/png": "[encoded data removed]",
      "text/plain": [
       "<Figure size 1296x576 with 1 Axes>"
      ]
     },
     "metadata": {
      "needs_background": "light"
     },
     "output_type": "display_data"
    }
   ],
   "source": [
    "#Checking the most common dropoff points of the Uber rides:\n",
    "\n",
    "b = data2.Stop_Point.value_counts().nlargest(65)\n",
    "b.plot(kind='bar', figsize=(18,8),color=['green'])\n",
    "plt.title('Number of rides per Pickup Point')\n",
    "plt.xlabel('Pickup Point')\n",
    "plt.ylabel('Number of rides')"
   ]
  },
  {
   "cell_type": "markdown",
   "id": "32d86f11",
   "metadata": {},
   "source": [
    "Most of the Uber rides have ended at Cary and mostly dropoff points are unknown. There is a possibility of round rides because most of the pickup and dropoff locations are similar."
   ]
  },
  {
   "cell_type": "code",
   "execution_count": 173,
   "id": "745ef5ec",
   "metadata": {},
   "outputs": [
    {
     "data": {
      "text/html": [
       "<div>\n",
       "<style scoped>\n",
       "    .dataframe tbody tr th:only-of-type {\n",
       "        vertical-align: middle;\n",
       "    }\n",
       "\n",
       "    .dataframe tbody tr th {\n",
       "        vertical-align: top;\n",
       "    }\n",
       "\n",
       "    .dataframe thead th {\n",
       "        text-align: right;\n",
       "    }\n",
       "</style>\n",
       "<table border=\"1\" class=\"dataframe\">\n",
       "  <thead>\n",
       "    <tr style=\"text-align: right;\">\n",
       "      <th></th>\n",
       "      <th>Start_Date</th>\n",
       "      <th>End_Date</th>\n",
       "      <th>Category</th>\n",
       "      <th>Start_Point</th>\n",
       "      <th>Stop_Point</th>\n",
       "      <th>Miles</th>\n",
       "      <th>Purpose</th>\n",
       "      <th>Ride_Duration</th>\n",
       "      <th>Year</th>\n",
       "      <th>Month</th>\n",
       "      <th>Day</th>\n",
       "      <th>Hour</th>\n",
       "    </tr>\n",
       "  </thead>\n",
       "  <tbody>\n",
       "    <tr>\n",
       "      <th>0</th>\n",
       "      <td>2016-01-01 21:11:00</td>\n",
       "      <td>2016-01-01 21:17:00</td>\n",
       "      <td>Business</td>\n",
       "      <td>Fort Pierce</td>\n",
       "      <td>Fort Pierce</td>\n",
       "      <td>5.1</td>\n",
       "      <td>Meal/Entertain</td>\n",
       "      <td>00:06:00</td>\n",
       "      <td>2016</td>\n",
       "      <td>January</td>\n",
       "      <td>Friday</td>\n",
       "      <td>21</td>\n",
       "    </tr>\n",
       "    <tr>\n",
       "      <th>1</th>\n",
       "      <td>2016-01-02 01:25:00</td>\n",
       "      <td>2016-01-02 01:37:00</td>\n",
       "      <td>Business</td>\n",
       "      <td>Fort Pierce</td>\n",
       "      <td>Fort Pierce</td>\n",
       "      <td>5.0</td>\n",
       "      <td>Unknown</td>\n",
       "      <td>00:12:00</td>\n",
       "      <td>2016</td>\n",
       "      <td>January</td>\n",
       "      <td>Saturday</td>\n",
       "      <td>1</td>\n",
       "    </tr>\n",
       "    <tr>\n",
       "      <th>2</th>\n",
       "      <td>2016-01-02 20:25:00</td>\n",
       "      <td>2016-01-02 20:38:00</td>\n",
       "      <td>Business</td>\n",
       "      <td>Fort Pierce</td>\n",
       "      <td>Fort Pierce</td>\n",
       "      <td>4.8</td>\n",
       "      <td>Errand/Supplies</td>\n",
       "      <td>00:13:00</td>\n",
       "      <td>2016</td>\n",
       "      <td>January</td>\n",
       "      <td>Saturday</td>\n",
       "      <td>20</td>\n",
       "    </tr>\n",
       "    <tr>\n",
       "      <th>3</th>\n",
       "      <td>2016-01-05 17:31:00</td>\n",
       "      <td>2016-01-05 17:45:00</td>\n",
       "      <td>Business</td>\n",
       "      <td>Fort Pierce</td>\n",
       "      <td>Fort Pierce</td>\n",
       "      <td>4.7</td>\n",
       "      <td>Meeting</td>\n",
       "      <td>00:14:00</td>\n",
       "      <td>2016</td>\n",
       "      <td>January</td>\n",
       "      <td>Tuesday</td>\n",
       "      <td>17</td>\n",
       "    </tr>\n",
       "    <tr>\n",
       "      <th>5</th>\n",
       "      <td>2016-01-06 17:15:00</td>\n",
       "      <td>2016-01-06 17:19:00</td>\n",
       "      <td>Business</td>\n",
       "      <td>West Palm Beach</td>\n",
       "      <td>West Palm Beach</td>\n",
       "      <td>4.3</td>\n",
       "      <td>Meal/Entertain</td>\n",
       "      <td>00:04:00</td>\n",
       "      <td>2016</td>\n",
       "      <td>January</td>\n",
       "      <td>Wednesday</td>\n",
       "      <td>17</td>\n",
       "    </tr>\n",
       "    <tr>\n",
       "      <th>...</th>\n",
       "      <td>...</td>\n",
       "      <td>...</td>\n",
       "      <td>...</td>\n",
       "      <td>...</td>\n",
       "      <td>...</td>\n",
       "      <td>...</td>\n",
       "      <td>...</td>\n",
       "      <td>...</td>\n",
       "      <td>...</td>\n",
       "      <td>...</td>\n",
       "      <td>...</td>\n",
       "      <td>...</td>\n",
       "    </tr>\n",
       "    <tr>\n",
       "      <th>1147</th>\n",
       "      <td>2016-12-30 15:41:00</td>\n",
       "      <td>2016-12-30 16:03:00</td>\n",
       "      <td>Business</td>\n",
       "      <td>Kar?chi</td>\n",
       "      <td>Kar?chi</td>\n",
       "      <td>4.6</td>\n",
       "      <td>Errand/Supplies</td>\n",
       "      <td>00:22:00</td>\n",
       "      <td>2016</td>\n",
       "      <td>December</td>\n",
       "      <td>Friday</td>\n",
       "      <td>15</td>\n",
       "    </tr>\n",
       "    <tr>\n",
       "      <th>1148</th>\n",
       "      <td>2016-12-30 16:45:00</td>\n",
       "      <td>2016-12-30 17:08:00</td>\n",
       "      <td>Business</td>\n",
       "      <td>Kar?chi</td>\n",
       "      <td>Kar?chi</td>\n",
       "      <td>4.6</td>\n",
       "      <td>Meeting</td>\n",
       "      <td>00:23:00</td>\n",
       "      <td>2016</td>\n",
       "      <td>December</td>\n",
       "      <td>Friday</td>\n",
       "      <td>16</td>\n",
       "    </tr>\n",
       "    <tr>\n",
       "      <th>1149</th>\n",
       "      <td>2016-12-30 23:06:00</td>\n",
       "      <td>2016-12-30 23:10:00</td>\n",
       "      <td>Business</td>\n",
       "      <td>Kar?chi</td>\n",
       "      <td>Kar?chi</td>\n",
       "      <td>0.8</td>\n",
       "      <td>Customer Visit</td>\n",
       "      <td>00:04:00</td>\n",
       "      <td>2016</td>\n",
       "      <td>December</td>\n",
       "      <td>Friday</td>\n",
       "      <td>23</td>\n",
       "    </tr>\n",
       "    <tr>\n",
       "      <th>1150</th>\n",
       "      <td>2016-12-31 01:07:00</td>\n",
       "      <td>2016-12-31 01:14:00</td>\n",
       "      <td>Business</td>\n",
       "      <td>Kar?chi</td>\n",
       "      <td>Kar?chi</td>\n",
       "      <td>0.7</td>\n",
       "      <td>Meeting</td>\n",
       "      <td>00:07:00</td>\n",
       "      <td>2016</td>\n",
       "      <td>December</td>\n",
       "      <td>Saturday</td>\n",
       "      <td>1</td>\n",
       "    </tr>\n",
       "    <tr>\n",
       "      <th>1152</th>\n",
       "      <td>2016-12-31 15:03:00</td>\n",
       "      <td>2016-12-31 15:38:00</td>\n",
       "      <td>Business</td>\n",
       "      <td>Unknown Location</td>\n",
       "      <td>Unknown Location</td>\n",
       "      <td>16.2</td>\n",
       "      <td>Meeting</td>\n",
       "      <td>00:35:00</td>\n",
       "      <td>2016</td>\n",
       "      <td>December</td>\n",
       "      <td>Saturday</td>\n",
       "      <td>15</td>\n",
       "    </tr>\n",
       "  </tbody>\n",
       "</table>\n",
       "<p>281 rows × 12 columns</p>\n",
       "</div>"
      ],
      "text/plain": [
       "              Start_Date            End_Date  Category       Start_Point  \\\n",
       "0    2016-01-01 21:11:00 2016-01-01 21:17:00  Business       Fort Pierce   \n",
       "1    2016-01-02 01:25:00 2016-01-02 01:37:00  Business       Fort Pierce   \n",
       "2    2016-01-02 20:25:00 2016-01-02 20:38:00  Business       Fort Pierce   \n",
       "3    2016-01-05 17:31:00 2016-01-05 17:45:00  Business       Fort Pierce   \n",
       "5    2016-01-06 17:15:00 2016-01-06 17:19:00  Business   West Palm Beach   \n",
       "...                  ...                 ...       ...               ...   \n",
       "1147 2016-12-30 15:41:00 2016-12-30 16:03:00  Business           Kar?chi   \n",
       "1148 2016-12-30 16:45:00 2016-12-30 17:08:00  Business           Kar?chi   \n",
       "1149 2016-12-30 23:06:00 2016-12-30 23:10:00  Business           Kar?chi   \n",
       "1150 2016-12-31 01:07:00 2016-12-31 01:14:00  Business           Kar?chi   \n",
       "1152 2016-12-31 15:03:00 2016-12-31 15:38:00  Business  Unknown Location   \n",
       "\n",
       "            Stop_Point  Miles          Purpose Ride_Duration  Year     Month  \\\n",
       "0          Fort Pierce    5.1   Meal/Entertain      00:06:00  2016   January   \n",
       "1          Fort Pierce    5.0          Unknown      00:12:00  2016   January   \n",
       "2          Fort Pierce    4.8  Errand/Supplies      00:13:00  2016   January   \n",
       "3          Fort Pierce    4.7          Meeting      00:14:00  2016   January   \n",
       "5      West Palm Beach    4.3   Meal/Entertain      00:04:00  2016   January   \n",
       "...                ...    ...              ...           ...   ...       ...   \n",
       "1147           Kar?chi    4.6  Errand/Supplies      00:22:00  2016  December   \n",
       "1148           Kar?chi    4.6          Meeting      00:23:00  2016  December   \n",
       "1149           Kar?chi    0.8   Customer Visit      00:04:00  2016  December   \n",
       "1150           Kar?chi    0.7          Meeting      00:07:00  2016  December   \n",
       "1152  Unknown Location   16.2          Meeting      00:35:00  2016  December   \n",
       "\n",
       "            Day  Hour  \n",
       "0        Friday    21  \n",
       "1      Saturday     1  \n",
       "2      Saturday    20  \n",
       "3       Tuesday    17  \n",
       "5     Wednesday    17  \n",
       "...         ...   ...  \n",
       "1147     Friday    15  \n",
       "1148     Friday    16  \n",
       "1149     Friday    23  \n",
       "1150   Saturday     1  \n",
       "1152   Saturday    15  \n",
       "\n",
       "[281 rows x 12 columns]"
      ]
     },
     "execution_count": 173,
     "metadata": {},
     "output_type": "execute_result"
    }
   ],
   "source": [
    "#Checking the rides which have similar pickup and dropoff locations\n",
    "\n",
    "Required_Mile = data2.loc[data2['Start_Point'] == data2['Stop_Point']]\n",
    "Required_Mile"
   ]
  },
  {
   "cell_type": "markdown",
   "id": "3a366ef1",
   "metadata": {},
   "source": [
    "For around 25% rides (281 out of 1114 rides), the starting and ending locations are similar. This means that about 25% of the rides are round rides."
   ]
  },
  {
   "cell_type": "code",
   "execution_count": 174,
   "id": "cfdba3da",
   "metadata": {},
   "outputs": [
    {
     "data": {
      "text/plain": [
       "Text(0, 0.5, 'Number of rides')"
      ]
     },
     "execution_count": 174,
     "metadata": {},
     "output_type": "execute_result"
    },
    {
     "data": {
      "image/png": "[encoded data removed]",
      "text/plain": [
       "<Figure size 432x288 with 1 Axes>"
      ]
     },
     "metadata": {
      "needs_background": "light"
     },
     "output_type": "display_data"
    }
   ],
   "source": [
    "#Distribution of single and round rides\n",
    "\n",
    "def Single_or_Round_rides(data2):\n",
    "    if data2['Start_Point'] == data2['Stop_Point']:\n",
    "        return 'Round ride'\n",
    "    else:\n",
    "        return 'Single ride'\n",
    "    \n",
    "data2['Single or Round ride'] = data2.apply(Single_or_Round_rides, axis=1)\n",
    "\n",
    "sns.countplot(x='Single or Round ride',data=data2, order=data2['Single or Round ride'].value_counts().index)\n",
    "plt.title('Single and Round rides Distribution')\n",
    "plt.title('Completed and Cancelled rides Distribution')\n",
    "plt.ylabel(\"Number of rides\")\n"
   ]
  },
  {
   "cell_type": "markdown",
   "id": "3b3bcd33",
   "metadata": {},
   "source": [
    "Clearly, the user has coovered 250+ round rides."
   ]
  },
  {
   "cell_type": "code",
   "execution_count": 175,
   "id": "54628db2",
   "metadata": {},
   "outputs": [
    {
     "data": {
      "text/plain": [
       "Text(0.5, 1.0, 'Purpose of Uber rides')"
      ]
     },
     "execution_count": 175,
     "metadata": {},
     "output_type": "execute_result"
    },
    {
     "data": {
      "image/png": "[encoded data removed]",
      "text/plain": [
       "<Figure size 504x360 with 1 Axes>"
      ]
     },
     "metadata": {
      "needs_background": "light"
     },
     "output_type": "display_data"
    }
   ],
   "source": [
    "#To know for what purpose the user uses Uber for:\n",
    "\n",
    "plt.figure(figsize=(7,5))\n",
    "a = sns.countplot(x='Purpose', data = data2)\n",
    "a.set_xticklabels(a.get_xticklabels(), rotation=90)\n",
    "a.set_xlabel(\"Purpose\", fontsize = 15)\n",
    "a.set_ylabel(\"Number of rides\", fontsize = 15)\n",
    "a.set_title('Purpose of Uber rides', fontsize = 20)"
   ]
  },
  {
   "cell_type": "markdown",
   "id": "a2a884b5",
   "metadata": {},
   "source": [
    "It is evident that for most of the rides, the purpose is unknown. For other rides, the user prefers Uber rides to go for any meeting and for meal/entertainment purposes."
   ]
  },
  {
   "cell_type": "code",
   "execution_count": 176,
   "id": "f8360577",
   "metadata": {},
   "outputs": [
    {
     "data": {
      "text/plain": [
       "Text(0.5, 1.0, 'Category of Uber rides')"
      ]
     },
     "execution_count": 176,
     "metadata": {},
     "output_type": "execute_result"
    },
    {
     "data": {
      "image/png": "[encoded data removed]",
      "text/plain": [
       "<Figure size 144x288 with 1 Axes>"
      ]
     },
     "metadata": {
      "needs_background": "light"
     },
     "output_type": "display_data"
    }
   ],
   "source": [
    "#To know for what category the user uses Uber for:\n",
    "\n",
    "plt.figure(figsize=(2,4))\n",
    "a = sns.countplot(x='Category', data = data2)\n",
    "a.set_xticklabels(a.get_xticklabels())\n",
    "a.set_xlabel(\"Category\", fontsize = 15)\n",
    "a.set_ylabel(\"Number of rides\", fontsize = 15)\n",
    "a.set_title('Category of Uber rides', fontsize = 20)"
   ]
  },
  {
   "cell_type": "markdown",
   "id": "1f198544",
   "metadata": {},
   "source": [
    "The user prefers Uber rides for his/her business work for 1000+ rides and for very small number of rides, the user travels for personal reasons."
   ]
  },
  {
   "cell_type": "code",
   "execution_count": 177,
   "id": "816205b5",
   "metadata": {},
   "outputs": [
    {
     "name": "stdout",
     "output_type": "stream",
     "text": [
      "Maximum ride duration is: 02:47:00\n",
      "Minimum ride duration is: 00:00:00\n"
     ]
    }
   ],
   "source": [
    "#Checking the maximum and minimum durations of Uber rides:\n",
    "a = data2['Ride_Duration'].max()\n",
    "print('Maximum ride duration is:', a)\n",
    "\n",
    "b = data2['Ride_Duration'].min()\n",
    "print('Minimum ride duration is:', b)\n"
   ]
  },
  {
   "cell_type": "markdown",
   "id": "d17e40ec",
   "metadata": {},
   "source": [
    "As the minimum ride duration is 00:00:00, it means that ride(s) would be cancelled for some reasons."
   ]
  },
  {
   "cell_type": "code",
   "execution_count": 178,
   "id": "fe36361f",
   "metadata": {},
   "outputs": [
    {
     "name": "stdout",
     "output_type": "stream",
     "text": [
      "Start_Date              4\n",
      "End_Date                4\n",
      "Category                4\n",
      "Start_Point             4\n",
      "Stop_Point              4\n",
      "Miles                   4\n",
      "Purpose                 4\n",
      "Ride_Duration           4\n",
      "Year                    4\n",
      "Month                   4\n",
      "Day                     4\n",
      "Hour                    4\n",
      "Single or Round ride    4\n",
      "dtype: int64\n",
      "Start_Date              1110\n",
      "End_Date                1110\n",
      "Category                1110\n",
      "Start_Point             1110\n",
      "Stop_Point              1110\n",
      "Miles                   1110\n",
      "Purpose                 1110\n",
      "Ride_Duration           1110\n",
      "Year                    1110\n",
      "Month                   1110\n",
      "Day                     1110\n",
      "Hour                    1110\n",
      "Single or Round ride    1110\n",
      "dtype: int64\n",
      "The ride cancellation percentage is  Start_Date              0.359066\n",
      "End_Date                0.359066\n",
      "Category                0.359066\n",
      "Start_Point             0.359066\n",
      "Stop_Point              0.359066\n",
      "Miles                   0.359066\n",
      "Purpose                 0.359066\n",
      "Ride_Duration           0.359066\n",
      "Year                    0.359066\n",
      "Month                   0.359066\n",
      "Day                     0.359066\n",
      "Hour                    0.359066\n",
      "Single or Round ride    0.359066\n",
      "dtype: float64 %\n"
     ]
    }
   ],
   "source": [
    "#Number of cancelled rides:\n",
    "ride_cancelled = data2[(data2.Ride_Duration == '00:00:00')].count()\n",
    "print(ride_cancelled)\n",
    "\n",
    "#Number of completed rides:\n",
    "ride_completed = data2[(data2.Ride_Duration != '00:00:00')].count()\n",
    "print(ride_completed)\n",
    "\n",
    "print('The ride cancellation percentage is ', (ride_cancelled*100/(ride_cancelled + ride_completed)), '%')"
   ]
  },
  {
   "cell_type": "markdown",
   "id": "ab53a4d6",
   "metadata": {},
   "source": [
    "There are 4 cancelled rides and 1110 completed rides. The ride cancellation percentage is very low (approx. 0.36%)"
   ]
  },
  {
   "cell_type": "code",
   "execution_count": 179,
   "id": "41e3e191",
   "metadata": {},
   "outputs": [
    {
     "data": {
      "text/plain": [
       "Text(0, 0.5, 'Number of rides')"
      ]
     },
     "execution_count": 179,
     "metadata": {},
     "output_type": "execute_result"
    },
    {
     "data": {
      "image/png": "[encoded data removed]",
      "text/plain": [
       "<Figure size 432x288 with 1 Axes>"
      ]
     },
     "metadata": {
      "needs_background": "light"
     },
     "output_type": "display_data"
    }
   ],
   "source": [
    "#Distribution of completed and cancelled rides\n",
    "\n",
    "def Completed_or_Cancelled_rides(data2):\n",
    "    if data2['Ride_Duration'] != \"00:00:00\":\n",
    "        return 'Completed ride'\n",
    "    else:\n",
    "        return 'Cancelled ride'\n",
    "    \n",
    "data2['Completed or Cancelled rides'] = data2.apply(Completed_or_Cancelled_rides, axis=1)\n",
    "\n",
    "sns.countplot(x='Completed or Cancelled rides',data=data2, order=data2['Completed or Cancelled rides'].value_counts().index)\n",
    "plt.title('Completed and Cancelled rides Distribution')\n",
    "plt.ylabel(\"Number of rides\")\n",
    "\n"
   ]
  },
  {
   "cell_type": "markdown",
   "id": "2e6e88ac",
   "metadata": {},
   "source": [
    "It is clear that a very few rides have been cancelled by the user."
   ]
  },
  {
   "cell_type": "code",
   "execution_count": 180,
   "id": "d9759c9d",
   "metadata": {},
   "outputs": [
    {
     "name": "stdout",
     "output_type": "stream",
     "text": [
      "Maximum ride distance is: 69.1 miles.\n",
      "Minimum ride distance is: 0.5 miles.\n"
     ]
    }
   ],
   "source": [
    "#Checking the maximum and minimum distance of Uber rides:\n",
    "\n",
    "a = data2['Miles'].max()\n",
    "print('Maximum ride distance is:', a, 'miles.')\n",
    "\n",
    "b = data2['Miles'].min()\n",
    "print('Minimum ride distance is:', b, 'miles.')\n"
   ]
  },
  {
   "cell_type": "markdown",
   "id": "4f48d71c",
   "metadata": {},
   "source": [
    "The maximum ride distance covered by the user is 69.1 miles while the minimum ride distance is 0.5 miles."
   ]
  },
  {
   "cell_type": "code",
   "execution_count": 181,
   "id": "97fe28eb",
   "metadata": {},
   "outputs": [
    {
     "data": {
      "text/plain": [
       "Start_Date                      40\n",
       "End_Date                        40\n",
       "Category                        40\n",
       "Start_Point                     40\n",
       "Stop_Point                      40\n",
       "Miles                           40\n",
       "Purpose                         40\n",
       "Ride_Duration                   40\n",
       "Year                            40\n",
       "Month                           40\n",
       "Day                             40\n",
       "Hour                            40\n",
       "Single or Round ride            40\n",
       "Completed or Cancelled rides    40\n",
       "dtype: int64"
      ]
     },
     "execution_count": 181,
     "metadata": {},
     "output_type": "execute_result"
    }
   ],
   "source": [
    "#Checking the number of rides for which the distance covered is <= 1 miles or 1.6 km i.e. very short rides\n",
    "\n",
    "Required_Duration = data2.loc[data2['Miles'] <= 1.0]\n",
    "Required_Duration.count()\n"
   ]
  },
  {
   "cell_type": "markdown",
   "id": "1989ab4a",
   "metadata": {},
   "source": [
    "The user has covered 40 very short rides out of 1114 rides."
   ]
  },
  {
   "cell_type": "code",
   "execution_count": 182,
   "id": "e77e4dab",
   "metadata": {},
   "outputs": [
    {
     "data": {
      "text/plain": [
       "Month\n",
       "April         48\n",
       "August       130\n",
       "December     143\n",
       "February     114\n",
       "January       60\n",
       "July         103\n",
       "June         106\n",
       "March        107\n",
       "May           48\n",
       "November     122\n",
       "October       98\n",
       "September     35\n",
       "Name: Miles, dtype: int64"
      ]
     },
     "execution_count": 182,
     "metadata": {},
     "output_type": "execute_result"
    }
   ],
   "source": [
    "#Determining the number of rides booked per month:\n",
    "\n",
    "data2.groupby(\"Month\")[\"Miles\"].count()"
   ]
  },
  {
   "cell_type": "code",
   "execution_count": 183,
   "id": "8e133281",
   "metadata": {},
   "outputs": [
    {
     "data": {
      "text/plain": [
       "Text(0.5, 1.0, 'Number of Uber rides per month')"
      ]
     },
     "execution_count": 183,
     "metadata": {},
     "output_type": "execute_result"
    },
    {
     "data": {
      "image/png": "[encoded data removed]",
      "text/plain": [
       "<Figure size 576x360 with 1 Axes>"
      ]
     },
     "metadata": {
      "needs_background": "light"
     },
     "output_type": "display_data"
    }
   ],
   "source": [
    "#Checking the number of rides per month:\n",
    "\n",
    "plt.figure(figsize=(8,5))\n",
    "a = sns.countplot(y='Month', data = data2)\n",
    "a.set_yticklabels(a.get_yticklabels())\n",
    "a.set_xlabel(\"Number of rides\", fontsize = 15)\n",
    "a.set_ylabel(\"Month\", fontsize = 15)\n",
    "a.set_title('Number of Uber rides per month', fontsize = 20)"
   ]
  },
  {
   "cell_type": "markdown",
   "id": "f8a7c523",
   "metadata": {},
   "source": [
    "The user has taken maximum Uber rides in the month of December, followed by August and November. These months are the profitable months for Uber based on the user's dataset."
   ]
  },
  {
   "cell_type": "code",
   "execution_count": 184,
   "id": "6b3b5700",
   "metadata": {},
   "outputs": [
    {
     "data": {
      "text/plain": [
       "Month\n",
       "April         469.7\n",
       "August        995.8\n",
       "December      873.9\n",
       "February      906.4\n",
       "January       504.9\n",
       "July          806.5\n",
       "June          825.9\n",
       "March         898.8\n",
       "May           359.1\n",
       "November      816.9\n",
       "October      1081.6\n",
       "September     406.2\n",
       "Name: Miles, dtype: float64"
      ]
     },
     "execution_count": 184,
     "metadata": {},
     "output_type": "execute_result"
    }
   ],
   "source": [
    "#Determining the total mileage per month:\n",
    "\n",
    "data2.groupby(\"Month\")[\"Miles\"].sum()"
   ]
  },
  {
   "cell_type": "code",
   "execution_count": 185,
   "id": "d869c301",
   "metadata": {},
   "outputs": [
    {
     "data": {
      "text/plain": [
       "Text(0, 0.5, 'Total Mileage')"
      ]
     },
     "execution_count": 185,
     "metadata": {},
     "output_type": "execute_result"
    },
    {
     "data": {
      "image/png": "[encoded data removed]",
      "text/plain": [
       "<Figure size 432x288 with 1 Axes>"
      ]
     },
     "metadata": {
      "needs_background": "light"
     },
     "output_type": "display_data"
    }
   ],
   "source": [
    "#Determining the total miles coverage per month:\n",
    "\n",
    "Monthly_mileage = data2.groupby(\"Month\")[\"Miles\"].sum()\n",
    "Monthly_mileage.plot(kind='bar')\n",
    "plt.title(\"Monthly Mileage\")\n",
    "plt.ylabel('Total Mileage')"
   ]
  },
  {
   "cell_type": "markdown",
   "id": "8cfff487",
   "metadata": {},
   "source": [
    "In the month of December, the user has taken a large number of short rides while in the month of October, the user has taken a short number of rides but the rides are long."
   ]
  },
  {
   "cell_type": "code",
   "execution_count": 186,
   "id": "91da728f",
   "metadata": {},
   "outputs": [
    {
     "data": {
      "text/plain": [
       "Day\n",
       "Friday       198\n",
       "Monday       173\n",
       "Saturday     140\n",
       "Sunday       140\n",
       "Thursday     148\n",
       "Tuesday      172\n",
       "Wednesday    143\n",
       "Name: Start_Point, dtype: int64"
      ]
     },
     "execution_count": 186,
     "metadata": {},
     "output_type": "execute_result"
    }
   ],
   "source": [
    "#Determining the number of rides per week day:\n",
    "\n",
    "data2.groupby(\"Day\")[\"Start_Point\"].count()"
   ]
  },
  {
   "cell_type": "code",
   "execution_count": 187,
   "id": "fae81b97",
   "metadata": {},
   "outputs": [
    {
     "data": {
      "image/png": "[encoded data removed]",
      "text/plain": [
       "<Figure size 576x360 with 1 Axes>"
      ]
     },
     "metadata": {},
     "output_type": "display_data"
    }
   ],
   "source": [
    "#Checking the percentage of the number of rides per day of the week:\n",
    "\n",
    "types = data2[\"Day\"].value_counts()\n",
    "labels = types.index\n",
    "values = types.values\n",
    "\n",
    "plt.figure(figsize=(8, 5))\n",
    "plt.pie(values, labels=labels, autopct='%1.1f%%')\n",
    "plt.rc('font', size=12)\n",
    "plt.title(\"Distribution of Rides over Week Days\", fontsize=15)\n",
    "plt.show()\n"
   ]
  },
  {
   "cell_type": "markdown",
   "id": "e8d1fd99",
   "metadata": {},
   "source": [
    "The user has preferred 17.8 % of total Uber rides on Friday, followed by rides on Monday and Tuesday. On rest of the days, the user has taken almost similar number of rides. The distribution is almost similar over all the week days."
   ]
  },
  {
   "cell_type": "markdown",
   "id": "7c85bd5f",
   "metadata": {},
   "source": [
    "Out of 1114 rides, there is almost similar distribution of the rides on all the week days."
   ]
  },
  {
   "cell_type": "code",
   "execution_count": 188,
   "id": "ca46e4cd",
   "metadata": {},
   "outputs": [
    {
     "data": {
      "text/plain": [
       "Start_Point       Stop_Point      \n",
       "Soho              Tribeca               0.5\n",
       "Katunayaka        Katunayaka            0.5\n",
       "Central           West Berkeley         0.6\n",
       "Sunnyside         Ingleside             0.7\n",
       "Medical Centre    Tudor City            0.7\n",
       "                                      ...  \n",
       "Morrisville       Cary                350.4\n",
       "Raleigh           Cary                365.7\n",
       "Cary              Morrisville         376.9\n",
       "                  Durham              390.0\n",
       "Unknown Location  Unknown Location    912.1\n",
       "Name: Miles, Length: 344, dtype: float64"
      ]
     },
     "execution_count": 188,
     "metadata": {},
     "output_type": "execute_result"
    }
   ],
   "source": [
    "#Identifying the locations which are the farthest and the nearest\n",
    "\n",
    "data2.groupby(['Start_Point','Stop_Point'])['Miles'].sum().sort_values()"
   ]
  },
  {
   "cell_type": "markdown",
   "id": "058303bc",
   "metadata": {},
   "source": [
    "This indicates that except those rides for which locations are unknown, Cary to Durham distance is the maximum distance ride followed by Cary to Morrisville while Soho to Tribeca has the minimum distance between them."
   ]
  },
  {
   "cell_type": "code",
   "execution_count": 189,
   "id": "e2921e99",
   "metadata": {},
   "outputs": [
    {
     "data": {
      "image/png": "[encoded data removed]",
      "text/plain": [
       "<Figure size 432x288 with 1 Axes>"
      ]
     },
     "metadata": {
      "needs_background": "light"
     },
     "output_type": "display_data"
    }
   ],
   "source": [
    "#Checking the preferred time of the day for Uber rides:\n",
    "\n",
    "data2['Hour'].plot.hist()\n",
    "plt.title('Distribution of Uber rides day hours')\n",
    "plt.xlabel('Day Hour')\n",
    "plt.ylabel('Frequency of rides')\n",
    "plt.show()"
   ]
  },
  {
   "cell_type": "markdown",
   "id": "e782aa2d",
   "metadata": {},
   "source": [
    "From the plot, it is evident that the user takes Uber rides mostly during the day and evening hours. A very few rides have been taken in the early morning."
   ]
  },
  {
   "cell_type": "code",
   "execution_count": 190,
   "id": "3b3093f0",
   "metadata": {},
   "outputs": [
    {
     "data": {
      "text/plain": [
       "Text(0, 0.5, 'Number of rides')"
      ]
     },
     "execution_count": 190,
     "metadata": {},
     "output_type": "execute_result"
    },
    {
     "data": {
      "image/png": "[encoded data removed]",
      "text/plain": [
       "<Figure size 432x288 with 1 Axes>"
      ]
     },
     "metadata": {
      "needs_background": "light"
     },
     "output_type": "display_data"
    }
   ],
   "source": [
    "#Distribution of rides on the basis of their categories and purposes\n",
    "\n",
    "Distribution = data2.groupby([\"Category\", \"Purpose\"])[\"Miles\"].count()\n",
    "Distribution.plot(kind='bar', color = 'brown')\n",
    "plt.title(\"Rides Distribution based on Categories and Purposes\")\n",
    "plt.ylabel('Number of rides')"
   ]
  },
  {
   "cell_type": "markdown",
   "id": "6f54eacd",
   "metadata": {},
   "source": [
    "For most of the rides (400+ rides), the purpose is unknown and the user has travelled those rides mainly for business reasons."
   ]
  },
  {
   "cell_type": "code",
   "execution_count": 191,
   "id": "6e031b48",
   "metadata": {},
   "outputs": [
    {
     "data": {
      "text/plain": [
       "<seaborn.axisgrid.PairGrid at 0x21d9c3f29a0>"
      ]
     },
     "execution_count": 191,
     "metadata": {},
     "output_type": "execute_result"
    },
    {
     "data": {
      "image/png": "[encoded data removed]",
      "text/plain": [
       "<Figure size 360x360 with 6 Axes>"
      ]
     },
     "metadata": {
      "needs_background": "light"
     },
     "output_type": "display_data"
    }
   ],
   "source": [
    "# Identifying is there any relationship between the rides mileage and the hour of the day at which the ride is taken:\n",
    "sns.pairplot(data2, diag_kind = 'hist', vars = ['Miles', 'Hour'])\n"
   ]
  },
  {
   "cell_type": "markdown",
   "id": "1d31c134",
   "metadata": {},
   "source": [
    "This clearly indicates that most of the rides for which the mileage is less than 20 miles, have been taken in the day and evening hours."
   ]
  },
  {
   "cell_type": "code",
   "execution_count": 192,
   "id": "340931f0",
   "metadata": {},
   "outputs": [
    {
     "data": {
      "text/plain": [
       "<AxesSubplot:>"
      ]
     },
     "execution_count": 192,
     "metadata": {},
     "output_type": "execute_result"
    },
    {
     "data": {
      "image/png": "[encoded data removed]",
      "text/plain": [
       "<Figure size 432x288 with 2 Axes>"
      ]
     },
     "metadata": {
      "needs_background": "light"
     },
     "output_type": "display_data"
    }
   ],
   "source": [
    "sns.heatmap(data2.corr(), annot=True)"
   ]
  },
  {
   "cell_type": "markdown",
   "id": "2cdb89ca",
   "metadata": {},
   "source": [
    "It seems that the mileage of the ride is poorly correlated with the time at which the ride is taken. "
   ]
  },
  {
   "cell_type": "code",
   "execution_count": 193,
   "id": "b7fd7a5b",
   "metadata": {},
   "outputs": [
    {
     "data": {
      "text/plain": [
       "<AxesSubplot:title={'center':'Miles versus Ride Duration'}, xlabel='Ride_Duration', ylabel='Miles'>"
      ]
     },
     "execution_count": 193,
     "metadata": {},
     "output_type": "execute_result"
    },
    {
     "data": {
      "image/png": "[encoded data removed]",
      "text/plain": [
       "<Figure size 1440x720 with 1 Axes>"
      ]
     },
     "metadata": {
      "needs_background": "light"
     },
     "output_type": "display_data"
    }
   ],
   "source": [
    "#Miles versus Ride Duration plot\n",
    "\n",
    "plt.figure(figsize=(20,10))\n",
    "plt.xticks(rotation=90)\n",
    "plt.title(\"Miles versus Ride Duration\")\n",
    "\n",
    "sorted_data2 = data2.sort_values(by='Ride_Duration')\n",
    "sns.scatterplot(x=\"Ride_Duration\", y=\"Miles\", data=sorted_data2, color = 'green')\n"
   ]
  },
  {
   "cell_type": "raw",
   "id": "e6ca190c",
   "metadata": {},
   "source": [
    "The scatter plot indicates that most of the rides which cover less mileage, take less time but there are also some rides for which the mileage is less but the duration is high. This might be because of the traffic, slow speed of the driver or red light signal."
   ]
  },
  {
   "cell_type": "code",
   "execution_count": 194,
   "id": "50efb022",
   "metadata": {},
   "outputs": [
    {
     "data": {
      "text/plain": [
       "Text(0.5, 1.0, 'Monthly and Daily Rides Distribution')"
      ]
     },
     "execution_count": 194,
     "metadata": {},
     "output_type": "execute_result"
    },
    {
     "data": {
      "image/png": "[encoded data removed]",
      "text/plain": [
       "<Figure size 1440x720 with 1 Axes>"
      ]
     },
     "metadata": {
      "needs_background": "light"
     },
     "output_type": "display_data"
    }
   ],
   "source": [
    "#Monthly and daily distribution of the rides\n",
    "\n",
    "plt.figure(figsize=(20,10))\n",
    "a = sns.countplot(x='Month', data = data2, hue = 'Day')\n",
    "a.set_xticklabels(a.get_xticklabels(), rotation=10)\n",
    "a.set_xlabel(\"Month\", fontsize = 15)\n",
    "a.set_ylabel(\"Count\", fontsize = 15)\n",
    "a.set_title('Monthly and Daily Rides Distribution', fontsize = 20)"
   ]
  },
  {
   "cell_type": "markdown",
   "id": "d9264c56",
   "metadata": {},
   "source": [
    "Even though, the overall distribution of the rides over all the week days is similar, it is clearly seen from this plot that for each month, the daily distribution of rides is different."
   ]
  },
  {
   "cell_type": "markdown",
   "id": "84ae37bc",
   "metadata": {},
   "source": [
    "### Insights"
   ]
  },
  {
   "cell_type": "markdown",
   "id": "1c90abe8",
   "metadata": {},
   "source": [
    "From the Exploratory Data Analysis of the Uber rides data, following insights can be made:\n",
    "\n",
    "1. The user seems to be a potential customer for Uber as the average ride he takes per day is 3.\n",
    "2. The distribution of the user's Uber rides seems interesting. Having overall similar distribution of rides on all the week days, December is the month when user has taken a lot of short rides while October is the month when the user has taken a small number of long rides.\n",
    "3. The percentage that this user cancels the ride is very very low (around 0.3% ).\n",
    "4. Most of the pickups and dropoffs occurred at Cary, Morrisville, Whitebridge, Islamabad etc. other than the unknown locations which indicates round rides and the user has covered 25% round rides.\n",
    "5. The longest ride duration is 2 hours 47 minutes while the maximum miles covered by the user is 69.1 miles.\n",
    "6. The user has taken Uber rides mainly for Business reasons. For mostly rides, the purpose is unknown. Besides this, main purposes include meeting and meal or entertainment.\n",
    "7. The average distance covered by the user is around 8 miles.\n",
    "8. The user travels by Uber mostly during the day and evening hours. \n",
    "9. Cary to Durham distance is the maximum distance ride followed by Cary to Morrisville while Soho to Tribeca has the minimum distance between them, except those rides whose locations are unknown.\n",
    "10. The user has covered 40 very short rides (having mileage <= 1 mile) out of 1114 rides."
   ]
  },
  {
   "cell_type": "code",
   "execution_count": null,
   "id": "788a5eac",
   "metadata": {},
   "outputs": [],
   "source": []
  }
 ],
 "metadata": {
  "kernelspec": {
   "display_name": "Python 3 (ipykernel)",
   "language": "python",
   "name": "python3"
  },
  "language_info": {
   "codemirror_mode": {
    "name": "ipython",
    "version": 3
   },
   "file_extension": ".py",
   "mimetype": "text/x-python",
   "name": "python",
   "nbconvert_exporter": "python",
   "pygments_lexer": "ipython3",
   "version": "3.9.12"
  }
 },
 "nbformat": 4,
 "nbformat_minor": 5
}

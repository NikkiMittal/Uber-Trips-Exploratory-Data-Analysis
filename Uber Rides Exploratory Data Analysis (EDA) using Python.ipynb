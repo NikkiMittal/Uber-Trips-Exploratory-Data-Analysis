{
 "cells": [
  {
   "cell_type": "markdown",
   "id": "41a015ac",
   "metadata": {},
   "source": [
    "# Uber Rides Exploratory Data Analysis "
   ]
  },
  {
   "cell_type": "code",
   "execution_count": 65,
   "id": "228f0572",
   "metadata": {},
   "outputs": [],
   "source": [
    "#Importing required libraries:\n",
    "\n",
    "import pandas as pd               #for analyzing data             \n",
    "import seaborn as sns             #for visualizing data          \n",
    "import matplotlib.pyplot as plt   #for visualizing data \n",
    "%matplotlib inline  \n",
    "\n",
    "import warnings \n",
    "warnings.filterwarnings(action= 'ignore')"
   ]
  },
  {
   "cell_type": "markdown",
   "id": "283026ea",
   "metadata": {},
   "source": [
    "### Loading the dataset"
   ]
  },
  {
   "cell_type": "code",
   "execution_count": 66,
   "id": "e14b30af",
   "metadata": {},
   "outputs": [
    {
     "name": "stdout",
     "output_type": "stream",
     "text": [
      "(1155, 7)\n"
     ]
    },
    {
     "data": {
      "text/html": [
       "<div>\n",
       "<style scoped>\n",
       "    .dataframe tbody tr th:only-of-type {\n",
       "        vertical-align: middle;\n",
       "    }\n",
       "\n",
       "    .dataframe tbody tr th {\n",
       "        vertical-align: top;\n",
       "    }\n",
       "\n",
       "    .dataframe thead th {\n",
       "        text-align: right;\n",
       "    }\n",
       "</style>\n",
       "<table border=\"1\" class=\"dataframe\">\n",
       "  <thead>\n",
       "    <tr style=\"text-align: right;\">\n",
       "      <th></th>\n",
       "      <th>START_DATE*</th>\n",
       "      <th>END_DATE*</th>\n",
       "      <th>CATEGORY*</th>\n",
       "      <th>START*</th>\n",
       "      <th>STOP*</th>\n",
       "      <th>MILES*</th>\n",
       "      <th>PURPOSE*</th>\n",
       "    </tr>\n",
       "  </thead>\n",
       "  <tbody>\n",
       "    <tr>\n",
       "      <th>0</th>\n",
       "      <td>01-01-2016 21:11</td>\n",
       "      <td>01-01-2016 21:17</td>\n",
       "      <td>Business</td>\n",
       "      <td>Fort Pierce</td>\n",
       "      <td>Fort Pierce</td>\n",
       "      <td>5.1</td>\n",
       "      <td>Meal/Entertain</td>\n",
       "    </tr>\n",
       "    <tr>\n",
       "      <th>1</th>\n",
       "      <td>01-02-2016 01:25</td>\n",
       "      <td>01-02-2016 01:37</td>\n",
       "      <td>Business</td>\n",
       "      <td>Fort Pierce</td>\n",
       "      <td>Fort Pierce</td>\n",
       "      <td>5.0</td>\n",
       "      <td>NaN</td>\n",
       "    </tr>\n",
       "    <tr>\n",
       "      <th>2</th>\n",
       "      <td>01-02-2016 20:25</td>\n",
       "      <td>01-02-2016 20:38</td>\n",
       "      <td>Business</td>\n",
       "      <td>Fort Pierce</td>\n",
       "      <td>Fort Pierce</td>\n",
       "      <td>4.8</td>\n",
       "      <td>Errand/Supplies</td>\n",
       "    </tr>\n",
       "    <tr>\n",
       "      <th>3</th>\n",
       "      <td>01-05-2016 17:31</td>\n",
       "      <td>01-05-2016 17:45</td>\n",
       "      <td>Business</td>\n",
       "      <td>Fort Pierce</td>\n",
       "      <td>Fort Pierce</td>\n",
       "      <td>4.7</td>\n",
       "      <td>Meeting</td>\n",
       "    </tr>\n",
       "    <tr>\n",
       "      <th>4</th>\n",
       "      <td>01-06-2016 14:42</td>\n",
       "      <td>01-06-2016 15:49</td>\n",
       "      <td>Business</td>\n",
       "      <td>Fort Pierce</td>\n",
       "      <td>West Palm Beach</td>\n",
       "      <td>63.7</td>\n",
       "      <td>Customer Visit</td>\n",
       "    </tr>\n",
       "  </tbody>\n",
       "</table>\n",
       "</div>"
      ],
      "text/plain": [
       "        START_DATE*         END_DATE* CATEGORY*       START*            STOP*  \\\n",
       "0  01-01-2016 21:11  01-01-2016 21:17  Business  Fort Pierce      Fort Pierce   \n",
       "1  01-02-2016 01:25  01-02-2016 01:37  Business  Fort Pierce      Fort Pierce   \n",
       "2  01-02-2016 20:25  01-02-2016 20:38  Business  Fort Pierce      Fort Pierce   \n",
       "3  01-05-2016 17:31  01-05-2016 17:45  Business  Fort Pierce      Fort Pierce   \n",
       "4  01-06-2016 14:42  01-06-2016 15:49  Business  Fort Pierce  West Palm Beach   \n",
       "\n",
       "   MILES*         PURPOSE*  \n",
       "0     5.1   Meal/Entertain  \n",
       "1     5.0              NaN  \n",
       "2     4.8  Errand/Supplies  \n",
       "3     4.7          Meeting  \n",
       "4    63.7   Customer Visit  "
      ]
     },
     "execution_count": 66,
     "metadata": {},
     "output_type": "execute_result"
    }
   ],
   "source": [
    "#Loading the dataset\n",
    "\n",
    "data = pd.read_csv('Uber_drives_data.csv')\n",
    "print(data.shape)                  #printing the number of rows and columns respectively\n",
    "data.head(5)                       #printing the top 5 rows"
   ]
  },
  {
   "cell_type": "markdown",
   "id": "89ec001a",
   "metadata": {},
   "source": [
    "The dataset has 1155 rows and 7 columns."
   ]
  },
  {
   "cell_type": "code",
   "execution_count": 67,
   "id": "8ba736b9",
   "metadata": {},
   "outputs": [
    {
     "data": {
      "text/html": [
       "<div>\n",
       "<style scoped>\n",
       "    .dataframe tbody tr th:only-of-type {\n",
       "        vertical-align: middle;\n",
       "    }\n",
       "\n",
       "    .dataframe tbody tr th {\n",
       "        vertical-align: top;\n",
       "    }\n",
       "\n",
       "    .dataframe thead th {\n",
       "        text-align: right;\n",
       "    }\n",
       "</style>\n",
       "<table border=\"1\" class=\"dataframe\">\n",
       "  <thead>\n",
       "    <tr style=\"text-align: right;\">\n",
       "      <th></th>\n",
       "      <th>Start_Date</th>\n",
       "      <th>End_Date</th>\n",
       "      <th>Category</th>\n",
       "      <th>Start_Point</th>\n",
       "      <th>Stop_Point</th>\n",
       "      <th>Miles</th>\n",
       "      <th>Purpose</th>\n",
       "    </tr>\n",
       "  </thead>\n",
       "  <tbody>\n",
       "    <tr>\n",
       "      <th>0</th>\n",
       "      <td>01-01-2016 21:11</td>\n",
       "      <td>01-01-2016 21:17</td>\n",
       "      <td>Business</td>\n",
       "      <td>Fort Pierce</td>\n",
       "      <td>Fort Pierce</td>\n",
       "      <td>5.1</td>\n",
       "      <td>Meal/Entertain</td>\n",
       "    </tr>\n",
       "    <tr>\n",
       "      <th>1</th>\n",
       "      <td>01-02-2016 01:25</td>\n",
       "      <td>01-02-2016 01:37</td>\n",
       "      <td>Business</td>\n",
       "      <td>Fort Pierce</td>\n",
       "      <td>Fort Pierce</td>\n",
       "      <td>5.0</td>\n",
       "      <td>NaN</td>\n",
       "    </tr>\n",
       "    <tr>\n",
       "      <th>2</th>\n",
       "      <td>01-02-2016 20:25</td>\n",
       "      <td>01-02-2016 20:38</td>\n",
       "      <td>Business</td>\n",
       "      <td>Fort Pierce</td>\n",
       "      <td>Fort Pierce</td>\n",
       "      <td>4.8</td>\n",
       "      <td>Errand/Supplies</td>\n",
       "    </tr>\n",
       "    <tr>\n",
       "      <th>3</th>\n",
       "      <td>01-05-2016 17:31</td>\n",
       "      <td>01-05-2016 17:45</td>\n",
       "      <td>Business</td>\n",
       "      <td>Fort Pierce</td>\n",
       "      <td>Fort Pierce</td>\n",
       "      <td>4.7</td>\n",
       "      <td>Meeting</td>\n",
       "    </tr>\n",
       "    <tr>\n",
       "      <th>4</th>\n",
       "      <td>01-06-2016 14:42</td>\n",
       "      <td>01-06-2016 15:49</td>\n",
       "      <td>Business</td>\n",
       "      <td>Fort Pierce</td>\n",
       "      <td>West Palm Beach</td>\n",
       "      <td>63.7</td>\n",
       "      <td>Customer Visit</td>\n",
       "    </tr>\n",
       "  </tbody>\n",
       "</table>\n",
       "</div>"
      ],
      "text/plain": [
       "         Start_Date          End_Date  Category  Start_Point       Stop_Point  \\\n",
       "0  01-01-2016 21:11  01-01-2016 21:17  Business  Fort Pierce      Fort Pierce   \n",
       "1  01-02-2016 01:25  01-02-2016 01:37  Business  Fort Pierce      Fort Pierce   \n",
       "2  01-02-2016 20:25  01-02-2016 20:38  Business  Fort Pierce      Fort Pierce   \n",
       "3  01-05-2016 17:31  01-05-2016 17:45  Business  Fort Pierce      Fort Pierce   \n",
       "4  01-06-2016 14:42  01-06-2016 15:49  Business  Fort Pierce  West Palm Beach   \n",
       "\n",
       "   Miles          Purpose  \n",
       "0    5.1   Meal/Entertain  \n",
       "1    5.0              NaN  \n",
       "2    4.8  Errand/Supplies  \n",
       "3    4.7          Meeting  \n",
       "4   63.7   Customer Visit  "
      ]
     },
     "execution_count": 67,
     "metadata": {},
     "output_type": "execute_result"
    }
   ],
   "source": [
    "#Renaming column names for clarity:\n",
    "\n",
    "data.columns = ['Start_Date','End_Date','Category','Start_Point','Stop_Point','Miles','Purpose']\n",
    "data.head(5)    #printing top 5 rows"
   ]
  },
  {
   "cell_type": "markdown",
   "id": "14841c11",
   "metadata": {},
   "source": [
    "The given dataset has 1155 rows and 7 columns, containing all the information about the Uber rides. The user has booked 1155 rides over the year."
   ]
  },
  {
   "cell_type": "code",
   "execution_count": 68,
   "id": "841cbb0c",
   "metadata": {},
   "outputs": [
    {
     "data": {
      "text/html": [
       "<div>\n",
       "<style scoped>\n",
       "    .dataframe tbody tr th:only-of-type {\n",
       "        vertical-align: middle;\n",
       "    }\n",
       "\n",
       "    .dataframe tbody tr th {\n",
       "        vertical-align: top;\n",
       "    }\n",
       "\n",
       "    .dataframe thead th {\n",
       "        text-align: right;\n",
       "    }\n",
       "</style>\n",
       "<table border=\"1\" class=\"dataframe\">\n",
       "  <thead>\n",
       "    <tr style=\"text-align: right;\">\n",
       "      <th></th>\n",
       "      <th>Miles</th>\n",
       "    </tr>\n",
       "  </thead>\n",
       "  <tbody>\n",
       "    <tr>\n",
       "      <th>count</th>\n",
       "      <td>1155.000000</td>\n",
       "    </tr>\n",
       "    <tr>\n",
       "      <th>mean</th>\n",
       "      <td>10.566840</td>\n",
       "    </tr>\n",
       "    <tr>\n",
       "      <th>std</th>\n",
       "      <td>21.579106</td>\n",
       "    </tr>\n",
       "    <tr>\n",
       "      <th>min</th>\n",
       "      <td>0.500000</td>\n",
       "    </tr>\n",
       "    <tr>\n",
       "      <th>25%</th>\n",
       "      <td>2.900000</td>\n",
       "    </tr>\n",
       "    <tr>\n",
       "      <th>50%</th>\n",
       "      <td>6.000000</td>\n",
       "    </tr>\n",
       "    <tr>\n",
       "      <th>75%</th>\n",
       "      <td>10.400000</td>\n",
       "    </tr>\n",
       "    <tr>\n",
       "      <th>max</th>\n",
       "      <td>310.300000</td>\n",
       "    </tr>\n",
       "  </tbody>\n",
       "</table>\n",
       "</div>"
      ],
      "text/plain": [
       "             Miles\n",
       "count  1155.000000\n",
       "mean     10.566840\n",
       "std      21.579106\n",
       "min       0.500000\n",
       "25%       2.900000\n",
       "50%       6.000000\n",
       "75%      10.400000\n",
       "max     310.300000"
      ]
     },
     "execution_count": 68,
     "metadata": {},
     "output_type": "execute_result"
    }
   ],
   "source": [
    "#Understanding the data more:\n",
    "\n",
    "data.describe()    #for statistical description of data"
   ]
  },
  {
   "cell_type": "markdown",
   "id": "f1e88c35",
   "metadata": {},
   "source": [
    "Here, as maximum miles is more than (mean + 3*standard deviation) value, it seems that the dataset has outliers present in it."
   ]
  },
  {
   "cell_type": "markdown",
   "id": "febd4d92",
   "metadata": {},
   "source": [
    "### Data Cleaning"
   ]
  },
  {
   "cell_type": "code",
   "execution_count": 69,
   "id": "ec77611e",
   "metadata": {},
   "outputs": [
    {
     "name": "stdout",
     "output_type": "stream",
     "text": [
      "<class 'pandas.core.frame.DataFrame'>\n",
      "RangeIndex: 1155 entries, 0 to 1154\n",
      "Data columns (total 7 columns):\n",
      " #   Column       Non-Null Count  Dtype  \n",
      "---  ------       --------------  -----  \n",
      " 0   Start_Date   1155 non-null   object \n",
      " 1   End_Date     1155 non-null   object \n",
      " 2   Category     1155 non-null   object \n",
      " 3   Start_Point  1155 non-null   object \n",
      " 4   Stop_Point   1155 non-null   object \n",
      " 5   Miles        1155 non-null   float64\n",
      " 6   Purpose      653 non-null    object \n",
      "dtypes: float64(1), object(6)\n",
      "memory usage: 63.3+ KB\n"
     ]
    }
   ],
   "source": [
    "#Checking the need for data cleaning:\n",
    "\n",
    "data.info()      #gathering information about the non null count and data type"
   ]
  },
  {
   "cell_type": "markdown",
   "id": "dd54a234",
   "metadata": {},
   "source": [
    "Out of 1155 values in Purpose column, only 653 have some values. Rest have null values."
   ]
  },
  {
   "cell_type": "code",
   "execution_count": 70,
   "id": "d029bcc3",
   "metadata": {},
   "outputs": [
    {
     "data": {
      "text/plain": [
       "1"
      ]
     },
     "execution_count": 70,
     "metadata": {},
     "output_type": "execute_result"
    }
   ],
   "source": [
    "#Checking if there is any duplicate value:\n",
    "\n",
    "data.duplicated().sum()"
   ]
  },
  {
   "cell_type": "markdown",
   "id": "2ef428a5",
   "metadata": {},
   "source": [
    "The dataset does have one duplicate value which needs to be removed."
   ]
  },
  {
   "cell_type": "code",
   "execution_count": 71,
   "id": "933e5692",
   "metadata": {},
   "outputs": [],
   "source": [
    "#Removing duplicate values\n",
    "\n",
    "data.drop_duplicates(inplace = True)"
   ]
  },
  {
   "cell_type": "code",
   "execution_count": 72,
   "id": "79317487",
   "metadata": {},
   "outputs": [
    {
     "data": {
      "text/plain": [
       "0"
      ]
     },
     "execution_count": 72,
     "metadata": {},
     "output_type": "execute_result"
    }
   ],
   "source": [
    "#Checking if there is any duplicate value:\n",
    "\n",
    "data.duplicated().sum()"
   ]
  },
  {
   "cell_type": "code",
   "execution_count": 73,
   "id": "ef5a1662",
   "metadata": {},
   "outputs": [
    {
     "data": {
      "text/plain": [
       "Start_Date       0\n",
       "End_Date         0\n",
       "Category         0\n",
       "Start_Point      0\n",
       "Stop_Point       0\n",
       "Miles            0\n",
       "Purpose        502\n",
       "dtype: int64"
      ]
     },
     "execution_count": 73,
     "metadata": {},
     "output_type": "execute_result"
    }
   ],
   "source": [
    "data.isnull().sum()     #Counting number of null values"
   ]
  },
  {
   "cell_type": "markdown",
   "id": "46e266bb",
   "metadata": {},
   "source": [
    "Clearly, the dataset does have null values. The data needs to be cleaned in order to do its analysis and visualization."
   ]
  },
  {
   "cell_type": "code",
   "execution_count": 74,
   "id": "d6985d3c",
   "metadata": {},
   "outputs": [
    {
     "data": {
      "text/plain": [
       "<AxesSubplot:>"
      ]
     },
     "execution_count": 74,
     "metadata": {},
     "output_type": "execute_result"
    },
    {
     "data": {
      "image/png": "[encoded data removed]",
      "text/plain": [
       "<Figure size 432x288 with 2 Axes>"
      ]
     },
     "metadata": {
      "needs_background": "light"
     },
     "output_type": "display_data"
    }
   ],
   "source": [
    "sns.heatmap(data.isnull(), yticklabels = False)   #Visualization of null values"
   ]
  },
  {
   "cell_type": "markdown",
   "id": "f86af4ac",
   "metadata": {},
   "source": [
    "Clearly, the 'Purpose' column contains a lot of null values. The null values in Purpose column can't be dropped as doing this leads to working with approximately half of the data. "
   ]
  },
  {
   "cell_type": "code",
   "execution_count": 75,
   "id": "f582cf71",
   "metadata": {},
   "outputs": [
    {
     "data": {
      "text/html": [
       "<div>\n",
       "<style scoped>\n",
       "    .dataframe tbody tr th:only-of-type {\n",
       "        vertical-align: middle;\n",
       "    }\n",
       "\n",
       "    .dataframe tbody tr th {\n",
       "        vertical-align: top;\n",
       "    }\n",
       "\n",
       "    .dataframe thead th {\n",
       "        text-align: right;\n",
       "    }\n",
       "</style>\n",
       "<table border=\"1\" class=\"dataframe\">\n",
       "  <thead>\n",
       "    <tr style=\"text-align: right;\">\n",
       "      <th></th>\n",
       "      <th>Start_Date</th>\n",
       "      <th>End_Date</th>\n",
       "      <th>Category</th>\n",
       "      <th>Start_Point</th>\n",
       "      <th>Stop_Point</th>\n",
       "      <th>Miles</th>\n",
       "      <th>Purpose</th>\n",
       "    </tr>\n",
       "  </thead>\n",
       "  <tbody>\n",
       "    <tr>\n",
       "      <th>0</th>\n",
       "      <td>01-01-2016 21:11</td>\n",
       "      <td>01-01-2016 21:17</td>\n",
       "      <td>Business</td>\n",
       "      <td>Fort Pierce</td>\n",
       "      <td>Fort Pierce</td>\n",
       "      <td>5.1</td>\n",
       "      <td>Meal/Entertain</td>\n",
       "    </tr>\n",
       "    <tr>\n",
       "      <th>1</th>\n",
       "      <td>01-02-2016 01:25</td>\n",
       "      <td>01-02-2016 01:37</td>\n",
       "      <td>Business</td>\n",
       "      <td>Fort Pierce</td>\n",
       "      <td>Fort Pierce</td>\n",
       "      <td>5.0</td>\n",
       "      <td>Unknown</td>\n",
       "    </tr>\n",
       "    <tr>\n",
       "      <th>2</th>\n",
       "      <td>01-02-2016 20:25</td>\n",
       "      <td>01-02-2016 20:38</td>\n",
       "      <td>Business</td>\n",
       "      <td>Fort Pierce</td>\n",
       "      <td>Fort Pierce</td>\n",
       "      <td>4.8</td>\n",
       "      <td>Errand/Supplies</td>\n",
       "    </tr>\n",
       "    <tr>\n",
       "      <th>3</th>\n",
       "      <td>01-05-2016 17:31</td>\n",
       "      <td>01-05-2016 17:45</td>\n",
       "      <td>Business</td>\n",
       "      <td>Fort Pierce</td>\n",
       "      <td>Fort Pierce</td>\n",
       "      <td>4.7</td>\n",
       "      <td>Meeting</td>\n",
       "    </tr>\n",
       "    <tr>\n",
       "      <th>4</th>\n",
       "      <td>01-06-2016 14:42</td>\n",
       "      <td>01-06-2016 15:49</td>\n",
       "      <td>Business</td>\n",
       "      <td>Fort Pierce</td>\n",
       "      <td>West Palm Beach</td>\n",
       "      <td>63.7</td>\n",
       "      <td>Customer Visit</td>\n",
       "    </tr>\n",
       "  </tbody>\n",
       "</table>\n",
       "</div>"
      ],
      "text/plain": [
       "         Start_Date          End_Date  Category  Start_Point       Stop_Point  \\\n",
       "0  01-01-2016 21:11  01-01-2016 21:17  Business  Fort Pierce      Fort Pierce   \n",
       "1  01-02-2016 01:25  01-02-2016 01:37  Business  Fort Pierce      Fort Pierce   \n",
       "2  01-02-2016 20:25  01-02-2016 20:38  Business  Fort Pierce      Fort Pierce   \n",
       "3  01-05-2016 17:31  01-05-2016 17:45  Business  Fort Pierce      Fort Pierce   \n",
       "4  01-06-2016 14:42  01-06-2016 15:49  Business  Fort Pierce  West Palm Beach   \n",
       "\n",
       "   Miles          Purpose  \n",
       "0    5.1   Meal/Entertain  \n",
       "1    5.0          Unknown  \n",
       "2    4.8  Errand/Supplies  \n",
       "3    4.7          Meeting  \n",
       "4   63.7   Customer Visit  "
      ]
     },
     "execution_count": 75,
     "metadata": {},
     "output_type": "execute_result"
    }
   ],
   "source": [
    "#Setting null values in the Purpose column to 'Unknown' as the purpose is not mentioned for them\n",
    "\n",
    "data['Purpose'] = data['Purpose'].fillna('Unknown')\n",
    "data.head()\n"
   ]
  },
  {
   "cell_type": "code",
   "execution_count": 76,
   "id": "78aac93d",
   "metadata": {},
   "outputs": [
    {
     "data": {
      "text/plain": [
       "Start_Date     0\n",
       "End_Date       0\n",
       "Category       0\n",
       "Start_Point    0\n",
       "Stop_Point     0\n",
       "Miles          0\n",
       "Purpose        0\n",
       "dtype: int64"
      ]
     },
     "execution_count": 76,
     "metadata": {},
     "output_type": "execute_result"
    }
   ],
   "source": [
    "#Checking if data is cleaned or not:\n",
    "\n",
    "data.isnull().sum()"
   ]
  },
  {
   "cell_type": "markdown",
   "id": "47f29f48",
   "metadata": {},
   "source": [
    "Clearly, there are no null values left."
   ]
  },
  {
   "cell_type": "code",
   "execution_count": 77,
   "id": "de387b57",
   "metadata": {},
   "outputs": [
    {
     "data": {
      "text/plain": [
       "<AxesSubplot:>"
      ]
     },
     "execution_count": 77,
     "metadata": {},
     "output_type": "execute_result"
    },
    {
     "data": {
      "image/png": "[encoded data removed]",
      "text/plain": [
       "<Figure size 432x288 with 2 Axes>"
      ]
     },
     "metadata": {
      "needs_background": "light"
     },
     "output_type": "display_data"
    }
   ],
   "source": [
    "sns.heatmap(data.isnull(), yticklabels = False)"
   ]
  },
  {
   "cell_type": "markdown",
   "id": "55c78525",
   "metadata": {},
   "source": [
    "Clearly, there are no null values left."
   ]
  },
  {
   "cell_type": "markdown",
   "id": "dbc63199",
   "metadata": {},
   "source": [
    "### Outliers Detection"
   ]
  },
  {
   "cell_type": "code",
   "execution_count": 78,
   "id": "0a1f5b3f",
   "metadata": {},
   "outputs": [
    {
     "data": {
      "text/plain": [
       "<AxesSubplot:>"
      ]
     },
     "execution_count": 78,
     "metadata": {},
     "output_type": "execute_result"
    },
    {
     "data": {
      "image/png": "[encoded data removed]",
      "text/plain": [
       "<Figure size 432x288 with 1 Axes>"
      ]
     },
     "metadata": {
      "needs_background": "light"
     },
     "output_type": "display_data"
    }
   ],
   "source": [
    "#Identifying outliers in data\n",
    "\n",
    "data[['Miles']].boxplot()"
   ]
  },
  {
   "cell_type": "markdown",
   "id": "da113beb",
   "metadata": {},
   "source": [
    "Clearly, the miles column has a lot of outliers which need to be handled."
   ]
  },
  {
   "cell_type": "code",
   "execution_count": 79,
   "id": "3ebf4fae",
   "metadata": {},
   "outputs": [
    {
     "data": {
      "text/plain": [
       "Text(0.5, 1.0, 'Distribution of Miles')"
      ]
     },
     "execution_count": 79,
     "metadata": {},
     "output_type": "execute_result"
    },
    {
     "data": {
      "image/png": "[encoded data removed]",
      "text/plain": [
       "<Figure size 720x360 with 1 Axes>"
      ]
     },
     "metadata": {
      "needs_background": "light"
     },
     "output_type": "display_data"
    }
   ],
   "source": [
    "#Checking the distribution of miles of the Uber rides:\n",
    "\n",
    "plt.figure(figsize=(10,5))\n",
    "sns.distplot(data.Miles)\n",
    "plt.title(\"Distribution of Miles\")"
   ]
  },
  {
   "cell_type": "markdown",
   "id": "e5eaea91",
   "metadata": {},
   "source": [
    "The distribution plot clearly shows that outliers are present and the data is positively skewed."
   ]
  },
  {
   "cell_type": "code",
   "execution_count": 80,
   "id": "47c168ab",
   "metadata": {},
   "outputs": [
    {
     "data": {
      "text/plain": [
       "7.218779471596945"
      ]
     },
     "execution_count": 80,
     "metadata": {},
     "output_type": "execute_result"
    }
   ],
   "source": [
    "#Skewness of Miles column values\n",
    "data.Miles.skew()"
   ]
  },
  {
   "cell_type": "markdown",
   "id": "dfc72f5e",
   "metadata": {},
   "source": [
    "The distribution of Miles column values is highly skewed towards right. This means the outliers are present towards the right. A positive skew indicates that the dataset has many values much greater than the mean and it has very less values lesser than the mean. "
   ]
  },
  {
   "cell_type": "code",
   "execution_count": 81,
   "id": "a93d4889",
   "metadata": {},
   "outputs": [
    {
     "data": {
      "text/html": [
       "<div>\n",
       "<style scoped>\n",
       "    .dataframe tbody tr th:only-of-type {\n",
       "        vertical-align: middle;\n",
       "    }\n",
       "\n",
       "    .dataframe tbody tr th {\n",
       "        vertical-align: top;\n",
       "    }\n",
       "\n",
       "    .dataframe thead th {\n",
       "        text-align: right;\n",
       "    }\n",
       "</style>\n",
       "<table border=\"1\" class=\"dataframe\">\n",
       "  <thead>\n",
       "    <tr style=\"text-align: right;\">\n",
       "      <th></th>\n",
       "      <th>Start_Date</th>\n",
       "      <th>End_Date</th>\n",
       "      <th>Category</th>\n",
       "      <th>Start_Point</th>\n",
       "      <th>Stop_Point</th>\n",
       "      <th>Miles</th>\n",
       "      <th>Purpose</th>\n",
       "    </tr>\n",
       "  </thead>\n",
       "  <tbody>\n",
       "    <tr>\n",
       "      <th>4</th>\n",
       "      <td>01-06-2016 14:42</td>\n",
       "      <td>01-06-2016 15:49</td>\n",
       "      <td>Business</td>\n",
       "      <td>Fort Pierce</td>\n",
       "      <td>West Palm Beach</td>\n",
       "      <td>63.7</td>\n",
       "      <td>Customer Visit</td>\n",
       "    </tr>\n",
       "    <tr>\n",
       "      <th>25</th>\n",
       "      <td>1/14/2016 16:29</td>\n",
       "      <td>1/14/2016 17:05</td>\n",
       "      <td>Business</td>\n",
       "      <td>Houston</td>\n",
       "      <td>Houston</td>\n",
       "      <td>21.9</td>\n",
       "      <td>Customer Visit</td>\n",
       "    </tr>\n",
       "    <tr>\n",
       "      <th>36</th>\n",
       "      <td>1/20/2016 13:25</td>\n",
       "      <td>1/20/2016 14:19</td>\n",
       "      <td>Business</td>\n",
       "      <td>Raleigh</td>\n",
       "      <td>Cary</td>\n",
       "      <td>40.2</td>\n",
       "      <td>Customer Visit</td>\n",
       "    </tr>\n",
       "    <tr>\n",
       "      <th>62</th>\n",
       "      <td>02-01-2016 12:10</td>\n",
       "      <td>02-01-2016 12:43</td>\n",
       "      <td>Business</td>\n",
       "      <td>Chapel Hill</td>\n",
       "      <td>Cary</td>\n",
       "      <td>23.3</td>\n",
       "      <td>Customer Visit</td>\n",
       "    </tr>\n",
       "    <tr>\n",
       "      <th>108</th>\n",
       "      <td>2/16/2016 3:21</td>\n",
       "      <td>2/16/2016 4:13</td>\n",
       "      <td>Business</td>\n",
       "      <td>Katunayaka</td>\n",
       "      <td>Unknown Location</td>\n",
       "      <td>43.7</td>\n",
       "      <td>Customer Visit</td>\n",
       "    </tr>\n",
       "    <tr>\n",
       "      <th>...</th>\n",
       "      <td>...</td>\n",
       "      <td>...</td>\n",
       "      <td>...</td>\n",
       "      <td>...</td>\n",
       "      <td>...</td>\n",
       "      <td>...</td>\n",
       "      <td>...</td>\n",
       "    </tr>\n",
       "    <tr>\n",
       "      <th>979</th>\n",
       "      <td>11/20/2016 10:27</td>\n",
       "      <td>11/20/2016 11:32</td>\n",
       "      <td>Business</td>\n",
       "      <td>Cary</td>\n",
       "      <td>Cary</td>\n",
       "      <td>39.2</td>\n",
       "      <td>Between Offices</td>\n",
       "    </tr>\n",
       "    <tr>\n",
       "      <th>1088</th>\n",
       "      <td>12/21/2016 20:56</td>\n",
       "      <td>12/21/2016 23:42</td>\n",
       "      <td>Business</td>\n",
       "      <td>Rawalpindi</td>\n",
       "      <td>Unknown Location</td>\n",
       "      <td>103.0</td>\n",
       "      <td>Meeting</td>\n",
       "    </tr>\n",
       "    <tr>\n",
       "      <th>1089</th>\n",
       "      <td>12/22/2016 15:40</td>\n",
       "      <td>12/22/2016 16:38</td>\n",
       "      <td>Business</td>\n",
       "      <td>Unknown Location</td>\n",
       "      <td>Unknown Location</td>\n",
       "      <td>32.3</td>\n",
       "      <td>Meeting</td>\n",
       "    </tr>\n",
       "    <tr>\n",
       "      <th>1092</th>\n",
       "      <td>12/22/2016 17:56</td>\n",
       "      <td>12/22/2016 18:29</td>\n",
       "      <td>Business</td>\n",
       "      <td>Unknown Location</td>\n",
       "      <td>Unknown Location</td>\n",
       "      <td>23.2</td>\n",
       "      <td>Meeting</td>\n",
       "    </tr>\n",
       "    <tr>\n",
       "      <th>1154</th>\n",
       "      <td>12/31/2016 22:08</td>\n",
       "      <td>12/31/2016 23:51</td>\n",
       "      <td>Business</td>\n",
       "      <td>Gampaha</td>\n",
       "      <td>Ilukwatta</td>\n",
       "      <td>48.2</td>\n",
       "      <td>Temporary Site</td>\n",
       "    </tr>\n",
       "  </tbody>\n",
       "</table>\n",
       "<p>77 rows × 7 columns</p>\n",
       "</div>"
      ],
      "text/plain": [
       "            Start_Date          End_Date  Category       Start_Point  \\\n",
       "4     01-06-2016 14:42  01-06-2016 15:49  Business       Fort Pierce   \n",
       "25     1/14/2016 16:29   1/14/2016 17:05  Business           Houston   \n",
       "36     1/20/2016 13:25   1/20/2016 14:19  Business           Raleigh   \n",
       "62    02-01-2016 12:10  02-01-2016 12:43  Business       Chapel Hill   \n",
       "108     2/16/2016 3:21    2/16/2016 4:13  Business        Katunayaka   \n",
       "...                ...               ...       ...               ...   \n",
       "979   11/20/2016 10:27  11/20/2016 11:32  Business              Cary   \n",
       "1088  12/21/2016 20:56  12/21/2016 23:42  Business        Rawalpindi   \n",
       "1089  12/22/2016 15:40  12/22/2016 16:38  Business  Unknown Location   \n",
       "1092  12/22/2016 17:56  12/22/2016 18:29  Business  Unknown Location   \n",
       "1154  12/31/2016 22:08  12/31/2016 23:51  Business           Gampaha   \n",
       "\n",
       "            Stop_Point  Miles          Purpose  \n",
       "4      West Palm Beach   63.7   Customer Visit  \n",
       "25             Houston   21.9   Customer Visit  \n",
       "36                Cary   40.2   Customer Visit  \n",
       "62                Cary   23.3   Customer Visit  \n",
       "108   Unknown Location   43.7   Customer Visit  \n",
       "...                ...    ...              ...  \n",
       "979               Cary   39.2  Between Offices  \n",
       "1088  Unknown Location  103.0          Meeting  \n",
       "1089  Unknown Location   32.3          Meeting  \n",
       "1092  Unknown Location   23.2          Meeting  \n",
       "1154         Ilukwatta   48.2   Temporary Site  \n",
       "\n",
       "[77 rows x 7 columns]"
      ]
     },
     "execution_count": 81,
     "metadata": {},
     "output_type": "execute_result"
    }
   ],
   "source": [
    "#Identifying outliers in the Miles column\n",
    "\n",
    "Q1 = data.Miles.quantile(0.25)\n",
    "Q3 = data.Miles.quantile(0.75)\n",
    "IQR = Q3 - Q1\n",
    "lower_limit = Q1 - 1.5*IQR\n",
    "upper_limit = Q3 + 1.5*IQR\n",
    "data[(data.Miles < lower_limit) | (data.Miles > upper_limit)]\n"
   ]
  },
  {
   "cell_type": "markdown",
   "id": "37ab2896",
   "metadata": {},
   "source": [
    "These are the outliers in the Miles column which need to be removed."
   ]
  },
  {
   "cell_type": "code",
   "execution_count": 82,
   "id": "04baa832",
   "metadata": {},
   "outputs": [
    {
     "data": {
      "text/html": [
       "<div>\n",
       "<style scoped>\n",
       "    .dataframe tbody tr th:only-of-type {\n",
       "        vertical-align: middle;\n",
       "    }\n",
       "\n",
       "    .dataframe tbody tr th {\n",
       "        vertical-align: top;\n",
       "    }\n",
       "\n",
       "    .dataframe thead th {\n",
       "        text-align: right;\n",
       "    }\n",
       "</style>\n",
       "<table border=\"1\" class=\"dataframe\">\n",
       "  <thead>\n",
       "    <tr style=\"text-align: right;\">\n",
       "      <th></th>\n",
       "      <th>Start_Date</th>\n",
       "      <th>End_Date</th>\n",
       "      <th>Category</th>\n",
       "      <th>Start_Point</th>\n",
       "      <th>Stop_Point</th>\n",
       "      <th>Miles</th>\n",
       "      <th>Purpose</th>\n",
       "    </tr>\n",
       "  </thead>\n",
       "  <tbody>\n",
       "    <tr>\n",
       "      <th>0</th>\n",
       "      <td>01-01-2016 21:11</td>\n",
       "      <td>01-01-2016 21:17</td>\n",
       "      <td>Business</td>\n",
       "      <td>Fort Pierce</td>\n",
       "      <td>Fort Pierce</td>\n",
       "      <td>5.1</td>\n",
       "      <td>Meal/Entertain</td>\n",
       "    </tr>\n",
       "    <tr>\n",
       "      <th>1</th>\n",
       "      <td>01-02-2016 01:25</td>\n",
       "      <td>01-02-2016 01:37</td>\n",
       "      <td>Business</td>\n",
       "      <td>Fort Pierce</td>\n",
       "      <td>Fort Pierce</td>\n",
       "      <td>5.0</td>\n",
       "      <td>Unknown</td>\n",
       "    </tr>\n",
       "    <tr>\n",
       "      <th>2</th>\n",
       "      <td>01-02-2016 20:25</td>\n",
       "      <td>01-02-2016 20:38</td>\n",
       "      <td>Business</td>\n",
       "      <td>Fort Pierce</td>\n",
       "      <td>Fort Pierce</td>\n",
       "      <td>4.8</td>\n",
       "      <td>Errand/Supplies</td>\n",
       "    </tr>\n",
       "    <tr>\n",
       "      <th>3</th>\n",
       "      <td>01-05-2016 17:31</td>\n",
       "      <td>01-05-2016 17:45</td>\n",
       "      <td>Business</td>\n",
       "      <td>Fort Pierce</td>\n",
       "      <td>Fort Pierce</td>\n",
       "      <td>4.7</td>\n",
       "      <td>Meeting</td>\n",
       "    </tr>\n",
       "    <tr>\n",
       "      <th>5</th>\n",
       "      <td>01-06-2016 17:15</td>\n",
       "      <td>01-06-2016 17:19</td>\n",
       "      <td>Business</td>\n",
       "      <td>West Palm Beach</td>\n",
       "      <td>West Palm Beach</td>\n",
       "      <td>4.3</td>\n",
       "      <td>Meal/Entertain</td>\n",
       "    </tr>\n",
       "    <tr>\n",
       "      <th>...</th>\n",
       "      <td>...</td>\n",
       "      <td>...</td>\n",
       "      <td>...</td>\n",
       "      <td>...</td>\n",
       "      <td>...</td>\n",
       "      <td>...</td>\n",
       "      <td>...</td>\n",
       "    </tr>\n",
       "    <tr>\n",
       "      <th>1149</th>\n",
       "      <td>12/30/2016 23:06</td>\n",
       "      <td>12/30/2016 23:10</td>\n",
       "      <td>Business</td>\n",
       "      <td>Kar?chi</td>\n",
       "      <td>Kar?chi</td>\n",
       "      <td>0.8</td>\n",
       "      <td>Customer Visit</td>\n",
       "    </tr>\n",
       "    <tr>\n",
       "      <th>1150</th>\n",
       "      <td>12/31/2016 1:07</td>\n",
       "      <td>12/31/2016 1:14</td>\n",
       "      <td>Business</td>\n",
       "      <td>Kar?chi</td>\n",
       "      <td>Kar?chi</td>\n",
       "      <td>0.7</td>\n",
       "      <td>Meeting</td>\n",
       "    </tr>\n",
       "    <tr>\n",
       "      <th>1151</th>\n",
       "      <td>12/31/2016 13:24</td>\n",
       "      <td>12/31/2016 13:42</td>\n",
       "      <td>Business</td>\n",
       "      <td>Kar?chi</td>\n",
       "      <td>Unknown Location</td>\n",
       "      <td>3.9</td>\n",
       "      <td>Temporary Site</td>\n",
       "    </tr>\n",
       "    <tr>\n",
       "      <th>1152</th>\n",
       "      <td>12/31/2016 15:03</td>\n",
       "      <td>12/31/2016 15:38</td>\n",
       "      <td>Business</td>\n",
       "      <td>Unknown Location</td>\n",
       "      <td>Unknown Location</td>\n",
       "      <td>16.2</td>\n",
       "      <td>Meeting</td>\n",
       "    </tr>\n",
       "    <tr>\n",
       "      <th>1153</th>\n",
       "      <td>12/31/2016 21:32</td>\n",
       "      <td>12/31/2016 21:50</td>\n",
       "      <td>Business</td>\n",
       "      <td>Katunayake</td>\n",
       "      <td>Gampaha</td>\n",
       "      <td>6.4</td>\n",
       "      <td>Temporary Site</td>\n",
       "    </tr>\n",
       "  </tbody>\n",
       "</table>\n",
       "<p>1077 rows × 7 columns</p>\n",
       "</div>"
      ],
      "text/plain": [
       "            Start_Date          End_Date  Category       Start_Point  \\\n",
       "0     01-01-2016 21:11  01-01-2016 21:17  Business       Fort Pierce   \n",
       "1     01-02-2016 01:25  01-02-2016 01:37  Business       Fort Pierce   \n",
       "2     01-02-2016 20:25  01-02-2016 20:38  Business       Fort Pierce   \n",
       "3     01-05-2016 17:31  01-05-2016 17:45  Business       Fort Pierce   \n",
       "5     01-06-2016 17:15  01-06-2016 17:19  Business   West Palm Beach   \n",
       "...                ...               ...       ...               ...   \n",
       "1149  12/30/2016 23:06  12/30/2016 23:10  Business           Kar?chi   \n",
       "1150   12/31/2016 1:07   12/31/2016 1:14  Business           Kar?chi   \n",
       "1151  12/31/2016 13:24  12/31/2016 13:42  Business           Kar?chi   \n",
       "1152  12/31/2016 15:03  12/31/2016 15:38  Business  Unknown Location   \n",
       "1153  12/31/2016 21:32  12/31/2016 21:50  Business        Katunayake   \n",
       "\n",
       "            Stop_Point  Miles          Purpose  \n",
       "0          Fort Pierce    5.1   Meal/Entertain  \n",
       "1          Fort Pierce    5.0          Unknown  \n",
       "2          Fort Pierce    4.8  Errand/Supplies  \n",
       "3          Fort Pierce    4.7          Meeting  \n",
       "5      West Palm Beach    4.3   Meal/Entertain  \n",
       "...                ...    ...              ...  \n",
       "1149           Kar?chi    0.8   Customer Visit  \n",
       "1150           Kar?chi    0.7          Meeting  \n",
       "1151  Unknown Location    3.9   Temporary Site  \n",
       "1152  Unknown Location   16.2          Meeting  \n",
       "1153           Gampaha    6.4   Temporary Site  \n",
       "\n",
       "[1077 rows x 7 columns]"
      ]
     },
     "execution_count": 82,
     "metadata": {},
     "output_type": "execute_result"
    }
   ],
   "source": [
    "#Removing outliers from the Miles column\n",
    "\n",
    "data_1 = data[(data.Miles > lower_limit) & (data.Miles < upper_limit)]\n",
    "data_1"
   ]
  },
  {
   "cell_type": "markdown",
   "id": "6b96dc30",
   "metadata": {},
   "source": [
    "The dataset has reduced to 1077 rows after removal of the outliers."
   ]
  },
  {
   "cell_type": "code",
   "execution_count": 127,
   "id": "fd58f67e",
   "metadata": {},
   "outputs": [
    {
     "data": {
      "text/plain": [
       "<AxesSubplot:>"
      ]
     },
     "execution_count": 127,
     "metadata": {},
     "output_type": "execute_result"
    },
    {
     "data": {
      "image/png": "[encoded data removed]",
      "text/plain": [
       "<Figure size 432x288 with 1 Axes>"
      ]
     },
     "metadata": {
      "needs_background": "light"
     },
     "output_type": "display_data"
    }
   ],
   "source": [
    "data_1[['Miles']].boxplot()"
   ]
  },
  {
   "cell_type": "markdown",
   "id": "80ce4202",
   "metadata": {},
   "source": [
    "There are still a few outliers left."
   ]
  },
  {
   "cell_type": "code",
   "execution_count": 128,
   "id": "5c19be12",
   "metadata": {
    "scrolled": true
   },
   "outputs": [
    {
     "data": {
      "text/html": [
       "<div>\n",
       "<style scoped>\n",
       "    .dataframe tbody tr th:only-of-type {\n",
       "        vertical-align: middle;\n",
       "    }\n",
       "\n",
       "    .dataframe tbody tr th {\n",
       "        vertical-align: top;\n",
       "    }\n",
       "\n",
       "    .dataframe thead th {\n",
       "        text-align: right;\n",
       "    }\n",
       "</style>\n",
       "<table border=\"1\" class=\"dataframe\">\n",
       "  <thead>\n",
       "    <tr style=\"text-align: right;\">\n",
       "      <th></th>\n",
       "      <th>Start_Date</th>\n",
       "      <th>End_Date</th>\n",
       "      <th>Category</th>\n",
       "      <th>Start_Point</th>\n",
       "      <th>Stop_Point</th>\n",
       "      <th>Miles</th>\n",
       "      <th>Purpose</th>\n",
       "    </tr>\n",
       "  </thead>\n",
       "  <tbody>\n",
       "    <tr>\n",
       "      <th>119</th>\n",
       "      <td>2/17/2016 15:33</td>\n",
       "      <td>2/17/2016 16:17</td>\n",
       "      <td>Business</td>\n",
       "      <td>Colombo</td>\n",
       "      <td>Katunayaka</td>\n",
       "      <td>21.4</td>\n",
       "      <td>Temporary Site</td>\n",
       "    </tr>\n",
       "    <tr>\n",
       "      <th>291</th>\n",
       "      <td>04-01-2016 16:01</td>\n",
       "      <td>04-01-2016 16:49</td>\n",
       "      <td>Business</td>\n",
       "      <td>Orlando</td>\n",
       "      <td>Kissimmee</td>\n",
       "      <td>20.3</td>\n",
       "      <td>Meeting</td>\n",
       "    </tr>\n",
       "    <tr>\n",
       "      <th>362</th>\n",
       "      <td>05-09-2016 14:39</td>\n",
       "      <td>05-09-2016 15:06</td>\n",
       "      <td>Business</td>\n",
       "      <td>San Francisco</td>\n",
       "      <td>Palo Alto</td>\n",
       "      <td>20.5</td>\n",
       "      <td>Between Offices</td>\n",
       "    </tr>\n",
       "    <tr>\n",
       "      <th>687</th>\n",
       "      <td>8/21/2016 18:48</td>\n",
       "      <td>8/21/2016 19:24</td>\n",
       "      <td>Business</td>\n",
       "      <td>Islamabad</td>\n",
       "      <td>Unknown Location</td>\n",
       "      <td>20.2</td>\n",
       "      <td>Unknown</td>\n",
       "    </tr>\n",
       "    <tr>\n",
       "      <th>777</th>\n",
       "      <td>9/28/2016 17:21</td>\n",
       "      <td>9/28/2016 19:36</td>\n",
       "      <td>Business</td>\n",
       "      <td>Islamabad</td>\n",
       "      <td>Unknown Location</td>\n",
       "      <td>20.5</td>\n",
       "      <td>Unknown</td>\n",
       "    </tr>\n",
       "    <tr>\n",
       "      <th>822</th>\n",
       "      <td>10/17/2016 15:19</td>\n",
       "      <td>10/17/2016 15:57</td>\n",
       "      <td>Business</td>\n",
       "      <td>Cary</td>\n",
       "      <td>Raleigh</td>\n",
       "      <td>20.6</td>\n",
       "      <td>Unknown</td>\n",
       "    </tr>\n",
       "  </tbody>\n",
       "</table>\n",
       "</div>"
      ],
      "text/plain": [
       "           Start_Date          End_Date  Category    Start_Point  \\\n",
       "119   2/17/2016 15:33   2/17/2016 16:17  Business        Colombo   \n",
       "291  04-01-2016 16:01  04-01-2016 16:49  Business        Orlando   \n",
       "362  05-09-2016 14:39  05-09-2016 15:06  Business  San Francisco   \n",
       "687   8/21/2016 18:48   8/21/2016 19:24  Business      Islamabad   \n",
       "777   9/28/2016 17:21   9/28/2016 19:36  Business      Islamabad   \n",
       "822  10/17/2016 15:19  10/17/2016 15:57  Business           Cary   \n",
       "\n",
       "           Stop_Point  Miles          Purpose  \n",
       "119        Katunayaka   21.4   Temporary Site  \n",
       "291         Kissimmee   20.3          Meeting  \n",
       "362         Palo Alto   20.5  Between Offices  \n",
       "687  Unknown Location   20.2          Unknown  \n",
       "777  Unknown Location   20.5          Unknown  \n",
       "822           Raleigh   20.6          Unknown  "
      ]
     },
     "execution_count": 128,
     "metadata": {},
     "output_type": "execute_result"
    }
   ],
   "source": [
    "#Checking the dataset with >20 miles rides\n",
    "\n",
    "data_1[(data_1.Miles > 20)]"
   ]
  },
  {
   "cell_type": "code",
   "execution_count": 129,
   "id": "bf38df55",
   "metadata": {},
   "outputs": [
    {
     "data": {
      "text/html": [
       "<div>\n",
       "<style scoped>\n",
       "    .dataframe tbody tr th:only-of-type {\n",
       "        vertical-align: middle;\n",
       "    }\n",
       "\n",
       "    .dataframe tbody tr th {\n",
       "        vertical-align: top;\n",
       "    }\n",
       "\n",
       "    .dataframe thead th {\n",
       "        text-align: right;\n",
       "    }\n",
       "</style>\n",
       "<table border=\"1\" class=\"dataframe\">\n",
       "  <thead>\n",
       "    <tr style=\"text-align: right;\">\n",
       "      <th></th>\n",
       "      <th>Start_Date</th>\n",
       "      <th>End_Date</th>\n",
       "      <th>Category</th>\n",
       "      <th>Start_Point</th>\n",
       "      <th>Stop_Point</th>\n",
       "      <th>Miles</th>\n",
       "      <th>Purpose</th>\n",
       "    </tr>\n",
       "  </thead>\n",
       "  <tbody>\n",
       "    <tr>\n",
       "      <th>0</th>\n",
       "      <td>01-01-2016 21:11</td>\n",
       "      <td>01-01-2016 21:17</td>\n",
       "      <td>Business</td>\n",
       "      <td>Fort Pierce</td>\n",
       "      <td>Fort Pierce</td>\n",
       "      <td>5.1</td>\n",
       "      <td>Meal/Entertain</td>\n",
       "    </tr>\n",
       "    <tr>\n",
       "      <th>1</th>\n",
       "      <td>01-02-2016 01:25</td>\n",
       "      <td>01-02-2016 01:37</td>\n",
       "      <td>Business</td>\n",
       "      <td>Fort Pierce</td>\n",
       "      <td>Fort Pierce</td>\n",
       "      <td>5.0</td>\n",
       "      <td>Unknown</td>\n",
       "    </tr>\n",
       "    <tr>\n",
       "      <th>2</th>\n",
       "      <td>01-02-2016 20:25</td>\n",
       "      <td>01-02-2016 20:38</td>\n",
       "      <td>Business</td>\n",
       "      <td>Fort Pierce</td>\n",
       "      <td>Fort Pierce</td>\n",
       "      <td>4.8</td>\n",
       "      <td>Errand/Supplies</td>\n",
       "    </tr>\n",
       "    <tr>\n",
       "      <th>3</th>\n",
       "      <td>01-05-2016 17:31</td>\n",
       "      <td>01-05-2016 17:45</td>\n",
       "      <td>Business</td>\n",
       "      <td>Fort Pierce</td>\n",
       "      <td>Fort Pierce</td>\n",
       "      <td>4.7</td>\n",
       "      <td>Meeting</td>\n",
       "    </tr>\n",
       "    <tr>\n",
       "      <th>5</th>\n",
       "      <td>01-06-2016 17:15</td>\n",
       "      <td>01-06-2016 17:19</td>\n",
       "      <td>Business</td>\n",
       "      <td>West Palm Beach</td>\n",
       "      <td>West Palm Beach</td>\n",
       "      <td>4.3</td>\n",
       "      <td>Meal/Entertain</td>\n",
       "    </tr>\n",
       "    <tr>\n",
       "      <th>...</th>\n",
       "      <td>...</td>\n",
       "      <td>...</td>\n",
       "      <td>...</td>\n",
       "      <td>...</td>\n",
       "      <td>...</td>\n",
       "      <td>...</td>\n",
       "      <td>...</td>\n",
       "    </tr>\n",
       "    <tr>\n",
       "      <th>1149</th>\n",
       "      <td>12/30/2016 23:06</td>\n",
       "      <td>12/30/2016 23:10</td>\n",
       "      <td>Business</td>\n",
       "      <td>Kar?chi</td>\n",
       "      <td>Kar?chi</td>\n",
       "      <td>0.8</td>\n",
       "      <td>Customer Visit</td>\n",
       "    </tr>\n",
       "    <tr>\n",
       "      <th>1150</th>\n",
       "      <td>12/31/2016 1:07</td>\n",
       "      <td>12/31/2016 1:14</td>\n",
       "      <td>Business</td>\n",
       "      <td>Kar?chi</td>\n",
       "      <td>Kar?chi</td>\n",
       "      <td>0.7</td>\n",
       "      <td>Meeting</td>\n",
       "    </tr>\n",
       "    <tr>\n",
       "      <th>1151</th>\n",
       "      <td>12/31/2016 13:24</td>\n",
       "      <td>12/31/2016 13:42</td>\n",
       "      <td>Business</td>\n",
       "      <td>Kar?chi</td>\n",
       "      <td>Unknown Location</td>\n",
       "      <td>3.9</td>\n",
       "      <td>Temporary Site</td>\n",
       "    </tr>\n",
       "    <tr>\n",
       "      <th>1152</th>\n",
       "      <td>12/31/2016 15:03</td>\n",
       "      <td>12/31/2016 15:38</td>\n",
       "      <td>Business</td>\n",
       "      <td>Unknown Location</td>\n",
       "      <td>Unknown Location</td>\n",
       "      <td>16.2</td>\n",
       "      <td>Meeting</td>\n",
       "    </tr>\n",
       "    <tr>\n",
       "      <th>1153</th>\n",
       "      <td>12/31/2016 21:32</td>\n",
       "      <td>12/31/2016 21:50</td>\n",
       "      <td>Business</td>\n",
       "      <td>Katunayake</td>\n",
       "      <td>Gampaha</td>\n",
       "      <td>6.4</td>\n",
       "      <td>Temporary Site</td>\n",
       "    </tr>\n",
       "  </tbody>\n",
       "</table>\n",
       "<p>1073 rows × 7 columns</p>\n",
       "</div>"
      ],
      "text/plain": [
       "            Start_Date          End_Date  Category       Start_Point  \\\n",
       "0     01-01-2016 21:11  01-01-2016 21:17  Business       Fort Pierce   \n",
       "1     01-02-2016 01:25  01-02-2016 01:37  Business       Fort Pierce   \n",
       "2     01-02-2016 20:25  01-02-2016 20:38  Business       Fort Pierce   \n",
       "3     01-05-2016 17:31  01-05-2016 17:45  Business       Fort Pierce   \n",
       "5     01-06-2016 17:15  01-06-2016 17:19  Business   West Palm Beach   \n",
       "...                ...               ...       ...               ...   \n",
       "1149  12/30/2016 23:06  12/30/2016 23:10  Business           Kar?chi   \n",
       "1150   12/31/2016 1:07   12/31/2016 1:14  Business           Kar?chi   \n",
       "1151  12/31/2016 13:24  12/31/2016 13:42  Business           Kar?chi   \n",
       "1152  12/31/2016 15:03  12/31/2016 15:38  Business  Unknown Location   \n",
       "1153  12/31/2016 21:32  12/31/2016 21:50  Business        Katunayake   \n",
       "\n",
       "            Stop_Point  Miles          Purpose  \n",
       "0          Fort Pierce    5.1   Meal/Entertain  \n",
       "1          Fort Pierce    5.0          Unknown  \n",
       "2          Fort Pierce    4.8  Errand/Supplies  \n",
       "3          Fort Pierce    4.7          Meeting  \n",
       "5      West Palm Beach    4.3   Meal/Entertain  \n",
       "...                ...    ...              ...  \n",
       "1149           Kar?chi    0.8   Customer Visit  \n",
       "1150           Kar?chi    0.7          Meeting  \n",
       "1151  Unknown Location    3.9   Temporary Site  \n",
       "1152  Unknown Location   16.2          Meeting  \n",
       "1153           Gampaha    6.4   Temporary Site  \n",
       "\n",
       "[1073 rows x 7 columns]"
      ]
     },
     "execution_count": 129,
     "metadata": {},
     "output_type": "execute_result"
    }
   ],
   "source": [
    "#Removing the remaining outliers\n",
    "data1 = data_1.drop([119, 822, 777, 362])\n",
    "data1"
   ]
  },
  {
   "cell_type": "code",
   "execution_count": 130,
   "id": "42d7b6ae",
   "metadata": {},
   "outputs": [
    {
     "data": {
      "text/plain": [
       "<AxesSubplot:>"
      ]
     },
     "execution_count": 130,
     "metadata": {},
     "output_type": "execute_result"
    },
    {
     "data": {
      "image/png": "[encoded data removed]",
      "text/plain": [
       "<Figure size 432x288 with 1 Axes>"
      ]
     },
     "metadata": {
      "needs_background": "light"
     },
     "output_type": "display_data"
    }
   ],
   "source": [
    "data1[['Miles']].boxplot()"
   ]
  },
  {
   "cell_type": "markdown",
   "id": "155f3749",
   "metadata": {},
   "source": [
    "The dataset is now outliers - free."
   ]
  },
  {
   "cell_type": "code",
   "execution_count": 131,
   "id": "91ae172f",
   "metadata": {},
   "outputs": [
    {
     "data": {
      "text/html": [
       "<div>\n",
       "<style scoped>\n",
       "    .dataframe tbody tr th:only-of-type {\n",
       "        vertical-align: middle;\n",
       "    }\n",
       "\n",
       "    .dataframe tbody tr th {\n",
       "        vertical-align: top;\n",
       "    }\n",
       "\n",
       "    .dataframe thead th {\n",
       "        text-align: right;\n",
       "    }\n",
       "</style>\n",
       "<table border=\"1\" class=\"dataframe\">\n",
       "  <thead>\n",
       "    <tr style=\"text-align: right;\">\n",
       "      <th></th>\n",
       "      <th>Miles</th>\n",
       "    </tr>\n",
       "  </thead>\n",
       "  <tbody>\n",
       "    <tr>\n",
       "      <th>count</th>\n",
       "      <td>1073.000000</td>\n",
       "    </tr>\n",
       "    <tr>\n",
       "      <th>mean</th>\n",
       "      <td>6.546971</td>\n",
       "    </tr>\n",
       "    <tr>\n",
       "      <th>std</th>\n",
       "      <td>4.626595</td>\n",
       "    </tr>\n",
       "    <tr>\n",
       "      <th>min</th>\n",
       "      <td>0.500000</td>\n",
       "    </tr>\n",
       "    <tr>\n",
       "      <th>25%</th>\n",
       "      <td>2.700000</td>\n",
       "    </tr>\n",
       "    <tr>\n",
       "      <th>50%</th>\n",
       "      <td>5.500000</td>\n",
       "    </tr>\n",
       "    <tr>\n",
       "      <th>75%</th>\n",
       "      <td>9.800000</td>\n",
       "    </tr>\n",
       "    <tr>\n",
       "      <th>max</th>\n",
       "      <td>20.300000</td>\n",
       "    </tr>\n",
       "  </tbody>\n",
       "</table>\n",
       "</div>"
      ],
      "text/plain": [
       "             Miles\n",
       "count  1073.000000\n",
       "mean      6.546971\n",
       "std       4.626595\n",
       "min       0.500000\n",
       "25%       2.700000\n",
       "50%       5.500000\n",
       "75%       9.800000\n",
       "max      20.300000"
      ]
     },
     "execution_count": 131,
     "metadata": {},
     "output_type": "execute_result"
    }
   ],
   "source": [
    "data1.describe()"
   ]
  },
  {
   "cell_type": "code",
   "execution_count": 132,
   "id": "f719addd",
   "metadata": {},
   "outputs": [
    {
     "data": {
      "text/plain": [
       "Text(0.5, 1.0, 'Distribution of Miles')"
      ]
     },
     "execution_count": 132,
     "metadata": {},
     "output_type": "execute_result"
    },
    {
     "data": {
      "image/png": "[encoded data removed]",
      "text/plain": [
       "<Figure size 720x360 with 1 Axes>"
      ]
     },
     "metadata": {
      "needs_background": "light"
     },
     "output_type": "display_data"
    }
   ],
   "source": [
    "#Checking the distribution of miles of the Uber rides after removing outliers:\n",
    "\n",
    "plt.figure(figsize=(10,5))\n",
    "sns.distplot(data1.Miles)\n",
    "plt.title(\"Distribution of Miles\")"
   ]
  },
  {
   "cell_type": "code",
   "execution_count": 133,
   "id": "794b7a7b",
   "metadata": {},
   "outputs": [
    {
     "data": {
      "text/plain": [
       "0.8463625776887741"
      ]
     },
     "execution_count": 133,
     "metadata": {},
     "output_type": "execute_result"
    }
   ],
   "source": [
    "data1.Miles.skew()"
   ]
  },
  {
   "cell_type": "markdown",
   "id": "02c35d4b",
   "metadata": {},
   "source": [
    "The distribution of the Miles column values is rightly skewed and the skewness has decreased after removing the outliers.. "
   ]
  },
  {
   "cell_type": "code",
   "execution_count": 134,
   "id": "a8ccaea7",
   "metadata": {},
   "outputs": [
    {
     "data": {
      "text/html": [
       "<div>\n",
       "<style scoped>\n",
       "    .dataframe tbody tr th:only-of-type {\n",
       "        vertical-align: middle;\n",
       "    }\n",
       "\n",
       "    .dataframe tbody tr th {\n",
       "        vertical-align: top;\n",
       "    }\n",
       "\n",
       "    .dataframe thead th {\n",
       "        text-align: right;\n",
       "    }\n",
       "</style>\n",
       "<table border=\"1\" class=\"dataframe\">\n",
       "  <thead>\n",
       "    <tr style=\"text-align: right;\">\n",
       "      <th></th>\n",
       "      <th>Miles</th>\n",
       "    </tr>\n",
       "  </thead>\n",
       "  <tbody>\n",
       "    <tr>\n",
       "      <th>count</th>\n",
       "      <td>1073.000000</td>\n",
       "    </tr>\n",
       "    <tr>\n",
       "      <th>mean</th>\n",
       "      <td>6.546971</td>\n",
       "    </tr>\n",
       "    <tr>\n",
       "      <th>std</th>\n",
       "      <td>4.626595</td>\n",
       "    </tr>\n",
       "    <tr>\n",
       "      <th>min</th>\n",
       "      <td>0.500000</td>\n",
       "    </tr>\n",
       "    <tr>\n",
       "      <th>25%</th>\n",
       "      <td>2.700000</td>\n",
       "    </tr>\n",
       "    <tr>\n",
       "      <th>50%</th>\n",
       "      <td>5.500000</td>\n",
       "    </tr>\n",
       "    <tr>\n",
       "      <th>75%</th>\n",
       "      <td>9.800000</td>\n",
       "    </tr>\n",
       "    <tr>\n",
       "      <th>max</th>\n",
       "      <td>20.300000</td>\n",
       "    </tr>\n",
       "  </tbody>\n",
       "</table>\n",
       "</div>"
      ],
      "text/plain": [
       "             Miles\n",
       "count  1073.000000\n",
       "mean      6.546971\n",
       "std       4.626595\n",
       "min       0.500000\n",
       "25%       2.700000\n",
       "50%       5.500000\n",
       "75%       9.800000\n",
       "max      20.300000"
      ]
     },
     "execution_count": 134,
     "metadata": {},
     "output_type": "execute_result"
    }
   ],
   "source": [
    "data1.describe()    #for statistical description of data"
   ]
  },
  {
   "cell_type": "markdown",
   "id": "0bc91adb",
   "metadata": {},
   "source": [
    "The dataset after the removal of Miles outliers indicates that the average miles that the user covers is around 8 miles. The minimum distance of the ride is 0.5 miles while the maximum distance of the ride is 20.3 miles."
   ]
  },
  {
   "cell_type": "markdown",
   "id": "ea60d391",
   "metadata": {},
   "source": [
    "At this stage, in the data, the start and end dates are given, but not the duration of the rides. The duration is needed in order to know how much time did the rides took. For this, it is needed to convert the Start Date and End Date data objects into datetime objects."
   ]
  },
  {
   "cell_type": "code",
   "execution_count": 135,
   "id": "20200f18",
   "metadata": {},
   "outputs": [
    {
     "data": {
      "text/html": [
       "<div>\n",
       "<style scoped>\n",
       "    .dataframe tbody tr th:only-of-type {\n",
       "        vertical-align: middle;\n",
       "    }\n",
       "\n",
       "    .dataframe tbody tr th {\n",
       "        vertical-align: top;\n",
       "    }\n",
       "\n",
       "    .dataframe thead th {\n",
       "        text-align: right;\n",
       "    }\n",
       "</style>\n",
       "<table border=\"1\" class=\"dataframe\">\n",
       "  <thead>\n",
       "    <tr style=\"text-align: right;\">\n",
       "      <th></th>\n",
       "      <th>Start_Date</th>\n",
       "      <th>End_Date</th>\n",
       "      <th>Category</th>\n",
       "      <th>Start_Point</th>\n",
       "      <th>Stop_Point</th>\n",
       "      <th>Miles</th>\n",
       "      <th>Purpose</th>\n",
       "    </tr>\n",
       "  </thead>\n",
       "  <tbody>\n",
       "    <tr>\n",
       "      <th>0</th>\n",
       "      <td>2016-01-01 21:11:00</td>\n",
       "      <td>2016-01-01 21:17:00</td>\n",
       "      <td>Business</td>\n",
       "      <td>Fort Pierce</td>\n",
       "      <td>Fort Pierce</td>\n",
       "      <td>5.1</td>\n",
       "      <td>Meal/Entertain</td>\n",
       "    </tr>\n",
       "    <tr>\n",
       "      <th>1</th>\n",
       "      <td>2016-01-02 01:25:00</td>\n",
       "      <td>2016-01-02 01:37:00</td>\n",
       "      <td>Business</td>\n",
       "      <td>Fort Pierce</td>\n",
       "      <td>Fort Pierce</td>\n",
       "      <td>5.0</td>\n",
       "      <td>Unknown</td>\n",
       "    </tr>\n",
       "    <tr>\n",
       "      <th>2</th>\n",
       "      <td>2016-01-02 20:25:00</td>\n",
       "      <td>2016-01-02 20:38:00</td>\n",
       "      <td>Business</td>\n",
       "      <td>Fort Pierce</td>\n",
       "      <td>Fort Pierce</td>\n",
       "      <td>4.8</td>\n",
       "      <td>Errand/Supplies</td>\n",
       "    </tr>\n",
       "    <tr>\n",
       "      <th>3</th>\n",
       "      <td>2016-01-05 17:31:00</td>\n",
       "      <td>2016-01-05 17:45:00</td>\n",
       "      <td>Business</td>\n",
       "      <td>Fort Pierce</td>\n",
       "      <td>Fort Pierce</td>\n",
       "      <td>4.7</td>\n",
       "      <td>Meeting</td>\n",
       "    </tr>\n",
       "    <tr>\n",
       "      <th>5</th>\n",
       "      <td>2016-01-06 17:15:00</td>\n",
       "      <td>2016-01-06 17:19:00</td>\n",
       "      <td>Business</td>\n",
       "      <td>West Palm Beach</td>\n",
       "      <td>West Palm Beach</td>\n",
       "      <td>4.3</td>\n",
       "      <td>Meal/Entertain</td>\n",
       "    </tr>\n",
       "  </tbody>\n",
       "</table>\n",
       "</div>"
      ],
      "text/plain": [
       "           Start_Date            End_Date  Category      Start_Point  \\\n",
       "0 2016-01-01 21:11:00 2016-01-01 21:17:00  Business      Fort Pierce   \n",
       "1 2016-01-02 01:25:00 2016-01-02 01:37:00  Business      Fort Pierce   \n",
       "2 2016-01-02 20:25:00 2016-01-02 20:38:00  Business      Fort Pierce   \n",
       "3 2016-01-05 17:31:00 2016-01-05 17:45:00  Business      Fort Pierce   \n",
       "5 2016-01-06 17:15:00 2016-01-06 17:19:00  Business  West Palm Beach   \n",
       "\n",
       "        Stop_Point  Miles          Purpose  \n",
       "0      Fort Pierce    5.1   Meal/Entertain  \n",
       "1      Fort Pierce    5.0          Unknown  \n",
       "2      Fort Pierce    4.8  Errand/Supplies  \n",
       "3      Fort Pierce    4.7          Meeting  \n",
       "5  West Palm Beach    4.3   Meal/Entertain  "
      ]
     },
     "execution_count": 135,
     "metadata": {},
     "output_type": "execute_result"
    }
   ],
   "source": [
    "#Converting the Start_Date and End_Date date objects into datetime objects to get duration (Conversion to datetime object will lead to transformation of timing to HH:MM:DD format which will help in calculating the ride duration later):\n",
    "#Using Pandas library\n",
    "\n",
    "data1['Start_Date'] = pd.to_datetime(data1['Start_Date'])\n",
    "data1['End_Date'] = pd.to_datetime(data1['End_Date'])\n",
    "\n",
    "data1.head(5)"
   ]
  },
  {
   "cell_type": "code",
   "execution_count": 136,
   "id": "4f2032b9",
   "metadata": {},
   "outputs": [
    {
     "data": {
      "text/html": [
       "<div>\n",
       "<style scoped>\n",
       "    .dataframe tbody tr th:only-of-type {\n",
       "        vertical-align: middle;\n",
       "    }\n",
       "\n",
       "    .dataframe tbody tr th {\n",
       "        vertical-align: top;\n",
       "    }\n",
       "\n",
       "    .dataframe thead th {\n",
       "        text-align: right;\n",
       "    }\n",
       "</style>\n",
       "<table border=\"1\" class=\"dataframe\">\n",
       "  <thead>\n",
       "    <tr style=\"text-align: right;\">\n",
       "      <th></th>\n",
       "      <th>Start_Date</th>\n",
       "      <th>End_Date</th>\n",
       "      <th>Category</th>\n",
       "      <th>Start_Point</th>\n",
       "      <th>Stop_Point</th>\n",
       "      <th>Miles</th>\n",
       "      <th>Purpose</th>\n",
       "      <th>Ride_Duration</th>\n",
       "    </tr>\n",
       "  </thead>\n",
       "  <tbody>\n",
       "    <tr>\n",
       "      <th>0</th>\n",
       "      <td>2016-01-01 21:11:00</td>\n",
       "      <td>2016-01-01 21:17:00</td>\n",
       "      <td>Business</td>\n",
       "      <td>Fort Pierce</td>\n",
       "      <td>Fort Pierce</td>\n",
       "      <td>5.1</td>\n",
       "      <td>Meal/Entertain</td>\n",
       "      <td>0 days 00:06:00</td>\n",
       "    </tr>\n",
       "    <tr>\n",
       "      <th>1</th>\n",
       "      <td>2016-01-02 01:25:00</td>\n",
       "      <td>2016-01-02 01:37:00</td>\n",
       "      <td>Business</td>\n",
       "      <td>Fort Pierce</td>\n",
       "      <td>Fort Pierce</td>\n",
       "      <td>5.0</td>\n",
       "      <td>Unknown</td>\n",
       "      <td>0 days 00:12:00</td>\n",
       "    </tr>\n",
       "    <tr>\n",
       "      <th>2</th>\n",
       "      <td>2016-01-02 20:25:00</td>\n",
       "      <td>2016-01-02 20:38:00</td>\n",
       "      <td>Business</td>\n",
       "      <td>Fort Pierce</td>\n",
       "      <td>Fort Pierce</td>\n",
       "      <td>4.8</td>\n",
       "      <td>Errand/Supplies</td>\n",
       "      <td>0 days 00:13:00</td>\n",
       "    </tr>\n",
       "    <tr>\n",
       "      <th>3</th>\n",
       "      <td>2016-01-05 17:31:00</td>\n",
       "      <td>2016-01-05 17:45:00</td>\n",
       "      <td>Business</td>\n",
       "      <td>Fort Pierce</td>\n",
       "      <td>Fort Pierce</td>\n",
       "      <td>4.7</td>\n",
       "      <td>Meeting</td>\n",
       "      <td>0 days 00:14:00</td>\n",
       "    </tr>\n",
       "    <tr>\n",
       "      <th>5</th>\n",
       "      <td>2016-01-06 17:15:00</td>\n",
       "      <td>2016-01-06 17:19:00</td>\n",
       "      <td>Business</td>\n",
       "      <td>West Palm Beach</td>\n",
       "      <td>West Palm Beach</td>\n",
       "      <td>4.3</td>\n",
       "      <td>Meal/Entertain</td>\n",
       "      <td>0 days 00:04:00</td>\n",
       "    </tr>\n",
       "  </tbody>\n",
       "</table>\n",
       "</div>"
      ],
      "text/plain": [
       "           Start_Date            End_Date  Category      Start_Point  \\\n",
       "0 2016-01-01 21:11:00 2016-01-01 21:17:00  Business      Fort Pierce   \n",
       "1 2016-01-02 01:25:00 2016-01-02 01:37:00  Business      Fort Pierce   \n",
       "2 2016-01-02 20:25:00 2016-01-02 20:38:00  Business      Fort Pierce   \n",
       "3 2016-01-05 17:31:00 2016-01-05 17:45:00  Business      Fort Pierce   \n",
       "5 2016-01-06 17:15:00 2016-01-06 17:19:00  Business  West Palm Beach   \n",
       "\n",
       "        Stop_Point  Miles          Purpose   Ride_Duration  \n",
       "0      Fort Pierce    5.1   Meal/Entertain 0 days 00:06:00  \n",
       "1      Fort Pierce    5.0          Unknown 0 days 00:12:00  \n",
       "2      Fort Pierce    4.8  Errand/Supplies 0 days 00:13:00  \n",
       "3      Fort Pierce    4.7          Meeting 0 days 00:14:00  \n",
       "5  West Palm Beach    4.3   Meal/Entertain 0 days 00:04:00  "
      ]
     },
     "execution_count": 136,
     "metadata": {},
     "output_type": "execute_result"
    }
   ],
   "source": [
    "#Calculating duration of the rides:\n",
    "\n",
    "data1['Ride_Duration'] = data1['End_Date'] - data1['Start_Date']\n",
    "\n",
    "data1.head()"
   ]
  },
  {
   "cell_type": "markdown",
   "id": "61a3e135",
   "metadata": {},
   "source": [
    "In the dataset, the ride_duration is given in terms of days and time. Days need to be removed from the duration."
   ]
  },
  {
   "cell_type": "code",
   "execution_count": 137,
   "id": "6579d14b",
   "metadata": {},
   "outputs": [
    {
     "data": {
      "text/html": [
       "<div>\n",
       "<style scoped>\n",
       "    .dataframe tbody tr th:only-of-type {\n",
       "        vertical-align: middle;\n",
       "    }\n",
       "\n",
       "    .dataframe tbody tr th {\n",
       "        vertical-align: top;\n",
       "    }\n",
       "\n",
       "    .dataframe thead th {\n",
       "        text-align: right;\n",
       "    }\n",
       "</style>\n",
       "<table border=\"1\" class=\"dataframe\">\n",
       "  <thead>\n",
       "    <tr style=\"text-align: right;\">\n",
       "      <th></th>\n",
       "      <th>Start_Date</th>\n",
       "      <th>End_Date</th>\n",
       "      <th>Category</th>\n",
       "      <th>Start_Point</th>\n",
       "      <th>Stop_Point</th>\n",
       "      <th>Miles</th>\n",
       "      <th>Purpose</th>\n",
       "      <th>Ride_Duration</th>\n",
       "    </tr>\n",
       "  </thead>\n",
       "  <tbody>\n",
       "    <tr>\n",
       "      <th>0</th>\n",
       "      <td>2016-01-01 21:11:00</td>\n",
       "      <td>2016-01-01 21:17:00</td>\n",
       "      <td>Business</td>\n",
       "      <td>Fort Pierce</td>\n",
       "      <td>Fort Pierce</td>\n",
       "      <td>5.1</td>\n",
       "      <td>Meal/Entertain</td>\n",
       "      <td>00:06:00</td>\n",
       "    </tr>\n",
       "    <tr>\n",
       "      <th>1</th>\n",
       "      <td>2016-01-02 01:25:00</td>\n",
       "      <td>2016-01-02 01:37:00</td>\n",
       "      <td>Business</td>\n",
       "      <td>Fort Pierce</td>\n",
       "      <td>Fort Pierce</td>\n",
       "      <td>5.0</td>\n",
       "      <td>Unknown</td>\n",
       "      <td>00:12:00</td>\n",
       "    </tr>\n",
       "    <tr>\n",
       "      <th>2</th>\n",
       "      <td>2016-01-02 20:25:00</td>\n",
       "      <td>2016-01-02 20:38:00</td>\n",
       "      <td>Business</td>\n",
       "      <td>Fort Pierce</td>\n",
       "      <td>Fort Pierce</td>\n",
       "      <td>4.8</td>\n",
       "      <td>Errand/Supplies</td>\n",
       "      <td>00:13:00</td>\n",
       "    </tr>\n",
       "    <tr>\n",
       "      <th>3</th>\n",
       "      <td>2016-01-05 17:31:00</td>\n",
       "      <td>2016-01-05 17:45:00</td>\n",
       "      <td>Business</td>\n",
       "      <td>Fort Pierce</td>\n",
       "      <td>Fort Pierce</td>\n",
       "      <td>4.7</td>\n",
       "      <td>Meeting</td>\n",
       "      <td>00:14:00</td>\n",
       "    </tr>\n",
       "    <tr>\n",
       "      <th>5</th>\n",
       "      <td>2016-01-06 17:15:00</td>\n",
       "      <td>2016-01-06 17:19:00</td>\n",
       "      <td>Business</td>\n",
       "      <td>West Palm Beach</td>\n",
       "      <td>West Palm Beach</td>\n",
       "      <td>4.3</td>\n",
       "      <td>Meal/Entertain</td>\n",
       "      <td>00:04:00</td>\n",
       "    </tr>\n",
       "  </tbody>\n",
       "</table>\n",
       "</div>"
      ],
      "text/plain": [
       "           Start_Date            End_Date  Category      Start_Point  \\\n",
       "0 2016-01-01 21:11:00 2016-01-01 21:17:00  Business      Fort Pierce   \n",
       "1 2016-01-02 01:25:00 2016-01-02 01:37:00  Business      Fort Pierce   \n",
       "2 2016-01-02 20:25:00 2016-01-02 20:38:00  Business      Fort Pierce   \n",
       "3 2016-01-05 17:31:00 2016-01-05 17:45:00  Business      Fort Pierce   \n",
       "5 2016-01-06 17:15:00 2016-01-06 17:19:00  Business  West Palm Beach   \n",
       "\n",
       "        Stop_Point  Miles          Purpose Ride_Duration  \n",
       "0      Fort Pierce    5.1   Meal/Entertain      00:06:00  \n",
       "1      Fort Pierce    5.0          Unknown      00:12:00  \n",
       "2      Fort Pierce    4.8  Errand/Supplies      00:13:00  \n",
       "3      Fort Pierce    4.7          Meeting      00:14:00  \n",
       "5  West Palm Beach    4.3   Meal/Entertain      00:04:00  "
      ]
     },
     "execution_count": 137,
     "metadata": {},
     "output_type": "execute_result"
    }
   ],
   "source": [
    "#Removing days from the Ride_Duration: (First converting the Ride_Duration into string type and then slicing the remaining part after days)\n",
    "\n",
    "data1['Ride_Duration'] = data1['Ride_Duration'].astype(str).map(lambda x: x[7:])\n",
    "\n",
    "data1.head(5)"
   ]
  },
  {
   "cell_type": "markdown",
   "id": "58e15f56",
   "metadata": {},
   "source": [
    "Segregating year, month, week day and day hour to get more information about the rides is needed."
   ]
  },
  {
   "cell_type": "code",
   "execution_count": 138,
   "id": "15512e85",
   "metadata": {},
   "outputs": [
    {
     "data": {
      "text/html": [
       "<div>\n",
       "<style scoped>\n",
       "    .dataframe tbody tr th:only-of-type {\n",
       "        vertical-align: middle;\n",
       "    }\n",
       "\n",
       "    .dataframe tbody tr th {\n",
       "        vertical-align: top;\n",
       "    }\n",
       "\n",
       "    .dataframe thead th {\n",
       "        text-align: right;\n",
       "    }\n",
       "</style>\n",
       "<table border=\"1\" class=\"dataframe\">\n",
       "  <thead>\n",
       "    <tr style=\"text-align: right;\">\n",
       "      <th></th>\n",
       "      <th>Start_Date</th>\n",
       "      <th>End_Date</th>\n",
       "      <th>Category</th>\n",
       "      <th>Start_Point</th>\n",
       "      <th>Stop_Point</th>\n",
       "      <th>Miles</th>\n",
       "      <th>Purpose</th>\n",
       "      <th>Ride_Duration</th>\n",
       "      <th>Year</th>\n",
       "      <th>Month</th>\n",
       "      <th>Day</th>\n",
       "      <th>Hour</th>\n",
       "    </tr>\n",
       "  </thead>\n",
       "  <tbody>\n",
       "    <tr>\n",
       "      <th>0</th>\n",
       "      <td>2016-01-01 21:11:00</td>\n",
       "      <td>2016-01-01 21:17:00</td>\n",
       "      <td>Business</td>\n",
       "      <td>Fort Pierce</td>\n",
       "      <td>Fort Pierce</td>\n",
       "      <td>5.1</td>\n",
       "      <td>Meal/Entertain</td>\n",
       "      <td>00:06:00</td>\n",
       "      <td>2016</td>\n",
       "      <td>1</td>\n",
       "      <td>4</td>\n",
       "      <td>21</td>\n",
       "    </tr>\n",
       "    <tr>\n",
       "      <th>1</th>\n",
       "      <td>2016-01-02 01:25:00</td>\n",
       "      <td>2016-01-02 01:37:00</td>\n",
       "      <td>Business</td>\n",
       "      <td>Fort Pierce</td>\n",
       "      <td>Fort Pierce</td>\n",
       "      <td>5.0</td>\n",
       "      <td>Unknown</td>\n",
       "      <td>00:12:00</td>\n",
       "      <td>2016</td>\n",
       "      <td>1</td>\n",
       "      <td>5</td>\n",
       "      <td>1</td>\n",
       "    </tr>\n",
       "    <tr>\n",
       "      <th>2</th>\n",
       "      <td>2016-01-02 20:25:00</td>\n",
       "      <td>2016-01-02 20:38:00</td>\n",
       "      <td>Business</td>\n",
       "      <td>Fort Pierce</td>\n",
       "      <td>Fort Pierce</td>\n",
       "      <td>4.8</td>\n",
       "      <td>Errand/Supplies</td>\n",
       "      <td>00:13:00</td>\n",
       "      <td>2016</td>\n",
       "      <td>1</td>\n",
       "      <td>5</td>\n",
       "      <td>20</td>\n",
       "    </tr>\n",
       "    <tr>\n",
       "      <th>3</th>\n",
       "      <td>2016-01-05 17:31:00</td>\n",
       "      <td>2016-01-05 17:45:00</td>\n",
       "      <td>Business</td>\n",
       "      <td>Fort Pierce</td>\n",
       "      <td>Fort Pierce</td>\n",
       "      <td>4.7</td>\n",
       "      <td>Meeting</td>\n",
       "      <td>00:14:00</td>\n",
       "      <td>2016</td>\n",
       "      <td>1</td>\n",
       "      <td>1</td>\n",
       "      <td>17</td>\n",
       "    </tr>\n",
       "    <tr>\n",
       "      <th>5</th>\n",
       "      <td>2016-01-06 17:15:00</td>\n",
       "      <td>2016-01-06 17:19:00</td>\n",
       "      <td>Business</td>\n",
       "      <td>West Palm Beach</td>\n",
       "      <td>West Palm Beach</td>\n",
       "      <td>4.3</td>\n",
       "      <td>Meal/Entertain</td>\n",
       "      <td>00:04:00</td>\n",
       "      <td>2016</td>\n",
       "      <td>1</td>\n",
       "      <td>2</td>\n",
       "      <td>17</td>\n",
       "    </tr>\n",
       "  </tbody>\n",
       "</table>\n",
       "</div>"
      ],
      "text/plain": [
       "           Start_Date            End_Date  Category      Start_Point  \\\n",
       "0 2016-01-01 21:11:00 2016-01-01 21:17:00  Business      Fort Pierce   \n",
       "1 2016-01-02 01:25:00 2016-01-02 01:37:00  Business      Fort Pierce   \n",
       "2 2016-01-02 20:25:00 2016-01-02 20:38:00  Business      Fort Pierce   \n",
       "3 2016-01-05 17:31:00 2016-01-05 17:45:00  Business      Fort Pierce   \n",
       "5 2016-01-06 17:15:00 2016-01-06 17:19:00  Business  West Palm Beach   \n",
       "\n",
       "        Stop_Point  Miles          Purpose Ride_Duration  Year  Month  Day  \\\n",
       "0      Fort Pierce    5.1   Meal/Entertain      00:06:00  2016      1    4   \n",
       "1      Fort Pierce    5.0          Unknown      00:12:00  2016      1    5   \n",
       "2      Fort Pierce    4.8  Errand/Supplies      00:13:00  2016      1    5   \n",
       "3      Fort Pierce    4.7          Meeting      00:14:00  2016      1    1   \n",
       "5  West Palm Beach    4.3   Meal/Entertain      00:04:00  2016      1    2   \n",
       "\n",
       "   Hour  \n",
       "0    21  \n",
       "1     1  \n",
       "2    20  \n",
       "3    17  \n",
       "5    17  "
      ]
     },
     "execution_count": 138,
     "metadata": {},
     "output_type": "execute_result"
    }
   ],
   "source": [
    "#Creating new columns of year, month, day of the week and day hour:\n",
    "#Converting the datetime format of the Start Date into different columns:\n",
    "\n",
    "data1['Year'] = data1['Start_Date'].apply(lambda conversion: conversion.year)\n",
    "data1['Month'] = data1['Start_Date'].apply(lambda conversion: conversion.month)\n",
    "data1['Day'] = data1['Start_Date'].apply(lambda conversion: conversion.dayofweek)\n",
    "data1['Hour'] = data1['Start_Date'].apply(lambda conversion: conversion.hour)\n",
    "\n",
    "data1.head()"
   ]
  },
  {
   "cell_type": "markdown",
   "id": "57809bc8",
   "metadata": {},
   "source": [
    "For proper analysis, the Month and Day columns need to be in words, for example, 0 means Monday, 1 means Tuesday etc. in Day of the week column while in month column, 1 means January, 2 means February etc."
   ]
  },
  {
   "cell_type": "code",
   "execution_count": 139,
   "id": "c1c15fbb",
   "metadata": {},
   "outputs": [
    {
     "data": {
      "text/html": [
       "<div>\n",
       "<style scoped>\n",
       "    .dataframe tbody tr th:only-of-type {\n",
       "        vertical-align: middle;\n",
       "    }\n",
       "\n",
       "    .dataframe tbody tr th {\n",
       "        vertical-align: top;\n",
       "    }\n",
       "\n",
       "    .dataframe thead th {\n",
       "        text-align: right;\n",
       "    }\n",
       "</style>\n",
       "<table border=\"1\" class=\"dataframe\">\n",
       "  <thead>\n",
       "    <tr style=\"text-align: right;\">\n",
       "      <th></th>\n",
       "      <th>Start_Date</th>\n",
       "      <th>End_Date</th>\n",
       "      <th>Category</th>\n",
       "      <th>Start_Point</th>\n",
       "      <th>Stop_Point</th>\n",
       "      <th>Miles</th>\n",
       "      <th>Purpose</th>\n",
       "      <th>Ride_Duration</th>\n",
       "      <th>Year</th>\n",
       "      <th>Month</th>\n",
       "      <th>Day</th>\n",
       "      <th>Hour</th>\n",
       "    </tr>\n",
       "  </thead>\n",
       "  <tbody>\n",
       "    <tr>\n",
       "      <th>0</th>\n",
       "      <td>2016-01-01 21:11:00</td>\n",
       "      <td>2016-01-01 21:17:00</td>\n",
       "      <td>Business</td>\n",
       "      <td>Fort Pierce</td>\n",
       "      <td>Fort Pierce</td>\n",
       "      <td>5.1</td>\n",
       "      <td>Meal/Entertain</td>\n",
       "      <td>00:06:00</td>\n",
       "      <td>2016</td>\n",
       "      <td>January</td>\n",
       "      <td>4</td>\n",
       "      <td>21</td>\n",
       "    </tr>\n",
       "    <tr>\n",
       "      <th>1</th>\n",
       "      <td>2016-01-02 01:25:00</td>\n",
       "      <td>2016-01-02 01:37:00</td>\n",
       "      <td>Business</td>\n",
       "      <td>Fort Pierce</td>\n",
       "      <td>Fort Pierce</td>\n",
       "      <td>5.0</td>\n",
       "      <td>Unknown</td>\n",
       "      <td>00:12:00</td>\n",
       "      <td>2016</td>\n",
       "      <td>January</td>\n",
       "      <td>5</td>\n",
       "      <td>1</td>\n",
       "    </tr>\n",
       "    <tr>\n",
       "      <th>2</th>\n",
       "      <td>2016-01-02 20:25:00</td>\n",
       "      <td>2016-01-02 20:38:00</td>\n",
       "      <td>Business</td>\n",
       "      <td>Fort Pierce</td>\n",
       "      <td>Fort Pierce</td>\n",
       "      <td>4.8</td>\n",
       "      <td>Errand/Supplies</td>\n",
       "      <td>00:13:00</td>\n",
       "      <td>2016</td>\n",
       "      <td>January</td>\n",
       "      <td>5</td>\n",
       "      <td>20</td>\n",
       "    </tr>\n",
       "    <tr>\n",
       "      <th>3</th>\n",
       "      <td>2016-01-05 17:31:00</td>\n",
       "      <td>2016-01-05 17:45:00</td>\n",
       "      <td>Business</td>\n",
       "      <td>Fort Pierce</td>\n",
       "      <td>Fort Pierce</td>\n",
       "      <td>4.7</td>\n",
       "      <td>Meeting</td>\n",
       "      <td>00:14:00</td>\n",
       "      <td>2016</td>\n",
       "      <td>January</td>\n",
       "      <td>1</td>\n",
       "      <td>17</td>\n",
       "    </tr>\n",
       "    <tr>\n",
       "      <th>5</th>\n",
       "      <td>2016-01-06 17:15:00</td>\n",
       "      <td>2016-01-06 17:19:00</td>\n",
       "      <td>Business</td>\n",
       "      <td>West Palm Beach</td>\n",
       "      <td>West Palm Beach</td>\n",
       "      <td>4.3</td>\n",
       "      <td>Meal/Entertain</td>\n",
       "      <td>00:04:00</td>\n",
       "      <td>2016</td>\n",
       "      <td>January</td>\n",
       "      <td>2</td>\n",
       "      <td>17</td>\n",
       "    </tr>\n",
       "    <tr>\n",
       "      <th>...</th>\n",
       "      <td>...</td>\n",
       "      <td>...</td>\n",
       "      <td>...</td>\n",
       "      <td>...</td>\n",
       "      <td>...</td>\n",
       "      <td>...</td>\n",
       "      <td>...</td>\n",
       "      <td>...</td>\n",
       "      <td>...</td>\n",
       "      <td>...</td>\n",
       "      <td>...</td>\n",
       "      <td>...</td>\n",
       "    </tr>\n",
       "    <tr>\n",
       "      <th>1149</th>\n",
       "      <td>2016-12-30 23:06:00</td>\n",
       "      <td>2016-12-30 23:10:00</td>\n",
       "      <td>Business</td>\n",
       "      <td>Kar?chi</td>\n",
       "      <td>Kar?chi</td>\n",
       "      <td>0.8</td>\n",
       "      <td>Customer Visit</td>\n",
       "      <td>00:04:00</td>\n",
       "      <td>2016</td>\n",
       "      <td>December</td>\n",
       "      <td>4</td>\n",
       "      <td>23</td>\n",
       "    </tr>\n",
       "    <tr>\n",
       "      <th>1150</th>\n",
       "      <td>2016-12-31 01:07:00</td>\n",
       "      <td>2016-12-31 01:14:00</td>\n",
       "      <td>Business</td>\n",
       "      <td>Kar?chi</td>\n",
       "      <td>Kar?chi</td>\n",
       "      <td>0.7</td>\n",
       "      <td>Meeting</td>\n",
       "      <td>00:07:00</td>\n",
       "      <td>2016</td>\n",
       "      <td>December</td>\n",
       "      <td>5</td>\n",
       "      <td>1</td>\n",
       "    </tr>\n",
       "    <tr>\n",
       "      <th>1151</th>\n",
       "      <td>2016-12-31 13:24:00</td>\n",
       "      <td>2016-12-31 13:42:00</td>\n",
       "      <td>Business</td>\n",
       "      <td>Kar?chi</td>\n",
       "      <td>Unknown Location</td>\n",
       "      <td>3.9</td>\n",
       "      <td>Temporary Site</td>\n",
       "      <td>00:18:00</td>\n",
       "      <td>2016</td>\n",
       "      <td>December</td>\n",
       "      <td>5</td>\n",
       "      <td>13</td>\n",
       "    </tr>\n",
       "    <tr>\n",
       "      <th>1152</th>\n",
       "      <td>2016-12-31 15:03:00</td>\n",
       "      <td>2016-12-31 15:38:00</td>\n",
       "      <td>Business</td>\n",
       "      <td>Unknown Location</td>\n",
       "      <td>Unknown Location</td>\n",
       "      <td>16.2</td>\n",
       "      <td>Meeting</td>\n",
       "      <td>00:35:00</td>\n",
       "      <td>2016</td>\n",
       "      <td>December</td>\n",
       "      <td>5</td>\n",
       "      <td>15</td>\n",
       "    </tr>\n",
       "    <tr>\n",
       "      <th>1153</th>\n",
       "      <td>2016-12-31 21:32:00</td>\n",
       "      <td>2016-12-31 21:50:00</td>\n",
       "      <td>Business</td>\n",
       "      <td>Katunayake</td>\n",
       "      <td>Gampaha</td>\n",
       "      <td>6.4</td>\n",
       "      <td>Temporary Site</td>\n",
       "      <td>00:18:00</td>\n",
       "      <td>2016</td>\n",
       "      <td>December</td>\n",
       "      <td>5</td>\n",
       "      <td>21</td>\n",
       "    </tr>\n",
       "  </tbody>\n",
       "</table>\n",
       "<p>1073 rows × 12 columns</p>\n",
       "</div>"
      ],
      "text/plain": [
       "              Start_Date            End_Date  Category       Start_Point  \\\n",
       "0    2016-01-01 21:11:00 2016-01-01 21:17:00  Business       Fort Pierce   \n",
       "1    2016-01-02 01:25:00 2016-01-02 01:37:00  Business       Fort Pierce   \n",
       "2    2016-01-02 20:25:00 2016-01-02 20:38:00  Business       Fort Pierce   \n",
       "3    2016-01-05 17:31:00 2016-01-05 17:45:00  Business       Fort Pierce   \n",
       "5    2016-01-06 17:15:00 2016-01-06 17:19:00  Business   West Palm Beach   \n",
       "...                  ...                 ...       ...               ...   \n",
       "1149 2016-12-30 23:06:00 2016-12-30 23:10:00  Business           Kar?chi   \n",
       "1150 2016-12-31 01:07:00 2016-12-31 01:14:00  Business           Kar?chi   \n",
       "1151 2016-12-31 13:24:00 2016-12-31 13:42:00  Business           Kar?chi   \n",
       "1152 2016-12-31 15:03:00 2016-12-31 15:38:00  Business  Unknown Location   \n",
       "1153 2016-12-31 21:32:00 2016-12-31 21:50:00  Business        Katunayake   \n",
       "\n",
       "            Stop_Point  Miles          Purpose Ride_Duration  Year     Month  \\\n",
       "0          Fort Pierce    5.1   Meal/Entertain      00:06:00  2016   January   \n",
       "1          Fort Pierce    5.0          Unknown      00:12:00  2016   January   \n",
       "2          Fort Pierce    4.8  Errand/Supplies      00:13:00  2016   January   \n",
       "3          Fort Pierce    4.7          Meeting      00:14:00  2016   January   \n",
       "5      West Palm Beach    4.3   Meal/Entertain      00:04:00  2016   January   \n",
       "...                ...    ...              ...           ...   ...       ...   \n",
       "1149           Kar?chi    0.8   Customer Visit      00:04:00  2016  December   \n",
       "1150           Kar?chi    0.7          Meeting      00:07:00  2016  December   \n",
       "1151  Unknown Location    3.9   Temporary Site      00:18:00  2016  December   \n",
       "1152  Unknown Location   16.2          Meeting      00:35:00  2016  December   \n",
       "1153           Gampaha    6.4   Temporary Site      00:18:00  2016  December   \n",
       "\n",
       "      Day  Hour  \n",
       "0       4    21  \n",
       "1       5     1  \n",
       "2       5    20  \n",
       "3       1    17  \n",
       "5       2    17  \n",
       "...   ...   ...  \n",
       "1149    4    23  \n",
       "1150    5     1  \n",
       "1151    5    13  \n",
       "1152    5    15  \n",
       "1153    5    21  \n",
       "\n",
       "[1073 rows x 12 columns]"
      ]
     },
     "execution_count": 139,
     "metadata": {},
     "output_type": "execute_result"
    }
   ],
   "source": [
    "#Setting the month names\n",
    "\n",
    "data1['Month'].replace({1:'January', 2:'February', 3:'March', 4:'April', 5:'May', 6:'June', 7:'July', 8:'August', 9:'September', 10:'October', 11:'November', 12:'December'}, inplace = True)\n",
    "data1"
   ]
  },
  {
   "cell_type": "code",
   "execution_count": 140,
   "id": "507fe1ac",
   "metadata": {},
   "outputs": [
    {
     "data": {
      "text/html": [
       "<div>\n",
       "<style scoped>\n",
       "    .dataframe tbody tr th:only-of-type {\n",
       "        vertical-align: middle;\n",
       "    }\n",
       "\n",
       "    .dataframe tbody tr th {\n",
       "        vertical-align: top;\n",
       "    }\n",
       "\n",
       "    .dataframe thead th {\n",
       "        text-align: right;\n",
       "    }\n",
       "</style>\n",
       "<table border=\"1\" class=\"dataframe\">\n",
       "  <thead>\n",
       "    <tr style=\"text-align: right;\">\n",
       "      <th></th>\n",
       "      <th>Start_Date</th>\n",
       "      <th>End_Date</th>\n",
       "      <th>Category</th>\n",
       "      <th>Start_Point</th>\n",
       "      <th>Stop_Point</th>\n",
       "      <th>Miles</th>\n",
       "      <th>Purpose</th>\n",
       "      <th>Ride_Duration</th>\n",
       "      <th>Year</th>\n",
       "      <th>Month</th>\n",
       "      <th>Day</th>\n",
       "      <th>Hour</th>\n",
       "    </tr>\n",
       "  </thead>\n",
       "  <tbody>\n",
       "    <tr>\n",
       "      <th>0</th>\n",
       "      <td>2016-01-01 21:11:00</td>\n",
       "      <td>2016-01-01 21:17:00</td>\n",
       "      <td>Business</td>\n",
       "      <td>Fort Pierce</td>\n",
       "      <td>Fort Pierce</td>\n",
       "      <td>5.1</td>\n",
       "      <td>Meal/Entertain</td>\n",
       "      <td>00:06:00</td>\n",
       "      <td>2016</td>\n",
       "      <td>January</td>\n",
       "      <td>Friday</td>\n",
       "      <td>21</td>\n",
       "    </tr>\n",
       "    <tr>\n",
       "      <th>1</th>\n",
       "      <td>2016-01-02 01:25:00</td>\n",
       "      <td>2016-01-02 01:37:00</td>\n",
       "      <td>Business</td>\n",
       "      <td>Fort Pierce</td>\n",
       "      <td>Fort Pierce</td>\n",
       "      <td>5.0</td>\n",
       "      <td>Unknown</td>\n",
       "      <td>00:12:00</td>\n",
       "      <td>2016</td>\n",
       "      <td>January</td>\n",
       "      <td>Saturday</td>\n",
       "      <td>1</td>\n",
       "    </tr>\n",
       "    <tr>\n",
       "      <th>2</th>\n",
       "      <td>2016-01-02 20:25:00</td>\n",
       "      <td>2016-01-02 20:38:00</td>\n",
       "      <td>Business</td>\n",
       "      <td>Fort Pierce</td>\n",
       "      <td>Fort Pierce</td>\n",
       "      <td>4.8</td>\n",
       "      <td>Errand/Supplies</td>\n",
       "      <td>00:13:00</td>\n",
       "      <td>2016</td>\n",
       "      <td>January</td>\n",
       "      <td>Saturday</td>\n",
       "      <td>20</td>\n",
       "    </tr>\n",
       "    <tr>\n",
       "      <th>3</th>\n",
       "      <td>2016-01-05 17:31:00</td>\n",
       "      <td>2016-01-05 17:45:00</td>\n",
       "      <td>Business</td>\n",
       "      <td>Fort Pierce</td>\n",
       "      <td>Fort Pierce</td>\n",
       "      <td>4.7</td>\n",
       "      <td>Meeting</td>\n",
       "      <td>00:14:00</td>\n",
       "      <td>2016</td>\n",
       "      <td>January</td>\n",
       "      <td>Tuesday</td>\n",
       "      <td>17</td>\n",
       "    </tr>\n",
       "    <tr>\n",
       "      <th>5</th>\n",
       "      <td>2016-01-06 17:15:00</td>\n",
       "      <td>2016-01-06 17:19:00</td>\n",
       "      <td>Business</td>\n",
       "      <td>West Palm Beach</td>\n",
       "      <td>West Palm Beach</td>\n",
       "      <td>4.3</td>\n",
       "      <td>Meal/Entertain</td>\n",
       "      <td>00:04:00</td>\n",
       "      <td>2016</td>\n",
       "      <td>January</td>\n",
       "      <td>Wednesday</td>\n",
       "      <td>17</td>\n",
       "    </tr>\n",
       "    <tr>\n",
       "      <th>...</th>\n",
       "      <td>...</td>\n",
       "      <td>...</td>\n",
       "      <td>...</td>\n",
       "      <td>...</td>\n",
       "      <td>...</td>\n",
       "      <td>...</td>\n",
       "      <td>...</td>\n",
       "      <td>...</td>\n",
       "      <td>...</td>\n",
       "      <td>...</td>\n",
       "      <td>...</td>\n",
       "      <td>...</td>\n",
       "    </tr>\n",
       "    <tr>\n",
       "      <th>1149</th>\n",
       "      <td>2016-12-30 23:06:00</td>\n",
       "      <td>2016-12-30 23:10:00</td>\n",
       "      <td>Business</td>\n",
       "      <td>Kar?chi</td>\n",
       "      <td>Kar?chi</td>\n",
       "      <td>0.8</td>\n",
       "      <td>Customer Visit</td>\n",
       "      <td>00:04:00</td>\n",
       "      <td>2016</td>\n",
       "      <td>December</td>\n",
       "      <td>Friday</td>\n",
       "      <td>23</td>\n",
       "    </tr>\n",
       "    <tr>\n",
       "      <th>1150</th>\n",
       "      <td>2016-12-31 01:07:00</td>\n",
       "      <td>2016-12-31 01:14:00</td>\n",
       "      <td>Business</td>\n",
       "      <td>Kar?chi</td>\n",
       "      <td>Kar?chi</td>\n",
       "      <td>0.7</td>\n",
       "      <td>Meeting</td>\n",
       "      <td>00:07:00</td>\n",
       "      <td>2016</td>\n",
       "      <td>December</td>\n",
       "      <td>Saturday</td>\n",
       "      <td>1</td>\n",
       "    </tr>\n",
       "    <tr>\n",
       "      <th>1151</th>\n",
       "      <td>2016-12-31 13:24:00</td>\n",
       "      <td>2016-12-31 13:42:00</td>\n",
       "      <td>Business</td>\n",
       "      <td>Kar?chi</td>\n",
       "      <td>Unknown Location</td>\n",
       "      <td>3.9</td>\n",
       "      <td>Temporary Site</td>\n",
       "      <td>00:18:00</td>\n",
       "      <td>2016</td>\n",
       "      <td>December</td>\n",
       "      <td>Saturday</td>\n",
       "      <td>13</td>\n",
       "    </tr>\n",
       "    <tr>\n",
       "      <th>1152</th>\n",
       "      <td>2016-12-31 15:03:00</td>\n",
       "      <td>2016-12-31 15:38:00</td>\n",
       "      <td>Business</td>\n",
       "      <td>Unknown Location</td>\n",
       "      <td>Unknown Location</td>\n",
       "      <td>16.2</td>\n",
       "      <td>Meeting</td>\n",
       "      <td>00:35:00</td>\n",
       "      <td>2016</td>\n",
       "      <td>December</td>\n",
       "      <td>Saturday</td>\n",
       "      <td>15</td>\n",
       "    </tr>\n",
       "    <tr>\n",
       "      <th>1153</th>\n",
       "      <td>2016-12-31 21:32:00</td>\n",
       "      <td>2016-12-31 21:50:00</td>\n",
       "      <td>Business</td>\n",
       "      <td>Katunayake</td>\n",
       "      <td>Gampaha</td>\n",
       "      <td>6.4</td>\n",
       "      <td>Temporary Site</td>\n",
       "      <td>00:18:00</td>\n",
       "      <td>2016</td>\n",
       "      <td>December</td>\n",
       "      <td>Saturday</td>\n",
       "      <td>21</td>\n",
       "    </tr>\n",
       "  </tbody>\n",
       "</table>\n",
       "<p>1073 rows × 12 columns</p>\n",
       "</div>"
      ],
      "text/plain": [
       "              Start_Date            End_Date  Category       Start_Point  \\\n",
       "0    2016-01-01 21:11:00 2016-01-01 21:17:00  Business       Fort Pierce   \n",
       "1    2016-01-02 01:25:00 2016-01-02 01:37:00  Business       Fort Pierce   \n",
       "2    2016-01-02 20:25:00 2016-01-02 20:38:00  Business       Fort Pierce   \n",
       "3    2016-01-05 17:31:00 2016-01-05 17:45:00  Business       Fort Pierce   \n",
       "5    2016-01-06 17:15:00 2016-01-06 17:19:00  Business   West Palm Beach   \n",
       "...                  ...                 ...       ...               ...   \n",
       "1149 2016-12-30 23:06:00 2016-12-30 23:10:00  Business           Kar?chi   \n",
       "1150 2016-12-31 01:07:00 2016-12-31 01:14:00  Business           Kar?chi   \n",
       "1151 2016-12-31 13:24:00 2016-12-31 13:42:00  Business           Kar?chi   \n",
       "1152 2016-12-31 15:03:00 2016-12-31 15:38:00  Business  Unknown Location   \n",
       "1153 2016-12-31 21:32:00 2016-12-31 21:50:00  Business        Katunayake   \n",
       "\n",
       "            Stop_Point  Miles          Purpose Ride_Duration  Year     Month  \\\n",
       "0          Fort Pierce    5.1   Meal/Entertain      00:06:00  2016   January   \n",
       "1          Fort Pierce    5.0          Unknown      00:12:00  2016   January   \n",
       "2          Fort Pierce    4.8  Errand/Supplies      00:13:00  2016   January   \n",
       "3          Fort Pierce    4.7          Meeting      00:14:00  2016   January   \n",
       "5      West Palm Beach    4.3   Meal/Entertain      00:04:00  2016   January   \n",
       "...                ...    ...              ...           ...   ...       ...   \n",
       "1149           Kar?chi    0.8   Customer Visit      00:04:00  2016  December   \n",
       "1150           Kar?chi    0.7          Meeting      00:07:00  2016  December   \n",
       "1151  Unknown Location    3.9   Temporary Site      00:18:00  2016  December   \n",
       "1152  Unknown Location   16.2          Meeting      00:35:00  2016  December   \n",
       "1153           Gampaha    6.4   Temporary Site      00:18:00  2016  December   \n",
       "\n",
       "            Day  Hour  \n",
       "0        Friday    21  \n",
       "1      Saturday     1  \n",
       "2      Saturday    20  \n",
       "3       Tuesday    17  \n",
       "5     Wednesday    17  \n",
       "...         ...   ...  \n",
       "1149     Friday    23  \n",
       "1150   Saturday     1  \n",
       "1151   Saturday    13  \n",
       "1152   Saturday    15  \n",
       "1153   Saturday    21  \n",
       "\n",
       "[1073 rows x 12 columns]"
      ]
     },
     "execution_count": 140,
     "metadata": {},
     "output_type": "execute_result"
    }
   ],
   "source": [
    "#Setting the weekday names\n",
    "\n",
    "data1['Day'].replace({0:'Monday', 1:'Tuesday', 2:'Wednesday', 3:'Thursday', 4:'Friday', 5:'Saturday', 6:'Sunday'}, inplace = True)\n",
    "data1"
   ]
  },
  {
   "cell_type": "markdown",
   "id": "704677a6",
   "metadata": {},
   "source": [
    "Here, 00:06:00 means 6 minutes duration while 01:07:00 means 1 hour, 7 minutes duration. \n"
   ]
  },
  {
   "cell_type": "code",
   "execution_count": 141,
   "id": "b59f453c",
   "metadata": {},
   "outputs": [
    {
     "data": {
      "text/html": [
       "<div>\n",
       "<style scoped>\n",
       "    .dataframe tbody tr th:only-of-type {\n",
       "        vertical-align: middle;\n",
       "    }\n",
       "\n",
       "    .dataframe tbody tr th {\n",
       "        vertical-align: top;\n",
       "    }\n",
       "\n",
       "    .dataframe thead th {\n",
       "        text-align: right;\n",
       "    }\n",
       "</style>\n",
       "<table border=\"1\" class=\"dataframe\">\n",
       "  <thead>\n",
       "    <tr style=\"text-align: right;\">\n",
       "      <th></th>\n",
       "      <th>Miles</th>\n",
       "      <th>Year</th>\n",
       "      <th>Hour</th>\n",
       "    </tr>\n",
       "  </thead>\n",
       "  <tbody>\n",
       "    <tr>\n",
       "      <th>count</th>\n",
       "      <td>1073.000000</td>\n",
       "      <td>1073.0</td>\n",
       "      <td>1073.000000</td>\n",
       "    </tr>\n",
       "    <tr>\n",
       "      <th>mean</th>\n",
       "      <td>6.546971</td>\n",
       "      <td>2016.0</td>\n",
       "      <td>14.702703</td>\n",
       "    </tr>\n",
       "    <tr>\n",
       "      <th>std</th>\n",
       "      <td>4.626595</td>\n",
       "      <td>0.0</td>\n",
       "      <td>4.590118</td>\n",
       "    </tr>\n",
       "    <tr>\n",
       "      <th>min</th>\n",
       "      <td>0.500000</td>\n",
       "      <td>2016.0</td>\n",
       "      <td>0.000000</td>\n",
       "    </tr>\n",
       "    <tr>\n",
       "      <th>25%</th>\n",
       "      <td>2.700000</td>\n",
       "      <td>2016.0</td>\n",
       "      <td>12.000000</td>\n",
       "    </tr>\n",
       "    <tr>\n",
       "      <th>50%</th>\n",
       "      <td>5.500000</td>\n",
       "      <td>2016.0</td>\n",
       "      <td>15.000000</td>\n",
       "    </tr>\n",
       "    <tr>\n",
       "      <th>75%</th>\n",
       "      <td>9.800000</td>\n",
       "      <td>2016.0</td>\n",
       "      <td>18.000000</td>\n",
       "    </tr>\n",
       "    <tr>\n",
       "      <th>max</th>\n",
       "      <td>20.300000</td>\n",
       "      <td>2016.0</td>\n",
       "      <td>23.000000</td>\n",
       "    </tr>\n",
       "  </tbody>\n",
       "</table>\n",
       "</div>"
      ],
      "text/plain": [
       "             Miles    Year         Hour\n",
       "count  1073.000000  1073.0  1073.000000\n",
       "mean      6.546971  2016.0    14.702703\n",
       "std       4.626595     0.0     4.590118\n",
       "min       0.500000  2016.0     0.000000\n",
       "25%       2.700000  2016.0    12.000000\n",
       "50%       5.500000  2016.0    15.000000\n",
       "75%       9.800000  2016.0    18.000000\n",
       "max      20.300000  2016.0    23.000000"
      ]
     },
     "execution_count": 141,
     "metadata": {},
     "output_type": "execute_result"
    }
   ],
   "source": [
    "data1.describe()"
   ]
  },
  {
   "cell_type": "code",
   "execution_count": 142,
   "id": "816205b5",
   "metadata": {},
   "outputs": [
    {
     "name": "stdout",
     "output_type": "stream",
     "text": [
      "Maximum ride duration is: 02:47:00\n",
      "Minimum ride duration is: 00:00:00\n"
     ]
    }
   ],
   "source": [
    "#Checking the maximum and minimum durations of Uber rides:\n",
    "a = data1['Ride_Duration'].max()\n",
    "print('Maximum ride duration is:', a)\n",
    "\n",
    "b = data1['Ride_Duration'].min()\n",
    "print('Minimum ride duration is:', b)\n"
   ]
  },
  {
   "cell_type": "markdown",
   "id": "d17e40ec",
   "metadata": {},
   "source": [
    "As the minimum ride duration is 00:00:00, it means that ride(s) would be cancelled for some reasons."
   ]
  },
  {
   "cell_type": "code",
   "execution_count": 143,
   "id": "bf86fdf6",
   "metadata": {},
   "outputs": [
    {
     "data": {
      "text/html": [
       "<div>\n",
       "<style scoped>\n",
       "    .dataframe tbody tr th:only-of-type {\n",
       "        vertical-align: middle;\n",
       "    }\n",
       "\n",
       "    .dataframe tbody tr th {\n",
       "        vertical-align: top;\n",
       "    }\n",
       "\n",
       "    .dataframe thead th {\n",
       "        text-align: right;\n",
       "    }\n",
       "</style>\n",
       "<table border=\"1\" class=\"dataframe\">\n",
       "  <thead>\n",
       "    <tr style=\"text-align: right;\">\n",
       "      <th></th>\n",
       "      <th>Start_Date</th>\n",
       "      <th>End_Date</th>\n",
       "      <th>Category</th>\n",
       "      <th>Start_Point</th>\n",
       "      <th>Stop_Point</th>\n",
       "      <th>Miles</th>\n",
       "      <th>Purpose</th>\n",
       "      <th>Ride_Duration</th>\n",
       "      <th>Year</th>\n",
       "      <th>Month</th>\n",
       "      <th>Day</th>\n",
       "      <th>Hour</th>\n",
       "    </tr>\n",
       "  </thead>\n",
       "  <tbody>\n",
       "    <tr>\n",
       "      <th>761</th>\n",
       "      <td>2016-09-16 07:08:00</td>\n",
       "      <td>2016-09-16 07:08:00</td>\n",
       "      <td>Business</td>\n",
       "      <td>Unknown Location</td>\n",
       "      <td>Unknown Location</td>\n",
       "      <td>1.6</td>\n",
       "      <td>Unknown</td>\n",
       "      <td>00:00:00</td>\n",
       "      <td>2016</td>\n",
       "      <td>September</td>\n",
       "      <td>Friday</td>\n",
       "      <td>7</td>\n",
       "    </tr>\n",
       "    <tr>\n",
       "      <th>798</th>\n",
       "      <td>2016-10-08 15:03:00</td>\n",
       "      <td>2016-10-08 15:03:00</td>\n",
       "      <td>Business</td>\n",
       "      <td>Karachi</td>\n",
       "      <td>Karachi</td>\n",
       "      <td>3.6</td>\n",
       "      <td>Unknown</td>\n",
       "      <td>00:00:00</td>\n",
       "      <td>2016</td>\n",
       "      <td>October</td>\n",
       "      <td>Saturday</td>\n",
       "      <td>15</td>\n",
       "    </tr>\n",
       "    <tr>\n",
       "      <th>807</th>\n",
       "      <td>2016-10-13 13:02:00</td>\n",
       "      <td>2016-10-13 13:02:00</td>\n",
       "      <td>Business</td>\n",
       "      <td>Islamabad</td>\n",
       "      <td>Islamabad</td>\n",
       "      <td>0.7</td>\n",
       "      <td>Unknown</td>\n",
       "      <td>00:00:00</td>\n",
       "      <td>2016</td>\n",
       "      <td>October</td>\n",
       "      <td>Thursday</td>\n",
       "      <td>13</td>\n",
       "    </tr>\n",
       "  </tbody>\n",
       "</table>\n",
       "</div>"
      ],
      "text/plain": [
       "             Start_Date            End_Date  Category       Start_Point  \\\n",
       "761 2016-09-16 07:08:00 2016-09-16 07:08:00  Business  Unknown Location   \n",
       "798 2016-10-08 15:03:00 2016-10-08 15:03:00  Business           Karachi   \n",
       "807 2016-10-13 13:02:00 2016-10-13 13:02:00  Business         Islamabad   \n",
       "\n",
       "           Stop_Point  Miles  Purpose Ride_Duration  Year      Month  \\\n",
       "761  Unknown Location    1.6  Unknown      00:00:00  2016  September   \n",
       "798           Karachi    3.6  Unknown      00:00:00  2016    October   \n",
       "807         Islamabad    0.7  Unknown      00:00:00  2016    October   \n",
       "\n",
       "          Day  Hour  \n",
       "761    Friday     7  \n",
       "798  Saturday    15  \n",
       "807  Thursday    13  "
      ]
     },
     "execution_count": 143,
     "metadata": {},
     "output_type": "execute_result"
    }
   ],
   "source": [
    "#Checking the dataset with 0 duration\n",
    "\n",
    "data1[(data1.Ride_Duration == '00:00:00')]"
   ]
  },
  {
   "cell_type": "markdown",
   "id": "e72f2de3",
   "metadata": {},
   "source": [
    "Here, the ride duration is 0 seconds but there is some mileage, which shows that this is outlier and the data is wrongly entered. This data needs to be removed."
   ]
  },
  {
   "cell_type": "code",
   "execution_count": 144,
   "id": "7d87a564",
   "metadata": {},
   "outputs": [
    {
     "data": {
      "text/html": [
       "<div>\n",
       "<style scoped>\n",
       "    .dataframe tbody tr th:only-of-type {\n",
       "        vertical-align: middle;\n",
       "    }\n",
       "\n",
       "    .dataframe tbody tr th {\n",
       "        vertical-align: top;\n",
       "    }\n",
       "\n",
       "    .dataframe thead th {\n",
       "        text-align: right;\n",
       "    }\n",
       "</style>\n",
       "<table border=\"1\" class=\"dataframe\">\n",
       "  <thead>\n",
       "    <tr style=\"text-align: right;\">\n",
       "      <th></th>\n",
       "      <th>Start_Date</th>\n",
       "      <th>End_Date</th>\n",
       "      <th>Category</th>\n",
       "      <th>Start_Point</th>\n",
       "      <th>Stop_Point</th>\n",
       "      <th>Miles</th>\n",
       "      <th>Purpose</th>\n",
       "      <th>Ride_Duration</th>\n",
       "      <th>Year</th>\n",
       "      <th>Month</th>\n",
       "      <th>Day</th>\n",
       "      <th>Hour</th>\n",
       "    </tr>\n",
       "  </thead>\n",
       "  <tbody>\n",
       "    <tr>\n",
       "      <th>0</th>\n",
       "      <td>2016-01-01 21:11:00</td>\n",
       "      <td>2016-01-01 21:17:00</td>\n",
       "      <td>Business</td>\n",
       "      <td>Fort Pierce</td>\n",
       "      <td>Fort Pierce</td>\n",
       "      <td>5.1</td>\n",
       "      <td>Meal/Entertain</td>\n",
       "      <td>00:06:00</td>\n",
       "      <td>2016</td>\n",
       "      <td>January</td>\n",
       "      <td>Friday</td>\n",
       "      <td>21</td>\n",
       "    </tr>\n",
       "    <tr>\n",
       "      <th>1</th>\n",
       "      <td>2016-01-02 01:25:00</td>\n",
       "      <td>2016-01-02 01:37:00</td>\n",
       "      <td>Business</td>\n",
       "      <td>Fort Pierce</td>\n",
       "      <td>Fort Pierce</td>\n",
       "      <td>5.0</td>\n",
       "      <td>Unknown</td>\n",
       "      <td>00:12:00</td>\n",
       "      <td>2016</td>\n",
       "      <td>January</td>\n",
       "      <td>Saturday</td>\n",
       "      <td>1</td>\n",
       "    </tr>\n",
       "    <tr>\n",
       "      <th>2</th>\n",
       "      <td>2016-01-02 20:25:00</td>\n",
       "      <td>2016-01-02 20:38:00</td>\n",
       "      <td>Business</td>\n",
       "      <td>Fort Pierce</td>\n",
       "      <td>Fort Pierce</td>\n",
       "      <td>4.8</td>\n",
       "      <td>Errand/Supplies</td>\n",
       "      <td>00:13:00</td>\n",
       "      <td>2016</td>\n",
       "      <td>January</td>\n",
       "      <td>Saturday</td>\n",
       "      <td>20</td>\n",
       "    </tr>\n",
       "    <tr>\n",
       "      <th>3</th>\n",
       "      <td>2016-01-05 17:31:00</td>\n",
       "      <td>2016-01-05 17:45:00</td>\n",
       "      <td>Business</td>\n",
       "      <td>Fort Pierce</td>\n",
       "      <td>Fort Pierce</td>\n",
       "      <td>4.7</td>\n",
       "      <td>Meeting</td>\n",
       "      <td>00:14:00</td>\n",
       "      <td>2016</td>\n",
       "      <td>January</td>\n",
       "      <td>Tuesday</td>\n",
       "      <td>17</td>\n",
       "    </tr>\n",
       "    <tr>\n",
       "      <th>5</th>\n",
       "      <td>2016-01-06 17:15:00</td>\n",
       "      <td>2016-01-06 17:19:00</td>\n",
       "      <td>Business</td>\n",
       "      <td>West Palm Beach</td>\n",
       "      <td>West Palm Beach</td>\n",
       "      <td>4.3</td>\n",
       "      <td>Meal/Entertain</td>\n",
       "      <td>00:04:00</td>\n",
       "      <td>2016</td>\n",
       "      <td>January</td>\n",
       "      <td>Wednesday</td>\n",
       "      <td>17</td>\n",
       "    </tr>\n",
       "    <tr>\n",
       "      <th>...</th>\n",
       "      <td>...</td>\n",
       "      <td>...</td>\n",
       "      <td>...</td>\n",
       "      <td>...</td>\n",
       "      <td>...</td>\n",
       "      <td>...</td>\n",
       "      <td>...</td>\n",
       "      <td>...</td>\n",
       "      <td>...</td>\n",
       "      <td>...</td>\n",
       "      <td>...</td>\n",
       "      <td>...</td>\n",
       "    </tr>\n",
       "    <tr>\n",
       "      <th>1149</th>\n",
       "      <td>2016-12-30 23:06:00</td>\n",
       "      <td>2016-12-30 23:10:00</td>\n",
       "      <td>Business</td>\n",
       "      <td>Kar?chi</td>\n",
       "      <td>Kar?chi</td>\n",
       "      <td>0.8</td>\n",
       "      <td>Customer Visit</td>\n",
       "      <td>00:04:00</td>\n",
       "      <td>2016</td>\n",
       "      <td>December</td>\n",
       "      <td>Friday</td>\n",
       "      <td>23</td>\n",
       "    </tr>\n",
       "    <tr>\n",
       "      <th>1150</th>\n",
       "      <td>2016-12-31 01:07:00</td>\n",
       "      <td>2016-12-31 01:14:00</td>\n",
       "      <td>Business</td>\n",
       "      <td>Kar?chi</td>\n",
       "      <td>Kar?chi</td>\n",
       "      <td>0.7</td>\n",
       "      <td>Meeting</td>\n",
       "      <td>00:07:00</td>\n",
       "      <td>2016</td>\n",
       "      <td>December</td>\n",
       "      <td>Saturday</td>\n",
       "      <td>1</td>\n",
       "    </tr>\n",
       "    <tr>\n",
       "      <th>1151</th>\n",
       "      <td>2016-12-31 13:24:00</td>\n",
       "      <td>2016-12-31 13:42:00</td>\n",
       "      <td>Business</td>\n",
       "      <td>Kar?chi</td>\n",
       "      <td>Unknown Location</td>\n",
       "      <td>3.9</td>\n",
       "      <td>Temporary Site</td>\n",
       "      <td>00:18:00</td>\n",
       "      <td>2016</td>\n",
       "      <td>December</td>\n",
       "      <td>Saturday</td>\n",
       "      <td>13</td>\n",
       "    </tr>\n",
       "    <tr>\n",
       "      <th>1152</th>\n",
       "      <td>2016-12-31 15:03:00</td>\n",
       "      <td>2016-12-31 15:38:00</td>\n",
       "      <td>Business</td>\n",
       "      <td>Unknown Location</td>\n",
       "      <td>Unknown Location</td>\n",
       "      <td>16.2</td>\n",
       "      <td>Meeting</td>\n",
       "      <td>00:35:00</td>\n",
       "      <td>2016</td>\n",
       "      <td>December</td>\n",
       "      <td>Saturday</td>\n",
       "      <td>15</td>\n",
       "    </tr>\n",
       "    <tr>\n",
       "      <th>1153</th>\n",
       "      <td>2016-12-31 21:32:00</td>\n",
       "      <td>2016-12-31 21:50:00</td>\n",
       "      <td>Business</td>\n",
       "      <td>Katunayake</td>\n",
       "      <td>Gampaha</td>\n",
       "      <td>6.4</td>\n",
       "      <td>Temporary Site</td>\n",
       "      <td>00:18:00</td>\n",
       "      <td>2016</td>\n",
       "      <td>December</td>\n",
       "      <td>Saturday</td>\n",
       "      <td>21</td>\n",
       "    </tr>\n",
       "  </tbody>\n",
       "</table>\n",
       "<p>1070 rows × 12 columns</p>\n",
       "</div>"
      ],
      "text/plain": [
       "              Start_Date            End_Date  Category       Start_Point  \\\n",
       "0    2016-01-01 21:11:00 2016-01-01 21:17:00  Business       Fort Pierce   \n",
       "1    2016-01-02 01:25:00 2016-01-02 01:37:00  Business       Fort Pierce   \n",
       "2    2016-01-02 20:25:00 2016-01-02 20:38:00  Business       Fort Pierce   \n",
       "3    2016-01-05 17:31:00 2016-01-05 17:45:00  Business       Fort Pierce   \n",
       "5    2016-01-06 17:15:00 2016-01-06 17:19:00  Business   West Palm Beach   \n",
       "...                  ...                 ...       ...               ...   \n",
       "1149 2016-12-30 23:06:00 2016-12-30 23:10:00  Business           Kar?chi   \n",
       "1150 2016-12-31 01:07:00 2016-12-31 01:14:00  Business           Kar?chi   \n",
       "1151 2016-12-31 13:24:00 2016-12-31 13:42:00  Business           Kar?chi   \n",
       "1152 2016-12-31 15:03:00 2016-12-31 15:38:00  Business  Unknown Location   \n",
       "1153 2016-12-31 21:32:00 2016-12-31 21:50:00  Business        Katunayake   \n",
       "\n",
       "            Stop_Point  Miles          Purpose Ride_Duration  Year     Month  \\\n",
       "0          Fort Pierce    5.1   Meal/Entertain      00:06:00  2016   January   \n",
       "1          Fort Pierce    5.0          Unknown      00:12:00  2016   January   \n",
       "2          Fort Pierce    4.8  Errand/Supplies      00:13:00  2016   January   \n",
       "3          Fort Pierce    4.7          Meeting      00:14:00  2016   January   \n",
       "5      West Palm Beach    4.3   Meal/Entertain      00:04:00  2016   January   \n",
       "...                ...    ...              ...           ...   ...       ...   \n",
       "1149           Kar?chi    0.8   Customer Visit      00:04:00  2016  December   \n",
       "1150           Kar?chi    0.7          Meeting      00:07:00  2016  December   \n",
       "1151  Unknown Location    3.9   Temporary Site      00:18:00  2016  December   \n",
       "1152  Unknown Location   16.2          Meeting      00:35:00  2016  December   \n",
       "1153           Gampaha    6.4   Temporary Site      00:18:00  2016  December   \n",
       "\n",
       "            Day  Hour  \n",
       "0        Friday    21  \n",
       "1      Saturday     1  \n",
       "2      Saturday    20  \n",
       "3       Tuesday    17  \n",
       "5     Wednesday    17  \n",
       "...         ...   ...  \n",
       "1149     Friday    23  \n",
       "1150   Saturday     1  \n",
       "1151   Saturday    13  \n",
       "1152   Saturday    15  \n",
       "1153   Saturday    21  \n",
       "\n",
       "[1070 rows x 12 columns]"
      ]
     },
     "execution_count": 144,
     "metadata": {},
     "output_type": "execute_result"
    }
   ],
   "source": [
    "#Removing outliers from the dataset\n",
    "\n",
    "data2 = data1.drop([761, 798, 807])\n",
    "data2"
   ]
  },
  {
   "cell_type": "markdown",
   "id": "355a6a04",
   "metadata": {},
   "source": [
    "The final dataset is now reduced to 1070 rows. "
   ]
  },
  {
   "cell_type": "code",
   "execution_count": 145,
   "id": "876eb831",
   "metadata": {},
   "outputs": [
    {
     "name": "stdout",
     "output_type": "stream",
     "text": [
      "Maximum ride duration is: 02:47:00\n",
      "Minimum ride duration is: 00:01:00\n"
     ]
    }
   ],
   "source": [
    "#Checking the maximum and minimum durations of Uber rides:\n",
    "a = data2['Ride_Duration'].max()\n",
    "print('Maximum ride duration is:', a)\n",
    "\n",
    "b = data2['Ride_Duration'].min()\n",
    "print('Minimum ride duration is:', b)\n"
   ]
  },
  {
   "cell_type": "markdown",
   "id": "80f40f0e",
   "metadata": {},
   "source": [
    "The maximum ride duration is 2 hours 47 minutes and minimum ride duration is 1 minute."
   ]
  },
  {
   "cell_type": "code",
   "execution_count": 146,
   "id": "bc44ed55",
   "metadata": {},
   "outputs": [
    {
     "data": {
      "text/html": [
       "<div>\n",
       "<style scoped>\n",
       "    .dataframe tbody tr th:only-of-type {\n",
       "        vertical-align: middle;\n",
       "    }\n",
       "\n",
       "    .dataframe tbody tr th {\n",
       "        vertical-align: top;\n",
       "    }\n",
       "\n",
       "    .dataframe thead th {\n",
       "        text-align: right;\n",
       "    }\n",
       "</style>\n",
       "<table border=\"1\" class=\"dataframe\">\n",
       "  <thead>\n",
       "    <tr style=\"text-align: right;\">\n",
       "      <th></th>\n",
       "      <th>Start_Date</th>\n",
       "      <th>End_Date</th>\n",
       "      <th>Category</th>\n",
       "      <th>Start_Point</th>\n",
       "      <th>Stop_Point</th>\n",
       "      <th>Miles</th>\n",
       "      <th>Purpose</th>\n",
       "      <th>Ride_Duration</th>\n",
       "      <th>Year</th>\n",
       "      <th>Month</th>\n",
       "      <th>Day</th>\n",
       "      <th>Hour</th>\n",
       "    </tr>\n",
       "  </thead>\n",
       "  <tbody>\n",
       "    <tr>\n",
       "      <th>646</th>\n",
       "      <td>2016-08-10 18:49:00</td>\n",
       "      <td>2016-08-10 18:50:00</td>\n",
       "      <td>Business</td>\n",
       "      <td>Apex</td>\n",
       "      <td>Apex</td>\n",
       "      <td>1.0</td>\n",
       "      <td>Unknown</td>\n",
       "      <td>00:01:00</td>\n",
       "      <td>2016</td>\n",
       "      <td>August</td>\n",
       "      <td>Wednesday</td>\n",
       "      <td>18</td>\n",
       "    </tr>\n",
       "    <tr>\n",
       "      <th>786</th>\n",
       "      <td>2016-10-04 12:17:00</td>\n",
       "      <td>2016-10-04 12:18:00</td>\n",
       "      <td>Business</td>\n",
       "      <td>Unknown Location</td>\n",
       "      <td>Unknown Location</td>\n",
       "      <td>15.1</td>\n",
       "      <td>Unknown</td>\n",
       "      <td>00:01:00</td>\n",
       "      <td>2016</td>\n",
       "      <td>October</td>\n",
       "      <td>Tuesday</td>\n",
       "      <td>12</td>\n",
       "    </tr>\n",
       "  </tbody>\n",
       "</table>\n",
       "</div>"
      ],
      "text/plain": [
       "             Start_Date            End_Date  Category       Start_Point  \\\n",
       "646 2016-08-10 18:49:00 2016-08-10 18:50:00  Business              Apex   \n",
       "786 2016-10-04 12:17:00 2016-10-04 12:18:00  Business  Unknown Location   \n",
       "\n",
       "           Stop_Point  Miles  Purpose Ride_Duration  Year    Month        Day  \\\n",
       "646              Apex    1.0  Unknown      00:01:00  2016   August  Wednesday   \n",
       "786  Unknown Location   15.1  Unknown      00:01:00  2016  October    Tuesday   \n",
       "\n",
       "     Hour  \n",
       "646    18  \n",
       "786    12  "
      ]
     },
     "execution_count": 146,
     "metadata": {},
     "output_type": "execute_result"
    }
   ],
   "source": [
    "data2[(data2.Ride_Duration == '00:01:00')]"
   ]
  },
  {
   "cell_type": "markdown",
   "id": "883bd855",
   "metadata": {},
   "source": [
    "Clearly, the second entry is an outlier because it is not possible to cover 15.1 miles in 1 minute."
   ]
  },
  {
   "cell_type": "code",
   "execution_count": 147,
   "id": "96f14acf",
   "metadata": {},
   "outputs": [
    {
     "data": {
      "text/html": [
       "<div>\n",
       "<style scoped>\n",
       "    .dataframe tbody tr th:only-of-type {\n",
       "        vertical-align: middle;\n",
       "    }\n",
       "\n",
       "    .dataframe tbody tr th {\n",
       "        vertical-align: top;\n",
       "    }\n",
       "\n",
       "    .dataframe thead th {\n",
       "        text-align: right;\n",
       "    }\n",
       "</style>\n",
       "<table border=\"1\" class=\"dataframe\">\n",
       "  <thead>\n",
       "    <tr style=\"text-align: right;\">\n",
       "      <th></th>\n",
       "      <th>Start_Date</th>\n",
       "      <th>End_Date</th>\n",
       "      <th>Category</th>\n",
       "      <th>Start_Point</th>\n",
       "      <th>Stop_Point</th>\n",
       "      <th>Miles</th>\n",
       "      <th>Purpose</th>\n",
       "      <th>Ride_Duration</th>\n",
       "      <th>Year</th>\n",
       "      <th>Month</th>\n",
       "      <th>Day</th>\n",
       "      <th>Hour</th>\n",
       "    </tr>\n",
       "  </thead>\n",
       "  <tbody>\n",
       "    <tr>\n",
       "      <th>0</th>\n",
       "      <td>2016-01-01 21:11:00</td>\n",
       "      <td>2016-01-01 21:17:00</td>\n",
       "      <td>Business</td>\n",
       "      <td>Fort Pierce</td>\n",
       "      <td>Fort Pierce</td>\n",
       "      <td>5.1</td>\n",
       "      <td>Meal/Entertain</td>\n",
       "      <td>00:06:00</td>\n",
       "      <td>2016</td>\n",
       "      <td>January</td>\n",
       "      <td>Friday</td>\n",
       "      <td>21</td>\n",
       "    </tr>\n",
       "    <tr>\n",
       "      <th>1</th>\n",
       "      <td>2016-01-02 01:25:00</td>\n",
       "      <td>2016-01-02 01:37:00</td>\n",
       "      <td>Business</td>\n",
       "      <td>Fort Pierce</td>\n",
       "      <td>Fort Pierce</td>\n",
       "      <td>5.0</td>\n",
       "      <td>Unknown</td>\n",
       "      <td>00:12:00</td>\n",
       "      <td>2016</td>\n",
       "      <td>January</td>\n",
       "      <td>Saturday</td>\n",
       "      <td>1</td>\n",
       "    </tr>\n",
       "    <tr>\n",
       "      <th>2</th>\n",
       "      <td>2016-01-02 20:25:00</td>\n",
       "      <td>2016-01-02 20:38:00</td>\n",
       "      <td>Business</td>\n",
       "      <td>Fort Pierce</td>\n",
       "      <td>Fort Pierce</td>\n",
       "      <td>4.8</td>\n",
       "      <td>Errand/Supplies</td>\n",
       "      <td>00:13:00</td>\n",
       "      <td>2016</td>\n",
       "      <td>January</td>\n",
       "      <td>Saturday</td>\n",
       "      <td>20</td>\n",
       "    </tr>\n",
       "    <tr>\n",
       "      <th>3</th>\n",
       "      <td>2016-01-05 17:31:00</td>\n",
       "      <td>2016-01-05 17:45:00</td>\n",
       "      <td>Business</td>\n",
       "      <td>Fort Pierce</td>\n",
       "      <td>Fort Pierce</td>\n",
       "      <td>4.7</td>\n",
       "      <td>Meeting</td>\n",
       "      <td>00:14:00</td>\n",
       "      <td>2016</td>\n",
       "      <td>January</td>\n",
       "      <td>Tuesday</td>\n",
       "      <td>17</td>\n",
       "    </tr>\n",
       "    <tr>\n",
       "      <th>5</th>\n",
       "      <td>2016-01-06 17:15:00</td>\n",
       "      <td>2016-01-06 17:19:00</td>\n",
       "      <td>Business</td>\n",
       "      <td>West Palm Beach</td>\n",
       "      <td>West Palm Beach</td>\n",
       "      <td>4.3</td>\n",
       "      <td>Meal/Entertain</td>\n",
       "      <td>00:04:00</td>\n",
       "      <td>2016</td>\n",
       "      <td>January</td>\n",
       "      <td>Wednesday</td>\n",
       "      <td>17</td>\n",
       "    </tr>\n",
       "    <tr>\n",
       "      <th>...</th>\n",
       "      <td>...</td>\n",
       "      <td>...</td>\n",
       "      <td>...</td>\n",
       "      <td>...</td>\n",
       "      <td>...</td>\n",
       "      <td>...</td>\n",
       "      <td>...</td>\n",
       "      <td>...</td>\n",
       "      <td>...</td>\n",
       "      <td>...</td>\n",
       "      <td>...</td>\n",
       "      <td>...</td>\n",
       "    </tr>\n",
       "    <tr>\n",
       "      <th>1149</th>\n",
       "      <td>2016-12-30 23:06:00</td>\n",
       "      <td>2016-12-30 23:10:00</td>\n",
       "      <td>Business</td>\n",
       "      <td>Kar?chi</td>\n",
       "      <td>Kar?chi</td>\n",
       "      <td>0.8</td>\n",
       "      <td>Customer Visit</td>\n",
       "      <td>00:04:00</td>\n",
       "      <td>2016</td>\n",
       "      <td>December</td>\n",
       "      <td>Friday</td>\n",
       "      <td>23</td>\n",
       "    </tr>\n",
       "    <tr>\n",
       "      <th>1150</th>\n",
       "      <td>2016-12-31 01:07:00</td>\n",
       "      <td>2016-12-31 01:14:00</td>\n",
       "      <td>Business</td>\n",
       "      <td>Kar?chi</td>\n",
       "      <td>Kar?chi</td>\n",
       "      <td>0.7</td>\n",
       "      <td>Meeting</td>\n",
       "      <td>00:07:00</td>\n",
       "      <td>2016</td>\n",
       "      <td>December</td>\n",
       "      <td>Saturday</td>\n",
       "      <td>1</td>\n",
       "    </tr>\n",
       "    <tr>\n",
       "      <th>1151</th>\n",
       "      <td>2016-12-31 13:24:00</td>\n",
       "      <td>2016-12-31 13:42:00</td>\n",
       "      <td>Business</td>\n",
       "      <td>Kar?chi</td>\n",
       "      <td>Unknown Location</td>\n",
       "      <td>3.9</td>\n",
       "      <td>Temporary Site</td>\n",
       "      <td>00:18:00</td>\n",
       "      <td>2016</td>\n",
       "      <td>December</td>\n",
       "      <td>Saturday</td>\n",
       "      <td>13</td>\n",
       "    </tr>\n",
       "    <tr>\n",
       "      <th>1152</th>\n",
       "      <td>2016-12-31 15:03:00</td>\n",
       "      <td>2016-12-31 15:38:00</td>\n",
       "      <td>Business</td>\n",
       "      <td>Unknown Location</td>\n",
       "      <td>Unknown Location</td>\n",
       "      <td>16.2</td>\n",
       "      <td>Meeting</td>\n",
       "      <td>00:35:00</td>\n",
       "      <td>2016</td>\n",
       "      <td>December</td>\n",
       "      <td>Saturday</td>\n",
       "      <td>15</td>\n",
       "    </tr>\n",
       "    <tr>\n",
       "      <th>1153</th>\n",
       "      <td>2016-12-31 21:32:00</td>\n",
       "      <td>2016-12-31 21:50:00</td>\n",
       "      <td>Business</td>\n",
       "      <td>Katunayake</td>\n",
       "      <td>Gampaha</td>\n",
       "      <td>6.4</td>\n",
       "      <td>Temporary Site</td>\n",
       "      <td>00:18:00</td>\n",
       "      <td>2016</td>\n",
       "      <td>December</td>\n",
       "      <td>Saturday</td>\n",
       "      <td>21</td>\n",
       "    </tr>\n",
       "  </tbody>\n",
       "</table>\n",
       "<p>1069 rows × 12 columns</p>\n",
       "</div>"
      ],
      "text/plain": [
       "              Start_Date            End_Date  Category       Start_Point  \\\n",
       "0    2016-01-01 21:11:00 2016-01-01 21:17:00  Business       Fort Pierce   \n",
       "1    2016-01-02 01:25:00 2016-01-02 01:37:00  Business       Fort Pierce   \n",
       "2    2016-01-02 20:25:00 2016-01-02 20:38:00  Business       Fort Pierce   \n",
       "3    2016-01-05 17:31:00 2016-01-05 17:45:00  Business       Fort Pierce   \n",
       "5    2016-01-06 17:15:00 2016-01-06 17:19:00  Business   West Palm Beach   \n",
       "...                  ...                 ...       ...               ...   \n",
       "1149 2016-12-30 23:06:00 2016-12-30 23:10:00  Business           Kar?chi   \n",
       "1150 2016-12-31 01:07:00 2016-12-31 01:14:00  Business           Kar?chi   \n",
       "1151 2016-12-31 13:24:00 2016-12-31 13:42:00  Business           Kar?chi   \n",
       "1152 2016-12-31 15:03:00 2016-12-31 15:38:00  Business  Unknown Location   \n",
       "1153 2016-12-31 21:32:00 2016-12-31 21:50:00  Business        Katunayake   \n",
       "\n",
       "            Stop_Point  Miles          Purpose Ride_Duration  Year     Month  \\\n",
       "0          Fort Pierce    5.1   Meal/Entertain      00:06:00  2016   January   \n",
       "1          Fort Pierce    5.0          Unknown      00:12:00  2016   January   \n",
       "2          Fort Pierce    4.8  Errand/Supplies      00:13:00  2016   January   \n",
       "3          Fort Pierce    4.7          Meeting      00:14:00  2016   January   \n",
       "5      West Palm Beach    4.3   Meal/Entertain      00:04:00  2016   January   \n",
       "...                ...    ...              ...           ...   ...       ...   \n",
       "1149           Kar?chi    0.8   Customer Visit      00:04:00  2016  December   \n",
       "1150           Kar?chi    0.7          Meeting      00:07:00  2016  December   \n",
       "1151  Unknown Location    3.9   Temporary Site      00:18:00  2016  December   \n",
       "1152  Unknown Location   16.2          Meeting      00:35:00  2016  December   \n",
       "1153           Gampaha    6.4   Temporary Site      00:18:00  2016  December   \n",
       "\n",
       "            Day  Hour  \n",
       "0        Friday    21  \n",
       "1      Saturday     1  \n",
       "2      Saturday    20  \n",
       "3       Tuesday    17  \n",
       "5     Wednesday    17  \n",
       "...         ...   ...  \n",
       "1149     Friday    23  \n",
       "1150   Saturday     1  \n",
       "1151   Saturday    13  \n",
       "1152   Saturday    15  \n",
       "1153   Saturday    21  \n",
       "\n",
       "[1069 rows x 12 columns]"
      ]
     },
     "execution_count": 147,
     "metadata": {},
     "output_type": "execute_result"
    }
   ],
   "source": [
    "#Removing the outlier \n",
    "\n",
    "data3 = data2.drop([786])\n",
    "data3"
   ]
  },
  {
   "cell_type": "markdown",
   "id": "97c73ee6",
   "metadata": {},
   "source": [
    "The final dataset has reduced to 1069 rows. The dataset can now be visualized for further analysis."
   ]
  },
  {
   "cell_type": "markdown",
   "id": "f34f39cf",
   "metadata": {},
   "source": [
    "### Visualizing the data"
   ]
  },
  {
   "cell_type": "code",
   "execution_count": 148,
   "id": "ddb4b0b3",
   "metadata": {},
   "outputs": [
    {
     "name": "stdout",
     "output_type": "stream",
     "text": [
      "Average number of rides per day is 2.920765027322404\n"
     ]
    }
   ],
   "source": [
    "#Average number of rides per day\n",
    "\n",
    "ride_count = data3['Miles'].count() \n",
    "Average_ride_per_day = ride_count/366    #Year is 2016 which is a leap year\n",
    "print('Average number of rides per day is' , Average_ride_per_day)"
   ]
  },
  {
   "cell_type": "markdown",
   "id": "95968e33",
   "metadata": {},
   "source": [
    "The user covers an average of around 3 rides per day. He seems to be a potential customer for Uber."
   ]
  },
  {
   "cell_type": "code",
   "execution_count": 149,
   "id": "2a1e8884",
   "metadata": {},
   "outputs": [
    {
     "data": {
      "text/plain": [
       "Text(0, 0.5, 'Number of rides')"
      ]
     },
     "execution_count": 149,
     "metadata": {},
     "output_type": "execute_result"
    },
    {
     "data": {
      "image/png": "[encoded data removed]",
      "text/plain": [
       "<Figure size 1296x576 with 1 Axes>"
      ]
     },
     "metadata": {
      "needs_background": "light"
     },
     "output_type": "display_data"
    }
   ],
   "source": [
    "#Checking the most common pickup points of the Uber rides:\n",
    "\n",
    "a = data3.Start_Point.value_counts().nlargest(65)\n",
    "a.plot(kind='bar', figsize=(18,8),color=['pink'])\n",
    "plt.title('Number of rides per Pickup Point')\n",
    "plt.xlabel('Pickup Point')\n",
    "plt.ylabel('Number of rides')"
   ]
  },
  {
   "cell_type": "markdown",
   "id": "8583ff76",
   "metadata": {},
   "source": [
    "Most of the Uber rides have started from Cary and mostly pickup points are unknown."
   ]
  },
  {
   "cell_type": "code",
   "execution_count": 150,
   "id": "535f9671",
   "metadata": {},
   "outputs": [
    {
     "data": {
      "text/plain": [
       "Text(0, 0.5, 'Number of rides')"
      ]
     },
     "execution_count": 150,
     "metadata": {},
     "output_type": "execute_result"
    },
    {
     "data": {
      "image/png": "[encoded data removed]",
      "text/plain": [
       "<Figure size 1296x576 with 1 Axes>"
      ]
     },
     "metadata": {
      "needs_background": "light"
     },
     "output_type": "display_data"
    }
   ],
   "source": [
    "#Checking the most common dropoff points of the Uber rides:\n",
    "\n",
    "b = data3.Stop_Point.value_counts().nlargest(65)\n",
    "b.plot(kind='bar', figsize=(18,8),color=['green'])\n",
    "plt.title('Number of rides per Pickup Point')\n",
    "plt.xlabel('Pickup Point')\n",
    "plt.ylabel('Number of rides')"
   ]
  },
  {
   "cell_type": "markdown",
   "id": "32d86f11",
   "metadata": {},
   "source": [
    "Most of the Uber rides have ended at Cary and mostly dropoff points are unknown. There is a possibility of round rides because most of the pickup and dropoff locations are similar."
   ]
  },
  {
   "cell_type": "code",
   "execution_count": 151,
   "id": "ccfb8c52",
   "metadata": {},
   "outputs": [
    {
     "data": {
      "text/plain": [
       "(1069, 12)"
      ]
     },
     "execution_count": 151,
     "metadata": {},
     "output_type": "execute_result"
    }
   ],
   "source": [
    "data3.shape"
   ]
  },
  {
   "cell_type": "code",
   "execution_count": 152,
   "id": "745ef5ec",
   "metadata": {},
   "outputs": [
    {
     "data": {
      "text/html": [
       "<div>\n",
       "<style scoped>\n",
       "    .dataframe tbody tr th:only-of-type {\n",
       "        vertical-align: middle;\n",
       "    }\n",
       "\n",
       "    .dataframe tbody tr th {\n",
       "        vertical-align: top;\n",
       "    }\n",
       "\n",
       "    .dataframe thead th {\n",
       "        text-align: right;\n",
       "    }\n",
       "</style>\n",
       "<table border=\"1\" class=\"dataframe\">\n",
       "  <thead>\n",
       "    <tr style=\"text-align: right;\">\n",
       "      <th></th>\n",
       "      <th>Start_Date</th>\n",
       "      <th>End_Date</th>\n",
       "      <th>Category</th>\n",
       "      <th>Start_Point</th>\n",
       "      <th>Stop_Point</th>\n",
       "      <th>Miles</th>\n",
       "      <th>Purpose</th>\n",
       "      <th>Ride_Duration</th>\n",
       "      <th>Year</th>\n",
       "      <th>Month</th>\n",
       "      <th>Day</th>\n",
       "      <th>Hour</th>\n",
       "    </tr>\n",
       "  </thead>\n",
       "  <tbody>\n",
       "    <tr>\n",
       "      <th>0</th>\n",
       "      <td>2016-01-01 21:11:00</td>\n",
       "      <td>2016-01-01 21:17:00</td>\n",
       "      <td>Business</td>\n",
       "      <td>Fort Pierce</td>\n",
       "      <td>Fort Pierce</td>\n",
       "      <td>5.1</td>\n",
       "      <td>Meal/Entertain</td>\n",
       "      <td>00:06:00</td>\n",
       "      <td>2016</td>\n",
       "      <td>January</td>\n",
       "      <td>Friday</td>\n",
       "      <td>21</td>\n",
       "    </tr>\n",
       "    <tr>\n",
       "      <th>1</th>\n",
       "      <td>2016-01-02 01:25:00</td>\n",
       "      <td>2016-01-02 01:37:00</td>\n",
       "      <td>Business</td>\n",
       "      <td>Fort Pierce</td>\n",
       "      <td>Fort Pierce</td>\n",
       "      <td>5.0</td>\n",
       "      <td>Unknown</td>\n",
       "      <td>00:12:00</td>\n",
       "      <td>2016</td>\n",
       "      <td>January</td>\n",
       "      <td>Saturday</td>\n",
       "      <td>1</td>\n",
       "    </tr>\n",
       "    <tr>\n",
       "      <th>2</th>\n",
       "      <td>2016-01-02 20:25:00</td>\n",
       "      <td>2016-01-02 20:38:00</td>\n",
       "      <td>Business</td>\n",
       "      <td>Fort Pierce</td>\n",
       "      <td>Fort Pierce</td>\n",
       "      <td>4.8</td>\n",
       "      <td>Errand/Supplies</td>\n",
       "      <td>00:13:00</td>\n",
       "      <td>2016</td>\n",
       "      <td>January</td>\n",
       "      <td>Saturday</td>\n",
       "      <td>20</td>\n",
       "    </tr>\n",
       "    <tr>\n",
       "      <th>3</th>\n",
       "      <td>2016-01-05 17:31:00</td>\n",
       "      <td>2016-01-05 17:45:00</td>\n",
       "      <td>Business</td>\n",
       "      <td>Fort Pierce</td>\n",
       "      <td>Fort Pierce</td>\n",
       "      <td>4.7</td>\n",
       "      <td>Meeting</td>\n",
       "      <td>00:14:00</td>\n",
       "      <td>2016</td>\n",
       "      <td>January</td>\n",
       "      <td>Tuesday</td>\n",
       "      <td>17</td>\n",
       "    </tr>\n",
       "    <tr>\n",
       "      <th>5</th>\n",
       "      <td>2016-01-06 17:15:00</td>\n",
       "      <td>2016-01-06 17:19:00</td>\n",
       "      <td>Business</td>\n",
       "      <td>West Palm Beach</td>\n",
       "      <td>West Palm Beach</td>\n",
       "      <td>4.3</td>\n",
       "      <td>Meal/Entertain</td>\n",
       "      <td>00:04:00</td>\n",
       "      <td>2016</td>\n",
       "      <td>January</td>\n",
       "      <td>Wednesday</td>\n",
       "      <td>17</td>\n",
       "    </tr>\n",
       "    <tr>\n",
       "      <th>...</th>\n",
       "      <td>...</td>\n",
       "      <td>...</td>\n",
       "      <td>...</td>\n",
       "      <td>...</td>\n",
       "      <td>...</td>\n",
       "      <td>...</td>\n",
       "      <td>...</td>\n",
       "      <td>...</td>\n",
       "      <td>...</td>\n",
       "      <td>...</td>\n",
       "      <td>...</td>\n",
       "      <td>...</td>\n",
       "    </tr>\n",
       "    <tr>\n",
       "      <th>1147</th>\n",
       "      <td>2016-12-30 15:41:00</td>\n",
       "      <td>2016-12-30 16:03:00</td>\n",
       "      <td>Business</td>\n",
       "      <td>Kar?chi</td>\n",
       "      <td>Kar?chi</td>\n",
       "      <td>4.6</td>\n",
       "      <td>Errand/Supplies</td>\n",
       "      <td>00:22:00</td>\n",
       "      <td>2016</td>\n",
       "      <td>December</td>\n",
       "      <td>Friday</td>\n",
       "      <td>15</td>\n",
       "    </tr>\n",
       "    <tr>\n",
       "      <th>1148</th>\n",
       "      <td>2016-12-30 16:45:00</td>\n",
       "      <td>2016-12-30 17:08:00</td>\n",
       "      <td>Business</td>\n",
       "      <td>Kar?chi</td>\n",
       "      <td>Kar?chi</td>\n",
       "      <td>4.6</td>\n",
       "      <td>Meeting</td>\n",
       "      <td>00:23:00</td>\n",
       "      <td>2016</td>\n",
       "      <td>December</td>\n",
       "      <td>Friday</td>\n",
       "      <td>16</td>\n",
       "    </tr>\n",
       "    <tr>\n",
       "      <th>1149</th>\n",
       "      <td>2016-12-30 23:06:00</td>\n",
       "      <td>2016-12-30 23:10:00</td>\n",
       "      <td>Business</td>\n",
       "      <td>Kar?chi</td>\n",
       "      <td>Kar?chi</td>\n",
       "      <td>0.8</td>\n",
       "      <td>Customer Visit</td>\n",
       "      <td>00:04:00</td>\n",
       "      <td>2016</td>\n",
       "      <td>December</td>\n",
       "      <td>Friday</td>\n",
       "      <td>23</td>\n",
       "    </tr>\n",
       "    <tr>\n",
       "      <th>1150</th>\n",
       "      <td>2016-12-31 01:07:00</td>\n",
       "      <td>2016-12-31 01:14:00</td>\n",
       "      <td>Business</td>\n",
       "      <td>Kar?chi</td>\n",
       "      <td>Kar?chi</td>\n",
       "      <td>0.7</td>\n",
       "      <td>Meeting</td>\n",
       "      <td>00:07:00</td>\n",
       "      <td>2016</td>\n",
       "      <td>December</td>\n",
       "      <td>Saturday</td>\n",
       "      <td>1</td>\n",
       "    </tr>\n",
       "    <tr>\n",
       "      <th>1152</th>\n",
       "      <td>2016-12-31 15:03:00</td>\n",
       "      <td>2016-12-31 15:38:00</td>\n",
       "      <td>Business</td>\n",
       "      <td>Unknown Location</td>\n",
       "      <td>Unknown Location</td>\n",
       "      <td>16.2</td>\n",
       "      <td>Meeting</td>\n",
       "      <td>00:35:00</td>\n",
       "      <td>2016</td>\n",
       "      <td>December</td>\n",
       "      <td>Saturday</td>\n",
       "      <td>15</td>\n",
       "    </tr>\n",
       "  </tbody>\n",
       "</table>\n",
       "<p>267 rows × 12 columns</p>\n",
       "</div>"
      ],
      "text/plain": [
       "              Start_Date            End_Date  Category       Start_Point  \\\n",
       "0    2016-01-01 21:11:00 2016-01-01 21:17:00  Business       Fort Pierce   \n",
       "1    2016-01-02 01:25:00 2016-01-02 01:37:00  Business       Fort Pierce   \n",
       "2    2016-01-02 20:25:00 2016-01-02 20:38:00  Business       Fort Pierce   \n",
       "3    2016-01-05 17:31:00 2016-01-05 17:45:00  Business       Fort Pierce   \n",
       "5    2016-01-06 17:15:00 2016-01-06 17:19:00  Business   West Palm Beach   \n",
       "...                  ...                 ...       ...               ...   \n",
       "1147 2016-12-30 15:41:00 2016-12-30 16:03:00  Business           Kar?chi   \n",
       "1148 2016-12-30 16:45:00 2016-12-30 17:08:00  Business           Kar?chi   \n",
       "1149 2016-12-30 23:06:00 2016-12-30 23:10:00  Business           Kar?chi   \n",
       "1150 2016-12-31 01:07:00 2016-12-31 01:14:00  Business           Kar?chi   \n",
       "1152 2016-12-31 15:03:00 2016-12-31 15:38:00  Business  Unknown Location   \n",
       "\n",
       "            Stop_Point  Miles          Purpose Ride_Duration  Year     Month  \\\n",
       "0          Fort Pierce    5.1   Meal/Entertain      00:06:00  2016   January   \n",
       "1          Fort Pierce    5.0          Unknown      00:12:00  2016   January   \n",
       "2          Fort Pierce    4.8  Errand/Supplies      00:13:00  2016   January   \n",
       "3          Fort Pierce    4.7          Meeting      00:14:00  2016   January   \n",
       "5      West Palm Beach    4.3   Meal/Entertain      00:04:00  2016   January   \n",
       "...                ...    ...              ...           ...   ...       ...   \n",
       "1147           Kar?chi    4.6  Errand/Supplies      00:22:00  2016  December   \n",
       "1148           Kar?chi    4.6          Meeting      00:23:00  2016  December   \n",
       "1149           Kar?chi    0.8   Customer Visit      00:04:00  2016  December   \n",
       "1150           Kar?chi    0.7          Meeting      00:07:00  2016  December   \n",
       "1152  Unknown Location   16.2          Meeting      00:35:00  2016  December   \n",
       "\n",
       "            Day  Hour  \n",
       "0        Friday    21  \n",
       "1      Saturday     1  \n",
       "2      Saturday    20  \n",
       "3       Tuesday    17  \n",
       "5     Wednesday    17  \n",
       "...         ...   ...  \n",
       "1147     Friday    15  \n",
       "1148     Friday    16  \n",
       "1149     Friday    23  \n",
       "1150   Saturday     1  \n",
       "1152   Saturday    15  \n",
       "\n",
       "[267 rows x 12 columns]"
      ]
     },
     "execution_count": 152,
     "metadata": {},
     "output_type": "execute_result"
    }
   ],
   "source": [
    "#Checking the rides which have similar pickup and dropoff locations\n",
    "\n",
    "Required_Mile = data3.loc[data3['Start_Point'] == data3['Stop_Point']]\n",
    "Required_Mile"
   ]
  },
  {
   "cell_type": "markdown",
   "id": "3a366ef1",
   "metadata": {},
   "source": [
    "For around 25% rides (267 out of 1070 rides), the starting and ending locations are similar. This means that about 25% of the rides are round rides."
   ]
  },
  {
   "cell_type": "code",
   "execution_count": 153,
   "id": "cfdba3da",
   "metadata": {},
   "outputs": [
    {
     "data": {
      "text/plain": [
       "Text(0, 0.5, 'Number of rides')"
      ]
     },
     "execution_count": 153,
     "metadata": {},
     "output_type": "execute_result"
    },
    {
     "data": {
      "image/png": "[encoded data removed]",
      "text/plain": [
       "<Figure size 432x288 with 1 Axes>"
      ]
     },
     "metadata": {
      "needs_background": "light"
     },
     "output_type": "display_data"
    }
   ],
   "source": [
    "#Distribution of single and round rides\n",
    "\n",
    "def Single_or_Round_rides(data3):\n",
    "    if data3['Start_Point'] == data3['Stop_Point']:\n",
    "        return 'Round ride'\n",
    "    else:\n",
    "        return 'Single ride'\n",
    "    \n",
    "data3['Single or Round ride'] = data3.apply(Single_or_Round_rides, axis=1)\n",
    "\n",
    "sns.countplot(x='Single or Round ride',data=data3, order=data3['Single or Round ride'].value_counts().index)\n",
    "plt.title('Single and Round rides Distribution')\n",
    "plt.ylabel(\"Number of rides\")\n"
   ]
  },
  {
   "cell_type": "markdown",
   "id": "3b3bcd33",
   "metadata": {},
   "source": [
    "Clearly, the user has coovered 250+ round rides."
   ]
  },
  {
   "cell_type": "code",
   "execution_count": 154,
   "id": "54628db2",
   "metadata": {},
   "outputs": [
    {
     "data": {
      "text/plain": [
       "Text(0.5, 1.0, 'Purpose of Uber rides')"
      ]
     },
     "execution_count": 154,
     "metadata": {},
     "output_type": "execute_result"
    },
    {
     "data": {
      "image/png": "[encoded data removed]",
      "text/plain": [
       "<Figure size 504x360 with 1 Axes>"
      ]
     },
     "metadata": {
      "needs_background": "light"
     },
     "output_type": "display_data"
    }
   ],
   "source": [
    "#To know for what purpose the user uses Uber for:\n",
    "\n",
    "plt.figure(figsize=(7,5))\n",
    "a = sns.countplot(x='Purpose', data = data3)\n",
    "a.set_xticklabels(a.get_xticklabels(), rotation=90)\n",
    "a.set_xlabel(\"Purpose\", fontsize = 15)\n",
    "a.set_ylabel(\"Number of rides\", fontsize = 15)\n",
    "a.set_title('Purpose of Uber rides', fontsize = 20)"
   ]
  },
  {
   "cell_type": "markdown",
   "id": "a2a884b5",
   "metadata": {},
   "source": [
    "It is evident that for most of the rides, the purpose is unknown. For other rides, the user prefers Uber rides to go for any meeting and for meal/entertainment purposes."
   ]
  },
  {
   "cell_type": "code",
   "execution_count": 155,
   "id": "f8360577",
   "metadata": {},
   "outputs": [
    {
     "data": {
      "text/plain": [
       "Text(0.5, 1.0, 'Category of Uber rides')"
      ]
     },
     "execution_count": 155,
     "metadata": {},
     "output_type": "execute_result"
    },
    {
     "data": {
      "image/png": "[encoded data removed]",
      "text/plain": [
       "<Figure size 144x288 with 1 Axes>"
      ]
     },
     "metadata": {
      "needs_background": "light"
     },
     "output_type": "display_data"
    }
   ],
   "source": [
    "#To know for what category the user uses Uber for:\n",
    "\n",
    "plt.figure(figsize=(2,4))\n",
    "a = sns.countplot(x='Category', data = data3)\n",
    "a.set_xticklabels(a.get_xticklabels())\n",
    "a.set_xlabel(\"Category\", fontsize = 15)\n",
    "a.set_ylabel(\"Number of rides\", fontsize = 15)\n",
    "a.set_title('Category of Uber rides', fontsize = 20)"
   ]
  },
  {
   "cell_type": "markdown",
   "id": "1f198544",
   "metadata": {},
   "source": [
    "The user prefers Uber rides for his/her business work for 9500+ rides and for very small number of rides, the user travels for personal reasons."
   ]
  },
  {
   "cell_type": "code",
   "execution_count": 156,
   "id": "d9759c9d",
   "metadata": {},
   "outputs": [
    {
     "name": "stdout",
     "output_type": "stream",
     "text": [
      "Maximum ride distance is: 20.3 miles.\n",
      "Minimum ride distance is: 0.5 miles.\n"
     ]
    }
   ],
   "source": [
    "#Checking the maximum and minimum distance of Uber rides:\n",
    "\n",
    "a = data3['Miles'].max()\n",
    "print('Maximum ride distance is:', a, 'miles.')\n",
    "\n",
    "b = data3['Miles'].min()\n",
    "print('Minimum ride distance is:', b, 'miles.')\n"
   ]
  },
  {
   "cell_type": "markdown",
   "id": "4f48d71c",
   "metadata": {},
   "source": [
    "The maximum ride distance covered by the user is 20.3 miles while the minimum ride distance is 0.5 miles."
   ]
  },
  {
   "cell_type": "code",
   "execution_count": 157,
   "id": "97fe28eb",
   "metadata": {},
   "outputs": [
    {
     "data": {
      "text/plain": [
       "Start_Date              40\n",
       "End_Date                40\n",
       "Category                40\n",
       "Start_Point             40\n",
       "Stop_Point              40\n",
       "Miles                   40\n",
       "Purpose                 40\n",
       "Ride_Duration           40\n",
       "Year                    40\n",
       "Month                   40\n",
       "Day                     40\n",
       "Hour                    40\n",
       "Single or Round ride    40\n",
       "dtype: int64"
      ]
     },
     "execution_count": 157,
     "metadata": {},
     "output_type": "execute_result"
    }
   ],
   "source": [
    "#Checking the number of rides for which the distance covered is <= 1 miles or 1.6 km i.e. very short rides\n",
    "\n",
    "Required_Duration = data3.loc[data2['Miles'] <= 1.0]\n",
    "Required_Duration.count()\n"
   ]
  },
  {
   "cell_type": "markdown",
   "id": "1989ab4a",
   "metadata": {},
   "source": [
    "The user has covered 40 very short rides out of 1069 rides."
   ]
  },
  {
   "cell_type": "code",
   "execution_count": 158,
   "id": "e77e4dab",
   "metadata": {},
   "outputs": [
    {
     "data": {
      "text/plain": [
       "Month\n",
       "April         47\n",
       "August       124\n",
       "December     142\n",
       "February     109\n",
       "January       58\n",
       "July         105\n",
       "June         104\n",
       "March        100\n",
       "May           47\n",
       "November     116\n",
       "October       86\n",
       "September     31\n",
       "Name: Miles, dtype: int64"
      ]
     },
     "execution_count": 158,
     "metadata": {},
     "output_type": "execute_result"
    }
   ],
   "source": [
    "#Determining the number of rides booked per month:\n",
    "\n",
    "data3.groupby(\"Month\")[\"Miles\"].count()"
   ]
  },
  {
   "cell_type": "code",
   "execution_count": 159,
   "id": "8e133281",
   "metadata": {},
   "outputs": [
    {
     "data": {
      "text/plain": [
       "Text(0.5, 1.0, 'Number of Uber rides per month')"
      ]
     },
     "execution_count": 159,
     "metadata": {},
     "output_type": "execute_result"
    },
    {
     "data": {
      "image/png": "[encoded data removed]",
      "text/plain": [
       "<Figure size 576x360 with 1 Axes>"
      ]
     },
     "metadata": {
      "needs_background": "light"
     },
     "output_type": "display_data"
    }
   ],
   "source": [
    "#Checking the number of rides per month:\n",
    "\n",
    "plt.figure(figsize=(8,5))\n",
    "a = sns.countplot(y='Month', data = data3)\n",
    "a.set_yticklabels(a.get_yticklabels())\n",
    "a.set_xlabel(\"Number of rides\", fontsize = 15)\n",
    "a.set_ylabel(\"Month\", fontsize = 15)\n",
    "a.set_title('Number of Uber rides per month', fontsize = 20)"
   ]
  },
  {
   "cell_type": "markdown",
   "id": "f8a7c523",
   "metadata": {},
   "source": [
    "The user has taken maximum Uber rides in the month of December, followed by August and November. These months are the profitable months for Uber based on the user's dataset."
   ]
  },
  {
   "cell_type": "code",
   "execution_count": 160,
   "id": "6b3b5700",
   "metadata": {},
   "outputs": [
    {
     "data": {
      "text/plain": [
       "Month\n",
       "April        422.4\n",
       "August       795.7\n",
       "December     774.6\n",
       "February     750.5\n",
       "January      387.1\n",
       "July         709.4\n",
       "June         733.7\n",
       "March        613.5\n",
       "May          317.7\n",
       "November     563.1\n",
       "October      658.9\n",
       "September    277.3\n",
       "Name: Miles, dtype: float64"
      ]
     },
     "execution_count": 160,
     "metadata": {},
     "output_type": "execute_result"
    }
   ],
   "source": [
    "#Determining the total mileage per month:\n",
    "\n",
    "data3.groupby(\"Month\")[\"Miles\"].sum()"
   ]
  },
  {
   "cell_type": "code",
   "execution_count": 161,
   "id": "d869c301",
   "metadata": {},
   "outputs": [
    {
     "data": {
      "text/plain": [
       "Text(0, 0.5, 'Total Mileage')"
      ]
     },
     "execution_count": 161,
     "metadata": {},
     "output_type": "execute_result"
    },
    {
     "data": {
      "image/png": "[encoded data removed]",
      "text/plain": [
       "<Figure size 432x288 with 1 Axes>"
      ]
     },
     "metadata": {
      "needs_background": "light"
     },
     "output_type": "display_data"
    }
   ],
   "source": [
    "#Determining the total miles coverage per month:\n",
    "\n",
    "Monthly_mileage = data3.groupby(\"Month\")[\"Miles\"].sum()\n",
    "Monthly_mileage.plot(kind='bar')\n",
    "plt.title(\"Monthly Mileage\")\n",
    "plt.ylabel('Total Mileage')"
   ]
  },
  {
   "cell_type": "markdown",
   "id": "8cfff487",
   "metadata": {},
   "source": [
    "In the month of December, the user has taken a large number of short rides while in the month of October, the user has taken a short number of rides but the rides are long."
   ]
  },
  {
   "cell_type": "code",
   "execution_count": 162,
   "id": "91da728f",
   "metadata": {},
   "outputs": [
    {
     "data": {
      "text/plain": [
       "Day\n",
       "Friday       193\n",
       "Monday       163\n",
       "Saturday     133\n",
       "Sunday       137\n",
       "Thursday     138\n",
       "Tuesday      169\n",
       "Wednesday    136\n",
       "Name: Start_Point, dtype: int64"
      ]
     },
     "execution_count": 162,
     "metadata": {},
     "output_type": "execute_result"
    }
   ],
   "source": [
    "#Determining the number of rides per week day:\n",
    "\n",
    "data3.groupby(\"Day\")[\"Start_Point\"].count()"
   ]
  },
  {
   "cell_type": "code",
   "execution_count": 163,
   "id": "fae81b97",
   "metadata": {},
   "outputs": [
    {
     "data": {
      "image/png": "[encoded data removed]",
      "text/plain": [
       "<Figure size 576x360 with 1 Axes>"
      ]
     },
     "metadata": {},
     "output_type": "display_data"
    }
   ],
   "source": [
    "#Checking the percentage of the number of rides per day of the week:\n",
    "\n",
    "types = data3[\"Day\"].value_counts()\n",
    "labels = types.index\n",
    "values = types.values\n",
    "\n",
    "plt.figure(figsize=(8, 5))\n",
    "plt.pie(values, labels=labels, autopct='%1.1f%%')\n",
    "plt.rc('font', size=12)\n",
    "plt.title(\"Distribution of Rides over Week Days\", fontsize=15)\n",
    "plt.show()\n"
   ]
  },
  {
   "cell_type": "markdown",
   "id": "e8d1fd99",
   "metadata": {},
   "source": [
    "The user has preferred approximate 18 % of total Uber rides on Friday, followed by rides on Tusday and Monday. On rest of the days, the user has taken almost similar number of rides. "
   ]
  },
  {
   "cell_type": "markdown",
   "id": "7c85bd5f",
   "metadata": {},
   "source": [
    "There is almost similar distribution of the rides on all the week days."
   ]
  },
  {
   "cell_type": "code",
   "execution_count": 164,
   "id": "ca46e4cd",
   "metadata": {},
   "outputs": [
    {
     "data": {
      "text/plain": [
       "Start_Point       Stop_Point      \n",
       "Soho              Tribeca               0.5\n",
       "Katunayaka        Katunayaka            0.5\n",
       "Central           West Berkeley         0.6\n",
       "Sunnyside         Ingleside             0.7\n",
       "Medical Centre    Tudor City            0.7\n",
       "                                      ...  \n",
       "Durham            Cary                324.5\n",
       "Cary              Morrisville         356.5\n",
       "                  Durham              390.0\n",
       "Morrisville       Cary                395.7\n",
       "Unknown Location  Unknown Location    559.5\n",
       "Name: Miles, Length: 315, dtype: float64"
      ]
     },
     "execution_count": 164,
     "metadata": {},
     "output_type": "execute_result"
    }
   ],
   "source": [
    "#Identifying the locations which are the farthest and the nearest\n",
    "\n",
    "data3.groupby(['Start_Point','Stop_Point'])['Miles'].sum().sort_values()"
   ]
  },
  {
   "cell_type": "markdown",
   "id": "058303bc",
   "metadata": {},
   "source": [
    "This indicates that except those rides for which locations are unknown, Cary to Morrisville distance is the maximum distance ride followed by Cary to Durham while Soho to Tribeca has the minimum distance between them."
   ]
  },
  {
   "cell_type": "code",
   "execution_count": 165,
   "id": "e2921e99",
   "metadata": {},
   "outputs": [
    {
     "data": {
      "image/png": "[encoded data removed]",
      "text/plain": [
       "<Figure size 432x288 with 1 Axes>"
      ]
     },
     "metadata": {
      "needs_background": "light"
     },
     "output_type": "display_data"
    }
   ],
   "source": [
    "#Checking the preferred time of the day for Uber rides:\n",
    "\n",
    "data3['Hour'].plot.hist()\n",
    "plt.title('Distribution of Uber rides day hours')\n",
    "plt.xlabel('Day Hour')\n",
    "plt.ylabel('Frequency of rides')\n",
    "plt.show()"
   ]
  },
  {
   "cell_type": "markdown",
   "id": "e782aa2d",
   "metadata": {},
   "source": [
    "From the plot, it is evident that the user takes Uber rides mostly during the day and evening hours. A very few rides have been taken in the early morning."
   ]
  },
  {
   "cell_type": "code",
   "execution_count": 166,
   "id": "3b3093f0",
   "metadata": {},
   "outputs": [
    {
     "data": {
      "text/plain": [
       "Text(0, 0.5, 'Number of rides')"
      ]
     },
     "execution_count": 166,
     "metadata": {},
     "output_type": "execute_result"
    },
    {
     "data": {
      "image/png": "[encoded data removed]",
      "text/plain": [
       "<Figure size 432x288 with 1 Axes>"
      ]
     },
     "metadata": {
      "needs_background": "light"
     },
     "output_type": "display_data"
    }
   ],
   "source": [
    "#Distribution of rides on the basis of their categories and purposes\n",
    "\n",
    "Distribution = data3.groupby([\"Category\", \"Purpose\"])[\"Miles\"].count()\n",
    "Distribution.plot(kind='bar', color = 'brown')\n",
    "plt.title(\"Rides Distribution based on Categories and Purposes\")\n",
    "plt.ylabel('Number of rides')"
   ]
  },
  {
   "cell_type": "markdown",
   "id": "6f54eacd",
   "metadata": {},
   "source": [
    "For most of the rides (400+ rides), the purpose is unknown and the user has travelled those rides mainly for business reasons."
   ]
  },
  {
   "cell_type": "code",
   "execution_count": 167,
   "id": "6e031b48",
   "metadata": {},
   "outputs": [
    {
     "data": {
      "text/plain": [
       "<seaborn.axisgrid.PairGrid at 0x1a29c2ee340>"
      ]
     },
     "execution_count": 167,
     "metadata": {},
     "output_type": "execute_result"
    },
    {
     "data": {
      "image/png": "[encoded data removed]",
      "text/plain": [
       "<Figure size 360x360 with 6 Axes>"
      ]
     },
     "metadata": {
      "needs_background": "light"
     },
     "output_type": "display_data"
    }
   ],
   "source": [
    "# Identifying is there any relationship between the rides mileage and the hour of the day at which the ride is taken:\n",
    "sns.pairplot(data3, diag_kind = 'hist', vars = ['Miles', 'Hour'])\n"
   ]
  },
  {
   "cell_type": "markdown",
   "id": "1d31c134",
   "metadata": {},
   "source": [
    "This clearly indicates that most of the rides for which the mileage is less than 20 miles, have been taken in the day and evening hours."
   ]
  },
  {
   "cell_type": "code",
   "execution_count": 168,
   "id": "340931f0",
   "metadata": {},
   "outputs": [
    {
     "data": {
      "text/plain": [
       "<AxesSubplot:>"
      ]
     },
     "execution_count": 168,
     "metadata": {},
     "output_type": "execute_result"
    },
    {
     "data": {
      "image/png": "[encoded data removed]",
      "text/plain": [
       "<Figure size 432x288 with 2 Axes>"
      ]
     },
     "metadata": {
      "needs_background": "light"
     },
     "output_type": "display_data"
    }
   ],
   "source": [
    "sns.heatmap(data3.corr(), annot=True)"
   ]
  },
  {
   "cell_type": "markdown",
   "id": "2cdb89ca",
   "metadata": {},
   "source": [
    "It seems that the mileage of the ride is poorly correlated with the time at which the ride is taken. "
   ]
  },
  {
   "cell_type": "code",
   "execution_count": 169,
   "id": "b7fd7a5b",
   "metadata": {},
   "outputs": [
    {
     "data": {
      "text/plain": [
       "<AxesSubplot:title={'center':'Miles versus Ride Duration'}, xlabel='Ride_Duration', ylabel='Miles'>"
      ]
     },
     "execution_count": 169,
     "metadata": {},
     "output_type": "execute_result"
    },
    {
     "data": {
      "image/png": "[encoded data removed]",
      "text/plain": [
       "<Figure size 1440x720 with 1 Axes>"
      ]
     },
     "metadata": {
      "needs_background": "light"
     },
     "output_type": "display_data"
    }
   ],
   "source": [
    "#Miles versus Ride Duration plot\n",
    "\n",
    "plt.figure(figsize=(20,10))\n",
    "plt.xticks(rotation=90)\n",
    "plt.title(\"Miles versus Ride Duration\")\n",
    "\n",
    "sorted_data3 = data3.sort_values(by='Ride_Duration')\n",
    "sns.scatterplot(x=\"Ride_Duration\", y=\"Miles\", data=sorted_data3, color = 'green')\n"
   ]
  },
  {
   "cell_type": "markdown",
   "id": "eaa65658",
   "metadata": {},
   "source": [
    "The scatter plot indicates that most of the rides which cover less mileage, take less time but there are also some rides for which the mileage is less but the duration is high. This might be because of the traffic, slow speed of the driver or red light signal."
   ]
  },
  {
   "cell_type": "code",
   "execution_count": 170,
   "id": "50efb022",
   "metadata": {},
   "outputs": [
    {
     "data": {
      "text/plain": [
       "Text(0.5, 1.0, 'Monthly and Daily Rides Distribution')"
      ]
     },
     "execution_count": 170,
     "metadata": {},
     "output_type": "execute_result"
    },
    {
     "data": {
      "image/png": "[encoded data removed]",
      "text/plain": [
       "<Figure size 1440x720 with 1 Axes>"
      ]
     },
     "metadata": {
      "needs_background": "light"
     },
     "output_type": "display_data"
    }
   ],
   "source": [
    "#Monthly and daily distribution of the rides\n",
    "\n",
    "plt.figure(figsize=(20,10))\n",
    "a = sns.countplot(x='Month', data = data3, hue = 'Day')\n",
    "a.set_xticklabels(a.get_xticklabels(), rotation=10)\n",
    "a.set_xlabel(\"Month\", fontsize = 15)\n",
    "a.set_ylabel(\"Count\", fontsize = 15)\n",
    "a.set_title('Monthly and Daily Rides Distribution', fontsize = 20)"
   ]
  },
  {
   "cell_type": "markdown",
   "id": "d9264c56",
   "metadata": {},
   "source": [
    "It is clearly seen from this plot that for each month, the daily distribution of rides is different."
   ]
  },
  {
   "cell_type": "markdown",
   "id": "84ae37bc",
   "metadata": {},
   "source": [
    "### Insights"
   ]
  },
  {
   "cell_type": "markdown",
   "id": "1c90abe8",
   "metadata": {},
   "source": [
    "From the Exploratory Data Analysis of the Uber rides dataset, following insights can be made:\n",
    "\n",
    "1. The user seems to be a potential customer for Uber as the average ride he takes per day is approximate 3 rides.\n",
    "2. December is the month when the user has taken a lot of rides while September is the month when the user has taken a small number of rides.\n",
    "3. Most of the pickups and dropoffs occurred at Cary, Morrisville, Whitebridge, Islamabad etc. other than the unknown locations which indicates round rides and the user has covered approximate 25% round rides.\n",
    "4. The longest ride duration is 2 hours 47 minutes while the maximum miles covered by the user is 20.3 miles.\n",
    "5. The user has taken Uber rides mainly for Business reasons. For mostly rides, the purpose is unknown. Besides this, main purposes include meeting and meal or entertainment.\n",
    "6. The average distance covered by the user is around 6.55 miles.\n",
    "7. The user travels by Uber mostly during the day and evening hours. \n",
    "8. Cary to Morrisville distance is the maximum distance ride followed by Cary to Durham while Soho to Tribeca has the minimum distance between them, except those rides whose locations are unknown.\n",
    "9. The user has covered 40 very short rides (having mileage <= 1 mile) out of 1069 rides."
   ]
  }
 ],
 "metadata": {
  "kernelspec": {
   "display_name": "Python 3 (ipykernel)",
   "language": "python",
   "name": "python3"
  },
  "language_info": {
   "codemirror_mode": {
    "name": "ipython",
    "version": 3
   },
   "file_extension": ".py",
   "mimetype": "text/x-python",
   "name": "python",
   "nbconvert_exporter": "python",
   "pygments_lexer": "ipython3",
   "version": "3.9.12"
  }
 },
 "nbformat": 4,
 "nbformat_minor": 5
}

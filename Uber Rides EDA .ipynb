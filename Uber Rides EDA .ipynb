{
 "cells": [
  {
   "cell_type": "markdown",
   "id": "41a015ac",
   "metadata": {},
   "source": [
    "# Uber Rides Data Analysis "
   ]
  },
  {
   "cell_type": "code",
   "execution_count": 1,
   "id": "228f0572",
   "metadata": {},
   "outputs": [],
   "source": [
    "#Importing required libraries:\n",
    "\n",
    "import numpy as np                #for performing mathematical functions on arrays\n",
    "import pandas as pd               #for analyzing data             \n",
    "import seaborn as sns             #for visualizing data          \n",
    "import matplotlib.pyplot as plt   #for visualizing data \n",
    "%matplotlib inline  \n"
   ]
  },
  {
   "cell_type": "code",
   "execution_count": 2,
   "id": "4850c640",
   "metadata": {},
   "outputs": [
    {
     "name": "stdout",
     "output_type": "stream",
     "text": [
      "(1155, 7)\n"
     ]
    },
    {
     "data": {
      "text/html": [
       "<div>\n",
       "<style scoped>\n",
       "    .dataframe tbody tr th:only-of-type {\n",
       "        vertical-align: middle;\n",
       "    }\n",
       "\n",
       "    .dataframe tbody tr th {\n",
       "        vertical-align: top;\n",
       "    }\n",
       "\n",
       "    .dataframe thead th {\n",
       "        text-align: right;\n",
       "    }\n",
       "</style>\n",
       "<table border=\"1\" class=\"dataframe\">\n",
       "  <thead>\n",
       "    <tr style=\"text-align: right;\">\n",
       "      <th></th>\n",
       "      <th>START_DATE*</th>\n",
       "      <th>END_DATE*</th>\n",
       "      <th>CATEGORY*</th>\n",
       "      <th>START*</th>\n",
       "      <th>STOP*</th>\n",
       "      <th>MILES*</th>\n",
       "      <th>PURPOSE*</th>\n",
       "    </tr>\n",
       "  </thead>\n",
       "  <tbody>\n",
       "    <tr>\n",
       "      <th>0</th>\n",
       "      <td>01-01-2016 21:11</td>\n",
       "      <td>01-01-2016 21:17</td>\n",
       "      <td>Business</td>\n",
       "      <td>Fort Pierce</td>\n",
       "      <td>Fort Pierce</td>\n",
       "      <td>5.1</td>\n",
       "      <td>Meal/Entertain</td>\n",
       "    </tr>\n",
       "    <tr>\n",
       "      <th>1</th>\n",
       "      <td>01-02-2016 01:25</td>\n",
       "      <td>01-02-2016 01:37</td>\n",
       "      <td>Business</td>\n",
       "      <td>Fort Pierce</td>\n",
       "      <td>Fort Pierce</td>\n",
       "      <td>5.0</td>\n",
       "      <td>NaN</td>\n",
       "    </tr>\n",
       "    <tr>\n",
       "      <th>2</th>\n",
       "      <td>01-02-2016 20:25</td>\n",
       "      <td>01-02-2016 20:38</td>\n",
       "      <td>Business</td>\n",
       "      <td>Fort Pierce</td>\n",
       "      <td>Fort Pierce</td>\n",
       "      <td>4.8</td>\n",
       "      <td>Errand/Supplies</td>\n",
       "    </tr>\n",
       "    <tr>\n",
       "      <th>3</th>\n",
       "      <td>01-05-2016 17:31</td>\n",
       "      <td>01-05-2016 17:45</td>\n",
       "      <td>Business</td>\n",
       "      <td>Fort Pierce</td>\n",
       "      <td>Fort Pierce</td>\n",
       "      <td>4.7</td>\n",
       "      <td>Meeting</td>\n",
       "    </tr>\n",
       "    <tr>\n",
       "      <th>4</th>\n",
       "      <td>01-06-2016 14:42</td>\n",
       "      <td>01-06-2016 15:49</td>\n",
       "      <td>Business</td>\n",
       "      <td>Fort Pierce</td>\n",
       "      <td>West Palm Beach</td>\n",
       "      <td>63.7</td>\n",
       "      <td>Customer Visit</td>\n",
       "    </tr>\n",
       "  </tbody>\n",
       "</table>\n",
       "</div>"
      ],
      "text/plain": [
       "        START_DATE*         END_DATE* CATEGORY*       START*            STOP*  \\\n",
       "0  01-01-2016 21:11  01-01-2016 21:17  Business  Fort Pierce      Fort Pierce   \n",
       "1  01-02-2016 01:25  01-02-2016 01:37  Business  Fort Pierce      Fort Pierce   \n",
       "2  01-02-2016 20:25  01-02-2016 20:38  Business  Fort Pierce      Fort Pierce   \n",
       "3  01-05-2016 17:31  01-05-2016 17:45  Business  Fort Pierce      Fort Pierce   \n",
       "4  01-06-2016 14:42  01-06-2016 15:49  Business  Fort Pierce  West Palm Beach   \n",
       "\n",
       "   MILES*         PURPOSE*  \n",
       "0     5.1   Meal/Entertain  \n",
       "1     5.0              NaN  \n",
       "2     4.8  Errand/Supplies  \n",
       "3     4.7          Meeting  \n",
       "4    63.7   Customer Visit  "
      ]
     },
     "execution_count": 2,
     "metadata": {},
     "output_type": "execute_result"
    }
   ],
   "source": [
    "#Reading data:\n",
    "\n",
    "data = pd.read_csv('Uber_drives_data.csv')\n",
    "print(data.shape)                  #printing the number of rows and columns respectively\n",
    "data.head(5)                       #printing the top 5 rows"
   ]
  },
  {
   "cell_type": "markdown",
   "id": "14841c11",
   "metadata": {},
   "source": [
    "The given dataset has 1155 rows and 7 columns, containing all the information about the Uber rides. The user has booked 1155 trips over the year (including those which have been cancelled)."
   ]
  },
  {
   "cell_type": "code",
   "execution_count": 3,
   "id": "841cbb0c",
   "metadata": {},
   "outputs": [
    {
     "data": {
      "text/html": [
       "<div>\n",
       "<style scoped>\n",
       "    .dataframe tbody tr th:only-of-type {\n",
       "        vertical-align: middle;\n",
       "    }\n",
       "\n",
       "    .dataframe tbody tr th {\n",
       "        vertical-align: top;\n",
       "    }\n",
       "\n",
       "    .dataframe thead th {\n",
       "        text-align: right;\n",
       "    }\n",
       "</style>\n",
       "<table border=\"1\" class=\"dataframe\">\n",
       "  <thead>\n",
       "    <tr style=\"text-align: right;\">\n",
       "      <th></th>\n",
       "      <th>MILES*</th>\n",
       "    </tr>\n",
       "  </thead>\n",
       "  <tbody>\n",
       "    <tr>\n",
       "      <th>count</th>\n",
       "      <td>1155.000000</td>\n",
       "    </tr>\n",
       "    <tr>\n",
       "      <th>mean</th>\n",
       "      <td>10.566840</td>\n",
       "    </tr>\n",
       "    <tr>\n",
       "      <th>std</th>\n",
       "      <td>21.579106</td>\n",
       "    </tr>\n",
       "    <tr>\n",
       "      <th>min</th>\n",
       "      <td>0.500000</td>\n",
       "    </tr>\n",
       "    <tr>\n",
       "      <th>25%</th>\n",
       "      <td>2.900000</td>\n",
       "    </tr>\n",
       "    <tr>\n",
       "      <th>50%</th>\n",
       "      <td>6.000000</td>\n",
       "    </tr>\n",
       "    <tr>\n",
       "      <th>75%</th>\n",
       "      <td>10.400000</td>\n",
       "    </tr>\n",
       "    <tr>\n",
       "      <th>max</th>\n",
       "      <td>310.300000</td>\n",
       "    </tr>\n",
       "  </tbody>\n",
       "</table>\n",
       "</div>"
      ],
      "text/plain": [
       "            MILES*\n",
       "count  1155.000000\n",
       "mean     10.566840\n",
       "std      21.579106\n",
       "min       0.500000\n",
       "25%       2.900000\n",
       "50%       6.000000\n",
       "75%      10.400000\n",
       "max     310.300000"
      ]
     },
     "execution_count": 3,
     "metadata": {},
     "output_type": "execute_result"
    }
   ],
   "source": [
    "#Understanding the data more:\n",
    "\n",
    "data.describe()    #for statistical description of data"
   ]
  },
  {
   "cell_type": "markdown",
   "id": "f1e88c35",
   "metadata": {},
   "source": [
    "The average distance of the user's rides is around 21 miles."
   ]
  },
  {
   "cell_type": "code",
   "execution_count": 4,
   "id": "ec77611e",
   "metadata": {},
   "outputs": [
    {
     "name": "stdout",
     "output_type": "stream",
     "text": [
      "<class 'pandas.core.frame.DataFrame'>\n",
      "RangeIndex: 1155 entries, 0 to 1154\n",
      "Data columns (total 7 columns):\n",
      " #   Column       Non-Null Count  Dtype  \n",
      "---  ------       --------------  -----  \n",
      " 0   START_DATE*  1155 non-null   object \n",
      " 1   END_DATE*    1155 non-null   object \n",
      " 2   CATEGORY*    1155 non-null   object \n",
      " 3   START*       1155 non-null   object \n",
      " 4   STOP*        1155 non-null   object \n",
      " 5   MILES*       1155 non-null   float64\n",
      " 6   PURPOSE*     653 non-null    object \n",
      "dtypes: float64(1), object(6)\n",
      "memory usage: 63.3+ KB\n"
     ]
    }
   ],
   "source": [
    "#Checking the need for data cleaning:\n",
    "\n",
    "data.info()      #gathering information about the non null count and data type"
   ]
  },
  {
   "cell_type": "markdown",
   "id": "dd54a234",
   "metadata": {},
   "source": [
    "Out of 1155 values in Purpose column, only 653 have some values. Rest have null values."
   ]
  },
  {
   "cell_type": "code",
   "execution_count": 5,
   "id": "d029bcc3",
   "metadata": {},
   "outputs": [
    {
     "data": {
      "text/plain": [
       "0       False\n",
       "1       False\n",
       "2       False\n",
       "3       False\n",
       "4       False\n",
       "        ...  \n",
       "1150    False\n",
       "1151    False\n",
       "1152    False\n",
       "1153    False\n",
       "1154    False\n",
       "Length: 1155, dtype: bool"
      ]
     },
     "execution_count": 5,
     "metadata": {},
     "output_type": "execute_result"
    }
   ],
   "source": [
    "#Checking if there is any duplicate value:\n",
    "\n",
    "data.duplicated()"
   ]
  },
  {
   "cell_type": "markdown",
   "id": "2ef428a5",
   "metadata": {},
   "source": [
    "The dataset does not have any duplicate values."
   ]
  },
  {
   "cell_type": "code",
   "execution_count": 6,
   "id": "8ba736b9",
   "metadata": {},
   "outputs": [
    {
     "data": {
      "text/html": [
       "<div>\n",
       "<style scoped>\n",
       "    .dataframe tbody tr th:only-of-type {\n",
       "        vertical-align: middle;\n",
       "    }\n",
       "\n",
       "    .dataframe tbody tr th {\n",
       "        vertical-align: top;\n",
       "    }\n",
       "\n",
       "    .dataframe thead th {\n",
       "        text-align: right;\n",
       "    }\n",
       "</style>\n",
       "<table border=\"1\" class=\"dataframe\">\n",
       "  <thead>\n",
       "    <tr style=\"text-align: right;\">\n",
       "      <th></th>\n",
       "      <th>Start_Date</th>\n",
       "      <th>End_Date</th>\n",
       "      <th>Category</th>\n",
       "      <th>Start_Point</th>\n",
       "      <th>Stop_Point</th>\n",
       "      <th>Miles</th>\n",
       "      <th>Purpose</th>\n",
       "    </tr>\n",
       "  </thead>\n",
       "  <tbody>\n",
       "    <tr>\n",
       "      <th>0</th>\n",
       "      <td>01-01-2016 21:11</td>\n",
       "      <td>01-01-2016 21:17</td>\n",
       "      <td>Business</td>\n",
       "      <td>Fort Pierce</td>\n",
       "      <td>Fort Pierce</td>\n",
       "      <td>5.1</td>\n",
       "      <td>Meal/Entertain</td>\n",
       "    </tr>\n",
       "    <tr>\n",
       "      <th>1</th>\n",
       "      <td>01-02-2016 01:25</td>\n",
       "      <td>01-02-2016 01:37</td>\n",
       "      <td>Business</td>\n",
       "      <td>Fort Pierce</td>\n",
       "      <td>Fort Pierce</td>\n",
       "      <td>5.0</td>\n",
       "      <td>NaN</td>\n",
       "    </tr>\n",
       "    <tr>\n",
       "      <th>2</th>\n",
       "      <td>01-02-2016 20:25</td>\n",
       "      <td>01-02-2016 20:38</td>\n",
       "      <td>Business</td>\n",
       "      <td>Fort Pierce</td>\n",
       "      <td>Fort Pierce</td>\n",
       "      <td>4.8</td>\n",
       "      <td>Errand/Supplies</td>\n",
       "    </tr>\n",
       "    <tr>\n",
       "      <th>3</th>\n",
       "      <td>01-05-2016 17:31</td>\n",
       "      <td>01-05-2016 17:45</td>\n",
       "      <td>Business</td>\n",
       "      <td>Fort Pierce</td>\n",
       "      <td>Fort Pierce</td>\n",
       "      <td>4.7</td>\n",
       "      <td>Meeting</td>\n",
       "    </tr>\n",
       "    <tr>\n",
       "      <th>4</th>\n",
       "      <td>01-06-2016 14:42</td>\n",
       "      <td>01-06-2016 15:49</td>\n",
       "      <td>Business</td>\n",
       "      <td>Fort Pierce</td>\n",
       "      <td>West Palm Beach</td>\n",
       "      <td>63.7</td>\n",
       "      <td>Customer Visit</td>\n",
       "    </tr>\n",
       "  </tbody>\n",
       "</table>\n",
       "</div>"
      ],
      "text/plain": [
       "         Start_Date          End_Date  Category  Start_Point       Stop_Point  \\\n",
       "0  01-01-2016 21:11  01-01-2016 21:17  Business  Fort Pierce      Fort Pierce   \n",
       "1  01-02-2016 01:25  01-02-2016 01:37  Business  Fort Pierce      Fort Pierce   \n",
       "2  01-02-2016 20:25  01-02-2016 20:38  Business  Fort Pierce      Fort Pierce   \n",
       "3  01-05-2016 17:31  01-05-2016 17:45  Business  Fort Pierce      Fort Pierce   \n",
       "4  01-06-2016 14:42  01-06-2016 15:49  Business  Fort Pierce  West Palm Beach   \n",
       "\n",
       "   Miles          Purpose  \n",
       "0    5.1   Meal/Entertain  \n",
       "1    5.0              NaN  \n",
       "2    4.8  Errand/Supplies  \n",
       "3    4.7          Meeting  \n",
       "4   63.7   Customer Visit  "
      ]
     },
     "execution_count": 6,
     "metadata": {},
     "output_type": "execute_result"
    }
   ],
   "source": [
    "#Renaming column names for clarity:\n",
    "\n",
    "data.columns = ['Start_Date','End_Date','Category','Start_Point','Stop_Point','Miles','Purpose']\n",
    "data.head(5)    #printing top 5 rows"
   ]
  },
  {
   "cell_type": "code",
   "execution_count": 7,
   "id": "ef5a1662",
   "metadata": {},
   "outputs": [
    {
     "data": {
      "text/plain": [
       "Start_Date       0\n",
       "End_Date         0\n",
       "Category         0\n",
       "Start_Point      0\n",
       "Stop_Point       0\n",
       "Miles            0\n",
       "Purpose        502\n",
       "dtype: int64"
      ]
     },
     "execution_count": 7,
     "metadata": {},
     "output_type": "execute_result"
    }
   ],
   "source": [
    "data.isnull().sum()     #Counting number of null values"
   ]
  },
  {
   "cell_type": "markdown",
   "id": "46e266bb",
   "metadata": {},
   "source": [
    "Clearly, the dataset does have null values. The data needs to be cleaned in order to do its analysis and visualization."
   ]
  },
  {
   "cell_type": "code",
   "execution_count": 8,
   "id": "d6985d3c",
   "metadata": {},
   "outputs": [
    {
     "data": {
      "text/plain": [
       "<AxesSubplot:>"
      ]
     },
     "execution_count": 8,
     "metadata": {},
     "output_type": "execute_result"
    },
    {
     "data": {
      "image/png": "[encoded data removed]",
      "text/plain": [
       "<Figure size 432x288 with 2 Axes>"
      ]
     },
     "metadata": {
      "needs_background": "light"
     },
     "output_type": "display_data"
    }
   ],
   "source": [
    "sns.heatmap(data.isnull(), yticklabels = False)   #Visualization of null values"
   ]
  },
  {
   "cell_type": "markdown",
   "id": "f86af4ac",
   "metadata": {},
   "source": [
    "Clearly, the 'Purpose' column contains a lot of null values. The null values in Purpose column can't be dropped as doing this leads to working with approximately half of the data. "
   ]
  },
  {
   "cell_type": "code",
   "execution_count": 9,
   "id": "f582cf71",
   "metadata": {},
   "outputs": [
    {
     "data": {
      "text/html": [
       "<div>\n",
       "<style scoped>\n",
       "    .dataframe tbody tr th:only-of-type {\n",
       "        vertical-align: middle;\n",
       "    }\n",
       "\n",
       "    .dataframe tbody tr th {\n",
       "        vertical-align: top;\n",
       "    }\n",
       "\n",
       "    .dataframe thead th {\n",
       "        text-align: right;\n",
       "    }\n",
       "</style>\n",
       "<table border=\"1\" class=\"dataframe\">\n",
       "  <thead>\n",
       "    <tr style=\"text-align: right;\">\n",
       "      <th></th>\n",
       "      <th>Start_Date</th>\n",
       "      <th>End_Date</th>\n",
       "      <th>Category</th>\n",
       "      <th>Start_Point</th>\n",
       "      <th>Stop_Point</th>\n",
       "      <th>Miles</th>\n",
       "      <th>Purpose</th>\n",
       "    </tr>\n",
       "  </thead>\n",
       "  <tbody>\n",
       "    <tr>\n",
       "      <th>0</th>\n",
       "      <td>01-01-2016 21:11</td>\n",
       "      <td>01-01-2016 21:17</td>\n",
       "      <td>Business</td>\n",
       "      <td>Fort Pierce</td>\n",
       "      <td>Fort Pierce</td>\n",
       "      <td>5.1</td>\n",
       "      <td>Meal/Entertain</td>\n",
       "    </tr>\n",
       "    <tr>\n",
       "      <th>1</th>\n",
       "      <td>01-02-2016 01:25</td>\n",
       "      <td>01-02-2016 01:37</td>\n",
       "      <td>Business</td>\n",
       "      <td>Fort Pierce</td>\n",
       "      <td>Fort Pierce</td>\n",
       "      <td>5.0</td>\n",
       "      <td>Unknown</td>\n",
       "    </tr>\n",
       "    <tr>\n",
       "      <th>2</th>\n",
       "      <td>01-02-2016 20:25</td>\n",
       "      <td>01-02-2016 20:38</td>\n",
       "      <td>Business</td>\n",
       "      <td>Fort Pierce</td>\n",
       "      <td>Fort Pierce</td>\n",
       "      <td>4.8</td>\n",
       "      <td>Errand/Supplies</td>\n",
       "    </tr>\n",
       "    <tr>\n",
       "      <th>3</th>\n",
       "      <td>01-05-2016 17:31</td>\n",
       "      <td>01-05-2016 17:45</td>\n",
       "      <td>Business</td>\n",
       "      <td>Fort Pierce</td>\n",
       "      <td>Fort Pierce</td>\n",
       "      <td>4.7</td>\n",
       "      <td>Meeting</td>\n",
       "    </tr>\n",
       "    <tr>\n",
       "      <th>4</th>\n",
       "      <td>01-06-2016 14:42</td>\n",
       "      <td>01-06-2016 15:49</td>\n",
       "      <td>Business</td>\n",
       "      <td>Fort Pierce</td>\n",
       "      <td>West Palm Beach</td>\n",
       "      <td>63.7</td>\n",
       "      <td>Customer Visit</td>\n",
       "    </tr>\n",
       "  </tbody>\n",
       "</table>\n",
       "</div>"
      ],
      "text/plain": [
       "         Start_Date          End_Date  Category  Start_Point       Stop_Point  \\\n",
       "0  01-01-2016 21:11  01-01-2016 21:17  Business  Fort Pierce      Fort Pierce   \n",
       "1  01-02-2016 01:25  01-02-2016 01:37  Business  Fort Pierce      Fort Pierce   \n",
       "2  01-02-2016 20:25  01-02-2016 20:38  Business  Fort Pierce      Fort Pierce   \n",
       "3  01-05-2016 17:31  01-05-2016 17:45  Business  Fort Pierce      Fort Pierce   \n",
       "4  01-06-2016 14:42  01-06-2016 15:49  Business  Fort Pierce  West Palm Beach   \n",
       "\n",
       "   Miles          Purpose  \n",
       "0    5.1   Meal/Entertain  \n",
       "1    5.0          Unknown  \n",
       "2    4.8  Errand/Supplies  \n",
       "3    4.7          Meeting  \n",
       "4   63.7   Customer Visit  "
      ]
     },
     "execution_count": 9,
     "metadata": {},
     "output_type": "execute_result"
    }
   ],
   "source": [
    "#Setting null values in the Purpose column to 'Unknown' as the purpose is not mentioned for them\n",
    "\n",
    "data['Purpose'] = data['Purpose'].fillna('Unknown')\n",
    "data.head()\n"
   ]
  },
  {
   "cell_type": "code",
   "execution_count": 10,
   "id": "78aac93d",
   "metadata": {},
   "outputs": [
    {
     "data": {
      "text/plain": [
       "Start_Date     0\n",
       "End_Date       0\n",
       "Category       0\n",
       "Start_Point    0\n",
       "Stop_Point     0\n",
       "Miles          0\n",
       "Purpose        0\n",
       "dtype: int64"
      ]
     },
     "execution_count": 10,
     "metadata": {},
     "output_type": "execute_result"
    }
   ],
   "source": [
    "#Checking if data is cleaned or not:\n",
    "\n",
    "data.isnull().sum()"
   ]
  },
  {
   "cell_type": "markdown",
   "id": "47f29f48",
   "metadata": {},
   "source": [
    "Clearly, there are no null values left."
   ]
  },
  {
   "cell_type": "code",
   "execution_count": 11,
   "id": "de387b57",
   "metadata": {},
   "outputs": [
    {
     "data": {
      "text/plain": [
       "<AxesSubplot:>"
      ]
     },
     "execution_count": 11,
     "metadata": {},
     "output_type": "execute_result"
    },
    {
     "data": {
      "image/png": "[encoded data removed]",
      "text/plain": [
       "<Figure size 432x288 with 2 Axes>"
      ]
     },
     "metadata": {
      "needs_background": "light"
     },
     "output_type": "display_data"
    }
   ],
   "source": [
    "sns.heatmap(data.isnull(), yticklabels = False)"
   ]
  },
  {
   "cell_type": "markdown",
   "id": "55c78525",
   "metadata": {},
   "source": [
    "Clearly, there are no null values left."
   ]
  },
  {
   "cell_type": "markdown",
   "id": "ea60d391",
   "metadata": {},
   "source": [
    "At this stage, in the data, the start and end dates are given, but not the duration of the rides. The duration is needed in order to know how much time did the rides took. For this, it is needed to convert the Start Date and End Date data objects into datetime objects."
   ]
  },
  {
   "cell_type": "code",
   "execution_count": 12,
   "id": "20200f18",
   "metadata": {},
   "outputs": [
    {
     "data": {
      "text/html": [
       "<div>\n",
       "<style scoped>\n",
       "    .dataframe tbody tr th:only-of-type {\n",
       "        vertical-align: middle;\n",
       "    }\n",
       "\n",
       "    .dataframe tbody tr th {\n",
       "        vertical-align: top;\n",
       "    }\n",
       "\n",
       "    .dataframe thead th {\n",
       "        text-align: right;\n",
       "    }\n",
       "</style>\n",
       "<table border=\"1\" class=\"dataframe\">\n",
       "  <thead>\n",
       "    <tr style=\"text-align: right;\">\n",
       "      <th></th>\n",
       "      <th>Start_Date</th>\n",
       "      <th>End_Date</th>\n",
       "      <th>Category</th>\n",
       "      <th>Start_Point</th>\n",
       "      <th>Stop_Point</th>\n",
       "      <th>Miles</th>\n",
       "      <th>Purpose</th>\n",
       "    </tr>\n",
       "  </thead>\n",
       "  <tbody>\n",
       "    <tr>\n",
       "      <th>0</th>\n",
       "      <td>2016-01-01 21:11:00</td>\n",
       "      <td>2016-01-01 21:17:00</td>\n",
       "      <td>Business</td>\n",
       "      <td>Fort Pierce</td>\n",
       "      <td>Fort Pierce</td>\n",
       "      <td>5.1</td>\n",
       "      <td>Meal/Entertain</td>\n",
       "    </tr>\n",
       "    <tr>\n",
       "      <th>1</th>\n",
       "      <td>2016-01-02 01:25:00</td>\n",
       "      <td>2016-01-02 01:37:00</td>\n",
       "      <td>Business</td>\n",
       "      <td>Fort Pierce</td>\n",
       "      <td>Fort Pierce</td>\n",
       "      <td>5.0</td>\n",
       "      <td>Unknown</td>\n",
       "    </tr>\n",
       "    <tr>\n",
       "      <th>2</th>\n",
       "      <td>2016-01-02 20:25:00</td>\n",
       "      <td>2016-01-02 20:38:00</td>\n",
       "      <td>Business</td>\n",
       "      <td>Fort Pierce</td>\n",
       "      <td>Fort Pierce</td>\n",
       "      <td>4.8</td>\n",
       "      <td>Errand/Supplies</td>\n",
       "    </tr>\n",
       "    <tr>\n",
       "      <th>3</th>\n",
       "      <td>2016-01-05 17:31:00</td>\n",
       "      <td>2016-01-05 17:45:00</td>\n",
       "      <td>Business</td>\n",
       "      <td>Fort Pierce</td>\n",
       "      <td>Fort Pierce</td>\n",
       "      <td>4.7</td>\n",
       "      <td>Meeting</td>\n",
       "    </tr>\n",
       "    <tr>\n",
       "      <th>4</th>\n",
       "      <td>2016-01-06 14:42:00</td>\n",
       "      <td>2016-01-06 15:49:00</td>\n",
       "      <td>Business</td>\n",
       "      <td>Fort Pierce</td>\n",
       "      <td>West Palm Beach</td>\n",
       "      <td>63.7</td>\n",
       "      <td>Customer Visit</td>\n",
       "    </tr>\n",
       "  </tbody>\n",
       "</table>\n",
       "</div>"
      ],
      "text/plain": [
       "           Start_Date            End_Date  Category  Start_Point  \\\n",
       "0 2016-01-01 21:11:00 2016-01-01 21:17:00  Business  Fort Pierce   \n",
       "1 2016-01-02 01:25:00 2016-01-02 01:37:00  Business  Fort Pierce   \n",
       "2 2016-01-02 20:25:00 2016-01-02 20:38:00  Business  Fort Pierce   \n",
       "3 2016-01-05 17:31:00 2016-01-05 17:45:00  Business  Fort Pierce   \n",
       "4 2016-01-06 14:42:00 2016-01-06 15:49:00  Business  Fort Pierce   \n",
       "\n",
       "        Stop_Point  Miles          Purpose  \n",
       "0      Fort Pierce    5.1   Meal/Entertain  \n",
       "1      Fort Pierce    5.0          Unknown  \n",
       "2      Fort Pierce    4.8  Errand/Supplies  \n",
       "3      Fort Pierce    4.7          Meeting  \n",
       "4  West Palm Beach   63.7   Customer Visit  "
      ]
     },
     "execution_count": 12,
     "metadata": {},
     "output_type": "execute_result"
    }
   ],
   "source": [
    "#Converting the Start_Date and End_Date date objects into datetime objects to get duration:\n",
    "#Using Pandas library\n",
    "\n",
    "data['Start_Date'] = pd.to_datetime(data['Start_Date'])\n",
    "data['End_Date'] = pd.to_datetime(data['End_Date'])\n",
    "\n",
    "data.head(5)"
   ]
  },
  {
   "cell_type": "markdown",
   "id": "24518e9c",
   "metadata": {},
   "source": [
    "Segregating the hour, day of the week and month is needed for further analysis."
   ]
  },
  {
   "cell_type": "code",
   "execution_count": 13,
   "id": "15512e85",
   "metadata": {},
   "outputs": [
    {
     "data": {
      "text/html": [
       "<div>\n",
       "<style scoped>\n",
       "    .dataframe tbody tr th:only-of-type {\n",
       "        vertical-align: middle;\n",
       "    }\n",
       "\n",
       "    .dataframe tbody tr th {\n",
       "        vertical-align: top;\n",
       "    }\n",
       "\n",
       "    .dataframe thead th {\n",
       "        text-align: right;\n",
       "    }\n",
       "</style>\n",
       "<table border=\"1\" class=\"dataframe\">\n",
       "  <thead>\n",
       "    <tr style=\"text-align: right;\">\n",
       "      <th></th>\n",
       "      <th>Start_Date</th>\n",
       "      <th>End_Date</th>\n",
       "      <th>Category</th>\n",
       "      <th>Start_Point</th>\n",
       "      <th>Stop_Point</th>\n",
       "      <th>Miles</th>\n",
       "      <th>Purpose</th>\n",
       "      <th>Hour</th>\n",
       "      <th>Day_of_the_Week</th>\n",
       "      <th>Month</th>\n",
       "    </tr>\n",
       "  </thead>\n",
       "  <tbody>\n",
       "    <tr>\n",
       "      <th>0</th>\n",
       "      <td>2016-01-01 21:11:00</td>\n",
       "      <td>2016-01-01 21:17:00</td>\n",
       "      <td>Business</td>\n",
       "      <td>Fort Pierce</td>\n",
       "      <td>Fort Pierce</td>\n",
       "      <td>5.1</td>\n",
       "      <td>Meal/Entertain</td>\n",
       "      <td>21</td>\n",
       "      <td>4</td>\n",
       "      <td>1</td>\n",
       "    </tr>\n",
       "    <tr>\n",
       "      <th>1</th>\n",
       "      <td>2016-01-02 01:25:00</td>\n",
       "      <td>2016-01-02 01:37:00</td>\n",
       "      <td>Business</td>\n",
       "      <td>Fort Pierce</td>\n",
       "      <td>Fort Pierce</td>\n",
       "      <td>5.0</td>\n",
       "      <td>Unknown</td>\n",
       "      <td>1</td>\n",
       "      <td>5</td>\n",
       "      <td>1</td>\n",
       "    </tr>\n",
       "    <tr>\n",
       "      <th>2</th>\n",
       "      <td>2016-01-02 20:25:00</td>\n",
       "      <td>2016-01-02 20:38:00</td>\n",
       "      <td>Business</td>\n",
       "      <td>Fort Pierce</td>\n",
       "      <td>Fort Pierce</td>\n",
       "      <td>4.8</td>\n",
       "      <td>Errand/Supplies</td>\n",
       "      <td>20</td>\n",
       "      <td>5</td>\n",
       "      <td>1</td>\n",
       "    </tr>\n",
       "    <tr>\n",
       "      <th>3</th>\n",
       "      <td>2016-01-05 17:31:00</td>\n",
       "      <td>2016-01-05 17:45:00</td>\n",
       "      <td>Business</td>\n",
       "      <td>Fort Pierce</td>\n",
       "      <td>Fort Pierce</td>\n",
       "      <td>4.7</td>\n",
       "      <td>Meeting</td>\n",
       "      <td>17</td>\n",
       "      <td>1</td>\n",
       "      <td>1</td>\n",
       "    </tr>\n",
       "    <tr>\n",
       "      <th>4</th>\n",
       "      <td>2016-01-06 14:42:00</td>\n",
       "      <td>2016-01-06 15:49:00</td>\n",
       "      <td>Business</td>\n",
       "      <td>Fort Pierce</td>\n",
       "      <td>West Palm Beach</td>\n",
       "      <td>63.7</td>\n",
       "      <td>Customer Visit</td>\n",
       "      <td>14</td>\n",
       "      <td>2</td>\n",
       "      <td>1</td>\n",
       "    </tr>\n",
       "  </tbody>\n",
       "</table>\n",
       "</div>"
      ],
      "text/plain": [
       "           Start_Date            End_Date  Category  Start_Point  \\\n",
       "0 2016-01-01 21:11:00 2016-01-01 21:17:00  Business  Fort Pierce   \n",
       "1 2016-01-02 01:25:00 2016-01-02 01:37:00  Business  Fort Pierce   \n",
       "2 2016-01-02 20:25:00 2016-01-02 20:38:00  Business  Fort Pierce   \n",
       "3 2016-01-05 17:31:00 2016-01-05 17:45:00  Business  Fort Pierce   \n",
       "4 2016-01-06 14:42:00 2016-01-06 15:49:00  Business  Fort Pierce   \n",
       "\n",
       "        Stop_Point  Miles          Purpose  Hour  Day_of_the_Week  Month  \n",
       "0      Fort Pierce    5.1   Meal/Entertain    21                4      1  \n",
       "1      Fort Pierce    5.0          Unknown     1                5      1  \n",
       "2      Fort Pierce    4.8  Errand/Supplies    20                5      1  \n",
       "3      Fort Pierce    4.7          Meeting    17                1      1  \n",
       "4  West Palm Beach   63.7   Customer Visit    14                2      1  "
      ]
     },
     "execution_count": 13,
     "metadata": {},
     "output_type": "execute_result"
    }
   ],
   "source": [
    "#Creating new columns of hour, day of the week and month:\n",
    "\n",
    "data['Hour'] = data['Start_Date'].apply(lambda conversion: conversion.hour)\n",
    "data['Day_of_the_Week'] = data['Start_Date'].apply(lambda conversion: conversion.dayofweek)\n",
    "data['Month'] = data['Start_Date'].apply(lambda conversion: conversion.month)\n",
    "\n",
    "data.head()"
   ]
  },
  {
   "cell_type": "markdown",
   "id": "57809bc8",
   "metadata": {},
   "source": [
    "For proper analysis, the Day of the week and Month columns need to be in words, for example, 0 means Monday, 1 means Tuesday etc. in Day of the week column while in month column, 1 means January, 2 means February etc."
   ]
  },
  {
   "cell_type": "code",
   "execution_count": 14,
   "id": "3b99a0f1",
   "metadata": {},
   "outputs": [
    {
     "data": {
      "text/html": [
       "<div>\n",
       "<style scoped>\n",
       "    .dataframe tbody tr th:only-of-type {\n",
       "        vertical-align: middle;\n",
       "    }\n",
       "\n",
       "    .dataframe tbody tr th {\n",
       "        vertical-align: top;\n",
       "    }\n",
       "\n",
       "    .dataframe thead th {\n",
       "        text-align: right;\n",
       "    }\n",
       "</style>\n",
       "<table border=\"1\" class=\"dataframe\">\n",
       "  <thead>\n",
       "    <tr style=\"text-align: right;\">\n",
       "      <th></th>\n",
       "      <th>Start_Date</th>\n",
       "      <th>End_Date</th>\n",
       "      <th>Category</th>\n",
       "      <th>Start_Point</th>\n",
       "      <th>Stop_Point</th>\n",
       "      <th>Miles</th>\n",
       "      <th>Purpose</th>\n",
       "      <th>Hour</th>\n",
       "      <th>Day_of_the_Week</th>\n",
       "      <th>Month</th>\n",
       "    </tr>\n",
       "  </thead>\n",
       "  <tbody>\n",
       "    <tr>\n",
       "      <th>0</th>\n",
       "      <td>2016-01-01 21:11:00</td>\n",
       "      <td>2016-01-01 21:17:00</td>\n",
       "      <td>Business</td>\n",
       "      <td>Fort Pierce</td>\n",
       "      <td>Fort Pierce</td>\n",
       "      <td>5.1</td>\n",
       "      <td>Meal/Entertain</td>\n",
       "      <td>21</td>\n",
       "      <td>Friday</td>\n",
       "      <td>1</td>\n",
       "    </tr>\n",
       "    <tr>\n",
       "      <th>1</th>\n",
       "      <td>2016-01-02 01:25:00</td>\n",
       "      <td>2016-01-02 01:37:00</td>\n",
       "      <td>Business</td>\n",
       "      <td>Fort Pierce</td>\n",
       "      <td>Fort Pierce</td>\n",
       "      <td>5.0</td>\n",
       "      <td>Unknown</td>\n",
       "      <td>1</td>\n",
       "      <td>Saturday</td>\n",
       "      <td>1</td>\n",
       "    </tr>\n",
       "    <tr>\n",
       "      <th>2</th>\n",
       "      <td>2016-01-02 20:25:00</td>\n",
       "      <td>2016-01-02 20:38:00</td>\n",
       "      <td>Business</td>\n",
       "      <td>Fort Pierce</td>\n",
       "      <td>Fort Pierce</td>\n",
       "      <td>4.8</td>\n",
       "      <td>Errand/Supplies</td>\n",
       "      <td>20</td>\n",
       "      <td>Saturday</td>\n",
       "      <td>1</td>\n",
       "    </tr>\n",
       "    <tr>\n",
       "      <th>3</th>\n",
       "      <td>2016-01-05 17:31:00</td>\n",
       "      <td>2016-01-05 17:45:00</td>\n",
       "      <td>Business</td>\n",
       "      <td>Fort Pierce</td>\n",
       "      <td>Fort Pierce</td>\n",
       "      <td>4.7</td>\n",
       "      <td>Meeting</td>\n",
       "      <td>17</td>\n",
       "      <td>Tuesday</td>\n",
       "      <td>1</td>\n",
       "    </tr>\n",
       "    <tr>\n",
       "      <th>4</th>\n",
       "      <td>2016-01-06 14:42:00</td>\n",
       "      <td>2016-01-06 15:49:00</td>\n",
       "      <td>Business</td>\n",
       "      <td>Fort Pierce</td>\n",
       "      <td>West Palm Beach</td>\n",
       "      <td>63.7</td>\n",
       "      <td>Customer Visit</td>\n",
       "      <td>14</td>\n",
       "      <td>Wednesday</td>\n",
       "      <td>1</td>\n",
       "    </tr>\n",
       "  </tbody>\n",
       "</table>\n",
       "</div>"
      ],
      "text/plain": [
       "           Start_Date            End_Date  Category  Start_Point  \\\n",
       "0 2016-01-01 21:11:00 2016-01-01 21:17:00  Business  Fort Pierce   \n",
       "1 2016-01-02 01:25:00 2016-01-02 01:37:00  Business  Fort Pierce   \n",
       "2 2016-01-02 20:25:00 2016-01-02 20:38:00  Business  Fort Pierce   \n",
       "3 2016-01-05 17:31:00 2016-01-05 17:45:00  Business  Fort Pierce   \n",
       "4 2016-01-06 14:42:00 2016-01-06 15:49:00  Business  Fort Pierce   \n",
       "\n",
       "        Stop_Point  Miles          Purpose  Hour Day_of_the_Week  Month  \n",
       "0      Fort Pierce    5.1   Meal/Entertain    21          Friday      1  \n",
       "1      Fort Pierce    5.0          Unknown     1        Saturday      1  \n",
       "2      Fort Pierce    4.8  Errand/Supplies    20        Saturday      1  \n",
       "3      Fort Pierce    4.7          Meeting    17         Tuesday      1  \n",
       "4  West Palm Beach   63.7   Customer Visit    14       Wednesday      1  "
      ]
     },
     "execution_count": 14,
     "metadata": {},
     "output_type": "execute_result"
    }
   ],
   "source": [
    "#Creating a dictionary for Day of the week column:\n",
    "A = {0:'Monday', 1:'Tuesday', 2:'Wednesday', 3:'Thursday', 4:'Friday', 5:'Saturday', 6:'Sunday'}\n",
    "data['Day_of_the_Week'] = data['Day_of_the_Week'].map(A)\n",
    "\n",
    "data.head(5)"
   ]
  },
  {
   "cell_type": "code",
   "execution_count": 15,
   "id": "d52674b3",
   "metadata": {},
   "outputs": [
    {
     "data": {
      "text/html": [
       "<div>\n",
       "<style scoped>\n",
       "    .dataframe tbody tr th:only-of-type {\n",
       "        vertical-align: middle;\n",
       "    }\n",
       "\n",
       "    .dataframe tbody tr th {\n",
       "        vertical-align: top;\n",
       "    }\n",
       "\n",
       "    .dataframe thead th {\n",
       "        text-align: right;\n",
       "    }\n",
       "</style>\n",
       "<table border=\"1\" class=\"dataframe\">\n",
       "  <thead>\n",
       "    <tr style=\"text-align: right;\">\n",
       "      <th></th>\n",
       "      <th>Start_Date</th>\n",
       "      <th>End_Date</th>\n",
       "      <th>Category</th>\n",
       "      <th>Start_Point</th>\n",
       "      <th>Stop_Point</th>\n",
       "      <th>Miles</th>\n",
       "      <th>Purpose</th>\n",
       "      <th>Hour</th>\n",
       "      <th>Day_of_the_Week</th>\n",
       "      <th>Month</th>\n",
       "    </tr>\n",
       "  </thead>\n",
       "  <tbody>\n",
       "    <tr>\n",
       "      <th>0</th>\n",
       "      <td>2016-01-01 21:11:00</td>\n",
       "      <td>2016-01-01 21:17:00</td>\n",
       "      <td>Business</td>\n",
       "      <td>Fort Pierce</td>\n",
       "      <td>Fort Pierce</td>\n",
       "      <td>5.1</td>\n",
       "      <td>Meal/Entertain</td>\n",
       "      <td>21</td>\n",
       "      <td>Friday</td>\n",
       "      <td>January</td>\n",
       "    </tr>\n",
       "    <tr>\n",
       "      <th>1</th>\n",
       "      <td>2016-01-02 01:25:00</td>\n",
       "      <td>2016-01-02 01:37:00</td>\n",
       "      <td>Business</td>\n",
       "      <td>Fort Pierce</td>\n",
       "      <td>Fort Pierce</td>\n",
       "      <td>5.0</td>\n",
       "      <td>Unknown</td>\n",
       "      <td>1</td>\n",
       "      <td>Saturday</td>\n",
       "      <td>January</td>\n",
       "    </tr>\n",
       "    <tr>\n",
       "      <th>2</th>\n",
       "      <td>2016-01-02 20:25:00</td>\n",
       "      <td>2016-01-02 20:38:00</td>\n",
       "      <td>Business</td>\n",
       "      <td>Fort Pierce</td>\n",
       "      <td>Fort Pierce</td>\n",
       "      <td>4.8</td>\n",
       "      <td>Errand/Supplies</td>\n",
       "      <td>20</td>\n",
       "      <td>Saturday</td>\n",
       "      <td>January</td>\n",
       "    </tr>\n",
       "    <tr>\n",
       "      <th>3</th>\n",
       "      <td>2016-01-05 17:31:00</td>\n",
       "      <td>2016-01-05 17:45:00</td>\n",
       "      <td>Business</td>\n",
       "      <td>Fort Pierce</td>\n",
       "      <td>Fort Pierce</td>\n",
       "      <td>4.7</td>\n",
       "      <td>Meeting</td>\n",
       "      <td>17</td>\n",
       "      <td>Tuesday</td>\n",
       "      <td>January</td>\n",
       "    </tr>\n",
       "    <tr>\n",
       "      <th>4</th>\n",
       "      <td>2016-01-06 14:42:00</td>\n",
       "      <td>2016-01-06 15:49:00</td>\n",
       "      <td>Business</td>\n",
       "      <td>Fort Pierce</td>\n",
       "      <td>West Palm Beach</td>\n",
       "      <td>63.7</td>\n",
       "      <td>Customer Visit</td>\n",
       "      <td>14</td>\n",
       "      <td>Wednesday</td>\n",
       "      <td>January</td>\n",
       "    </tr>\n",
       "  </tbody>\n",
       "</table>\n",
       "</div>"
      ],
      "text/plain": [
       "           Start_Date            End_Date  Category  Start_Point  \\\n",
       "0 2016-01-01 21:11:00 2016-01-01 21:17:00  Business  Fort Pierce   \n",
       "1 2016-01-02 01:25:00 2016-01-02 01:37:00  Business  Fort Pierce   \n",
       "2 2016-01-02 20:25:00 2016-01-02 20:38:00  Business  Fort Pierce   \n",
       "3 2016-01-05 17:31:00 2016-01-05 17:45:00  Business  Fort Pierce   \n",
       "4 2016-01-06 14:42:00 2016-01-06 15:49:00  Business  Fort Pierce   \n",
       "\n",
       "        Stop_Point  Miles          Purpose  Hour Day_of_the_Week    Month  \n",
       "0      Fort Pierce    5.1   Meal/Entertain    21          Friday  January  \n",
       "1      Fort Pierce    5.0          Unknown     1        Saturday  January  \n",
       "2      Fort Pierce    4.8  Errand/Supplies    20        Saturday  January  \n",
       "3      Fort Pierce    4.7          Meeting    17         Tuesday  January  \n",
       "4  West Palm Beach   63.7   Customer Visit    14       Wednesday  January  "
      ]
     },
     "execution_count": 15,
     "metadata": {},
     "output_type": "execute_result"
    }
   ],
   "source": [
    "#Creating a dictionary for Month column:\n",
    "\n",
    "B = {1:'January', 2:'February', 3:'March', 4:'April', 5:'May', 6:'June', 7:'July', 8:'August', 9:'September', 10:'October', 11:'November', 12:'December'}\n",
    "data['Month'] = data['Month'].map(B)\n",
    "\n",
    "data.head(5)"
   ]
  },
  {
   "cell_type": "code",
   "execution_count": 16,
   "id": "4f2032b9",
   "metadata": {},
   "outputs": [
    {
     "data": {
      "text/html": [
       "<div>\n",
       "<style scoped>\n",
       "    .dataframe tbody tr th:only-of-type {\n",
       "        vertical-align: middle;\n",
       "    }\n",
       "\n",
       "    .dataframe tbody tr th {\n",
       "        vertical-align: top;\n",
       "    }\n",
       "\n",
       "    .dataframe thead th {\n",
       "        text-align: right;\n",
       "    }\n",
       "</style>\n",
       "<table border=\"1\" class=\"dataframe\">\n",
       "  <thead>\n",
       "    <tr style=\"text-align: right;\">\n",
       "      <th></th>\n",
       "      <th>Start_Date</th>\n",
       "      <th>End_Date</th>\n",
       "      <th>Category</th>\n",
       "      <th>Start_Point</th>\n",
       "      <th>Stop_Point</th>\n",
       "      <th>Miles</th>\n",
       "      <th>Purpose</th>\n",
       "      <th>Hour</th>\n",
       "      <th>Day_of_the_Week</th>\n",
       "      <th>Month</th>\n",
       "      <th>Ride_Duration</th>\n",
       "    </tr>\n",
       "  </thead>\n",
       "  <tbody>\n",
       "    <tr>\n",
       "      <th>0</th>\n",
       "      <td>2016-01-01 21:11:00</td>\n",
       "      <td>2016-01-01 21:17:00</td>\n",
       "      <td>Business</td>\n",
       "      <td>Fort Pierce</td>\n",
       "      <td>Fort Pierce</td>\n",
       "      <td>5.1</td>\n",
       "      <td>Meal/Entertain</td>\n",
       "      <td>21</td>\n",
       "      <td>Friday</td>\n",
       "      <td>January</td>\n",
       "      <td>0 days 00:06:00</td>\n",
       "    </tr>\n",
       "    <tr>\n",
       "      <th>1</th>\n",
       "      <td>2016-01-02 01:25:00</td>\n",
       "      <td>2016-01-02 01:37:00</td>\n",
       "      <td>Business</td>\n",
       "      <td>Fort Pierce</td>\n",
       "      <td>Fort Pierce</td>\n",
       "      <td>5.0</td>\n",
       "      <td>Unknown</td>\n",
       "      <td>1</td>\n",
       "      <td>Saturday</td>\n",
       "      <td>January</td>\n",
       "      <td>0 days 00:12:00</td>\n",
       "    </tr>\n",
       "    <tr>\n",
       "      <th>2</th>\n",
       "      <td>2016-01-02 20:25:00</td>\n",
       "      <td>2016-01-02 20:38:00</td>\n",
       "      <td>Business</td>\n",
       "      <td>Fort Pierce</td>\n",
       "      <td>Fort Pierce</td>\n",
       "      <td>4.8</td>\n",
       "      <td>Errand/Supplies</td>\n",
       "      <td>20</td>\n",
       "      <td>Saturday</td>\n",
       "      <td>January</td>\n",
       "      <td>0 days 00:13:00</td>\n",
       "    </tr>\n",
       "    <tr>\n",
       "      <th>3</th>\n",
       "      <td>2016-01-05 17:31:00</td>\n",
       "      <td>2016-01-05 17:45:00</td>\n",
       "      <td>Business</td>\n",
       "      <td>Fort Pierce</td>\n",
       "      <td>Fort Pierce</td>\n",
       "      <td>4.7</td>\n",
       "      <td>Meeting</td>\n",
       "      <td>17</td>\n",
       "      <td>Tuesday</td>\n",
       "      <td>January</td>\n",
       "      <td>0 days 00:14:00</td>\n",
       "    </tr>\n",
       "    <tr>\n",
       "      <th>4</th>\n",
       "      <td>2016-01-06 14:42:00</td>\n",
       "      <td>2016-01-06 15:49:00</td>\n",
       "      <td>Business</td>\n",
       "      <td>Fort Pierce</td>\n",
       "      <td>West Palm Beach</td>\n",
       "      <td>63.7</td>\n",
       "      <td>Customer Visit</td>\n",
       "      <td>14</td>\n",
       "      <td>Wednesday</td>\n",
       "      <td>January</td>\n",
       "      <td>0 days 01:07:00</td>\n",
       "    </tr>\n",
       "  </tbody>\n",
       "</table>\n",
       "</div>"
      ],
      "text/plain": [
       "           Start_Date            End_Date  Category  Start_Point  \\\n",
       "0 2016-01-01 21:11:00 2016-01-01 21:17:00  Business  Fort Pierce   \n",
       "1 2016-01-02 01:25:00 2016-01-02 01:37:00  Business  Fort Pierce   \n",
       "2 2016-01-02 20:25:00 2016-01-02 20:38:00  Business  Fort Pierce   \n",
       "3 2016-01-05 17:31:00 2016-01-05 17:45:00  Business  Fort Pierce   \n",
       "4 2016-01-06 14:42:00 2016-01-06 15:49:00  Business  Fort Pierce   \n",
       "\n",
       "        Stop_Point  Miles          Purpose  Hour Day_of_the_Week    Month  \\\n",
       "0      Fort Pierce    5.1   Meal/Entertain    21          Friday  January   \n",
       "1      Fort Pierce    5.0          Unknown     1        Saturday  January   \n",
       "2      Fort Pierce    4.8  Errand/Supplies    20        Saturday  January   \n",
       "3      Fort Pierce    4.7          Meeting    17         Tuesday  January   \n",
       "4  West Palm Beach   63.7   Customer Visit    14       Wednesday  January   \n",
       "\n",
       "    Ride_Duration  \n",
       "0 0 days 00:06:00  \n",
       "1 0 days 00:12:00  \n",
       "2 0 days 00:13:00  \n",
       "3 0 days 00:14:00  \n",
       "4 0 days 01:07:00  "
      ]
     },
     "execution_count": 16,
     "metadata": {},
     "output_type": "execute_result"
    }
   ],
   "source": [
    "#Calculating duration of the rides:\n",
    "\n",
    "data['Ride_Duration'] = data['End_Date'] - data['Start_Date']\n",
    "\n",
    "data.head()"
   ]
  },
  {
   "cell_type": "markdown",
   "id": "61a3e135",
   "metadata": {},
   "source": [
    "In the dataset, the ride_duration is given in terms of days and time. Days need to be removed from the duration."
   ]
  },
  {
   "cell_type": "code",
   "execution_count": 17,
   "id": "6579d14b",
   "metadata": {},
   "outputs": [
    {
     "data": {
      "text/html": [
       "<div>\n",
       "<style scoped>\n",
       "    .dataframe tbody tr th:only-of-type {\n",
       "        vertical-align: middle;\n",
       "    }\n",
       "\n",
       "    .dataframe tbody tr th {\n",
       "        vertical-align: top;\n",
       "    }\n",
       "\n",
       "    .dataframe thead th {\n",
       "        text-align: right;\n",
       "    }\n",
       "</style>\n",
       "<table border=\"1\" class=\"dataframe\">\n",
       "  <thead>\n",
       "    <tr style=\"text-align: right;\">\n",
       "      <th></th>\n",
       "      <th>Start_Date</th>\n",
       "      <th>End_Date</th>\n",
       "      <th>Category</th>\n",
       "      <th>Start_Point</th>\n",
       "      <th>Stop_Point</th>\n",
       "      <th>Miles</th>\n",
       "      <th>Purpose</th>\n",
       "      <th>Hour</th>\n",
       "      <th>Day_of_the_Week</th>\n",
       "      <th>Month</th>\n",
       "      <th>Ride_Duration</th>\n",
       "    </tr>\n",
       "  </thead>\n",
       "  <tbody>\n",
       "    <tr>\n",
       "      <th>0</th>\n",
       "      <td>2016-01-01 21:11:00</td>\n",
       "      <td>2016-01-01 21:17:00</td>\n",
       "      <td>Business</td>\n",
       "      <td>Fort Pierce</td>\n",
       "      <td>Fort Pierce</td>\n",
       "      <td>5.1</td>\n",
       "      <td>Meal/Entertain</td>\n",
       "      <td>21</td>\n",
       "      <td>Friday</td>\n",
       "      <td>January</td>\n",
       "      <td>00:06:00</td>\n",
       "    </tr>\n",
       "    <tr>\n",
       "      <th>1</th>\n",
       "      <td>2016-01-02 01:25:00</td>\n",
       "      <td>2016-01-02 01:37:00</td>\n",
       "      <td>Business</td>\n",
       "      <td>Fort Pierce</td>\n",
       "      <td>Fort Pierce</td>\n",
       "      <td>5.0</td>\n",
       "      <td>Unknown</td>\n",
       "      <td>1</td>\n",
       "      <td>Saturday</td>\n",
       "      <td>January</td>\n",
       "      <td>00:12:00</td>\n",
       "    </tr>\n",
       "    <tr>\n",
       "      <th>2</th>\n",
       "      <td>2016-01-02 20:25:00</td>\n",
       "      <td>2016-01-02 20:38:00</td>\n",
       "      <td>Business</td>\n",
       "      <td>Fort Pierce</td>\n",
       "      <td>Fort Pierce</td>\n",
       "      <td>4.8</td>\n",
       "      <td>Errand/Supplies</td>\n",
       "      <td>20</td>\n",
       "      <td>Saturday</td>\n",
       "      <td>January</td>\n",
       "      <td>00:13:00</td>\n",
       "    </tr>\n",
       "    <tr>\n",
       "      <th>3</th>\n",
       "      <td>2016-01-05 17:31:00</td>\n",
       "      <td>2016-01-05 17:45:00</td>\n",
       "      <td>Business</td>\n",
       "      <td>Fort Pierce</td>\n",
       "      <td>Fort Pierce</td>\n",
       "      <td>4.7</td>\n",
       "      <td>Meeting</td>\n",
       "      <td>17</td>\n",
       "      <td>Tuesday</td>\n",
       "      <td>January</td>\n",
       "      <td>00:14:00</td>\n",
       "    </tr>\n",
       "    <tr>\n",
       "      <th>4</th>\n",
       "      <td>2016-01-06 14:42:00</td>\n",
       "      <td>2016-01-06 15:49:00</td>\n",
       "      <td>Business</td>\n",
       "      <td>Fort Pierce</td>\n",
       "      <td>West Palm Beach</td>\n",
       "      <td>63.7</td>\n",
       "      <td>Customer Visit</td>\n",
       "      <td>14</td>\n",
       "      <td>Wednesday</td>\n",
       "      <td>January</td>\n",
       "      <td>01:07:00</td>\n",
       "    </tr>\n",
       "  </tbody>\n",
       "</table>\n",
       "</div>"
      ],
      "text/plain": [
       "           Start_Date            End_Date  Category  Start_Point  \\\n",
       "0 2016-01-01 21:11:00 2016-01-01 21:17:00  Business  Fort Pierce   \n",
       "1 2016-01-02 01:25:00 2016-01-02 01:37:00  Business  Fort Pierce   \n",
       "2 2016-01-02 20:25:00 2016-01-02 20:38:00  Business  Fort Pierce   \n",
       "3 2016-01-05 17:31:00 2016-01-05 17:45:00  Business  Fort Pierce   \n",
       "4 2016-01-06 14:42:00 2016-01-06 15:49:00  Business  Fort Pierce   \n",
       "\n",
       "        Stop_Point  Miles          Purpose  Hour Day_of_the_Week    Month  \\\n",
       "0      Fort Pierce    5.1   Meal/Entertain    21          Friday  January   \n",
       "1      Fort Pierce    5.0          Unknown     1        Saturday  January   \n",
       "2      Fort Pierce    4.8  Errand/Supplies    20        Saturday  January   \n",
       "3      Fort Pierce    4.7          Meeting    17         Tuesday  January   \n",
       "4  West Palm Beach   63.7   Customer Visit    14       Wednesday  January   \n",
       "\n",
       "  Ride_Duration  \n",
       "0      00:06:00  \n",
       "1      00:12:00  \n",
       "2      00:13:00  \n",
       "3      00:14:00  \n",
       "4      01:07:00  "
      ]
     },
     "execution_count": 17,
     "metadata": {},
     "output_type": "execute_result"
    }
   ],
   "source": [
    "#Removing days from the Ride_Duration: (First converting the Ride_Duration into string type and then slicing the remaining part after days)\n",
    "\n",
    "data['Ride_Duration'] = data['Ride_Duration'].astype(str).map(lambda x: x[7:])\n",
    "\n",
    "data.head(5)"
   ]
  },
  {
   "cell_type": "markdown",
   "id": "704677a6",
   "metadata": {},
   "source": [
    "Here, 00:06:00 means 6 minutes duration while 01:07:00 means 1 hour, 7 minutes duration. \n",
    "The dataset is now ready for visualization."
   ]
  },
  {
   "cell_type": "markdown",
   "id": "f34f39cf",
   "metadata": {},
   "source": [
    "### Visualizing the data"
   ]
  },
  {
   "cell_type": "code",
   "execution_count": 116,
   "id": "2a1e8884",
   "metadata": {},
   "outputs": [
    {
     "data": {
      "text/plain": [
       "Text(0, 0.5, 'Number of rides')"
      ]
     },
     "execution_count": 116,
     "metadata": {},
     "output_type": "execute_result"
    },
    {
     "data": {
      "image/png": "[encoded data removed]",
      "text/plain": [
       "<Figure size 576x360 with 1 Axes>"
      ]
     },
     "metadata": {
      "needs_background": "light"
     },
     "output_type": "display_data"
    }
   ],
   "source": [
    "#Checking the most common pickup points of the Uber rides:\n",
    "\n",
    "data.Start_Point.value_counts().nlargest(10).plot(kind='bar', figsize=(8,5),color=['pink'])\n",
    "plt.title('Number of trips per Pickup Point')\n",
    "plt.xlabel('Pickup Point')\n",
    "plt.ylabel('Number of rides')"
   ]
  },
  {
   "cell_type": "markdown",
   "id": "8583ff76",
   "metadata": {},
   "source": [
    "Most of the Uber rides have started from Cary and mostly pickup points are unknown."
   ]
  },
  {
   "cell_type": "code",
   "execution_count": 117,
   "id": "535f9671",
   "metadata": {},
   "outputs": [
    {
     "data": {
      "text/plain": [
       "Text(0, 0.5, 'Number of rides')"
      ]
     },
     "execution_count": 117,
     "metadata": {},
     "output_type": "execute_result"
    },
    {
     "data": {
      "image/png": "[encoded data removed]",
      "text/plain": [
       "<Figure size 576x360 with 1 Axes>"
      ]
     },
     "metadata": {
      "needs_background": "light"
     },
     "output_type": "display_data"
    }
   ],
   "source": [
    "#Checking the most common dropoff locations of the Uber rides:\n",
    "\n",
    "data.Stop_Point.value_counts().nlargest(10).plot(kind='bar', figsize=(8,5),color=['lightblue'])\n",
    "plt.title('Number of trips per Dropoff Point')\n",
    "plt.xlabel('Dropoff Point')\n",
    "plt.ylabel('Number of rides')"
   ]
  },
  {
   "cell_type": "markdown",
   "id": "32d86f11",
   "metadata": {},
   "source": [
    "Most of the Uber rides have ended at Cary and mostly dropoff points are unknown."
   ]
  },
  {
   "cell_type": "code",
   "execution_count": 118,
   "id": "54628db2",
   "metadata": {},
   "outputs": [
    {
     "data": {
      "text/plain": [
       "Text(0.5, 1.0, 'Purpose of Uber rides')"
      ]
     },
     "execution_count": 118,
     "metadata": {},
     "output_type": "execute_result"
    },
    {
     "data": {
      "image/png": "[encoded data removed]",
      "text/plain": [
       "<Figure size 504x360 with 1 Axes>"
      ]
     },
     "metadata": {
      "needs_background": "light"
     },
     "output_type": "display_data"
    }
   ],
   "source": [
    "#To know for what purpose the user uses Uber for:\n",
    "\n",
    "plt.figure(figsize=(7,5))\n",
    "a = sns.countplot(x='Purpose', data = data)\n",
    "a.set_xticklabels(a.get_xticklabels(), rotation=90)\n",
    "a.set_xlabel(\"Purpose\", fontsize = 15)\n",
    "a.set_ylabel(\"Count\", fontsize = 15)\n",
    "a.set_title('Purpose of Uber rides', fontsize = 20)"
   ]
  },
  {
   "cell_type": "markdown",
   "id": "a2a884b5",
   "metadata": {},
   "source": [
    "It is evident that for most of the rides, the purpose is unknown. For other rides, the user prefers Uber rides to go for any meeting and for meal/entertainment purposes."
   ]
  },
  {
   "cell_type": "code",
   "execution_count": 18,
   "id": "f8360577",
   "metadata": {},
   "outputs": [
    {
     "data": {
      "text/plain": [
       "Text(0.5, 1.0, 'Category of Uber rides')"
      ]
     },
     "execution_count": 18,
     "metadata": {},
     "output_type": "execute_result"
    },
    {
     "data": {
      "image/png": "[encoded data removed]",
      "text/plain": [
       "<Figure size 144x288 with 1 Axes>"
      ]
     },
     "metadata": {
      "needs_background": "light"
     },
     "output_type": "display_data"
    }
   ],
   "source": [
    "#To know for what category the user uses Uber for:\n",
    "\n",
    "plt.figure(figsize=(2,4))\n",
    "a = sns.countplot(x='Category', data = data)\n",
    "a.set_xticklabels(a.get_xticklabels())\n",
    "a.set_xlabel(\"Category\", fontsize = 15)\n",
    "a.set_ylabel(\"Count\", fontsize = 15)\n",
    "a.set_title('Category of Uber rides', fontsize = 20)"
   ]
  },
  {
   "cell_type": "markdown",
   "id": "1f198544",
   "metadata": {},
   "source": [
    "The user prefers Uber rides for his/her business work for 1000+ rides."
   ]
  },
  {
   "cell_type": "code",
   "execution_count": 120,
   "id": "816205b5",
   "metadata": {},
   "outputs": [
    {
     "name": "stdout",
     "output_type": "stream",
     "text": [
      "Maximum ride duration is: 05:36:00\n",
      "Minimum ride duration is: 00:00:00\n"
     ]
    }
   ],
   "source": [
    "#Checking the maximum and minimum durations of Uber rides:\n",
    "\n",
    "print('Maximum ride duration is:', data['Ride_Duration'].max())\n",
    "print('Minimum ride duration is:', data['Ride_Duration'].min())\n"
   ]
  },
  {
   "cell_type": "markdown",
   "id": "d17e40ec",
   "metadata": {},
   "source": [
    "As the minimum ride duration is 00:00:00, it means that ride(s) would be cancelled for some reasons."
   ]
  },
  {
   "cell_type": "code",
   "execution_count": 121,
   "id": "fe36361f",
   "metadata": {},
   "outputs": [
    {
     "name": "stdout",
     "output_type": "stream",
     "text": [
      "Start_Date         4\n",
      "End_Date           4\n",
      "Category           4\n",
      "Start_Point        4\n",
      "Stop_Point         4\n",
      "Miles              4\n",
      "Purpose            4\n",
      "Hour               4\n",
      "Day_of_the_Week    4\n",
      "Month              4\n",
      "Ride_Duration      4\n",
      "dtype: int64\n",
      "Start_Date         1151\n",
      "End_Date           1151\n",
      "Category           1151\n",
      "Start_Point        1151\n",
      "Stop_Point         1151\n",
      "Miles              1151\n",
      "Purpose            1151\n",
      "Hour               1151\n",
      "Day_of_the_Week    1151\n",
      "Month              1151\n",
      "Ride_Duration      1151\n",
      "dtype: int64\n"
     ]
    }
   ],
   "source": [
    "#Number of cancelled trips:\n",
    "print(data[(data.Ride_Duration == '00:00:00')].count())\n",
    "\n",
    "#Number of completed trips:\n",
    "print(data[(data.Ride_Duration != '00:00:00')].count())"
   ]
  },
  {
   "cell_type": "markdown",
   "id": "ab53a4d6",
   "metadata": {},
   "source": [
    "There are 4 cancelled trips and 1151 completed trips."
   ]
  },
  {
   "cell_type": "code",
   "execution_count": 122,
   "id": "d9759c9d",
   "metadata": {},
   "outputs": [
    {
     "name": "stdout",
     "output_type": "stream",
     "text": [
      "Maximum ride distance is: 310.3 miles.\n",
      "Minimum ride distance is: 0.5 miles.\n"
     ]
    }
   ],
   "source": [
    "#Checking the maximum and minimum distance of Uber rides:\n",
    "\n",
    "print('Maximum ride distance is:', data['Miles'].max(), 'miles.')\n",
    "print('Minimum ride distance is:', data['Miles'].min(), 'miles.')\n"
   ]
  },
  {
   "cell_type": "code",
   "execution_count": 123,
   "id": "97fe28eb",
   "metadata": {},
   "outputs": [
    {
     "name": "stdout",
     "output_type": "stream",
     "text": [
      "             Start_Date            End_Date  Category Start_Point  \\\n",
      "269 2016-03-25 16:52:00 2016-03-25 22:22:00  Business       Latta   \n",
      "\n",
      "       Stop_Point  Miles         Purpose  Hour Day_of_the_Week  Month  \\\n",
      "269  Jacksonville  310.3  Customer Visit    16          Friday  March   \n",
      "\n",
      "    Ride_Duration  \n",
      "269      05:30:00  \n"
     ]
    }
   ],
   "source": [
    "#Checking if the maximum ride time was taken for that trip which covered maximum miles:\n",
    "\n",
    "Required_Duration = data.loc[data['Miles'] == 310.3]\n",
    "print(Required_Duration)\n"
   ]
  },
  {
   "cell_type": "markdown",
   "id": "21187d5c",
   "metadata": {},
   "source": [
    "It is clear that the ride duration of the trip which covered 310.3 (maximum) miles is 5 hours 30 minutes, which is not the maximum ride time."
   ]
  },
  {
   "cell_type": "code",
   "execution_count": 124,
   "id": "5954c2a4",
   "metadata": {},
   "outputs": [
    {
     "name": "stdout",
     "output_type": "stream",
     "text": [
      "             Start_Date            End_Date  Category       Start_Point  \\\n",
      "776 2016-09-27 21:01:00 2016-09-28 02:37:00  Business  Unknown Location   \n",
      "\n",
      "           Stop_Point  Miles  Purpose  Hour Day_of_the_Week      Month  \\\n",
      "776  Unknown Location  195.6  Unknown    21         Tuesday  September   \n",
      "\n",
      "    Ride_Duration  \n",
      "776      05:36:00  \n"
     ]
    }
   ],
   "source": [
    "#Checking the miles covered by the trip which took maximum time:\n",
    "\n",
    "Required_Mile = data.loc[data['Ride_Duration'] == '05:36:00']\n",
    "print(Required_Mile)\n"
   ]
  },
  {
   "cell_type": "markdown",
   "id": "9ffaee65",
   "metadata": {},
   "source": [
    "The maximum ride duration is for the trip which covers 195.6 miles. This may be due to various reasons such as heavy traffic, slow speed of the driver, red signal on the traffic light etc."
   ]
  },
  {
   "cell_type": "code",
   "execution_count": 125,
   "id": "d48324f4",
   "metadata": {},
   "outputs": [
    {
     "data": {
      "image/png": "[encoded data removed]",
      "text/plain": [
       "<Figure size 432x288 with 1 Axes>"
      ]
     },
     "metadata": {
      "needs_background": "light"
     },
     "output_type": "display_data"
    }
   ],
   "source": [
    "#Checking the distribution of miles of the Uber rides:\n",
    "\n",
    "data['Miles'].plot.hist()\n",
    "plt.title('Distribution of Uber rides miles')\n",
    "plt.xlabel('Miles')\n",
    "plt.ylabel('Frequency')\n",
    "plt.show()"
   ]
  },
  {
   "cell_type": "markdown",
   "id": "7794908f",
   "metadata": {},
   "source": [
    "The user uses Uber rides mostly for short trips (< 25 miles). A very small percentage of the trips have covered > 25 miles distance."
   ]
  },
  {
   "cell_type": "code",
   "execution_count": 126,
   "id": "8e133281",
   "metadata": {},
   "outputs": [
    {
     "data": {
      "text/plain": [
       "Text(0.5, 1.0, 'Number of Uber rides per month')"
      ]
     },
     "execution_count": 126,
     "metadata": {},
     "output_type": "execute_result"
    },
    {
     "data": {
      "image/png": "[encoded data removed]",
      "text/plain": [
       "<Figure size 576x360 with 1 Axes>"
      ]
     },
     "metadata": {
      "needs_background": "light"
     },
     "output_type": "display_data"
    }
   ],
   "source": [
    "#Checking the number of rides per month:\n",
    "\n",
    "plt.figure(figsize=(8,5))\n",
    "abc = sns.countplot(y='Month', data = data)\n",
    "abc.set_yticklabels(abc.get_yticklabels())\n",
    "abc.set_xlabel(\"Number of rides\", fontsize = 15)\n",
    "abc.set_ylabel(\"Month\", fontsize = 15)\n",
    "abc.set_title('Number of Uber rides per month', fontsize = 20)"
   ]
  },
  {
   "cell_type": "markdown",
   "id": "f8a7c523",
   "metadata": {},
   "source": [
    "The user has taken maximum Uber rides in the month of December, followed by August and November."
   ]
  },
  {
   "cell_type": "code",
   "execution_count": 127,
   "id": "fae81b97",
   "metadata": {},
   "outputs": [
    {
     "data": {
      "image/png": "[encoded data removed]",
      "text/plain": [
       "<Figure size 576x360 with 1 Axes>"
      ]
     },
     "metadata": {},
     "output_type": "display_data"
    }
   ],
   "source": [
    "#Checking the percentage of the number of rides per day of the week:\n",
    "\n",
    "types = data[\"Day_of_the_Week\"].value_counts()\n",
    "labels = types.index\n",
    "values = types.values\n",
    "\n",
    "plt.figure(figsize=(8, 5))\n",
    "plt.pie(values, labels=labels, autopct='%1.1f%%')\n",
    "plt.rc('font', size=12)\n",
    "plt.title(\"Distribution of Rides over Week Days\", fontsize=15)\n",
    "plt.show()\n"
   ]
  },
  {
   "cell_type": "markdown",
   "id": "e8d1fd99",
   "metadata": {},
   "source": [
    "The user has preferred 17.8 % of total Uber rides on Friday, followed by rides on Tuesday and Monday. On rest of the days, the user has taken almost similar number of rides."
   ]
  },
  {
   "cell_type": "code",
   "execution_count": 128,
   "id": "91da728f",
   "metadata": {},
   "outputs": [
    {
     "data": {
      "text/plain": [
       "Day_of_the_Week\n",
       "Friday       206\n",
       "Monday       174\n",
       "Saturday     150\n",
       "Sunday       148\n",
       "Thursday     154\n",
       "Tuesday      176\n",
       "Wednesday    147\n",
       "Name: Start_Point, dtype: int64"
      ]
     },
     "execution_count": 128,
     "metadata": {},
     "output_type": "execute_result"
    }
   ],
   "source": [
    "#Determining the number of trips per week day:\n",
    "\n",
    "data.groupby(\"Day_of_the_Week\")[\"Start_Point\"].count()"
   ]
  },
  {
   "cell_type": "markdown",
   "id": "7c85bd5f",
   "metadata": {},
   "source": [
    "Out of 1155 trips, there is almost symmetrical distribution of the trips on all the week days."
   ]
  },
  {
   "cell_type": "code",
   "execution_count": 129,
   "id": "e2921e99",
   "metadata": {},
   "outputs": [
    {
     "data": {
      "image/png": "[encoded data removed]",
      "text/plain": [
       "<Figure size 432x288 with 1 Axes>"
      ]
     },
     "metadata": {
      "needs_background": "light"
     },
     "output_type": "display_data"
    }
   ],
   "source": [
    "#Checking the preferred time of the day for Uber rides:\n",
    "\n",
    "data['Hour'].plot.hist()\n",
    "plt.title('Distribution of Uber rides day hours')\n",
    "plt.xlabel('Day Hour')\n",
    "plt.ylabel('Frequency')\n",
    "plt.show()"
   ]
  },
  {
   "cell_type": "markdown",
   "id": "e782aa2d",
   "metadata": {},
   "source": [
    "From the plot, it is evident that the user takes Uber rides mostly during the afternoon. A very few rides have been taken in the early morning."
   ]
  },
  {
   "cell_type": "code",
   "execution_count": 31,
   "id": "cce4d005",
   "metadata": {},
   "outputs": [
    {
     "data": {
      "text/html": [
       "<div>\n",
       "<style scoped>\n",
       "    .dataframe tbody tr th:only-of-type {\n",
       "        vertical-align: middle;\n",
       "    }\n",
       "\n",
       "    .dataframe tbody tr th {\n",
       "        vertical-align: top;\n",
       "    }\n",
       "\n",
       "    .dataframe thead th {\n",
       "        text-align: right;\n",
       "    }\n",
       "</style>\n",
       "<table border=\"1\" class=\"dataframe\">\n",
       "  <thead>\n",
       "    <tr style=\"text-align: right;\">\n",
       "      <th></th>\n",
       "      <th>Start_Date</th>\n",
       "      <th>End_Date</th>\n",
       "      <th>Category</th>\n",
       "      <th>Start_Point</th>\n",
       "      <th>Stop_Point</th>\n",
       "      <th>Miles</th>\n",
       "      <th>Purpose</th>\n",
       "      <th>Hour</th>\n",
       "      <th>Day_of_the_Week</th>\n",
       "      <th>Month</th>\n",
       "      <th>Ride_Duration</th>\n",
       "      <th>zscore_Miles</th>\n",
       "    </tr>\n",
       "  </thead>\n",
       "  <tbody>\n",
       "    <tr>\n",
       "      <th>0</th>\n",
       "      <td>2016-01-01 21:11:00</td>\n",
       "      <td>2016-01-01 21:17:00</td>\n",
       "      <td>Business</td>\n",
       "      <td>Fort Pierce</td>\n",
       "      <td>Fort Pierce</td>\n",
       "      <td>5.1</td>\n",
       "      <td>Meal/Entertain</td>\n",
       "      <td>21</td>\n",
       "      <td>Friday</td>\n",
       "      <td>January</td>\n",
       "      <td>00:06:00</td>\n",
       "      <td>-0.253340</td>\n",
       "    </tr>\n",
       "    <tr>\n",
       "      <th>1</th>\n",
       "      <td>2016-01-02 01:25:00</td>\n",
       "      <td>2016-01-02 01:37:00</td>\n",
       "      <td>Business</td>\n",
       "      <td>Fort Pierce</td>\n",
       "      <td>Fort Pierce</td>\n",
       "      <td>5.0</td>\n",
       "      <td>Unknown</td>\n",
       "      <td>1</td>\n",
       "      <td>Saturday</td>\n",
       "      <td>January</td>\n",
       "      <td>00:12:00</td>\n",
       "      <td>-0.257974</td>\n",
       "    </tr>\n",
       "    <tr>\n",
       "      <th>2</th>\n",
       "      <td>2016-01-02 20:25:00</td>\n",
       "      <td>2016-01-02 20:38:00</td>\n",
       "      <td>Business</td>\n",
       "      <td>Fort Pierce</td>\n",
       "      <td>Fort Pierce</td>\n",
       "      <td>4.8</td>\n",
       "      <td>Errand/Supplies</td>\n",
       "      <td>20</td>\n",
       "      <td>Saturday</td>\n",
       "      <td>January</td>\n",
       "      <td>00:13:00</td>\n",
       "      <td>-0.267242</td>\n",
       "    </tr>\n",
       "    <tr>\n",
       "      <th>3</th>\n",
       "      <td>2016-01-05 17:31:00</td>\n",
       "      <td>2016-01-05 17:45:00</td>\n",
       "      <td>Business</td>\n",
       "      <td>Fort Pierce</td>\n",
       "      <td>Fort Pierce</td>\n",
       "      <td>4.7</td>\n",
       "      <td>Meeting</td>\n",
       "      <td>17</td>\n",
       "      <td>Tuesday</td>\n",
       "      <td>January</td>\n",
       "      <td>00:14:00</td>\n",
       "      <td>-0.271876</td>\n",
       "    </tr>\n",
       "    <tr>\n",
       "      <th>5</th>\n",
       "      <td>2016-01-06 17:15:00</td>\n",
       "      <td>2016-01-06 17:19:00</td>\n",
       "      <td>Business</td>\n",
       "      <td>West Palm Beach</td>\n",
       "      <td>West Palm Beach</td>\n",
       "      <td>4.3</td>\n",
       "      <td>Meal/Entertain</td>\n",
       "      <td>17</td>\n",
       "      <td>Wednesday</td>\n",
       "      <td>January</td>\n",
       "      <td>00:04:00</td>\n",
       "      <td>-0.290412</td>\n",
       "    </tr>\n",
       "    <tr>\n",
       "      <th>...</th>\n",
       "      <td>...</td>\n",
       "      <td>...</td>\n",
       "      <td>...</td>\n",
       "      <td>...</td>\n",
       "      <td>...</td>\n",
       "      <td>...</td>\n",
       "      <td>...</td>\n",
       "      <td>...</td>\n",
       "      <td>...</td>\n",
       "      <td>...</td>\n",
       "      <td>...</td>\n",
       "      <td>...</td>\n",
       "    </tr>\n",
       "    <tr>\n",
       "      <th>1147</th>\n",
       "      <td>2016-12-30 15:41:00</td>\n",
       "      <td>2016-12-30 16:03:00</td>\n",
       "      <td>Business</td>\n",
       "      <td>Kar?chi</td>\n",
       "      <td>Kar?chi</td>\n",
       "      <td>4.6</td>\n",
       "      <td>Errand/Supplies</td>\n",
       "      <td>15</td>\n",
       "      <td>Friday</td>\n",
       "      <td>December</td>\n",
       "      <td>00:22:00</td>\n",
       "      <td>-0.276510</td>\n",
       "    </tr>\n",
       "    <tr>\n",
       "      <th>1148</th>\n",
       "      <td>2016-12-30 16:45:00</td>\n",
       "      <td>2016-12-30 17:08:00</td>\n",
       "      <td>Business</td>\n",
       "      <td>Kar?chi</td>\n",
       "      <td>Kar?chi</td>\n",
       "      <td>4.6</td>\n",
       "      <td>Meeting</td>\n",
       "      <td>16</td>\n",
       "      <td>Friday</td>\n",
       "      <td>December</td>\n",
       "      <td>00:23:00</td>\n",
       "      <td>-0.276510</td>\n",
       "    </tr>\n",
       "    <tr>\n",
       "      <th>1149</th>\n",
       "      <td>2016-12-30 23:06:00</td>\n",
       "      <td>2016-12-30 23:10:00</td>\n",
       "      <td>Business</td>\n",
       "      <td>Kar?chi</td>\n",
       "      <td>Kar?chi</td>\n",
       "      <td>0.8</td>\n",
       "      <td>Customer Visit</td>\n",
       "      <td>23</td>\n",
       "      <td>Friday</td>\n",
       "      <td>December</td>\n",
       "      <td>00:04:00</td>\n",
       "      <td>-0.452606</td>\n",
       "    </tr>\n",
       "    <tr>\n",
       "      <th>1150</th>\n",
       "      <td>2016-12-31 01:07:00</td>\n",
       "      <td>2016-12-31 01:14:00</td>\n",
       "      <td>Business</td>\n",
       "      <td>Kar?chi</td>\n",
       "      <td>Kar?chi</td>\n",
       "      <td>0.7</td>\n",
       "      <td>Meeting</td>\n",
       "      <td>1</td>\n",
       "      <td>Saturday</td>\n",
       "      <td>December</td>\n",
       "      <td>00:07:00</td>\n",
       "      <td>-0.457240</td>\n",
       "    </tr>\n",
       "    <tr>\n",
       "      <th>1152</th>\n",
       "      <td>2016-12-31 15:03:00</td>\n",
       "      <td>2016-12-31 15:38:00</td>\n",
       "      <td>Business</td>\n",
       "      <td>Unknown Location</td>\n",
       "      <td>Unknown Location</td>\n",
       "      <td>16.2</td>\n",
       "      <td>Meeting</td>\n",
       "      <td>15</td>\n",
       "      <td>Saturday</td>\n",
       "      <td>December</td>\n",
       "      <td>00:35:00</td>\n",
       "      <td>0.261047</td>\n",
       "    </tr>\n",
       "  </tbody>\n",
       "</table>\n",
       "<p>288 rows × 12 columns</p>\n",
       "</div>"
      ],
      "text/plain": [
       "              Start_Date            End_Date  Category       Start_Point  \\\n",
       "0    2016-01-01 21:11:00 2016-01-01 21:17:00  Business       Fort Pierce   \n",
       "1    2016-01-02 01:25:00 2016-01-02 01:37:00  Business       Fort Pierce   \n",
       "2    2016-01-02 20:25:00 2016-01-02 20:38:00  Business       Fort Pierce   \n",
       "3    2016-01-05 17:31:00 2016-01-05 17:45:00  Business       Fort Pierce   \n",
       "5    2016-01-06 17:15:00 2016-01-06 17:19:00  Business   West Palm Beach   \n",
       "...                  ...                 ...       ...               ...   \n",
       "1147 2016-12-30 15:41:00 2016-12-30 16:03:00  Business           Kar?chi   \n",
       "1148 2016-12-30 16:45:00 2016-12-30 17:08:00  Business           Kar?chi   \n",
       "1149 2016-12-30 23:06:00 2016-12-30 23:10:00  Business           Kar?chi   \n",
       "1150 2016-12-31 01:07:00 2016-12-31 01:14:00  Business           Kar?chi   \n",
       "1152 2016-12-31 15:03:00 2016-12-31 15:38:00  Business  Unknown Location   \n",
       "\n",
       "            Stop_Point  Miles          Purpose  Hour Day_of_the_Week  \\\n",
       "0          Fort Pierce    5.1   Meal/Entertain    21          Friday   \n",
       "1          Fort Pierce    5.0          Unknown     1        Saturday   \n",
       "2          Fort Pierce    4.8  Errand/Supplies    20        Saturday   \n",
       "3          Fort Pierce    4.7          Meeting    17         Tuesday   \n",
       "5      West Palm Beach    4.3   Meal/Entertain    17       Wednesday   \n",
       "...                ...    ...              ...   ...             ...   \n",
       "1147           Kar?chi    4.6  Errand/Supplies    15          Friday   \n",
       "1148           Kar?chi    4.6          Meeting    16          Friday   \n",
       "1149           Kar?chi    0.8   Customer Visit    23          Friday   \n",
       "1150           Kar?chi    0.7          Meeting     1        Saturday   \n",
       "1152  Unknown Location   16.2          Meeting    15        Saturday   \n",
       "\n",
       "         Month Ride_Duration  zscore_Miles  \n",
       "0      January      00:06:00     -0.253340  \n",
       "1      January      00:12:00     -0.257974  \n",
       "2      January      00:13:00     -0.267242  \n",
       "3      January      00:14:00     -0.271876  \n",
       "5      January      00:04:00     -0.290412  \n",
       "...        ...           ...           ...  \n",
       "1147  December      00:22:00     -0.276510  \n",
       "1148  December      00:23:00     -0.276510  \n",
       "1149  December      00:04:00     -0.452606  \n",
       "1150  December      00:07:00     -0.457240  \n",
       "1152  December      00:35:00      0.261047  \n",
       "\n",
       "[288 rows x 12 columns]"
      ]
     },
     "execution_count": 31,
     "metadata": {},
     "output_type": "execute_result"
    }
   ],
   "source": [
    "#Determing the miles coverage where the starting and ending points are same:\n",
    "\n",
    "Required_Miles = data.loc[data['Start_Point'] == data['Stop_Point']]\n",
    "Required_Miles\n"
   ]
  },
  {
   "cell_type": "markdown",
   "id": "cde13751",
   "metadata": {},
   "source": [
    "Out of 1155 trips, 288 trips (approximately 25% trips) have similar starting and ending locations and their miles coverage is also less. This indicates that either the trips have been cancelled or the data is wrongly entered or the user books Uber from his starting place and returns back to the initial location in the same trip. This needs to be figured out."
   ]
  },
  {
   "cell_type": "code",
   "execution_count": 131,
   "id": "e77e4dab",
   "metadata": {},
   "outputs": [
    {
     "data": {
      "text/plain": [
       "Month\n",
       "April         54\n",
       "August       133\n",
       "December     146\n",
       "February     115\n",
       "January       61\n",
       "July         112\n",
       "June         108\n",
       "March        113\n",
       "May           49\n",
       "November     122\n",
       "October      106\n",
       "September     36\n",
       "Name: Miles, dtype: int64"
      ]
     },
     "execution_count": 131,
     "metadata": {},
     "output_type": "execute_result"
    }
   ],
   "source": [
    "#Determining the number of trips booked per month:\n",
    "\n",
    "data.groupby(\"Month\")[\"Miles\"].count()"
   ]
  },
  {
   "cell_type": "code",
   "execution_count": 132,
   "id": "d869c301",
   "metadata": {},
   "outputs": [
    {
     "data": {
      "text/plain": [
       "Month\n",
       "April        1113.0\n",
       "August       1335.5\n",
       "December      981.3\n",
       "February      908.2\n",
       "January       512.9\n",
       "July         1224.6\n",
       "June          842.8\n",
       "March        1693.9\n",
       "May           363.8\n",
       "November      816.9\n",
       "October      1810.0\n",
       "September     601.8\n",
       "Name: Miles, dtype: float64"
      ]
     },
     "execution_count": 132,
     "metadata": {},
     "output_type": "execute_result"
    }
   ],
   "source": [
    "#Determining the total miles coverage per month:\n",
    "\n",
    "data.groupby(\"Month\")[\"Miles\"].sum()\n"
   ]
  },
  {
   "cell_type": "markdown",
   "id": "95734de5",
   "metadata": {},
   "source": [
    "Interestingly, in December, the Uber has booked the maximum number of rides but the total miles covered is not very high. This means in December, the user has covered many short trips. The opposite trend is seen in the month of April where the user has covered very long trips but the number of trips are low."
   ]
  },
  {
   "cell_type": "markdown",
   "id": "1c90abe8",
   "metadata": {},
   "source": [
    "From the Exploratory Data Analysis of the Uber rides data, following conclusions can be made:\n",
    "\n",
    "1. The distribution of the user's Uber rides seems interesting. Having overall similar distribution of trips on all the week days, December is the month when user has taken a lot of short rides while April is the month when the user has taken a small number of long rides.\n",
    "2. The user probability that this user cancels the trip is very very low (around 0.3% ).\n",
    "3. Most of the pickups and dropoffs occurred at Cary, Morrisville, Whitebridge, Islamabad etc. other than the unknown locations.\n",
    "4. The longest ride duration is 5 hours 36 minutes which covers 195.6 miles while the maximum miles covered by the user is 310.3 miles which has taken 5 hours 30 minutes.\n",
    "5. The user has taken Uber rides mainly for Business reasons. For mostly rides, the purpose is unknown. Besides this, main purposes include meeting and meal or entertainment.\n",
    "6. Most of the rides have covered < 25 miles. The average distance covered is around 21 miles.\n",
    "7. The user travels by Uber mostly during the day hours. \n"
   ]
  },
  {
   "cell_type": "code",
   "execution_count": null,
   "id": "c1643dd4",
   "metadata": {},
   "outputs": [],
   "source": []
  }
 ],
 "metadata": {
  "kernelspec": {
   "display_name": "Python 3 (ipykernel)",
   "language": "python",
   "name": "python3"
  },
  "language_info": {
   "codemirror_mode": {
    "name": "ipython",
    "version": 3
   },
   "file_extension": ".py",
   "mimetype": "text/x-python",
   "name": "python",
   "nbconvert_exporter": "python",
   "pygments_lexer": "ipython3",
   "version": "3.9.12"
  }
 },
 "nbformat": 4,
 "nbformat_minor": 5
}
